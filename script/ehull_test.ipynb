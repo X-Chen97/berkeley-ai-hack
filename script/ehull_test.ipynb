{
 "cells": [
  {
   "cell_type": "code",
   "execution_count": 1,
   "id": "b02f9afc-eda3-44b9-b6a8-ca9625c4434f",
   "metadata": {
    "tags": []
   },
   "outputs": [
    {
     "name": "stderr",
     "output_type": "stream",
     "text": [
      "2024-06-22 20:18:52.488530: E external/local_xla/xla/stream_executor/cuda/cuda_dnn.cc:9261] Unable to register cuDNN factory: Attempting to register factory for plugin cuDNN when one has already been registered\n",
      "2024-06-22 20:18:52.488559: E external/local_xla/xla/stream_executor/cuda/cuda_fft.cc:607] Unable to register cuFFT factory: Attempting to register factory for plugin cuFFT when one has already been registered\n",
      "2024-06-22 20:18:52.490293: E external/local_xla/xla/stream_executor/cuda/cuda_blas.cc:1515] Unable to register cuBLAS factory: Attempting to register factory for plugin cuBLAS when one has already been registered\n",
      "2024-06-22 20:18:52.499246: I tensorflow/core/platform/cpu_feature_guard.cc:182] This TensorFlow binary is optimized to use available CPU instructions in performance-critical operations.\n",
      "To enable the following instructions: AVX2 FMA, in other operations, rebuild TensorFlow with the appropriate compiler flags.\n",
      "2024-06-22 20:18:54.077272: W tensorflow/compiler/tf2tensorrt/utils/py_utils.cc:38] TF-TRT Warning: Could not find TensorRT\n"
     ]
    }
   ],
   "source": [
    "import os\n",
    "import sys\n",
    "import json\n",
    "import torch\n",
    "import pickle\n",
    "import logging\n",
    "import numpy as np\n",
    "import pandas as pd\n",
    "import pickle\n",
    "import warnings\n",
    "warnings.filterwarnings(action='ignore', message='Too many lattice symmetries was found')\n",
    "import random\n",
    "import time\n",
    "\n",
    "from pymatgen.ext.matproj import MPRester\n",
    "\n",
    "import pickle\n",
    "import logging\n",
    "\n",
    "# IOs\n",
    "from pymatgen.core.structure import Structure\n",
    "from pymatgen.io.ase import AseAtomsAdaptor\n",
    "from pymatgen.analysis.phase_diagram import PhaseDiagram, GrandPotentialPhaseDiagram\n",
    "from pymatgen.analysis.pourbaix_diagram import PourbaixDiagram, PourbaixEntry,MultiEntry\n",
    "from pymatgen.entries.compatibility import MaterialsProject2020Compatibility\n",
    "from pymatgen.core.periodic_table import Element, Species\n",
    "from pymatgen.core.composition import Composition\n",
    "from pymatgen.analysis.structure_analyzer import oxide_type\n",
    "from pymatgen.entries.computed_entries import ComputedEntry, ComputedStructureEntry\n",
    "from pymatgen.analysis.interface_reactions import InterfacialReactivity, GrandPotentialInterfacialReactivity\n",
    "from pymatgen.entries.entry_tools import EntrySet\n",
    "\n",
    "# To remove m3gnet error\n",
    "import tensorflow as tf\n",
    "import warnings\n",
    "tf.get_logger().setLevel(logging.ERROR)\n",
    "\n",
    "# House code\n",
    "sys.path.append('./')\n",
    "from relaxer import TrajectoryObserver, M3gnetRelaxer, ChgnetRelaxer, MaceRelaxer"
   ]
  },
  {
   "cell_type": "code",
   "execution_count": 2,
   "id": "d86631e9-7110-4b2f-a262-02f37522db77",
   "metadata": {
    "tags": []
   },
   "outputs": [
    {
     "name": "stderr",
     "output_type": "stream",
     "text": [
      "/global/homes/y/yychoi/.conda/envs/mace/lib/python3.9/site-packages/tqdm/auto.py:21: TqdmWarning: IProgress not found. Please update jupyter and ipywidgets. See https://ipywidgets.readthedocs.io/en/stable/user_install.html\n",
      "  from .autonotebook import tqdm as notebook_tqdm\n"
     ]
    },
    {
     "name": "stdout",
     "output_type": "stream",
     "text": [
      "No module named 'phonopy'\n",
      "No module named 'phonopy'\n"
     ]
    }
   ],
   "source": [
    "mpr = MPRester(api_key=\"dPcAQJZ6y1NZidGuvTerIPPFXHtsOb3E\")\n",
    "\n",
    "def has_common_element(list1, list2):\n",
    "    return not set(list1).isdisjoint(list2)\n",
    "\n",
    "def get_GGA_entry(vasp_data, entry_id, compat=MaterialsProject2020Compatibility()):\n",
    "    lattice = vasp_data['final_structure'].lattice.matrix\n",
    "    species = [specie for specie in vasp_data['final_structure'].species]\n",
    "    coords = [site.frac_coords for site in vasp_data['final_structure'].sites]\n",
    "    structure = Structure(lattice=lattice, species=species, coords=coords)\n",
    "    gga_entry = ComputedStructureEntry(structure=structure,\n",
    "                                       energy=vasp_data['final_energy'],\n",
    "                                       entry_id=entry_id,\n",
    "                                       composition=structure.composition.remove_charges(),\n",
    "                                       parameters={'run_type': vasp_data['run_type'],\n",
    "                                                   'potcar_symbols': vasp_data['potcar_symbols'],\n",
    "                                                   'hubbards': vasp_data['hubbards']\n",
    "                                                   }\n",
    "                                       )\n",
    "\n",
    "    if compat is not None:\n",
    "        gga_entry = compat.process_entry(gga_entry)\n",
    "    if gga_entry is None:\n",
    "        print('Entry is None')\n",
    "        exit()\n",
    "    \n",
    "    return gga_entry\n",
    "\n",
    "def get_ehull(mpr, vasp_entry, mp_entries, compatibility):\n",
    "    \n",
    "    mp_entries = compatibility.process_entries(mp_entries)\n",
    "\n",
    "    # phase diagram\n",
    "    PD = PhaseDiagram(mp_entries + [vasp_entry])\n",
    "    decomp_info = PD.get_decomp_and_e_above_hull(vasp_entry, allow_negative=True)\n",
    "    e_above_hull = decomp_info[1]\n",
    "\n",
    "    return e_above_hull"
   ]
  },
  {
   "cell_type": "code",
   "execution_count": 3,
   "id": "1afb5986-1d91-4c90-a555-743b88754551",
   "metadata": {
    "tags": []
   },
   "outputs": [],
   "source": [
    "def get_test_structure(mpid='mp-510462'):\n",
    "    \n",
    "    mp_data = mpr.get_entry_by_material_id(material_id=[test_id])\n",
    "    test_structure = mp_data[1].structure\n",
    "    \n",
    "    return test_structure\n",
    "\n",
    "\n",
    "def get_chemsys_mpdata(structure):\n",
    "    \n",
    "    U_els = {'Co': 3.32, 'Cr': 3.7, 'Fe': 5.3, 'Mn': 3.9,\n",
    "             'Mo': 4.38, 'Ni': 6.2, 'V': 4.2, 'W': 6.2}\n",
    "    \n",
    "    species = []\n",
    "    potcar_spec = []\n",
    "\n",
    "    for i in set(test_structure.species):\n",
    "        species.append(i.name)\n",
    "\n",
    "    chemical_space = '-'.join(species)\n",
    "    mp_data = mpr.get_entries_in_chemsys(chemical_space)\n",
    "    \n",
    "    hubbards = {}\n",
    "    if has_common_element(list(U_els.keys()), species):\n",
    "        for specie in species:\n",
    "            if specie in U_els.keys():\n",
    "                hubbards[specie] = U_els[specie]\n",
    "            else:\n",
    "                hubbards[specie] = 0\n",
    "\n",
    "    for d in mp_data:\n",
    "        for j in d.parameters['potcar_spec']:\n",
    "            if not j in potcar_spec:\n",
    "                potcar_spec.append(j)\n",
    "        if len(potcar_spec) == len(species):\n",
    "            break\n",
    "\n",
    "    return mp_data, potcar_spec, hubbards\n",
    "\n",
    "def get_relaxation_result(structure):\n",
    "        \n",
    "    mp_data, potcar_spec, hubbards = get_chemsys_mpdata(structure)\n",
    "    \n",
    "    atoms = structure.to_ase_atoms()\n",
    "    relaxer = MaceRelaxer()\n",
    "    result = relaxer.relax(atoms, fmax=0.5)\n",
    "    result['parameters'] = mp_data[0].parameters\n",
    "    result['parameters']['potcar_spec'] = potcar_spec\n",
    "    result['parameters']['hubbards'] = hubbards\n",
    "    \n",
    "    lattice = result['final_structure'].lattice.matrix\n",
    "    species = [specie for specie in result['final_structure'].species]\n",
    "    coords = [site.frac_coords for site in result['final_structure'].sites]\n",
    "    structure = Structure(lattice=lattice, species=species, coords=coords)\n",
    "\n",
    "    gga_entry = ComputedStructureEntry(structure=structure,\n",
    "                                       energy=result['final_energy'],\n",
    "                                       entry_id='llm_generation',\n",
    "                                       composition=structure.composition.remove_charges(),\n",
    "                                       parameters=result['parameters']\n",
    "                                       )\n",
    "\n",
    "    compat = MaterialsProject2020Compatibility()\n",
    "    gga_entry = compat.process_entry(gga_entry)\n",
    "    ehull = get_ehull(mpr, gga_entry, mp_data, compat)\n",
    "    \n",
    "    return result, ehull"
   ]
  },
  {
   "cell_type": "code",
   "execution_count": 4,
   "id": "90e42046-3025-4490-8722-cd02ce81dba4",
   "metadata": {
    "tags": []
   },
   "outputs": [],
   "source": [
    "test_structure = Structure.from_file('../test/test_POSCAR')"
   ]
  },
  {
   "cell_type": "code",
   "execution_count": 5,
   "id": "323a53c4-ac67-4ec3-8c00-774abccd42ba",
   "metadata": {
    "tags": []
   },
   "outputs": [
    {
     "name": "stderr",
     "output_type": "stream",
     "text": [
      "Retrieving ThermoDoc documents: 100%|██████████| 76/76 [00:00<00:00, 1250067.07it/s]\n",
      "/global/homes/y/yychoi/.conda/envs/mace/lib/python3.9/site-packages/torch/overrides.py:110: UserWarning: 'has_cuda' is deprecated, please use 'torch.backends.cuda.is_built()'\n",
      "  torch.has_cuda,\n",
      "/global/homes/y/yychoi/.conda/envs/mace/lib/python3.9/site-packages/torch/overrides.py:111: UserWarning: 'has_cudnn' is deprecated, please use 'torch.backends.cudnn.is_available()'\n",
      "  torch.has_cudnn,\n",
      "/global/homes/y/yychoi/.conda/envs/mace/lib/python3.9/site-packages/torch/overrides.py:117: UserWarning: 'has_mps' is deprecated, please use 'torch.backends.mps.is_built()'\n",
      "  torch.has_mps,\n",
      "/global/homes/y/yychoi/.conda/envs/mace/lib/python3.9/site-packages/torch/overrides.py:118: UserWarning: 'has_mkldnn' is deprecated, please use 'torch.backends.mkldnn.is_available()'\n",
      "  torch.has_mkldnn,\n"
     ]
    },
    {
     "name": "stdout",
     "output_type": "stream",
     "text": [
      "No dtype selected, switching to float64 to match model dtype.\n",
      "MACE will run on cpu\n",
      "      Step     Time          Energy         fmax\n",
      "*Force-consistent energies used in optimization.\n",
      "FIRE:    0 20:19:12      -45.464003*       0.0760\n"
     ]
    },
    {
     "name": "stderr",
     "output_type": "stream",
     "text": [
      "/global/homes/y/yychoi/.conda/envs/mace/lib/python3.9/site-packages/pymatgen/entries/compatibility.py:1027: UserWarning: Failed to guess oxidation states for Entry mp-505634-GGA (Cs2Te3). Assigning anion correction to only the most electronegative atom.\n",
      "  warnings.warn(\n",
      "/global/homes/y/yychoi/.conda/envs/mace/lib/python3.9/site-packages/pymatgen/entries/compatibility.py:1027: UserWarning: Failed to guess oxidation states for Entry mp-1228983-GGA (CsZn8). Assigning anion correction to only the most electronegative atom.\n",
      "  warnings.warn(\n",
      "/global/homes/y/yychoi/.conda/envs/mace/lib/python3.9/site-packages/pymatgen/entries/compatibility.py:1027: UserWarning: Failed to guess oxidation states for Entry mp-570071-GGA (Dy2Zn17). Assigning anion correction to only the most electronegative atom.\n",
      "  warnings.warn(\n",
      "/global/homes/y/yychoi/.conda/envs/mace/lib/python3.9/site-packages/pymatgen/entries/compatibility.py:1027: UserWarning: Failed to guess oxidation states for Entry mp-1193674-GGA (Dy6Zn23). Assigning anion correction to only the most electronegative atom.\n",
      "  warnings.warn(\n",
      "/global/homes/y/yychoi/.conda/envs/mace/lib/python3.9/site-packages/pymatgen/entries/compatibility.py:1027: UserWarning: Failed to guess oxidation states for Entry mp-1104161-GGA (Dy3Zn11). Assigning anion correction to only the most electronegative atom.\n",
      "  warnings.warn(\n",
      "/global/homes/y/yychoi/.conda/envs/mace/lib/python3.9/site-packages/pymatgen/entries/compatibility.py:1027: UserWarning: Failed to guess oxidation states for Entry mp-30626-GGA (DyZn3). Assigning anion correction to only the most electronegative atom.\n",
      "  warnings.warn(\n",
      "/global/homes/y/yychoi/.conda/envs/mace/lib/python3.9/site-packages/pymatgen/entries/compatibility.py:1027: UserWarning: Failed to guess oxidation states for Entry mp-1104551-GGA (DyZn12). Assigning anion correction to only the most electronegative atom.\n",
      "  warnings.warn(\n",
      "/global/homes/y/yychoi/.conda/envs/mace/lib/python3.9/site-packages/pymatgen/entries/compatibility.py:1027: UserWarning: Failed to guess oxidation states for Entry mp-2303-GGA (DyZn). Assigning anion correction to only the most electronegative atom.\n",
      "  warnings.warn(\n",
      "/global/homes/y/yychoi/.conda/envs/mace/lib/python3.9/site-packages/pymatgen/entries/compatibility.py:1027: UserWarning: Failed to guess oxidation states for Entry mp-1197303-GGA (Dy13Zn58). Assigning anion correction to only the most electronegative atom.\n",
      "  warnings.warn(\n",
      "/global/homes/y/yychoi/.conda/envs/mace/lib/python3.9/site-packages/pymatgen/entries/compatibility.py:1027: UserWarning: Failed to guess oxidation states for Entry mp-30964-GGA (Dy2Zn17). Assigning anion correction to only the most electronegative atom.\n",
      "  warnings.warn(\n",
      "/global/homes/y/yychoi/.conda/envs/mace/lib/python3.9/site-packages/pymatgen/entries/compatibility.py:1027: UserWarning: Failed to guess oxidation states for Entry mp-30627-GGA (DyZn5). Assigning anion correction to only the most electronegative atom.\n",
      "  warnings.warn(\n",
      "/global/homes/y/yychoi/.conda/envs/mace/lib/python3.9/site-packages/pymatgen/entries/compatibility.py:1027: UserWarning: Failed to guess oxidation states for Entry mp-570093-GGA (DyZn2). Assigning anion correction to only the most electronegative atom.\n",
      "  warnings.warn(\n",
      "/global/homes/y/yychoi/.conda/envs/mace/lib/python3.9/site-packages/pymatgen/entries/compatibility.py:1027: UserWarning: Failed to guess oxidation states for Entry mp-505682-GGA (Dy2Te). Assigning anion correction to only the most electronegative atom.\n",
      "  warnings.warn(\n"
     ]
    }
   ],
   "source": [
    "result, ehull = get_relaxation_result(test_structure)"
   ]
  },
  {
   "cell_type": "code",
   "execution_count": 8,
   "id": "2627d072-1fe4-4986-b151-5e2a7059a20c",
   "metadata": {
    "tags": []
   },
   "outputs": [
    {
     "data": {
      "text/plain": [
       "MSONAtoms(symbols='Cs2Dy2Zn2Te6', pbc=True, cell=[[4.430704, 0.0, 0.0], [-2.215352, 8.689916, 0.0], [0.0, 0.0, 11.747494]], constraint=FixAtoms(indices=[]), calculator=MACECalculator(...))"
      ]
     },
     "execution_count": 8,
     "metadata": {},
     "output_type": "execute_result"
    }
   ],
   "source": [
    "result['trajectory'].atoms_trajectory[1]"
   ]
  },
  {
   "cell_type": "code",
   "execution_count": 9,
   "id": "ba81d600-76e1-4da9-abc9-de60bb4aec2d",
   "metadata": {
    "tags": []
   },
   "outputs": [],
   "source": [
    "aaa = AseAtomsAdaptor()"
   ]
  },
  {
   "cell_type": "code",
   "execution_count": 11,
   "id": "40a96eff-8d1a-4df7-bf4e-ea5ce28bb847",
   "metadata": {
    "tags": []
   },
   "outputs": [
    {
     "data": {
      "text/plain": [
       "Structure Summary\n",
       "Lattice\n",
       "    abc : 4.430704 8.967855070804836 11.747494\n",
       " angles : 90.0 90.0 104.30198229452905\n",
       " volume : 452.3072484465264\n",
       "      A : 4.430704 0.0 0.0\n",
       "      B : -2.215352 8.689916 0.0\n",
       "      C : 0.0 0.0 11.747494\n",
       "    pbc : True True True\n",
       "PeriodicSite: Cs (2.215, 4.279, 8.811) [0.7462, 0.4924, 0.75]\n",
       "PeriodicSite: Cs (0.0, 4.411, 2.937) [0.2538, 0.5076, 0.25]\n",
       "PeriodicSite: Dy (0.0, 0.0, 0.0) [0.0, 0.0, 0.0]\n",
       "PeriodicSite: Dy (0.0, 0.0, 5.874) [0.0, 0.0, 0.5]\n",
       "PeriodicSite: Zn (0.0, 8.03, 8.811) [0.462, 0.924, 0.75]\n",
       "PeriodicSite: Zn (2.215, 0.66, 2.937) [0.538, 0.07595, 0.25]\n",
       "PeriodicSite: Te (0.0, 6.626, 11.07) [0.3813, 0.7625, 0.9423]\n",
       "PeriodicSite: Te (2.215, 2.064, 0.6781) [0.6187, 0.2375, 0.05772]\n",
       "PeriodicSite: Te (2.215, 2.064, 5.196) [0.6187, 0.2375, 0.4423]\n",
       "PeriodicSite: Te (0.0, 6.626, 6.552) [0.3813, 0.7625, 0.5577]\n",
       "PeriodicSite: Te (0.0, 1.01, 8.811) [0.0581, 0.1162, 0.75]\n",
       "PeriodicSite: Te (2.215, 7.68, 2.937) [0.9419, 0.8838, 0.25]"
      ]
     },
     "execution_count": 11,
     "metadata": {},
     "output_type": "execute_result"
    }
   ],
   "source": [
    "aaa = AseAtomsAdaptor()\n",
    "aaa.get_structure(result['trajectory'].atoms_trajectory[1])"
   ]
  },
  {
   "cell_type": "code",
   "execution_count": 118,
   "id": "950e75fe-0fc4-4fa8-b43b-9032776af122",
   "metadata": {
    "tags": []
   },
   "outputs": [
    {
     "name": "stderr",
     "output_type": "stream",
     "text": [
      "Retrieving ThermoDoc documents: 100%|██████████| 76/76 [00:00<00:00, 1207451.15it/s]\n"
     ]
    },
    {
     "name": "stdout",
     "output_type": "stream",
     "text": [
      "No dtype selected, switching to float64 to match model dtype.\n",
      "MACE will run on cpu\n",
      "      Step     Time          Energy         fmax\n",
      "*Force-consistent energies used in optimization.\n",
      "FIRE:    0 18:35:45      -45.464003*       0.0760\n"
     ]
    },
    {
     "data": {
      "text/plain": [
       "({'final_structure': Structure Summary\n",
       "  Lattice\n",
       "      abc : 4.430704 8.967855070804836 11.747494\n",
       "   angles : 90.0 90.0 104.30198229452905\n",
       "   volume : 452.3072484465264\n",
       "        A : 4.430704 0.0 0.0\n",
       "        B : -2.215352 8.689916 0.0\n",
       "        C : 0.0 0.0 11.747494\n",
       "      pbc : True True True\n",
       "  PeriodicSite: Cs (2.215, 4.279, 8.811) [0.7462, 0.4924, 0.75]\n",
       "  PeriodicSite: Cs (0.0, 4.411, 2.937) [0.2538, 0.5076, 0.25]\n",
       "  PeriodicSite: Dy (0.0, 0.0, 0.0) [0.0, 0.0, 0.0]\n",
       "  PeriodicSite: Dy (0.0, 0.0, 5.874) [0.0, 0.0, 0.5]\n",
       "  PeriodicSite: Zn (0.0, 8.03, 8.811) [0.462, 0.924, 0.75]\n",
       "  PeriodicSite: Zn (2.215, 0.66, 2.937) [0.538, 0.07595, 0.25]\n",
       "  PeriodicSite: Te (0.0, 6.626, 11.07) [0.3813, 0.7625, 0.9423]\n",
       "  PeriodicSite: Te (2.215, 2.064, 0.6781) [0.6187, 0.2375, 0.05772]\n",
       "  PeriodicSite: Te (2.215, 2.064, 5.196) [0.6187, 0.2375, 0.4423]\n",
       "  PeriodicSite: Te (0.0, 6.626, 6.552) [0.3813, 0.7625, 0.5577]\n",
       "  PeriodicSite: Te (0.0, 1.01, 8.811) [0.0581, 0.1162, 0.75]\n",
       "  PeriodicSite: Te (2.215, 7.68, 2.937) [0.9419, 0.8838, 0.25],\n",
       "  'final_energy': -45.46400260278015,\n",
       "  'trajectory': <relaxer.TrajectoryObserver at 0x7f34a7e23d30>,\n",
       "  'parameters': {'potcar_spec': [{'titel': 'PAW_PBE Cs_sv 08Apr2002',\n",
       "     'hash': '096b53a7d80cc0086976bcda50d536e5'},\n",
       "    {'titel': 'PAW_PBE Zn 06Sep2000',\n",
       "     'hash': 'e35ee27f8483a63bb68dbc236a343af3'},\n",
       "    {'titel': 'PAW_PBE Dy_3 06Sep2000',\n",
       "     'hash': 'd4a05220ab0a2d4c03a76872ea724a1e'},\n",
       "    {'titel': 'PAW_PBE Te 08Apr2002',\n",
       "     'hash': '72719856e22fb1d3032df6f96d98a0f2'}],\n",
       "   'is_hubbard': False,\n",
       "   'hubbards': {},\n",
       "   'run_type': 'GGA'}},\n",
       " 0.007696047268324513)"
      ]
     },
     "execution_count": 118,
     "metadata": {},
     "output_type": "execute_result"
    }
   ],
   "source": [
    "get_relaxation_result(test_structure)"
   ]
  },
  {
   "cell_type": "code",
   "execution_count": 98,
   "id": "4eabb4d4-25c2-4b88-b3a6-0083bb859107",
   "metadata": {
    "tags": []
   },
   "outputs": [
    {
     "name": "stderr",
     "output_type": "stream",
     "text": [
      "Retrieving ThermoDoc documents: 100%|██████████| 76/76 [00:00<00:00, 1024974.61it/s]\n"
     ]
    }
   ],
   "source": [
    "mp_data, potcar_spec= get_chemsys_mpdata(test_structure)"
   ]
  },
  {
   "cell_type": "code",
   "execution_count": 100,
   "id": "b7d0e68f-98bf-440c-af4c-350b8470cd03",
   "metadata": {
    "tags": []
   },
   "outputs": [],
   "source": [
    "test_atoms = test_structure.to_ase_atoms()"
   ]
  },
  {
   "cell_type": "code",
   "execution_count": 101,
   "id": "2c902a06-8ed5-4c95-bf66-2b2f1d7b6303",
   "metadata": {
    "tags": []
   },
   "outputs": [
    {
     "name": "stdout",
     "output_type": "stream",
     "text": [
      "No dtype selected, switching to float64 to match model dtype.\n",
      "MACE will run on cpu\n"
     ]
    }
   ],
   "source": [
    "relaxer = MaceRelaxer()"
   ]
  },
  {
   "cell_type": "code",
   "execution_count": 102,
   "id": "55ddec39-4b62-4ac9-b1b0-c5d627b5c900",
   "metadata": {
    "tags": []
   },
   "outputs": [
    {
     "name": "stdout",
     "output_type": "stream",
     "text": [
      "      Step     Time          Energy         fmax\n",
      "*Force-consistent energies used in optimization.\n",
      "FIRE:    0 18:30:12      -45.464003*       0.0760\n",
      "FIRE:    1 18:30:12      -45.464246*       0.0725\n",
      "FIRE:    2 18:30:12      -45.464685*       0.0656\n",
      "FIRE:    3 18:30:13      -45.465237*       0.0557\n",
      "FIRE:    4 18:30:13      -45.465796*       0.0433\n"
     ]
    }
   ],
   "source": [
    "result = relaxer.relax(test_atoms, fmax=0.05)"
   ]
  },
  {
   "cell_type": "code",
   "execution_count": 103,
   "id": "a4d7988e-9ef1-4d55-83d7-d674e4598f34",
   "metadata": {
    "tags": []
   },
   "outputs": [
    {
     "data": {
      "text/plain": [
       "dict_keys(['final_structure', 'final_energy', 'trajectory'])"
      ]
     },
     "execution_count": 103,
     "metadata": {},
     "output_type": "execute_result"
    }
   ],
   "source": [
    "result"
   ]
  },
  {
   "cell_type": "code",
   "execution_count": 104,
   "id": "59f4937f-3e49-4cf6-8a67-341dbe1733eb",
   "metadata": {
    "tags": []
   },
   "outputs": [],
   "source": [
    "result['parameters'] = mp_data[1].parameters"
   ]
  },
  {
   "cell_type": "code",
   "execution_count": 107,
   "id": "69e5ad3b-4a6a-410e-930b-fcfb87004236",
   "metadata": {
    "tags": []
   },
   "outputs": [
    {
     "data": {
      "text/plain": [
       "{'potcar_spec': [{'titel': 'PAW_PBE Dy_3 06Sep2000',\n",
       "   'hash': 'd4a05220ab0a2d4c03a76872ea724a1e'}],\n",
       " 'is_hubbard': False,\n",
       " 'hubbards': {},\n",
       " 'run_type': 'GGA'}"
      ]
     },
     "execution_count": 107,
     "metadata": {},
     "output_type": "execute_result"
    }
   ],
   "source": [
    "result['parameters']"
   ]
  },
  {
   "cell_type": "code",
   "execution_count": 33,
   "id": "09f0be9d-4365-4a9f-bc0a-bf6fc3c5d46b",
   "metadata": {
    "tags": []
   },
   "outputs": [],
   "source": [
    "lattice = result['final_structure'].lattice.matrix\n",
    "species = [specie for specie in result['final_structure'].species]\n",
    "coords = [site.frac_coords for site in result['final_structure'].sites]\n",
    "structure = Structure(lattice=lattice, species=species, coords=coords)\n",
    "\n",
    "gga_entry = ComputedStructureEntry(structure=structure,\n",
    "                                   energy=result['final_energy'],\n",
    "                                   entry_id='tester-12',\n",
    "                                   composition=structure.composition.remove_charges(),\n",
    "                                   parameters=result['parameters']\n",
    "                                   )\n",
    "\n",
    "# compat = MaterialsProject2020Compatibility()\n",
    "\n",
    "# if compat is not None:\n",
    "#     gga_entry = compat.process_entry(gga_entry)"
   ]
  },
  {
   "cell_type": "code",
   "execution_count": 34,
   "id": "c8bd074d-3845-4ce1-9eb7-6f669a348768",
   "metadata": {
    "tags": []
   },
   "outputs": [
    {
     "data": {
      "text/plain": [
       "tester-12 ComputedStructureEntry - Cs2 Dy2 Zn2 Te6 (CsDyZnTe3)\n",
       "Energy (Uncorrected)     = -45.4658  eV (-3.7888  eV/atom)\n",
       "Correction               = 0.0000    eV (0.0000   eV/atom)\n",
       "Energy (Final)           = -45.4658  eV (-3.7888  eV/atom)\n",
       "Energy Adjustments:\n",
       "  None\n",
       "Parameters:\n",
       "  potcar_spec            = [{'titel': 'PAW_PBE Cs_sv 08Apr2002', 'hash': '096b53a7d80cc0086976bcda50d536e5'}, {'titel': 'PAW_PBE Dy_3 06Sep2000', 'hash': 'd4a05220ab0a2d4c03a76872ea724a1e'}, {'titel': 'PAW_PBE Zn 06Sep2000', 'hash': 'e35ee27f8483a63bb68dbc236a343af3'}, {'titel': 'PAW_PBE Te 08Apr2002', 'hash': '72719856e22fb1d3032df6f96d98a0f2'}]\n",
       "  is_hubbard             = False\n",
       "  hubbards               = {}\n",
       "  run_type               = GGA\n",
       "Data:"
      ]
     },
     "execution_count": 34,
     "metadata": {},
     "output_type": "execute_result"
    }
   ],
   "source": [
    "gga_entry"
   ]
  },
  {
   "cell_type": "code",
   "execution_count": 35,
   "id": "61c69de7-27ad-47d6-8a2a-667003b8c12d",
   "metadata": {
    "tags": []
   },
   "outputs": [],
   "source": [
    "gga_entry = compat.process_entry(gga_entry)"
   ]
  },
  {
   "cell_type": "code",
   "execution_count": 36,
   "id": "1df3bd46-b860-4d85-93d2-828bbf38a392",
   "metadata": {
    "tags": []
   },
   "outputs": [
    {
     "data": {
      "text/plain": [
       "tester-12 ComputedStructureEntry - Cs2 Dy2 Zn2 Te6 (CsDyZnTe3)\n",
       "Energy (Uncorrected)     = -45.4658  eV (-3.7888  eV/atom)\n",
       "Correction               = -2.5320   eV (-0.2110  eV/atom)\n",
       "Energy (Final)           = -47.9978  eV (-3.9998  eV/atom)\n",
       "Energy Adjustments:\n",
       "  MP2020 anion correction (Te): -2.5320   eV (-0.2110  eV/atom)\n",
       "Parameters:\n",
       "  potcar_spec            = [{'titel': 'PAW_PBE Cs_sv 08Apr2002', 'hash': '096b53a7d80cc0086976bcda50d536e5'}, {'titel': 'PAW_PBE Dy_3 06Sep2000', 'hash': 'd4a05220ab0a2d4c03a76872ea724a1e'}, {'titel': 'PAW_PBE Zn 06Sep2000', 'hash': 'e35ee27f8483a63bb68dbc236a343af3'}, {'titel': 'PAW_PBE Te 08Apr2002', 'hash': '72719856e22fb1d3032df6f96d98a0f2'}]\n",
       "  is_hubbard             = False\n",
       "  hubbards               = {}\n",
       "  run_type               = GGA\n",
       "Data:\n",
       "  oxidation_states       = {'Cs': 1.0, 'Dy': 3.0, 'Zn': 2.0, 'Te': -2.0}"
      ]
     },
     "execution_count": 36,
     "metadata": {},
     "output_type": "execute_result"
    }
   ],
   "source": [
    "gga_entry"
   ]
  },
  {
   "cell_type": "code",
   "execution_count": 54,
   "id": "6e4ec436-7b50-4621-9720-d081abdd871f",
   "metadata": {
    "tags": []
   },
   "outputs": [
    {
     "name": "stderr",
     "output_type": "stream",
     "text": [
      "Retrieving ThermoDoc documents: 100%|██████████| 76/76 [00:00<00:00, 684049.58it/s]\n",
      "/global/homes/y/yychoi/.conda/envs/mace/lib/python3.9/site-packages/pymatgen/entries/compatibility.py:1027: UserWarning: Failed to guess oxidation states for Entry mp-570071-GGA (Dy2Zn17). Assigning anion correction to only the most electronegative atom.\n",
      "  warnings.warn(\n",
      "/global/homes/y/yychoi/.conda/envs/mace/lib/python3.9/site-packages/pymatgen/entries/compatibility.py:1027: UserWarning: Failed to guess oxidation states for Entry mp-1193674-GGA (Dy6Zn23). Assigning anion correction to only the most electronegative atom.\n",
      "  warnings.warn(\n",
      "/global/homes/y/yychoi/.conda/envs/mace/lib/python3.9/site-packages/pymatgen/entries/compatibility.py:1027: UserWarning: Failed to guess oxidation states for Entry mp-1104161-GGA (Dy3Zn11). Assigning anion correction to only the most electronegative atom.\n",
      "  warnings.warn(\n",
      "/global/homes/y/yychoi/.conda/envs/mace/lib/python3.9/site-packages/pymatgen/entries/compatibility.py:1027: UserWarning: Failed to guess oxidation states for Entry mp-30626-GGA (DyZn3). Assigning anion correction to only the most electronegative atom.\n",
      "  warnings.warn(\n",
      "/global/homes/y/yychoi/.conda/envs/mace/lib/python3.9/site-packages/pymatgen/entries/compatibility.py:1027: UserWarning: Failed to guess oxidation states for Entry mp-1104551-GGA (DyZn12). Assigning anion correction to only the most electronegative atom.\n",
      "  warnings.warn(\n",
      "/global/homes/y/yychoi/.conda/envs/mace/lib/python3.9/site-packages/pymatgen/entries/compatibility.py:1027: UserWarning: Failed to guess oxidation states for Entry mp-2303-GGA (DyZn). Assigning anion correction to only the most electronegative atom.\n",
      "  warnings.warn(\n",
      "/global/homes/y/yychoi/.conda/envs/mace/lib/python3.9/site-packages/pymatgen/entries/compatibility.py:1027: UserWarning: Failed to guess oxidation states for Entry mp-1197303-GGA (Dy13Zn58). Assigning anion correction to only the most electronegative atom.\n",
      "  warnings.warn(\n",
      "/global/homes/y/yychoi/.conda/envs/mace/lib/python3.9/site-packages/pymatgen/entries/compatibility.py:1027: UserWarning: Failed to guess oxidation states for Entry mp-30964-GGA (Dy2Zn17). Assigning anion correction to only the most electronegative atom.\n",
      "  warnings.warn(\n",
      "/global/homes/y/yychoi/.conda/envs/mace/lib/python3.9/site-packages/pymatgen/entries/compatibility.py:1027: UserWarning: Failed to guess oxidation states for Entry mp-30627-GGA (DyZn5). Assigning anion correction to only the most electronegative atom.\n",
      "  warnings.warn(\n",
      "/global/homes/y/yychoi/.conda/envs/mace/lib/python3.9/site-packages/pymatgen/entries/compatibility.py:1027: UserWarning: Failed to guess oxidation states for Entry mp-570093-GGA (DyZn2). Assigning anion correction to only the most electronegative atom.\n",
      "  warnings.warn(\n",
      "/global/homes/y/yychoi/.conda/envs/mace/lib/python3.9/site-packages/pymatgen/entries/compatibility.py:1027: UserWarning: Failed to guess oxidation states for Entry mp-505634-GGA (Cs2Te3). Assigning anion correction to only the most electronegative atom.\n",
      "  warnings.warn(\n",
      "/global/homes/y/yychoi/.conda/envs/mace/lib/python3.9/site-packages/pymatgen/entries/compatibility.py:1027: UserWarning: Failed to guess oxidation states for Entry mp-1228983-GGA (CsZn8). Assigning anion correction to only the most electronegative atom.\n",
      "  warnings.warn(\n",
      "/global/homes/y/yychoi/.conda/envs/mace/lib/python3.9/site-packages/pymatgen/entries/compatibility.py:1027: UserWarning: Failed to guess oxidation states for Entry mp-505682-GGA (Dy2Te). Assigning anion correction to only the most electronegative atom.\n",
      "  warnings.warn(\n"
     ]
    },
    {
     "data": {
      "text/plain": [
       "0.007546575649457932"
      ]
     },
     "execution_count": 54,
     "metadata": {},
     "output_type": "execute_result"
    }
   ],
   "source": [
    "ehull(mpr, gga_entry, MaterialsProject2020Compatibility())"
   ]
  },
  {
   "cell_type": "code",
   "execution_count": null,
   "id": "5d4a81a1-e8ab-4052-a362-a97a7d8abf76",
   "metadata": {},
   "outputs": [],
   "source": []
  },
  {
   "cell_type": "code",
   "execution_count": 16,
   "id": "79cdd204-6148-4057-a291-024d613d9276",
   "metadata": {
    "tags": []
   },
   "outputs": [
    {
     "name": "stdout",
     "output_type": "stream",
     "text": [
      "Entry is None\n"
     ]
    }
   ],
   "source": [
    "get_GGA_entry(result, '12', compat=MaterialsProject2020Compatibility())"
   ]
  },
  {
   "cell_type": "code",
   "execution_count": 45,
   "id": "3ae394aa-f19f-449f-9299-c301db065c50",
   "metadata": {
    "tags": []
   },
   "outputs": [],
   "source": [
    "species = []\n",
    "\n",
    "for i in set(test_structure.species):\n",
    "    species.append(i.name)\n",
    "    \n",
    "chemical_space = '-'.join(species)"
   ]
  },
  {
   "cell_type": "code",
   "execution_count": 49,
   "id": "f4bde268-a32e-40c9-babc-d9a296298242",
   "metadata": {
    "tags": []
   },
   "outputs": [],
   "source": [
    "chemical_space = '-'.join(species)"
   ]
  },
  {
   "cell_type": "code",
   "execution_count": 50,
   "id": "c04bcf06-c438-4391-9e1e-d289680c55c8",
   "metadata": {
    "tags": []
   },
   "outputs": [
    {
     "name": "stderr",
     "output_type": "stream",
     "text": [
      "Retrieving ThermoDoc documents: 100%|██████████| 76/76 [00:00<00:00, 636261.68it/s]\n"
     ]
    }
   ],
   "source": [
    "mp_data = mpr.get_entries_in_chemsys(chemical_space)"
   ]
  },
  {
   "cell_type": "code",
   "execution_count": 52,
   "id": "001ef425-1cb9-493c-a794-a9995f52a1b9",
   "metadata": {
    "tags": []
   },
   "outputs": [
    {
     "data": {
      "text/plain": [
       "{'potcar_spec': [{'titel': 'PAW_PBE Cs_sv 08Apr2002',\n",
       "   'hash': '096b53a7d80cc0086976bcda50d536e5'},\n",
       "  {'titel': 'PAW_PBE Zn 06Sep2000',\n",
       "   'hash': 'e35ee27f8483a63bb68dbc236a343af3'}],\n",
       " 'is_hubbard': False,\n",
       " 'hubbards': {},\n",
       " 'run_type': 'GGA'}"
      ]
     },
     "execution_count": 52,
     "metadata": {},
     "output_type": "execute_result"
    }
   ],
   "source": [
    "mp_data[0].parameters"
   ]
  },
  {
   "cell_type": "code",
   "execution_count": 128,
   "id": "10112304-879e-458b-94ab-2aeae12b06dd",
   "metadata": {
    "tags": []
   },
   "outputs": [],
   "source": [
    "def get_test_structure(mpid='mp-111111'):\n",
    "    \n",
    "    mp_data = mpr.get_entry_by_material_id(material_id=[mpid])\n",
    "    test_structure = mp_data[0].structure\n",
    "    \n",
    "    return test_structure"
   ]
  },
  {
   "cell_type": "code",
   "execution_count": 139,
   "id": "17de201a-ce26-44f5-8da6-99cc864285b6",
   "metadata": {
    "tags": []
   },
   "outputs": [
    {
     "name": "stderr",
     "output_type": "stream",
     "text": [
      "Retrieving ThermoDoc documents: 100%|██████████| 3/3 [00:00<00:00, 55431.33it/s]\n"
     ]
    }
   ],
   "source": [
    "test_structure = get_test_structure(mpid='mp-21434')"
   ]
  },
  {
   "cell_type": "code",
   "execution_count": 140,
   "id": "8b3f4cf0-b18d-47cb-bf86-680f34d6ea5b",
   "metadata": {
    "tags": []
   },
   "outputs": [
    {
     "data": {
      "text/plain": [
       "'Co2 C2 O6\\n1.0\\n   4.2055206900000002   -0.0269878300000000    3.6987805100000002\\n   1.6560400399999999    3.8658139800000000    3.6989105599999998\\n  -0.0420738100000000   -0.0274213600000000    5.6003783800000004\\nCo C O\\n2 2 6\\ndirect\\n   0.5000000000000000    0.5000000000000000    0.5000000000000000 Co\\n  -0.0000000000000000    0.0000000000000000   -0.0000000000000000 Co\\n   0.7500193200000000    0.7499419200000000    0.7500060900000000 C\\n   0.2499786800000000    0.2500600800000000    0.2499939100000000 C\\n   0.7500594000000000    0.4726748200000000    0.0272144200000000 O\\n   0.4727115700000000    0.0272328600000000    0.7500216900000000 O\\n   0.9727532000000000    0.2500439000000000    0.5272227000000000 O\\n   0.0272468000000000    0.7499581000000000    0.4727763000000000 O\\n   0.2499406000000000    0.5273271800000000    0.9727835800000000 O\\n   0.5272894299999999    0.9727661399999999    0.2499783100000000 O\\n'"
      ]
     },
     "execution_count": 140,
     "metadata": {},
     "output_type": "execute_result"
    }
   ],
   "source": [
    "test_structure.to(filename='../test/test_POSCAR_3', fmt='POSCAR')"
   ]
  },
  {
   "cell_type": "code",
   "execution_count": 143,
   "id": "8156d8a2-b7b1-4e2b-8c3d-01d3d77fe765",
   "metadata": {
    "tags": []
   },
   "outputs": [],
   "source": [
    "structure = Structure.from_file('../test/test_POSCAR_3')"
   ]
  },
  {
   "cell_type": "code",
   "execution_count": 151,
   "id": "cf15a436-7797-4cb8-8610-dc74b5e02006",
   "metadata": {
    "tags": []
   },
   "outputs": [
    {
     "data": {
      "text/plain": [
       "Composition('Co2 C2 O6')"
      ]
     },
     "execution_count": 151,
     "metadata": {},
     "output_type": "execute_result"
    }
   ],
   "source": [
    "structure.composition.remove_charges()"
   ]
  },
  {
   "cell_type": "code",
   "execution_count": 152,
   "id": "31b57efa-9816-43ca-bc15-5d4750e24984",
   "metadata": {
    "tags": []
   },
   "outputs": [
    {
     "data": {
      "text/plain": [
       "{'potcar_spec': [{'titel': 'PAW_PBE Co 06Sep2000',\n",
       "   'hash': 'b169bca4e137294d2ab3df8cbdd09083'},\n",
       "  {'titel': 'PAW_PBE C 08Apr2002', 'hash': 'c0a8167dbb174fe492a3db7f5006c0f8'},\n",
       "  {'titel': 'PAW_PBE O 08Apr2002',\n",
       "   'hash': '7a25bc5b9a5393f46600a4939d357982'}],\n",
       " 'is_hubbard': False,\n",
       " 'hubbards': {},\n",
       " 'run_type': 'GGA'}"
      ]
     },
     "execution_count": 152,
     "metadata": {},
     "output_type": "execute_result"
    }
   ],
   "source": [
    "result['parameters']"
   ]
  },
  {
   "cell_type": "code",
   "execution_count": 163,
   "id": "6aa3c0ec-be50-4567-8ef3-c06da28c5436",
   "metadata": {
    "tags": []
   },
   "outputs": [],
   "source": [
    "gga_entry = ComputedStructureEntry(structure=structure,\n",
    "                                   energy=result['final_energy'],\n",
    "                                   entry_id='llm_generation',\n",
    "                                   composition=structure.composition.remove_charges(),\n",
    "                                   parameters=result['parameters']\n",
    "                                   )"
   ]
  },
  {
   "cell_type": "code",
   "execution_count": 169,
   "id": "e1e316ed-331a-43f8-924a-e1cabda23e6c",
   "metadata": {
    "tags": []
   },
   "outputs": [
    {
     "name": "stdout",
     "output_type": "stream",
     "text": [
      "{}\n",
      "{}\n",
      "{}\n",
      "{}\n",
      "{}\n",
      "{}\n",
      "{}\n",
      "{}\n",
      "{}\n",
      "{}\n",
      "{}\n",
      "{}\n",
      "{}\n",
      "{}\n",
      "{}\n",
      "{}\n",
      "{}\n",
      "{}\n",
      "{}\n",
      "{}\n",
      "{}\n",
      "{}\n",
      "{}\n",
      "{}\n",
      "{}\n",
      "{}\n",
      "{}\n",
      "{}\n",
      "{}\n",
      "{}\n",
      "{}\n",
      "{}\n",
      "{}\n",
      "{}\n",
      "{}\n",
      "{}\n",
      "{}\n",
      "{}\n",
      "{}\n",
      "{}\n",
      "{}\n",
      "{}\n",
      "{}\n",
      "{}\n",
      "{}\n",
      "{}\n",
      "{}\n",
      "{}\n",
      "{}\n",
      "{}\n",
      "{}\n",
      "{}\n",
      "{}\n",
      "{'Co': 3.32, 'C': 0.0, 'O': 0.0}\n",
      "{'Co': 3.32, 'C': 0.0, 'O': 0.0}\n",
      "{'Co': 3.32, 'C': 0.0, 'O': 0.0}\n",
      "{'Co': 3.32, 'C': 0.0, 'O': 0.0}\n",
      "{'Co': 3.32, 'C': 0.0, 'O': 0.0}\n",
      "{'Co': 3.32, 'C': 0.0, 'O': 0.0}\n",
      "{'Co': 3.32, 'C': 0.0, 'O': 0.0}\n",
      "{'Co': 3.32, 'C': 0.0, 'O': 0.0}\n",
      "{'Co': 3.32, 'C': 0.0, 'O': 0.0}\n",
      "{'Co': 3.32, 'C': 0.0, 'O': 0.0}\n",
      "{'Co': 3.32, 'C': 0.0, 'O': 0.0}\n",
      "{'Co': 3.32, 'C': 0.0, 'O': 0.0}\n",
      "{'Co': 3.32, 'C': 0.0, 'O': 0.0}\n",
      "{'Co': 3.32, 'C': 0.0, 'O': 0.0}\n",
      "{'Co': 3.32, 'C': 0.0, 'O': 0.0}\n",
      "{}\n",
      "{}\n",
      "{}\n",
      "{}\n",
      "{}\n",
      "{}\n",
      "{}\n",
      "{}\n",
      "{}\n",
      "{}\n",
      "{}\n",
      "{}\n",
      "{}\n",
      "{}\n",
      "{}\n",
      "{}\n",
      "{}\n",
      "{}\n",
      "{}\n",
      "{}\n",
      "{}\n",
      "{}\n",
      "{}\n",
      "{}\n",
      "{}\n",
      "{}\n",
      "{}\n",
      "{}\n",
      "{}\n",
      "{}\n",
      "{}\n",
      "{}\n",
      "{}\n",
      "{}\n",
      "{}\n",
      "{}\n",
      "{}\n",
      "{}\n",
      "{}\n",
      "{}\n",
      "{}\n",
      "{}\n",
      "{}\n",
      "{}\n",
      "{}\n",
      "{}\n",
      "{}\n",
      "{}\n",
      "{}\n",
      "{}\n",
      "{}\n",
      "{}\n",
      "{}\n",
      "{}\n",
      "{}\n",
      "{}\n",
      "{}\n",
      "{}\n",
      "{}\n",
      "{}\n",
      "{}\n",
      "{}\n",
      "{'Co': 3.32, 'O': 0.0}\n",
      "{'Co': 3.32, 'O': 0.0}\n",
      "{'Co': 3.32, 'O': 0.0}\n",
      "{'Co': 3.32, 'O': 0.0}\n",
      "{'Co': 3.32, 'O': 0.0}\n",
      "{'Co': 3.32, 'O': 0.0}\n",
      "{'Co': 3.32, 'O': 0.0}\n",
      "{'Co': 3.32, 'O': 0.0}\n",
      "{'Co': 3.32, 'O': 0.0}\n",
      "{'Co': 3.32, 'O': 0.0}\n",
      "{'Co': 3.32, 'O': 0.0}\n",
      "{'Co': 3.32, 'O': 0.0}\n",
      "{'Co': 3.32, 'O': 0.0}\n",
      "{'Co': 3.32, 'O': 0.0}\n",
      "{'Co': 3.32, 'O': 0.0}\n",
      "{'Co': 3.32, 'O': 0.0}\n",
      "{'Co': 3.32, 'O': 0.0}\n",
      "{'Co': 3.32, 'O': 0.0}\n",
      "{'Co': 3.32, 'O': 0.0}\n",
      "{'Co': 3.32, 'O': 0.0}\n",
      "{'Co': 3.32, 'O': 0.0}\n",
      "{'Co': 3.32, 'O': 0.0}\n",
      "{'Co': 3.32, 'O': 0.0}\n",
      "{'Co': 3.32, 'O': 0.0}\n",
      "{'Co': 3.32, 'O': 0.0}\n",
      "{'Co': 3.32, 'O': 0.0}\n",
      "{'Co': 3.32, 'O': 0.0}\n",
      "{'Co': 3.32, 'O': 0.0}\n",
      "{'Co': 3.32, 'O': 0.0}\n",
      "{'Co': 3.32, 'O': 0.0}\n",
      "{'Co': 3.32, 'O': 0.0}\n",
      "{'Co': 3.32, 'O': 0.0}\n",
      "{'Co': 3.32, 'O': 0.0}\n",
      "{'Co': 3.32, 'O': 0.0}\n",
      "{'Co': 3.32, 'O': 0.0}\n",
      "{'Co': 3.32, 'O': 0.0}\n",
      "{'Co': 3.32, 'O': 0.0}\n",
      "{'Co': 3.32, 'O': 0.0}\n",
      "{'Co': 3.32, 'O': 0.0}\n",
      "{'Co': 3.32, 'O': 0.0}\n",
      "{'Co': 3.32, 'O': 0.0}\n",
      "{'Co': 3.32, 'O': 0.0}\n",
      "{'Co': 3.32, 'O': 0.0}\n",
      "{'Co': 3.32, 'O': 0.0}\n",
      "{'Co': 3.32, 'O': 0.0}\n",
      "{'Co': 3.32, 'O': 0.0}\n",
      "{'Co': 3.32, 'O': 0.0}\n",
      "{'Co': 3.32, 'O': 0.0}\n",
      "{'Co': 3.32, 'O': 0.0}\n",
      "{'Co': 3.32, 'O': 0.0}\n",
      "{'Co': 3.32, 'O': 0.0}\n",
      "{'Co': 3.32, 'O': 0.0}\n",
      "{'Co': 3.32, 'O': 0.0}\n",
      "{'Co': 3.32, 'O': 0.0}\n",
      "{'Co': 3.32, 'O': 0.0}\n",
      "{'Co': 3.32, 'O': 0.0}\n",
      "{'Co': 3.32, 'O': 0.0}\n",
      "{'Co': 3.32, 'O': 0.0}\n",
      "{'Co': 3.32, 'O': 0.0}\n"
     ]
    }
   ],
   "source": [
    "for j in mp_data:\n",
    "    print(j.parameters['hubbards'])"
   ]
  },
  {
   "cell_type": "code",
   "execution_count": 168,
   "id": "dade508b-452d-41f8-857d-e693f9faf052",
   "metadata": {
    "tags": []
   },
   "outputs": [
    {
     "data": {
      "text/plain": [
       "{}"
      ]
     },
     "execution_count": 168,
     "metadata": {},
     "output_type": "execute_result"
    }
   ],
   "source": [
    "mp_data[0].parameters['hubbards']"
   ]
  },
  {
   "cell_type": "code",
   "execution_count": 164,
   "id": "07b66ac4-6be2-4962-b248-af3f11414f97",
   "metadata": {
    "tags": []
   },
   "outputs": [
    {
     "data": {
      "text/plain": [
       "llm_generation ComputedStructureEntry - Co2 C2 O6    (CoCO3)\n",
       "Energy (Uncorrected)     = -71.1450  eV (-7.1145  eV/atom)\n",
       "Correction               = 0.0000    eV (0.0000   eV/atom)\n",
       "Energy (Final)           = -71.1450  eV (-7.1145  eV/atom)\n",
       "Energy Adjustments:\n",
       "  None\n",
       "Parameters:\n",
       "  potcar_spec            = [{'titel': 'PAW_PBE Co 06Sep2000', 'hash': 'b169bca4e137294d2ab3df8cbdd09083'}, {'titel': 'PAW_PBE C 08Apr2002', 'hash': 'c0a8167dbb174fe492a3db7f5006c0f8'}, {'titel': 'PAW_PBE O 08Apr2002', 'hash': '7a25bc5b9a5393f46600a4939d357982'}]\n",
       "  is_hubbard             = False\n",
       "  hubbards               = {}\n",
       "  run_type               = GGA\n",
       "Data:"
      ]
     },
     "execution_count": 164,
     "metadata": {},
     "output_type": "execute_result"
    }
   ],
   "source": [
    "gga_entry"
   ]
  },
  {
   "cell_type": "code",
   "execution_count": 165,
   "id": "e6ad790c-a022-4899-949f-99cfb8ea4f0e",
   "metadata": {
    "tags": []
   },
   "outputs": [
    {
     "ename": "CompatibilityError",
     "evalue": "Invalid U value of 0.0 on Co, expected 3.3",
     "output_type": "error",
     "traceback": [
      "\u001b[0;31m---------------------------------------------------------------------------\u001b[0m",
      "\u001b[0;31mCompatibilityError\u001b[0m                        Traceback (most recent call last)",
      "Cell \u001b[0;32mIn[165], line 1\u001b[0m\n\u001b[0;32m----> 1\u001b[0m \u001b[43mcompat\u001b[49m\u001b[38;5;241;43m.\u001b[39;49m\u001b[43mget_adjustments\u001b[49m\u001b[43m(\u001b[49m\u001b[43mgga_entry\u001b[49m\u001b[43m)\u001b[49m\n",
      "File \u001b[0;32m~/.conda/envs/mace/lib/python3.9/site-packages/pymatgen/entries/compatibility.py:1070\u001b[0m, in \u001b[0;36mMaterialsProject2020Compatibility.get_adjustments\u001b[0;34m(self, entry)\u001b[0m\n\u001b[1;32m   1068\u001b[0m actual_u \u001b[38;5;241m=\u001b[39m calc_u\u001b[38;5;241m.\u001b[39mget(symbol, \u001b[38;5;241m0\u001b[39m)\n\u001b[1;32m   1069\u001b[0m \u001b[38;5;28;01mif\u001b[39;00m actual_u \u001b[38;5;241m!=\u001b[39m expected_u:\n\u001b[0;32m-> 1070\u001b[0m     \u001b[38;5;28;01mraise\u001b[39;00m CompatibilityError(\u001b[38;5;124mf\u001b[39m\u001b[38;5;124m\"\u001b[39m\u001b[38;5;124mInvalid U value of \u001b[39m\u001b[38;5;132;01m{\u001b[39;00mactual_u\u001b[38;5;132;01m:\u001b[39;00m\u001b[38;5;124m.1f\u001b[39m\u001b[38;5;132;01m}\u001b[39;00m\u001b[38;5;124m on \u001b[39m\u001b[38;5;132;01m{\u001b[39;00msymbol\u001b[38;5;132;01m}\u001b[39;00m\u001b[38;5;124m, expected \u001b[39m\u001b[38;5;132;01m{\u001b[39;00mexpected_u\u001b[38;5;132;01m:\u001b[39;00m\u001b[38;5;124m.1f\u001b[39m\u001b[38;5;132;01m}\u001b[39;00m\u001b[38;5;124m\"\u001b[39m)\n\u001b[1;32m   1071\u001b[0m \u001b[38;5;28;01mif\u001b[39;00m symbol \u001b[38;5;129;01min\u001b[39;00m u_corrections:\n\u001b[1;32m   1072\u001b[0m     adjustments\u001b[38;5;241m.\u001b[39mappend(\n\u001b[1;32m   1073\u001b[0m         CompositionEnergyAdjustment(\n\u001b[1;32m   1074\u001b[0m             u_corrections[symbol],\n\u001b[0;32m   (...)\u001b[0m\n\u001b[1;32m   1079\u001b[0m         )\n\u001b[1;32m   1080\u001b[0m     )\n",
      "\u001b[0;31mCompatibilityError\u001b[0m: Invalid U value of 0.0 on Co, expected 3.3"
     ]
    }
   ],
   "source": [
    "compat.get_adjustments(gga_entry)"
   ]
  },
  {
   "cell_type": "code",
   "execution_count": 162,
   "id": "84acbd3f-bd62-4518-b52c-417bafc393bf",
   "metadata": {
    "tags": []
   },
   "outputs": [
    {
     "ename": "TypeError",
     "evalue": "'NoneType' object is not iterable",
     "output_type": "error",
     "traceback": [
      "\u001b[0;31m---------------------------------------------------------------------------\u001b[0m",
      "\u001b[0;31mTypeError\u001b[0m                                 Traceback (most recent call last)",
      "Cell \u001b[0;32mIn[162], line 1\u001b[0m\n\u001b[0;32m----> 1\u001b[0m gga_entry \u001b[38;5;241m=\u001b[39m \u001b[43mcompat\u001b[49m\u001b[38;5;241;43m.\u001b[39;49m\u001b[43mprocess_entry\u001b[49m\u001b[43m(\u001b[49m\u001b[43mgga_entry\u001b[49m\u001b[43m)\u001b[49m\n",
      "File \u001b[0;32m~/.conda/envs/mace/lib/python3.9/site-packages/pymatgen/entries/compatibility.py:518\u001b[0m, in \u001b[0;36mCompatibility.process_entry\u001b[0;34m(self, entry, **kwargs)\u001b[0m\n\u001b[1;32m    507\u001b[0m \u001b[38;5;250m\u001b[39m\u001b[38;5;124;03m\"\"\"Process a single entry with the chosen Corrections. Note\u001b[39;00m\n\u001b[1;32m    508\u001b[0m \u001b[38;5;124;03mthat this method will change the data of the original entry.\u001b[39;00m\n\u001b[1;32m    509\u001b[0m \n\u001b[0;32m   (...)\u001b[0m\n\u001b[1;32m    515\u001b[0m \u001b[38;5;124;03m    An adjusted entry if entry is compatible, else None.\u001b[39;00m\n\u001b[1;32m    516\u001b[0m \u001b[38;5;124;03m\"\"\"\u001b[39;00m\n\u001b[1;32m    517\u001b[0m \u001b[38;5;28;01mtry\u001b[39;00m:\n\u001b[0;32m--> 518\u001b[0m     \u001b[38;5;28;01mreturn\u001b[39;00m \u001b[38;5;28;43mself\u001b[39;49m\u001b[38;5;241;43m.\u001b[39;49m\u001b[43mprocess_entries\u001b[49m\u001b[43m(\u001b[49m\u001b[43mentry\u001b[49m\u001b[43m,\u001b[49m\u001b[43m \u001b[49m\u001b[38;5;241;43m*\u001b[39;49m\u001b[38;5;241;43m*\u001b[39;49m\u001b[43mkwargs\u001b[49m\u001b[43m)\u001b[49m[\u001b[38;5;241m0\u001b[39m]\n\u001b[1;32m    519\u001b[0m \u001b[38;5;28;01mexcept\u001b[39;00m \u001b[38;5;167;01mIndexError\u001b[39;00m:\n\u001b[1;32m    520\u001b[0m     \u001b[38;5;28;01mreturn\u001b[39;00m \u001b[38;5;28;01mNone\u001b[39;00m\n",
      "File \u001b[0;32m~/.conda/envs/mace/lib/python3.9/site-packages/pymatgen/entries/compatibility.py:561\u001b[0m, in \u001b[0;36mCompatibility.process_entries\u001b[0;34m(self, entries, clean, verbose, inplace, on_error)\u001b[0m\n\u001b[1;32m    558\u001b[0m \u001b[38;5;28;01mif\u001b[39;00m \u001b[38;5;129;01mnot\u001b[39;00m inplace:\n\u001b[1;32m    559\u001b[0m     entries \u001b[38;5;241m=\u001b[39m copy\u001b[38;5;241m.\u001b[39mdeepcopy(entries)\n\u001b[0;32m--> 561\u001b[0m \u001b[38;5;28;01mfor\u001b[39;00m entry \u001b[38;5;129;01min\u001b[39;00m tqdm(entries, disable\u001b[38;5;241m=\u001b[39m\u001b[38;5;129;01mnot\u001b[39;00m verbose):\n\u001b[1;32m    562\u001b[0m     ignore_entry \u001b[38;5;241m=\u001b[39m \u001b[38;5;28;01mFalse\u001b[39;00m\n\u001b[1;32m    563\u001b[0m     \u001b[38;5;66;03m# if clean is True, remove all previous adjustments from the entry\u001b[39;00m\n",
      "File \u001b[0;32m~/.conda/envs/mace/lib/python3.9/site-packages/tqdm/std.py:1170\u001b[0m, in \u001b[0;36mtqdm.__iter__\u001b[0;34m(self)\u001b[0m\n\u001b[1;32m   1167\u001b[0m \u001b[38;5;66;03m# If the bar is disabled, then just walk the iterable\u001b[39;00m\n\u001b[1;32m   1168\u001b[0m \u001b[38;5;66;03m# (note: keep this check outside the loop for performance)\u001b[39;00m\n\u001b[1;32m   1169\u001b[0m \u001b[38;5;28;01mif\u001b[39;00m \u001b[38;5;28mself\u001b[39m\u001b[38;5;241m.\u001b[39mdisable:\n\u001b[0;32m-> 1170\u001b[0m     \u001b[38;5;28;01mfor\u001b[39;00m obj \u001b[38;5;129;01min\u001b[39;00m iterable:\n\u001b[1;32m   1171\u001b[0m         \u001b[38;5;28;01myield\u001b[39;00m obj\n\u001b[1;32m   1172\u001b[0m     \u001b[38;5;28;01mreturn\u001b[39;00m\n",
      "\u001b[0;31mTypeError\u001b[0m: 'NoneType' object is not iterable"
     ]
    }
   ],
   "source": [
    "gga_entry = compat.process_entry(gga_entry)"
   ]
  },
  {
   "cell_type": "code",
   "execution_count": 144,
   "id": "c02748a3-e57d-4d7e-a7cb-8b151367b6b5",
   "metadata": {
    "tags": []
   },
   "outputs": [
    {
     "name": "stderr",
     "output_type": "stream",
     "text": [
      "Retrieving ThermoDoc documents: 100%|██████████| 189/189 [00:00<00:00, 2416839.80it/s]\n"
     ]
    },
    {
     "name": "stdout",
     "output_type": "stream",
     "text": [
      "No dtype selected, switching to float64 to match model dtype.\n",
      "MACE will run on cpu\n",
      "      Step     Time          Energy         fmax\n",
      "*Force-consistent energies used in optimization.\n",
      "FIRE:    0 19:07:52      -71.145003*       0.3488\n"
     ]
    },
    {
     "ename": "AttributeError",
     "evalue": "'NoneType' object has no attribute 'elements'",
     "output_type": "error",
     "traceback": [
      "\u001b[0;31m---------------------------------------------------------------------------\u001b[0m",
      "\u001b[0;31mAttributeError\u001b[0m                            Traceback (most recent call last)",
      "Cell \u001b[0;32mIn[144], line 23\u001b[0m\n\u001b[1;32m     21\u001b[0m compat \u001b[38;5;241m=\u001b[39m MaterialsProject2020Compatibility()\n\u001b[1;32m     22\u001b[0m gga_entry \u001b[38;5;241m=\u001b[39m compat\u001b[38;5;241m.\u001b[39mprocess_entry(gga_entry)\n\u001b[0;32m---> 23\u001b[0m ehull \u001b[38;5;241m=\u001b[39m \u001b[43mget_ehull\u001b[49m\u001b[43m(\u001b[49m\u001b[43mmpr\u001b[49m\u001b[43m,\u001b[49m\u001b[43m \u001b[49m\u001b[43mgga_entry\u001b[49m\u001b[43m,\u001b[49m\u001b[43m \u001b[49m\u001b[43mmp_data\u001b[49m\u001b[43m,\u001b[49m\u001b[43m \u001b[49m\u001b[43mcompat\u001b[49m\u001b[43m)\u001b[49m\n",
      "Cell \u001b[0;32mIn[115], line 31\u001b[0m, in \u001b[0;36mget_ehull\u001b[0;34m(mpr, vasp_entry, mp_entries, compatibility)\u001b[0m\n\u001b[1;32m     28\u001b[0m mp_entries \u001b[38;5;241m=\u001b[39m compatibility\u001b[38;5;241m.\u001b[39mprocess_entries(mp_entries)\n\u001b[1;32m     30\u001b[0m \u001b[38;5;66;03m# phase diagram\u001b[39;00m\n\u001b[0;32m---> 31\u001b[0m PD \u001b[38;5;241m=\u001b[39m \u001b[43mPhaseDiagram\u001b[49m\u001b[43m(\u001b[49m\u001b[43mmp_entries\u001b[49m\u001b[43m \u001b[49m\u001b[38;5;241;43m+\u001b[39;49m\u001b[43m \u001b[49m\u001b[43m[\u001b[49m\u001b[43mvasp_entry\u001b[49m\u001b[43m]\u001b[49m\u001b[43m)\u001b[49m\n\u001b[1;32m     33\u001b[0m decomp_info \u001b[38;5;241m=\u001b[39m PD\u001b[38;5;241m.\u001b[39mget_decomp_and_e_above_hull(vasp_entry, allow_negative\u001b[38;5;241m=\u001b[39m\u001b[38;5;28;01mTrue\u001b[39;00m)\n\u001b[1;32m     34\u001b[0m e_above_hull \u001b[38;5;241m=\u001b[39m decomp_info[\u001b[38;5;241m1\u001b[39m]\n",
      "File \u001b[0;32m~/.conda/envs/mace/lib/python3.9/site-packages/pymatgen/analysis/phase_diagram.py:379\u001b[0m, in \u001b[0;36mPhaseDiagram.__init__\u001b[0;34m(self, entries, elements, computed_data)\u001b[0m\n\u001b[1;32m    377\u001b[0m \u001b[38;5;28mself\u001b[39m\u001b[38;5;241m.\u001b[39mentries \u001b[38;5;241m=\u001b[39m entries\n\u001b[1;32m    378\u001b[0m \u001b[38;5;28;01mif\u001b[39;00m computed_data \u001b[38;5;129;01mis\u001b[39;00m \u001b[38;5;28;01mNone\u001b[39;00m:\n\u001b[0;32m--> 379\u001b[0m     computed_data \u001b[38;5;241m=\u001b[39m \u001b[38;5;28;43mself\u001b[39;49m\u001b[38;5;241;43m.\u001b[39;49m\u001b[43m_compute\u001b[49m\u001b[43m(\u001b[49m\u001b[43m)\u001b[49m\n\u001b[1;32m    380\u001b[0m \u001b[38;5;28;01melse\u001b[39;00m:\n\u001b[1;32m    381\u001b[0m     computed_data \u001b[38;5;241m=\u001b[39m MontyDecoder()\u001b[38;5;241m.\u001b[39mprocess_decoded(computed_data)\n",
      "File \u001b[0;32m~/.conda/envs/mace/lib/python3.9/site-packages/pymatgen/analysis/phase_diagram.py:426\u001b[0m, in \u001b[0;36mPhaseDiagram._compute\u001b[0;34m(self)\u001b[0m\n\u001b[1;32m    424\u001b[0m \u001b[38;5;28;01mdef\u001b[39;00m \u001b[38;5;21m_compute\u001b[39m(\u001b[38;5;28mself\u001b[39m) \u001b[38;5;241m-\u001b[39m\u001b[38;5;241m>\u001b[39m \u001b[38;5;28mdict\u001b[39m[\u001b[38;5;28mstr\u001b[39m, Any]:\n\u001b[1;32m    425\u001b[0m     \u001b[38;5;28;01mif\u001b[39;00m \u001b[38;5;28mself\u001b[39m\u001b[38;5;241m.\u001b[39melements \u001b[38;5;241m==\u001b[39m ():\n\u001b[0;32m--> 426\u001b[0m         \u001b[38;5;28mself\u001b[39m\u001b[38;5;241m.\u001b[39melements \u001b[38;5;241m=\u001b[39m \u001b[38;5;28msorted\u001b[39m({els \u001b[38;5;28;01mfor\u001b[39;00m e \u001b[38;5;129;01min\u001b[39;00m \u001b[38;5;28mself\u001b[39m\u001b[38;5;241m.\u001b[39mentries \u001b[38;5;28;01mfor\u001b[39;00m els \u001b[38;5;129;01min\u001b[39;00m e\u001b[38;5;241m.\u001b[39melements})\n\u001b[1;32m    428\u001b[0m     elements \u001b[38;5;241m=\u001b[39m \u001b[38;5;28mlist\u001b[39m(\u001b[38;5;28mself\u001b[39m\u001b[38;5;241m.\u001b[39melements)\n\u001b[1;32m    429\u001b[0m     dim \u001b[38;5;241m=\u001b[39m \u001b[38;5;28mlen\u001b[39m(elements)\n",
      "File \u001b[0;32m~/.conda/envs/mace/lib/python3.9/site-packages/pymatgen/analysis/phase_diagram.py:426\u001b[0m, in \u001b[0;36m<setcomp>\u001b[0;34m(.0)\u001b[0m\n\u001b[1;32m    424\u001b[0m \u001b[38;5;28;01mdef\u001b[39;00m \u001b[38;5;21m_compute\u001b[39m(\u001b[38;5;28mself\u001b[39m) \u001b[38;5;241m-\u001b[39m\u001b[38;5;241m>\u001b[39m \u001b[38;5;28mdict\u001b[39m[\u001b[38;5;28mstr\u001b[39m, Any]:\n\u001b[1;32m    425\u001b[0m     \u001b[38;5;28;01mif\u001b[39;00m \u001b[38;5;28mself\u001b[39m\u001b[38;5;241m.\u001b[39melements \u001b[38;5;241m==\u001b[39m ():\n\u001b[0;32m--> 426\u001b[0m         \u001b[38;5;28mself\u001b[39m\u001b[38;5;241m.\u001b[39melements \u001b[38;5;241m=\u001b[39m \u001b[38;5;28msorted\u001b[39m({els \u001b[38;5;28;01mfor\u001b[39;00m e \u001b[38;5;129;01min\u001b[39;00m \u001b[38;5;28mself\u001b[39m\u001b[38;5;241m.\u001b[39mentries \u001b[38;5;28;01mfor\u001b[39;00m els \u001b[38;5;129;01min\u001b[39;00m \u001b[43me\u001b[49m\u001b[38;5;241;43m.\u001b[39;49m\u001b[43melements\u001b[49m})\n\u001b[1;32m    428\u001b[0m     elements \u001b[38;5;241m=\u001b[39m \u001b[38;5;28mlist\u001b[39m(\u001b[38;5;28mself\u001b[39m\u001b[38;5;241m.\u001b[39melements)\n\u001b[1;32m    429\u001b[0m     dim \u001b[38;5;241m=\u001b[39m \u001b[38;5;28mlen\u001b[39m(elements)\n",
      "\u001b[0;31mAttributeError\u001b[0m: 'NoneType' object has no attribute 'elements'"
     ]
    }
   ],
   "source": [
    "mp_data, potcar_spec = get_chemsys_mpdata(structure)\n",
    "\n",
    "atoms = structure.to_ase_atoms()\n",
    "relaxer = MaceRelaxer()\n",
    "result = relaxer.relax(atoms, fmax=0.5)\n",
    "result['parameters'] = mp_data[0].parameters\n",
    "result['parameters']['potcar_spec'] = potcar_spec\n",
    "\n",
    "lattice = result['final_structure'].lattice.matrix\n",
    "species = [specie for specie in result['final_structure'].species]\n",
    "coords = [site.frac_coords for site in result['final_structure'].sites]\n",
    "structure = Structure(lattice=lattice, species=species, coords=coords)\n",
    "\n",
    "gga_entry = ComputedStructureEntry(structure=structure,\n",
    "                                   energy=result['final_energy'],\n",
    "                                   entry_id='llm_generation',\n",
    "                                   composition=structure.composition.remove_charges(),\n",
    "                                   parameters=result['parameters']\n",
    "                                   )\n",
    "\n",
    "compat = MaterialsProject2020Compatibility()\n",
    "gga_entry = compat.process_entry(gga_entry)\n",
    "ehull = get_ehull(mpr, gga_entry, mp_data, compat)"
   ]
  },
  {
   "cell_type": "code",
   "execution_count": null,
   "id": "2ea8b92e-b638-4c57-ae5c-c681ab6c6ba2",
   "metadata": {},
   "outputs": [],
   "source": []
  }
 ],
 "metadata": {
  "kernelspec": {
   "display_name": "mace",
   "language": "python",
   "name": "mace"
  },
  "language_info": {
   "codemirror_mode": {
    "name": "ipython",
    "version": 3
   },
   "file_extension": ".py",
   "mimetype": "text/x-python",
   "name": "python",
   "nbconvert_exporter": "python",
   "pygments_lexer": "ipython3",
   "version": "3.9.12"
  }
 },
 "nbformat": 4,
 "nbformat_minor": 5
}
