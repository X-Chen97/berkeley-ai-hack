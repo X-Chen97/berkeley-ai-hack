{
 "cells": [
  {
   "cell_type": "code",
   "execution_count": 1,
   "id": "b02f9afc-eda3-44b9-b6a8-ca9625c4434f",
   "metadata": {
    "tags": []
   },
   "outputs": [
    {
     "name": "stderr",
     "output_type": "stream",
     "text": [
      "2024-06-23 09:14:10.936010: E external/local_xla/xla/stream_executor/cuda/cuda_dnn.cc:9261] Unable to register cuDNN factory: Attempting to register factory for plugin cuDNN when one has already been registered\n",
      "2024-06-23 09:14:10.936052: E external/local_xla/xla/stream_executor/cuda/cuda_fft.cc:607] Unable to register cuFFT factory: Attempting to register factory for plugin cuFFT when one has already been registered\n",
      "2024-06-23 09:14:10.937690: E external/local_xla/xla/stream_executor/cuda/cuda_blas.cc:1515] Unable to register cuBLAS factory: Attempting to register factory for plugin cuBLAS when one has already been registered\n",
      "2024-06-23 09:14:10.947979: I tensorflow/core/platform/cpu_feature_guard.cc:182] This TensorFlow binary is optimized to use available CPU instructions in performance-critical operations.\n",
      "To enable the following instructions: AVX2 FMA, in other operations, rebuild TensorFlow with the appropriate compiler flags.\n",
      "2024-06-23 09:14:12.457353: W tensorflow/compiler/tf2tensorrt/utils/py_utils.cc:38] TF-TRT Warning: Could not find TensorRT\n"
     ]
    }
   ],
   "source": [
    "import os\n",
    "import sys\n",
    "import json\n",
    "import torch\n",
    "import pickle\n",
    "import logging\n",
    "import numpy as np\n",
    "import pandas as pd\n",
    "import pickle\n",
    "import warnings\n",
    "warnings.filterwarnings(action='ignore', message='Too many lattice symmetries was found')\n",
    "import random\n",
    "import time\n",
    "\n",
    "from pymatgen.ext.matproj import MPRester\n",
    "\n",
    "import pickle\n",
    "import logging\n",
    "\n",
    "# IOs\n",
    "from pymatgen.core.structure import Structure\n",
    "from pymatgen.io.ase import AseAtomsAdaptor\n",
    "from pymatgen.analysis.phase_diagram import PhaseDiagram, GrandPotentialPhaseDiagram\n",
    "from pymatgen.analysis.pourbaix_diagram import PourbaixDiagram, PourbaixEntry,MultiEntry\n",
    "from pymatgen.entries.compatibility import MaterialsProject2020Compatibility\n",
    "from pymatgen.core.periodic_table import Element, Species\n",
    "from pymatgen.core.composition import Composition\n",
    "from pymatgen.analysis.structure_analyzer import oxide_type\n",
    "from pymatgen.entries.computed_entries import ComputedEntry, ComputedStructureEntry\n",
    "from pymatgen.analysis.interface_reactions import InterfacialReactivity, GrandPotentialInterfacialReactivity\n",
    "from pymatgen.entries.entry_tools import EntrySet\n",
    "\n",
    "# To remove m3gnet error\n",
    "import tensorflow as tf\n",
    "import warnings\n",
    "tf.get_logger().setLevel(logging.ERROR)\n",
    "\n",
    "# House code\n",
    "sys.path.append('./')\n",
    "from relaxer import TrajectoryObserver, M3gnetRelaxer, ChgnetRelaxer, MaceRelaxer"
   ]
  },
  {
   "cell_type": "code",
   "execution_count": 2,
   "id": "f7d9aec8-296c-4c2a-ac83-a06dc8cfc35c",
   "metadata": {
    "tags": []
   },
   "outputs": [],
   "source": [
    "def read_json(fjson):\n",
    "    \n",
    "    with open(fjson) as f:\n",
    "        return json.load(f)\n",
    "\n",
    "\n",
    "def write_json(d, fjson):\n",
    "    \n",
    "    with open(fjson, 'w') as f:\n",
    "        json.dump(d, f)\n",
    "\n",
    "    return"
   ]
  },
  {
   "cell_type": "code",
   "execution_count": 2,
   "id": "d86631e9-7110-4b2f-a262-02f37522db77",
   "metadata": {
    "tags": []
   },
   "outputs": [
    {
     "name": "stderr",
     "output_type": "stream",
     "text": [
      "/global/homes/y/yychoi/.conda/envs/mace/lib/python3.9/site-packages/tqdm/auto.py:21: TqdmWarning: IProgress not found. Please update jupyter and ipywidgets. See https://ipywidgets.readthedocs.io/en/stable/user_install.html\n",
      "  from .autonotebook import tqdm as notebook_tqdm\n"
     ]
    },
    {
     "name": "stdout",
     "output_type": "stream",
     "text": [
      "No module named 'phonopy'\n",
      "No module named 'phonopy'\n"
     ]
    }
   ],
   "source": [
    "mpr = MPRester(api_key=\"dPcAQJZ6y1NZidGuvTerIPPFXHtsOb3E\")\n",
    "\n",
    "def has_common_element(list1, list2):\n",
    "    return not set(list1).isdisjoint(list2)\n",
    "\n",
    "def get_GGA_entry(vasp_data, entry_id, compat=MaterialsProject2020Compatibility()):\n",
    "    lattice = vasp_data['final_structure'].lattice.matrix\n",
    "    species = [specie for specie in vasp_data['final_structure'].species]\n",
    "    coords = [site.frac_coords for site in vasp_data['final_structure'].sites]\n",
    "    structure = Structure(lattice=lattice, species=species, coords=coords)\n",
    "    gga_entry = ComputedStructureEntry(structure=structure,\n",
    "                                       energy=vasp_data['final_energy'],\n",
    "                                       entry_id=entry_id,\n",
    "                                       composition=structure.composition.remove_charges(),\n",
    "                                       parameters={'run_type': vasp_data['run_type'],\n",
    "                                                   'potcar_symbols': vasp_data['potcar_symbols'],\n",
    "                                                   'hubbards': vasp_data['hubbards']\n",
    "                                                   }\n",
    "                                       )\n",
    "\n",
    "    if compat is not None:\n",
    "        gga_entry = compat.process_entry(gga_entry)\n",
    "    if gga_entry is None:\n",
    "        print('Entry is None')\n",
    "        exit()\n",
    "    \n",
    "    return gga_entry\n",
    "\n",
    "def get_ehull(mpr, vasp_entry, mp_entries, compatibility):\n",
    "    \n",
    "    mp_entries = compatibility.process_entries(mp_entries)\n",
    "\n",
    "    # phase diagram\n",
    "    PD = PhaseDiagram(mp_entries + [vasp_entry])\n",
    "    decomp_info = PD.get_decomp_and_e_above_hull(vasp_entry, allow_negative=True)\n",
    "    e_above_hull = decomp_info[1]\n",
    "\n",
    "    return e_above_hull"
   ]
  },
  {
   "cell_type": "code",
   "execution_count": 3,
   "id": "1afb5986-1d91-4c90-a555-743b88754551",
   "metadata": {
    "tags": []
   },
   "outputs": [],
   "source": [
    "def get_test_structure(mpid='mp-510462'):\n",
    "    \n",
    "    mp_data = mpr.get_entry_by_material_id(material_id=[test_id])\n",
    "    test_structure = mp_data[1].structure\n",
    "    \n",
    "    return test_structure\n",
    "\n",
    "\n",
    "def get_chemsys_mpdata(structure):\n",
    "    \n",
    "    U_els = {'Co': 3.32, 'Cr': 3.7, 'Fe': 5.3, 'Mn': 3.9,\n",
    "             'Mo': 4.38, 'Ni': 6.2, 'V': 4.2, 'W': 6.2}\n",
    "    \n",
    "    species = []\n",
    "    potcar_spec = []\n",
    "\n",
    "    for i in set(test_structure.species):\n",
    "        species.append(i.name)\n",
    "\n",
    "    chemical_space = '-'.join(species)\n",
    "    mp_data = mpr.get_entries_in_chemsys(chemical_space)\n",
    "    \n",
    "    hubbards = {}\n",
    "    if has_common_element(list(U_els.keys()), species):\n",
    "        for specie in species:\n",
    "            if specie in U_els.keys():\n",
    "                hubbards[specie] = U_els[specie]\n",
    "            else:\n",
    "                hubbards[specie] = 0\n",
    "\n",
    "    for d in mp_data:\n",
    "        for j in d.parameters['potcar_spec']:\n",
    "            if not j in potcar_spec:\n",
    "                potcar_spec.append(j)\n",
    "        if len(potcar_spec) == len(species):\n",
    "            break\n",
    "\n",
    "    return mp_data, potcar_spec, hubbards\n",
    "\n",
    "def get_relaxation_result(structure):\n",
    "        \n",
    "    mp_data, potcar_spec, hubbards = get_chemsys_mpdata(structure)\n",
    "    \n",
    "    atoms = structure.to_ase_atoms()\n",
    "    relaxer = MaceRelaxer()\n",
    "    result = relaxer.relax(atoms, fmax=0.5)\n",
    "    result['parameters'] = mp_data[0].parameters\n",
    "    result['parameters']['potcar_spec'] = potcar_spec\n",
    "    result['parameters']['hubbards'] = hubbards\n",
    "    \n",
    "    lattice = result['final_structure'].lattice.matrix\n",
    "    species = [specie for specie in result['final_structure'].species]\n",
    "    coords = [site.frac_coords for site in result['final_structure'].sites]\n",
    "    structure = Structure(lattice=lattice, species=species, coords=coords)\n",
    "\n",
    "    gga_entry = ComputedStructureEntry(structure=structure,\n",
    "                                       energy=result['final_energy'],\n",
    "                                       entry_id='llm_generation',\n",
    "                                       composition=structure.composition.remove_charges(),\n",
    "                                       parameters=result['parameters']\n",
    "                                       )\n",
    "\n",
    "    compat = MaterialsProject2020Compatibility()\n",
    "    gga_entry = compat.process_entry(gga_entry)\n",
    "    ehull = get_ehull(mpr, gga_entry, mp_data, compat)\n",
    "    \n",
    "    return result, ehull"
   ]
  },
  {
   "cell_type": "code",
   "execution_count": 4,
   "id": "90e42046-3025-4490-8722-cd02ce81dba4",
   "metadata": {
    "tags": []
   },
   "outputs": [],
   "source": [
    "test_structure = Structure.from_file('../test/test_POSCAR')"
   ]
  },
  {
   "cell_type": "code",
   "execution_count": 5,
   "id": "323a53c4-ac67-4ec3-8c00-774abccd42ba",
   "metadata": {
    "tags": []
   },
   "outputs": [
    {
     "name": "stderr",
     "output_type": "stream",
     "text": [
      "Retrieving ThermoDoc documents: 100%|██████████| 76/76 [00:00<00:00, 1250067.07it/s]\n",
      "/global/homes/y/yychoi/.conda/envs/mace/lib/python3.9/site-packages/torch/overrides.py:110: UserWarning: 'has_cuda' is deprecated, please use 'torch.backends.cuda.is_built()'\n",
      "  torch.has_cuda,\n",
      "/global/homes/y/yychoi/.conda/envs/mace/lib/python3.9/site-packages/torch/overrides.py:111: UserWarning: 'has_cudnn' is deprecated, please use 'torch.backends.cudnn.is_available()'\n",
      "  torch.has_cudnn,\n",
      "/global/homes/y/yychoi/.conda/envs/mace/lib/python3.9/site-packages/torch/overrides.py:117: UserWarning: 'has_mps' is deprecated, please use 'torch.backends.mps.is_built()'\n",
      "  torch.has_mps,\n",
      "/global/homes/y/yychoi/.conda/envs/mace/lib/python3.9/site-packages/torch/overrides.py:118: UserWarning: 'has_mkldnn' is deprecated, please use 'torch.backends.mkldnn.is_available()'\n",
      "  torch.has_mkldnn,\n"
     ]
    },
    {
     "name": "stdout",
     "output_type": "stream",
     "text": [
      "No dtype selected, switching to float64 to match model dtype.\n",
      "MACE will run on cpu\n",
      "      Step     Time          Energy         fmax\n",
      "*Force-consistent energies used in optimization.\n",
      "FIRE:    0 20:19:12      -45.464003*       0.0760\n"
     ]
    },
    {
     "name": "stderr",
     "output_type": "stream",
     "text": [
      "/global/homes/y/yychoi/.conda/envs/mace/lib/python3.9/site-packages/pymatgen/entries/compatibility.py:1027: UserWarning: Failed to guess oxidation states for Entry mp-505634-GGA (Cs2Te3). Assigning anion correction to only the most electronegative atom.\n",
      "  warnings.warn(\n",
      "/global/homes/y/yychoi/.conda/envs/mace/lib/python3.9/site-packages/pymatgen/entries/compatibility.py:1027: UserWarning: Failed to guess oxidation states for Entry mp-1228983-GGA (CsZn8). Assigning anion correction to only the most electronegative atom.\n",
      "  warnings.warn(\n",
      "/global/homes/y/yychoi/.conda/envs/mace/lib/python3.9/site-packages/pymatgen/entries/compatibility.py:1027: UserWarning: Failed to guess oxidation states for Entry mp-570071-GGA (Dy2Zn17). Assigning anion correction to only the most electronegative atom.\n",
      "  warnings.warn(\n",
      "/global/homes/y/yychoi/.conda/envs/mace/lib/python3.9/site-packages/pymatgen/entries/compatibility.py:1027: UserWarning: Failed to guess oxidation states for Entry mp-1193674-GGA (Dy6Zn23). Assigning anion correction to only the most electronegative atom.\n",
      "  warnings.warn(\n",
      "/global/homes/y/yychoi/.conda/envs/mace/lib/python3.9/site-packages/pymatgen/entries/compatibility.py:1027: UserWarning: Failed to guess oxidation states for Entry mp-1104161-GGA (Dy3Zn11). Assigning anion correction to only the most electronegative atom.\n",
      "  warnings.warn(\n",
      "/global/homes/y/yychoi/.conda/envs/mace/lib/python3.9/site-packages/pymatgen/entries/compatibility.py:1027: UserWarning: Failed to guess oxidation states for Entry mp-30626-GGA (DyZn3). Assigning anion correction to only the most electronegative atom.\n",
      "  warnings.warn(\n",
      "/global/homes/y/yychoi/.conda/envs/mace/lib/python3.9/site-packages/pymatgen/entries/compatibility.py:1027: UserWarning: Failed to guess oxidation states for Entry mp-1104551-GGA (DyZn12). Assigning anion correction to only the most electronegative atom.\n",
      "  warnings.warn(\n",
      "/global/homes/y/yychoi/.conda/envs/mace/lib/python3.9/site-packages/pymatgen/entries/compatibility.py:1027: UserWarning: Failed to guess oxidation states for Entry mp-2303-GGA (DyZn). Assigning anion correction to only the most electronegative atom.\n",
      "  warnings.warn(\n",
      "/global/homes/y/yychoi/.conda/envs/mace/lib/python3.9/site-packages/pymatgen/entries/compatibility.py:1027: UserWarning: Failed to guess oxidation states for Entry mp-1197303-GGA (Dy13Zn58). Assigning anion correction to only the most electronegative atom.\n",
      "  warnings.warn(\n",
      "/global/homes/y/yychoi/.conda/envs/mace/lib/python3.9/site-packages/pymatgen/entries/compatibility.py:1027: UserWarning: Failed to guess oxidation states for Entry mp-30964-GGA (Dy2Zn17). Assigning anion correction to only the most electronegative atom.\n",
      "  warnings.warn(\n",
      "/global/homes/y/yychoi/.conda/envs/mace/lib/python3.9/site-packages/pymatgen/entries/compatibility.py:1027: UserWarning: Failed to guess oxidation states for Entry mp-30627-GGA (DyZn5). Assigning anion correction to only the most electronegative atom.\n",
      "  warnings.warn(\n",
      "/global/homes/y/yychoi/.conda/envs/mace/lib/python3.9/site-packages/pymatgen/entries/compatibility.py:1027: UserWarning: Failed to guess oxidation states for Entry mp-570093-GGA (DyZn2). Assigning anion correction to only the most electronegative atom.\n",
      "  warnings.warn(\n",
      "/global/homes/y/yychoi/.conda/envs/mace/lib/python3.9/site-packages/pymatgen/entries/compatibility.py:1027: UserWarning: Failed to guess oxidation states for Entry mp-505682-GGA (Dy2Te). Assigning anion correction to only the most electronegative atom.\n",
      "  warnings.warn(\n"
     ]
    }
   ],
   "source": [
    "result, ehull = get_relaxation_result(test_structure)"
   ]
  },
  {
   "cell_type": "code",
   "execution_count": 8,
   "id": "2627d072-1fe4-4986-b151-5e2a7059a20c",
   "metadata": {
    "tags": []
   },
   "outputs": [
    {
     "data": {
      "text/plain": [
       "MSONAtoms(symbols='Cs2Dy2Zn2Te6', pbc=True, cell=[[4.430704, 0.0, 0.0], [-2.215352, 8.689916, 0.0], [0.0, 0.0, 11.747494]], constraint=FixAtoms(indices=[]), calculator=MACECalculator(...))"
      ]
     },
     "execution_count": 8,
     "metadata": {},
     "output_type": "execute_result"
    }
   ],
   "source": [
    "result['trajectory'].atoms_trajectory[1]"
   ]
  },
  {
   "cell_type": "code",
   "execution_count": 9,
   "id": "ba81d600-76e1-4da9-abc9-de60bb4aec2d",
   "metadata": {
    "tags": []
   },
   "outputs": [],
   "source": [
    "aaa = AseAtomsAdaptor()"
   ]
  },
  {
   "cell_type": "code",
   "execution_count": 11,
   "id": "40a96eff-8d1a-4df7-bf4e-ea5ce28bb847",
   "metadata": {
    "tags": []
   },
   "outputs": [
    {
     "data": {
      "text/plain": [
       "Structure Summary\n",
       "Lattice\n",
       "    abc : 4.430704 8.967855070804836 11.747494\n",
       " angles : 90.0 90.0 104.30198229452905\n",
       " volume : 452.3072484465264\n",
       "      A : 4.430704 0.0 0.0\n",
       "      B : -2.215352 8.689916 0.0\n",
       "      C : 0.0 0.0 11.747494\n",
       "    pbc : True True True\n",
       "PeriodicSite: Cs (2.215, 4.279, 8.811) [0.7462, 0.4924, 0.75]\n",
       "PeriodicSite: Cs (0.0, 4.411, 2.937) [0.2538, 0.5076, 0.25]\n",
       "PeriodicSite: Dy (0.0, 0.0, 0.0) [0.0, 0.0, 0.0]\n",
       "PeriodicSite: Dy (0.0, 0.0, 5.874) [0.0, 0.0, 0.5]\n",
       "PeriodicSite: Zn (0.0, 8.03, 8.811) [0.462, 0.924, 0.75]\n",
       "PeriodicSite: Zn (2.215, 0.66, 2.937) [0.538, 0.07595, 0.25]\n",
       "PeriodicSite: Te (0.0, 6.626, 11.07) [0.3813, 0.7625, 0.9423]\n",
       "PeriodicSite: Te (2.215, 2.064, 0.6781) [0.6187, 0.2375, 0.05772]\n",
       "PeriodicSite: Te (2.215, 2.064, 5.196) [0.6187, 0.2375, 0.4423]\n",
       "PeriodicSite: Te (0.0, 6.626, 6.552) [0.3813, 0.7625, 0.5577]\n",
       "PeriodicSite: Te (0.0, 1.01, 8.811) [0.0581, 0.1162, 0.75]\n",
       "PeriodicSite: Te (2.215, 7.68, 2.937) [0.9419, 0.8838, 0.25]"
      ]
     },
     "execution_count": 11,
     "metadata": {},
     "output_type": "execute_result"
    }
   ],
   "source": [
    "aaa = AseAtomsAdaptor()\n",
    "aaa.get_structure(result['trajectory'].atoms_trajectory[1])"
   ]
  },
  {
   "cell_type": "code",
   "execution_count": 118,
   "id": "950e75fe-0fc4-4fa8-b43b-9032776af122",
   "metadata": {
    "tags": []
   },
   "outputs": [
    {
     "name": "stderr",
     "output_type": "stream",
     "text": [
      "Retrieving ThermoDoc documents: 100%|██████████| 76/76 [00:00<00:00, 1207451.15it/s]\n"
     ]
    },
    {
     "name": "stdout",
     "output_type": "stream",
     "text": [
      "No dtype selected, switching to float64 to match model dtype.\n",
      "MACE will run on cpu\n",
      "      Step     Time          Energy         fmax\n",
      "*Force-consistent energies used in optimization.\n",
      "FIRE:    0 18:35:45      -45.464003*       0.0760\n"
     ]
    },
    {
     "data": {
      "text/plain": [
       "({'final_structure': Structure Summary\n",
       "  Lattice\n",
       "      abc : 4.430704 8.967855070804836 11.747494\n",
       "   angles : 90.0 90.0 104.30198229452905\n",
       "   volume : 452.3072484465264\n",
       "        A : 4.430704 0.0 0.0\n",
       "        B : -2.215352 8.689916 0.0\n",
       "        C : 0.0 0.0 11.747494\n",
       "      pbc : True True True\n",
       "  PeriodicSite: Cs (2.215, 4.279, 8.811) [0.7462, 0.4924, 0.75]\n",
       "  PeriodicSite: Cs (0.0, 4.411, 2.937) [0.2538, 0.5076, 0.25]\n",
       "  PeriodicSite: Dy (0.0, 0.0, 0.0) [0.0, 0.0, 0.0]\n",
       "  PeriodicSite: Dy (0.0, 0.0, 5.874) [0.0, 0.0, 0.5]\n",
       "  PeriodicSite: Zn (0.0, 8.03, 8.811) [0.462, 0.924, 0.75]\n",
       "  PeriodicSite: Zn (2.215, 0.66, 2.937) [0.538, 0.07595, 0.25]\n",
       "  PeriodicSite: Te (0.0, 6.626, 11.07) [0.3813, 0.7625, 0.9423]\n",
       "  PeriodicSite: Te (2.215, 2.064, 0.6781) [0.6187, 0.2375, 0.05772]\n",
       "  PeriodicSite: Te (2.215, 2.064, 5.196) [0.6187, 0.2375, 0.4423]\n",
       "  PeriodicSite: Te (0.0, 6.626, 6.552) [0.3813, 0.7625, 0.5577]\n",
       "  PeriodicSite: Te (0.0, 1.01, 8.811) [0.0581, 0.1162, 0.75]\n",
       "  PeriodicSite: Te (2.215, 7.68, 2.937) [0.9419, 0.8838, 0.25],\n",
       "  'final_energy': -45.46400260278015,\n",
       "  'trajectory': <relaxer.TrajectoryObserver at 0x7f34a7e23d30>,\n",
       "  'parameters': {'potcar_spec': [{'titel': 'PAW_PBE Cs_sv 08Apr2002',\n",
       "     'hash': '096b53a7d80cc0086976bcda50d536e5'},\n",
       "    {'titel': 'PAW_PBE Zn 06Sep2000',\n",
       "     'hash': 'e35ee27f8483a63bb68dbc236a343af3'},\n",
       "    {'titel': 'PAW_PBE Dy_3 06Sep2000',\n",
       "     'hash': 'd4a05220ab0a2d4c03a76872ea724a1e'},\n",
       "    {'titel': 'PAW_PBE Te 08Apr2002',\n",
       "     'hash': '72719856e22fb1d3032df6f96d98a0f2'}],\n",
       "   'is_hubbard': False,\n",
       "   'hubbards': {},\n",
       "   'run_type': 'GGA'}},\n",
       " 0.007696047268324513)"
      ]
     },
     "execution_count": 118,
     "metadata": {},
     "output_type": "execute_result"
    }
   ],
   "source": [
    "get_relaxation_result(test_structure)"
   ]
  },
  {
   "cell_type": "code",
   "execution_count": 98,
   "id": "4eabb4d4-25c2-4b88-b3a6-0083bb859107",
   "metadata": {
    "tags": []
   },
   "outputs": [
    {
     "name": "stderr",
     "output_type": "stream",
     "text": [
      "Retrieving ThermoDoc documents: 100%|██████████| 76/76 [00:00<00:00, 1024974.61it/s]\n"
     ]
    }
   ],
   "source": [
    "mp_data, potcar_spec= get_chemsys_mpdata(test_structure)"
   ]
  },
  {
   "cell_type": "code",
   "execution_count": 100,
   "id": "b7d0e68f-98bf-440c-af4c-350b8470cd03",
   "metadata": {
    "tags": []
   },
   "outputs": [],
   "source": [
    "test_atoms = test_structure.to_ase_atoms()"
   ]
  },
  {
   "cell_type": "code",
   "execution_count": 101,
   "id": "2c902a06-8ed5-4c95-bf66-2b2f1d7b6303",
   "metadata": {
    "tags": []
   },
   "outputs": [
    {
     "name": "stdout",
     "output_type": "stream",
     "text": [
      "No dtype selected, switching to float64 to match model dtype.\n",
      "MACE will run on cpu\n"
     ]
    }
   ],
   "source": [
    "relaxer = MaceRelaxer()"
   ]
  },
  {
   "cell_type": "code",
   "execution_count": 102,
   "id": "55ddec39-4b62-4ac9-b1b0-c5d627b5c900",
   "metadata": {
    "tags": []
   },
   "outputs": [
    {
     "name": "stdout",
     "output_type": "stream",
     "text": [
      "      Step     Time          Energy         fmax\n",
      "*Force-consistent energies used in optimization.\n",
      "FIRE:    0 18:30:12      -45.464003*       0.0760\n",
      "FIRE:    1 18:30:12      -45.464246*       0.0725\n",
      "FIRE:    2 18:30:12      -45.464685*       0.0656\n",
      "FIRE:    3 18:30:13      -45.465237*       0.0557\n",
      "FIRE:    4 18:30:13      -45.465796*       0.0433\n"
     ]
    }
   ],
   "source": [
    "result = relaxer.relax(test_atoms, fmax=0.05)"
   ]
  },
  {
   "cell_type": "code",
   "execution_count": 103,
   "id": "a4d7988e-9ef1-4d55-83d7-d674e4598f34",
   "metadata": {
    "tags": []
   },
   "outputs": [
    {
     "data": {
      "text/plain": [
       "dict_keys(['final_structure', 'final_energy', 'trajectory'])"
      ]
     },
     "execution_count": 103,
     "metadata": {},
     "output_type": "execute_result"
    }
   ],
   "source": [
    "result"
   ]
  },
  {
   "cell_type": "code",
   "execution_count": 104,
   "id": "59f4937f-3e49-4cf6-8a67-341dbe1733eb",
   "metadata": {
    "tags": []
   },
   "outputs": [],
   "source": [
    "result['parameters'] = mp_data[1].parameters"
   ]
  },
  {
   "cell_type": "code",
   "execution_count": 107,
   "id": "69e5ad3b-4a6a-410e-930b-fcfb87004236",
   "metadata": {
    "tags": []
   },
   "outputs": [
    {
     "data": {
      "text/plain": [
       "{'potcar_spec': [{'titel': 'PAW_PBE Dy_3 06Sep2000',\n",
       "   'hash': 'd4a05220ab0a2d4c03a76872ea724a1e'}],\n",
       " 'is_hubbard': False,\n",
       " 'hubbards': {},\n",
       " 'run_type': 'GGA'}"
      ]
     },
     "execution_count": 107,
     "metadata": {},
     "output_type": "execute_result"
    }
   ],
   "source": [
    "result['parameters']"
   ]
  },
  {
   "cell_type": "code",
   "execution_count": 33,
   "id": "09f0be9d-4365-4a9f-bc0a-bf6fc3c5d46b",
   "metadata": {
    "tags": []
   },
   "outputs": [],
   "source": [
    "lattice = result['final_structure'].lattice.matrix\n",
    "species = [specie for specie in result['final_structure'].species]\n",
    "coords = [site.frac_coords for site in result['final_structure'].sites]\n",
    "structure = Structure(lattice=lattice, species=species, coords=coords)\n",
    "\n",
    "gga_entry = ComputedStructureEntry(structure=structure,\n",
    "                                   energy=result['final_energy'],\n",
    "                                   entry_id='tester-12',\n",
    "                                   composition=structure.composition.remove_charges(),\n",
    "                                   parameters=result['parameters']\n",
    "                                   )\n",
    "\n",
    "# compat = MaterialsProject2020Compatibility()\n",
    "\n",
    "# if compat is not None:\n",
    "#     gga_entry = compat.process_entry(gga_entry)"
   ]
  },
  {
   "cell_type": "code",
   "execution_count": 34,
   "id": "c8bd074d-3845-4ce1-9eb7-6f669a348768",
   "metadata": {
    "tags": []
   },
   "outputs": [
    {
     "data": {
      "text/plain": [
       "tester-12 ComputedStructureEntry - Cs2 Dy2 Zn2 Te6 (CsDyZnTe3)\n",
       "Energy (Uncorrected)     = -45.4658  eV (-3.7888  eV/atom)\n",
       "Correction               = 0.0000    eV (0.0000   eV/atom)\n",
       "Energy (Final)           = -45.4658  eV (-3.7888  eV/atom)\n",
       "Energy Adjustments:\n",
       "  None\n",
       "Parameters:\n",
       "  potcar_spec            = [{'titel': 'PAW_PBE Cs_sv 08Apr2002', 'hash': '096b53a7d80cc0086976bcda50d536e5'}, {'titel': 'PAW_PBE Dy_3 06Sep2000', 'hash': 'd4a05220ab0a2d4c03a76872ea724a1e'}, {'titel': 'PAW_PBE Zn 06Sep2000', 'hash': 'e35ee27f8483a63bb68dbc236a343af3'}, {'titel': 'PAW_PBE Te 08Apr2002', 'hash': '72719856e22fb1d3032df6f96d98a0f2'}]\n",
       "  is_hubbard             = False\n",
       "  hubbards               = {}\n",
       "  run_type               = GGA\n",
       "Data:"
      ]
     },
     "execution_count": 34,
     "metadata": {},
     "output_type": "execute_result"
    }
   ],
   "source": [
    "gga_entry"
   ]
  },
  {
   "cell_type": "code",
   "execution_count": 35,
   "id": "61c69de7-27ad-47d6-8a2a-667003b8c12d",
   "metadata": {
    "tags": []
   },
   "outputs": [],
   "source": [
    "gga_entry = compat.process_entry(gga_entry)"
   ]
  },
  {
   "cell_type": "code",
   "execution_count": 54,
   "id": "6e4ec436-7b50-4621-9720-d081abdd871f",
   "metadata": {
    "tags": []
   },
   "outputs": [
    {
     "name": "stderr",
     "output_type": "stream",
     "text": [
      "Retrieving ThermoDoc documents: 100%|██████████| 76/76 [00:00<00:00, 684049.58it/s]\n",
      "/global/homes/y/yychoi/.conda/envs/mace/lib/python3.9/site-packages/pymatgen/entries/compatibility.py:1027: UserWarning: Failed to guess oxidation states for Entry mp-570071-GGA (Dy2Zn17). Assigning anion correction to only the most electronegative atom.\n",
      "  warnings.warn(\n",
      "/global/homes/y/yychoi/.conda/envs/mace/lib/python3.9/site-packages/pymatgen/entries/compatibility.py:1027: UserWarning: Failed to guess oxidation states for Entry mp-1193674-GGA (Dy6Zn23). Assigning anion correction to only the most electronegative atom.\n",
      "  warnings.warn(\n",
      "/global/homes/y/yychoi/.conda/envs/mace/lib/python3.9/site-packages/pymatgen/entries/compatibility.py:1027: UserWarning: Failed to guess oxidation states for Entry mp-1104161-GGA (Dy3Zn11). Assigning anion correction to only the most electronegative atom.\n",
      "  warnings.warn(\n",
      "/global/homes/y/yychoi/.conda/envs/mace/lib/python3.9/site-packages/pymatgen/entries/compatibility.py:1027: UserWarning: Failed to guess oxidation states for Entry mp-30626-GGA (DyZn3). Assigning anion correction to only the most electronegative atom.\n",
      "  warnings.warn(\n",
      "/global/homes/y/yychoi/.conda/envs/mace/lib/python3.9/site-packages/pymatgen/entries/compatibility.py:1027: UserWarning: Failed to guess oxidation states for Entry mp-1104551-GGA (DyZn12). Assigning anion correction to only the most electronegative atom.\n",
      "  warnings.warn(\n",
      "/global/homes/y/yychoi/.conda/envs/mace/lib/python3.9/site-packages/pymatgen/entries/compatibility.py:1027: UserWarning: Failed to guess oxidation states for Entry mp-2303-GGA (DyZn). Assigning anion correction to only the most electronegative atom.\n",
      "  warnings.warn(\n",
      "/global/homes/y/yychoi/.conda/envs/mace/lib/python3.9/site-packages/pymatgen/entries/compatibility.py:1027: UserWarning: Failed to guess oxidation states for Entry mp-1197303-GGA (Dy13Zn58). Assigning anion correction to only the most electronegative atom.\n",
      "  warnings.warn(\n",
      "/global/homes/y/yychoi/.conda/envs/mace/lib/python3.9/site-packages/pymatgen/entries/compatibility.py:1027: UserWarning: Failed to guess oxidation states for Entry mp-30964-GGA (Dy2Zn17). Assigning anion correction to only the most electronegative atom.\n",
      "  warnings.warn(\n",
      "/global/homes/y/yychoi/.conda/envs/mace/lib/python3.9/site-packages/pymatgen/entries/compatibility.py:1027: UserWarning: Failed to guess oxidation states for Entry mp-30627-GGA (DyZn5). Assigning anion correction to only the most electronegative atom.\n",
      "  warnings.warn(\n",
      "/global/homes/y/yychoi/.conda/envs/mace/lib/python3.9/site-packages/pymatgen/entries/compatibility.py:1027: UserWarning: Failed to guess oxidation states for Entry mp-570093-GGA (DyZn2). Assigning anion correction to only the most electronegative atom.\n",
      "  warnings.warn(\n",
      "/global/homes/y/yychoi/.conda/envs/mace/lib/python3.9/site-packages/pymatgen/entries/compatibility.py:1027: UserWarning: Failed to guess oxidation states for Entry mp-505634-GGA (Cs2Te3). Assigning anion correction to only the most electronegative atom.\n",
      "  warnings.warn(\n",
      "/global/homes/y/yychoi/.conda/envs/mace/lib/python3.9/site-packages/pymatgen/entries/compatibility.py:1027: UserWarning: Failed to guess oxidation states for Entry mp-1228983-GGA (CsZn8). Assigning anion correction to only the most electronegative atom.\n",
      "  warnings.warn(\n",
      "/global/homes/y/yychoi/.conda/envs/mace/lib/python3.9/site-packages/pymatgen/entries/compatibility.py:1027: UserWarning: Failed to guess oxidation states for Entry mp-505682-GGA (Dy2Te). Assigning anion correction to only the most electronegative atom.\n",
      "  warnings.warn(\n"
     ]
    },
    {
     "data": {
      "text/plain": [
       "0.007546575649457932"
      ]
     },
     "execution_count": 54,
     "metadata": {},
     "output_type": "execute_result"
    }
   ],
   "source": [
    "ehull(mpr, gga_entry, MaterialsProject2020Compatibility())"
   ]
  }
 ],
 "metadata": {
  "kernelspec": {
   "display_name": "mace",
   "language": "python",
   "name": "mace"
  },
  "language_info": {
   "codemirror_mode": {
    "name": "ipython",
    "version": 3
   },
   "file_extension": ".py",
   "mimetype": "text/x-python",
   "name": "python",
   "nbconvert_exporter": "python",
   "pygments_lexer": "ipython3",
   "version": "3.9.12"
  }
 },
 "nbformat": 4,
 "nbformat_minor": 5
}
