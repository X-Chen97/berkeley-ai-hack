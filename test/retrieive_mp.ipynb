{
 "cells": [
  {
   "cell_type": "code",
   "execution_count": 2,
   "id": "raised-belfast",
   "metadata": {
    "tags": []
   },
   "outputs": [],
   "source": [
    "from mp_api.client import MPRester\n",
    "from pymatgen.core import Structure, Lattice, Element, Composition\n",
    "from pymatgen.io.vasp.sets import MPRelaxSet\n",
    "from pymatgen.analysis.structure_matcher import StructureMatcher as SM\n",
    "from pymatgen.analysis.structure_matcher import FrameworkComparator\n",
    "\n",
    "import os\n",
    "import re\n",
    "import sys\n",
    "import json\n",
    "import shutil\n",
    "import numpy as np\n",
    "from time import time\n",
    "from glob import glob\n",
    "from pprint import pprint\n",
    "from copy import deepcopy\n",
    "from monty.serialization import dumpfn,loadfn"
   ]
  },
  {
   "cell_type": "code",
   "execution_count": 5,
   "id": "70003d4c-2e23-4fc0-ba6f-bef538b93501",
   "metadata": {
    "tags": []
   },
   "outputs": [],
   "source": [
    "mpr = MPRester(api_key=\"dPcAQJZ6y1NZidGuvTerIPPFXHtsOb3E\")"
   ]
  },
  {
   "cell_type": "code",
   "execution_count": 3,
   "id": "permanent-spiritual",
   "metadata": {
    "tags": []
   },
   "outputs": [],
   "source": [
    "def read_json(fjson):\n",
    "    \n",
    "    with open(fjson) as f:\n",
    "        return json.load(f)\n",
    "\n",
    "\n",
    "def write_json(d, fjson):\n",
    "    \n",
    "    with open(fjson, 'w') as f:\n",
    "        json.dump(d, f)\n",
    "    return\n",
    "\n",
    "\n",
    "def get_inputs():\n",
    "\n",
    "    for mpid in mpid_directory:\n",
    "\n",
    "        struc = Structure.from_file(os.path.join(dope, 'POSCAR'))\n",
    "        relax_set = MPRelaxSet(structure=struc)\n",
    "        relax_set.write_input(output_dir=dope, potcar_spec=False)\n",
    "        job_path = os.path.join(dope, 'job.sh')\n",
    "        shutil.copyfile(sample_job, job_path)\n",
    "\n",
    "    return"
   ]
  },
  {
   "cell_type": "code",
   "execution_count": 8,
   "id": "departmental-bloom",
   "metadata": {
    "tags": []
   },
   "outputs": [],
   "source": [
    "AnionLst=['P','S','Si','B','O'];\n",
    "NotInclude=['H','Li','Be','C','N','F','Cl','Br','I','At','Ts','K','Rb','Cs','Fr','Ra',\\\n",
    "            'Se','Te','Po','Lv','As','Bi','Mc','Pb','Fl','Nh','Tl',\\\n",
    "            'Tc','Ru','Rh','Pd','Ag','Cd','Re','Os','Pt','Au','Hg',\\\n",
    "            'Rf','Db','Sg','Bh','Hs','Mt','Ds','Rg','Cn',\\\n",
    "            'Pr','Nd','Pm','Sm','Eu','Gd','Tb','Dy','Ho','Er','Tm','Yb','Lu',\\\n",
    "            'Ac','Th','Pa','U','Np','Pu','Am','Cm','Bk','Cf','Es','Fm','Md','No','Lr'];\n",
    "NotInclude = list(set(NotInclude) - set(['Ag', 'Au', 'Hg', 'Os', 'Pd', 'Pt', 'Re', 'Rh', 'Ru', 'Tc']))\n",
    "TmInclude = ['Ti', 'V', 'Cr', 'Mn', 'Fe', 'Co', 'Ni', 'Cu',\n",
    "             'Zr', 'Nb', 'Mo', 'Tc', 'Ru', 'Rh', 'Pd', 'Ag',\n",
    "             'Hf', 'Ta', 'W', 'Re', 'Os', 'Ir', 'Pt', 'Au', 'Hg']"
   ]
  },
  {
   "cell_type": "code",
   "execution_count": 10,
   "id": "italic-input",
   "metadata": {},
   "outputs": [
    {
     "data": {
      "application/vnd.jupyter.widget-view+json": {
       "model_id": "6d5d75dfe63343449db2fb894964b170",
       "version_major": 2,
       "version_minor": 0
      },
      "text/plain": [
       "Retrieving ThermoDoc documents:   0%|          | 0/23407 [00:00<?, ?it/s]"
      ]
     },
     "metadata": {},
     "output_type": "display_data"
    },
    {
     "data": {
      "application/vnd.jupyter.widget-view+json": {
       "model_id": "7aac77d4604041edb944fcada9f251b3",
       "version_major": 2,
       "version_minor": 0
      },
      "text/plain": [
       "Retrieving ThermoDoc documents:   0%|          | 0/5705 [00:00<?, ?it/s]"
      ]
     },
     "metadata": {},
     "output_type": "display_data"
    },
    {
     "data": {
      "application/vnd.jupyter.widget-view+json": {
       "model_id": "2963681a7ab94a5ab1a7b2b6ff303589",
       "version_major": 2,
       "version_minor": 0
      },
      "text/plain": [
       "Retrieving ThermoDoc documents:   0%|          | 0/1000 [00:00<?, ?it/s]"
      ]
     },
     "metadata": {},
     "output_type": "display_data"
    },
    {
     "data": {
      "application/vnd.jupyter.widget-view+json": {
       "model_id": "22f59ef4ad8b46e6b335e43a45f86245",
       "version_major": 2,
       "version_minor": 0
      },
      "text/plain": [
       "Retrieving ThermoDoc documents:   0%|          | 0/35 [00:00<?, ?it/s]"
      ]
     },
     "metadata": {},
     "output_type": "display_data"
    }
   ],
   "source": [
    "#TODO: Need to check ICSD tag (or experimentally observed) from materials project data.\n",
    "\n",
    "EntryDict={};\n",
    "for NEle in range(4,8):\n",
    "    with MPRester('dPcAQJZ6y1NZidGuvTerIPPFXHtsOb3E') as mpr: \n",
    "        EntryDict[NEle]=mpr.get_entries(chemsys_formula_mpids=\"Li-O-*\",\n",
    "                                        additional_criteria={\"num_elements\":NEle},\n",
    "                                        inc_structure=None);"
   ]
  },
  {
   "cell_type": "code",
   "execution_count": 43,
   "id": "constitutional-bloom",
   "metadata": {},
   "outputs": [],
   "source": [
    "# write_json(EntryDict, '/Users/yun/Berkeley/Codes/berkeley-ai-hack/data/raw_data.json')"
   ]
  },
  {
   "cell_type": "code",
   "execution_count": 58,
   "id": "polish-evaluation",
   "metadata": {},
   "outputs": [
    {
     "name": "stdout",
     "output_type": "stream",
     "text": [
      "23408 Entries found for NEle=4\n",
      "2330 materials found for NEle=4\n",
      "5705 Entries found for NEle=5\n",
      "665 materials found for NEle=5\n",
      "1000 Entries found for NEle=6\n",
      "94 materials found for NEle=6\n",
      "35 Entries found for NEle=7\n",
      "10 materials found for NEle=7\n",
      "3099 Li Oxide Compounds found\n"
     ]
    }
   ],
   "source": [
    "###1-2. Exclude compounds that contain elements in NotInclude\n",
    "NTotal=0;\n",
    "StrLst=[]\n",
    "for NEle, Entries in EntryDict.items():\n",
    "    print('{} Entries found for NEle={}'.format(len(Entries), NEle));\n",
    "    ValidMaterNum=0\n",
    "    for EntryInd, Entry in enumerate(Entries):\n",
    "        Comp=Entry.composition\n",
    "        EleLst=list(Comp.get_el_amt_dict().keys())\n",
    "        IsValid=True\n",
    "        for Ele in EleLst:\n",
    "            if Ele in TmInclude:\n",
    "                IsValid=False\n",
    "                break\n",
    "        if not IsValid: \n",
    "            continue\n",
    "        new_dict = {}\n",
    "        new_dict['structure'] = Entry.structure.as_dict()\n",
    "        new_dict['mpid'] = Entry.entry_id\n",
    "        StrLst.append(new_dict); # Structure method under computedstructureentry\n",
    "        ValidMaterNum+=1\n",
    "    print('{} materials found for NEle={}'.format(ValidMaterNum,NEle))\n",
    "    NTotal+=ValidMaterNum\n",
    "print('{} Li Oxide Compounds found'.format(NTotal))"
   ]
  },
  {
   "cell_type": "code",
   "execution_count": 66,
   "id": "stone-member",
   "metadata": {},
   "outputs": [],
   "source": [
    "write_json(StrLst, '/Users/yun/Berkeley/Codes/berkeley-ai-hack/data/raw_data_Li-O.json')"
   ]
  },
  {
   "cell_type": "code",
   "execution_count": 9,
   "id": "aced6180-6d59-43bb-b7dd-15b6b62e4d05",
   "metadata": {
    "tags": []
   },
   "outputs": [],
   "source": [
    "StrLst = read_json('../data/raw_data_Li-O.json')"
   ]
  },
  {
   "cell_type": "code",
   "execution_count": 21,
   "id": "abroad-chapel",
   "metadata": {
    "scrolled": true,
    "tags": []
   },
   "outputs": [
    {
     "name": "stderr",
     "output_type": "stream",
     "text": [
      "/tmp/ipykernel_821781/3735231862.py:18: DeprecationWarning: get_data_by_id is deprecated and will be removed soon. Please use the search method instead.\n",
      "  robocrys = mpr.materials.robocrys.get_data_by_id('-'.join(d['mpid'].split('-')[:-1]))\n",
      "Retrieving RobocrystallogapherDoc documents: 100%|██████████| 1/1 [00:00<00:00, 19878.22it/s]\n",
      "Retrieving RobocrystallogapherDoc documents: 100%|██████████| 1/1 [00:00<00:00, 18808.54it/s]\n",
      "Retrieving RobocrystallogapherDoc documents: 100%|██████████| 1/1 [00:00<00:00, 27594.11it/s]\n",
      "Retrieving RobocrystallogapherDoc documents: 100%|██████████| 1/1 [00:00<00:00, 21399.51it/s]\n",
      "Retrieving RobocrystallogapherDoc documents: 100%|██████████| 1/1 [00:00<00:00, 22429.43it/s]\n",
      "Retrieving RobocrystallogapherDoc documents: 100%|██████████| 1/1 [00:00<00:00, 21399.51it/s]\n",
      "Retrieving RobocrystallogapherDoc documents: 100%|██████████| 1/1 [00:00<00:00, 21509.25it/s]\n",
      "Retrieving RobocrystallogapherDoc documents: 100%|██████████| 1/1 [00:00<00:00, 22310.13it/s]\n",
      "Retrieving RobocrystallogapherDoc documents: 100%|██████████| 1/1 [00:00<00:00, 23831.27it/s]\n",
      "Retrieving RobocrystallogapherDoc documents: 100%|██████████| 1/1 [00:00<00:00, 26715.31it/s]\n",
      "Retrieving RobocrystallogapherDoc documents: 100%|██████████| 1/1 [00:00<00:00, 20763.88it/s]\n",
      "Retrieving RobocrystallogapherDoc documents: 100%|██████████| 1/1 [00:00<00:00, 27235.74it/s]\n",
      "Retrieving RobocrystallogapherDoc documents: 100%|██████████| 1/1 [00:00<00:00, 20763.88it/s]\n",
      "Retrieving RobocrystallogapherDoc documents: 100%|██████████| 1/1 [00:00<00:00, 19152.07it/s]\n",
      "Retrieving RobocrystallogapherDoc documents: 100%|██████████| 1/1 [00:00<00:00, 16844.59it/s]\n",
      "Retrieving RobocrystallogapherDoc documents: 100%|██████████| 1/1 [00:00<00:00, 21620.12it/s]\n",
      "Retrieving RobocrystallogapherDoc documents: 100%|██████████| 1/1 [00:00<00:00, 26051.58it/s]\n",
      "Retrieving RobocrystallogapherDoc documents: 100%|██████████| 1/1 [00:00<00:00, 26379.27it/s]\n",
      "Retrieving RobocrystallogapherDoc documents: 100%|██████████| 1/1 [00:00<00:00, 20867.18it/s]\n",
      "Retrieving RobocrystallogapherDoc documents: 100%|██████████| 1/1 [00:00<00:00, 15420.24it/s]\n",
      "Retrieving RobocrystallogapherDoc documents: 100%|██████████| 1/1 [00:00<00:00, 24244.53it/s]\n",
      "Retrieving RobocrystallogapherDoc documents: 100%|██████████| 1/1 [00:00<00:00, 26379.27it/s]\n",
      "Retrieving RobocrystallogapherDoc documents: 100%|██████████| 1/1 [00:00<00:00, 27235.74it/s]\n",
      "Retrieving RobocrystallogapherDoc documents: 100%|██████████| 1/1 [00:00<00:00, 24385.49it/s]\n",
      "Retrieving RobocrystallogapherDoc documents: 100%|██████████| 1/1 [00:00<00:00, 16513.01it/s]\n",
      "Retrieving RobocrystallogapherDoc documents: 100%|██████████| 1/1 [00:00<00:00, 22550.02it/s]\n",
      "Retrieving RobocrystallogapherDoc documents: 100%|██████████| 1/1 [00:00<00:00, 20068.44it/s]\n",
      "Retrieving RobocrystallogapherDoc documents: 100%|██████████| 1/1 [00:00<00:00, 22795.13it/s]\n",
      "Retrieving RobocrystallogapherDoc documents: 100%|██████████| 1/1 [00:00<00:00, 18641.35it/s]\n",
      "Retrieving RobocrystallogapherDoc documents: 100%|██████████| 1/1 [00:00<00:00, 16844.59it/s]\n",
      "Retrieving RobocrystallogapherDoc documents: 100%|██████████| 1/1 [00:00<00:00, 26715.31it/s]\n",
      "Retrieving RobocrystallogapherDoc documents: 100%|██████████| 1/1 [00:00<00:00, 19599.55it/s]\n",
      "Retrieving RobocrystallogapherDoc documents: 100%|██████████| 1/1 [00:00<00:00, 18396.07it/s]\n",
      "Retrieving RobocrystallogapherDoc documents: 100%|██████████| 1/1 [00:00<00:00, 22429.43it/s]\n",
      "Retrieving RobocrystallogapherDoc documents: 100%|██████████| 1/1 [00:00<00:00, 23563.51it/s]\n",
      "Retrieving RobocrystallogapherDoc documents: 100%|██████████| 1/1 [00:00<00:00, 26715.31it/s]\n",
      "Retrieving RobocrystallogapherDoc documents: 100%|██████████| 1/1 [00:00<00:00, 25115.59it/s]\n",
      "Retrieving RobocrystallogapherDoc documents: 100%|██████████| 1/1 [00:00<00:00, 26214.40it/s]\n",
      "Retrieving RobocrystallogapherDoc documents: 100%|██████████| 1/1 [00:00<00:00, 22671.91it/s]\n",
      "Retrieving RobocrystallogapherDoc documents: 100%|██████████| 1/1 [00:00<00:00, 18808.54it/s]\n",
      "Retrieving RobocrystallogapherDoc documents: 100%|██████████| 1/1 [00:00<00:00, 22075.28it/s]\n",
      "Retrieving RobocrystallogapherDoc documents: 100%|██████████| 1/1 [00:00<00:00, 16644.06it/s]\n",
      "Retrieving RobocrystallogapherDoc documents: 100%|██████████| 1/1 [00:00<00:00, 25731.93it/s]\n",
      "Retrieving RobocrystallogapherDoc documents: 100%|██████████| 1/1 [00:00<00:00, 25731.93it/s]\n",
      "Retrieving RobocrystallogapherDoc documents: 100%|██████████| 1/1 [00:00<00:00, 20661.60it/s]\n",
      "Retrieving RobocrystallogapherDoc documents: 100%|██████████| 1/1 [00:00<00:00, 13934.56it/s]\n",
      "Retrieving RobocrystallogapherDoc documents: 100%|██████████| 1/1 [00:00<00:00, 16578.28it/s]\n",
      "Retrieving RobocrystallogapherDoc documents: 100%|██████████| 1/1 [00:00<00:00, 21509.25it/s]\n",
      "Retrieving RobocrystallogapherDoc documents: 100%|██████████| 1/1 [00:00<00:00, 23301.69it/s]\n",
      "Retrieving RobocrystallogapherDoc documents: 100%|██████████| 1/1 [00:00<00:00, 24244.53it/s]\n",
      "Retrieving RobocrystallogapherDoc documents: 100%|██████████| 1/1 [00:00<00:00, 23563.51it/s]\n",
      "Retrieving RobocrystallogapherDoc documents: 100%|██████████| 1/1 [00:00<00:00, 20763.88it/s]\n",
      "Retrieving RobocrystallogapherDoc documents: 100%|██████████| 1/1 [00:00<00:00, 26051.58it/s]\n",
      "Retrieving RobocrystallogapherDoc documents: 100%|██████████| 1/1 [00:00<00:00, 20460.02it/s]\n",
      "Retrieving RobocrystallogapherDoc documents: 100%|██████████| 1/1 [00:00<00:00, 22795.13it/s]\n",
      "Retrieving RobocrystallogapherDoc documents: 100%|██████████| 1/1 [00:00<00:00, 23172.95it/s]\n",
      "Retrieving RobocrystallogapherDoc documents: 100%|██████████| 1/1 [00:00<00:00, 26886.56it/s]\n",
      "Retrieving RobocrystallogapherDoc documents: 100%|██████████| 1/1 [00:00<00:00, 23172.95it/s]\n",
      "Retrieving RobocrystallogapherDoc documents: 100%|██████████| 1/1 [00:00<00:00, 21399.51it/s]\n",
      "Retrieving RobocrystallogapherDoc documents: 100%|██████████| 1/1 [00:00<00:00, 21509.25it/s]\n",
      "Retrieving RobocrystallogapherDoc documents: 100%|██████████| 1/1 [00:00<00:00, 23967.45it/s]\n",
      "Retrieving RobocrystallogapherDoc documents: 100%|██████████| 1/1 [00:00<00:00, 16256.99it/s]\n",
      "Retrieving RobocrystallogapherDoc documents: 100%|██████████| 1/1 [00:00<00:00, 22429.43it/s]\n",
      "Retrieving RobocrystallogapherDoc documents: 100%|██████████| 1/1 [00:00<00:00, 27962.03it/s]\n"
     ]
    },
    {
     "name": "stdout",
     "output_type": "stream",
     "text": [
      "mp-1236076\n"
     ]
    },
    {
     "name": "stderr",
     "output_type": "stream",
     "text": [
      "Retrieving RobocrystallogapherDoc documents: 100%|██████████| 1/1 [00:00<00:00, 24966.10it/s]\n",
      "Retrieving RobocrystallogapherDoc documents: 100%|██████████| 1/1 [00:00<00:00, 26546.23it/s]\n",
      "Retrieving RobocrystallogapherDoc documents: 100%|██████████| 1/1 [00:00<00:00, 19972.88it/s]\n"
     ]
    },
    {
     "name": "stdout",
     "output_type": "stream",
     "text": [
      "mp-1236076\n"
     ]
    },
    {
     "name": "stderr",
     "output_type": "stream",
     "text": [
      "Retrieving RobocrystallogapherDoc documents: 100%|██████████| 1/1 [00:00<00:00, 27060.03it/s]\n",
      "Retrieving RobocrystallogapherDoc documents: 100%|██████████| 1/1 [00:00<00:00, 19691.57it/s]\n",
      "Retrieving RobocrystallogapherDoc documents: 100%|██████████| 1/1 [00:00<00:00, 20068.44it/s]\n",
      "Retrieving RobocrystallogapherDoc documents: 100%|██████████| 1/1 [00:00<00:00, 22671.91it/s]\n",
      "Retrieving RobocrystallogapherDoc documents: 100%|██████████| 1/1 [00:00<00:00, 27776.85it/s]\n",
      "Retrieving RobocrystallogapherDoc documents: 100%|██████████| 1/1 [00:00<00:00, 19878.22it/s]\n",
      "Retrieving RobocrystallogapherDoc documents: 100%|██████████| 1/1 [00:00<00:00, 26886.56it/s]\n",
      "Retrieving RobocrystallogapherDoc documents: 100%|██████████| 1/1 [00:00<00:00, 28532.68it/s]\n",
      "Retrieving RobocrystallogapherDoc documents: 100%|██████████| 1/1 [00:00<00:00, 17924.38it/s]\n",
      "Retrieving RobocrystallogapherDoc documents: 100%|██████████| 1/1 [00:00<00:00, 16710.37it/s]\n",
      "Retrieving RobocrystallogapherDoc documents: 100%|██████████| 1/1 [00:00<00:00, 17772.47it/s]\n",
      "Retrieving RobocrystallogapherDoc documents: 100%|██████████| 1/1 [00:00<00:00, 19784.45it/s]\n",
      "Retrieving RobocrystallogapherDoc documents: 100%|██████████| 1/1 [00:00<00:00, 18001.30it/s]\n",
      "Retrieving RobocrystallogapherDoc documents: 100%|██████████| 1/1 [00:00<00:00, 18641.35it/s]\n",
      "Retrieving RobocrystallogapherDoc documents: 100%|██████████| 1/1 [00:00<00:00, 16256.99it/s]\n"
     ]
    },
    {
     "name": "stdout",
     "output_type": "stream",
     "text": [
      "mp-1203626\n"
     ]
    },
    {
     "name": "stderr",
     "output_type": "stream",
     "text": [
      "Retrieving RobocrystallogapherDoc documents: 100%|██████████| 1/1 [00:00<00:00, 17476.27it/s]\n",
      "Retrieving RobocrystallogapherDoc documents: 100%|██████████| 1/1 [00:00<00:00, 15592.21it/s]\n",
      "Retrieving RobocrystallogapherDoc documents: 100%|██████████| 1/1 [00:00<00:00, 12192.74it/s]\n"
     ]
    },
    {
     "name": "stdout",
     "output_type": "stream",
     "text": [
      "mp-1203626\n"
     ]
    },
    {
     "name": "stderr",
     "output_type": "stream",
     "text": [
      "Retrieving RobocrystallogapherDoc documents: 100%|██████████| 1/1 [00:00<00:00, 19508.39it/s]\n",
      "Retrieving RobocrystallogapherDoc documents: 100%|██████████| 1/1 [00:00<00:00, 16777.22it/s]\n",
      "Retrieving RobocrystallogapherDoc documents: 100%|██████████| 1/1 [00:00<00:00, 20460.02it/s]\n",
      "Retrieving RobocrystallogapherDoc documents: 100%|██████████| 1/1 [00:00<00:00, 17697.49it/s]\n",
      "Retrieving RobocrystallogapherDoc documents: 100%|██████████| 1/1 [00:00<00:00, 18157.16it/s]\n",
      "Retrieving RobocrystallogapherDoc documents: 100%|██████████| 1/1 [00:00<00:00, 18558.87it/s]\n",
      "Retrieving RobocrystallogapherDoc documents: 100%|██████████| 1/1 [00:00<00:00, 19784.45it/s]\n",
      "Retrieving RobocrystallogapherDoc documents: 100%|██████████| 1/1 [00:00<00:00, 18893.26it/s]\n",
      "Retrieving RobocrystallogapherDoc documents: 100%|██████████| 1/1 [00:00<00:00, 17697.49it/s]\n",
      "Retrieving RobocrystallogapherDoc documents: 100%|██████████| 1/1 [00:00<00:00, 17623.13it/s]\n",
      "Retrieving RobocrystallogapherDoc documents: 100%|██████████| 1/1 [00:00<00:00, 17772.47it/s]\n",
      "Retrieving RobocrystallogapherDoc documents: 100%|██████████| 1/1 [00:00<00:00, 19784.45it/s]\n",
      "Retrieving RobocrystallogapherDoc documents: 100%|██████████| 1/1 [00:00<00:00, 15592.21it/s]\n",
      "Retrieving RobocrystallogapherDoc documents: 100%|██████████| 1/1 [00:00<00:00, 17119.61it/s]\n",
      "Retrieving RobocrystallogapherDoc documents: 100%|██████████| 1/1 [00:00<00:00, 18315.74it/s]\n",
      "Retrieving RobocrystallogapherDoc documents: 100%|██████████| 1/1 [00:00<00:00, 16844.59it/s]\n",
      "Retrieving RobocrystallogapherDoc documents: 100%|██████████| 1/1 [00:00<00:00, 17772.47it/s]\n",
      "Retrieving RobocrystallogapherDoc documents: 100%|██████████| 1/1 [00:00<00:00, 19599.55it/s]\n",
      "Retrieving RobocrystallogapherDoc documents: 100%|██████████| 1/1 [00:00<00:00, 16320.25it/s]\n",
      "Retrieving RobocrystallogapherDoc documents: 100%|██████████| 1/1 [00:00<00:00, 20971.52it/s]\n",
      "Retrieving RobocrystallogapherDoc documents: 100%|██████████| 1/1 [00:00<00:00, 14820.86it/s]\n",
      "Retrieving RobocrystallogapherDoc documents: 100%|██████████| 1/1 [00:00<00:00, 16777.22it/s]\n",
      "Retrieving RobocrystallogapherDoc documents: 100%|██████████| 1/1 [00:00<00:00, 17623.13it/s]\n",
      "Retrieving RobocrystallogapherDoc documents: 100%|██████████| 1/1 [00:00<00:00, 15592.21it/s]\n",
      "Retrieving RobocrystallogapherDoc documents: 100%|██████████| 1/1 [00:00<00:00, 15709.00it/s]\n",
      "Retrieving RobocrystallogapherDoc documents: 100%|██████████| 1/1 [00:00<00:00, 16844.59it/s]\n",
      "Retrieving RobocrystallogapherDoc documents: 100%|██████████| 1/1 [00:00<00:00, 19972.88it/s]\n",
      "Retrieving RobocrystallogapherDoc documents: 100%|██████████| 1/1 [00:00<00:00, 17623.13it/s]\n",
      "Retrieving RobocrystallogapherDoc documents: 100%|██████████| 1/1 [00:00<00:00, 16912.52it/s]\n",
      "Retrieving RobocrystallogapherDoc documents: 100%|██████████| 1/1 [00:00<00:00, 17549.39it/s]\n",
      "Retrieving RobocrystallogapherDoc documents: 100%|██████████| 1/1 [00:00<00:00, 18893.26it/s]\n",
      "Retrieving RobocrystallogapherDoc documents: 100%|██████████| 1/1 [00:00<00:00, 15947.92it/s]\n"
     ]
    },
    {
     "name": "stdout",
     "output_type": "stream",
     "text": [
      "mp-698205\n"
     ]
    },
    {
     "name": "stderr",
     "output_type": "stream",
     "text": [
      "Retrieving RobocrystallogapherDoc documents: 100%|██████████| 1/1 [00:00<00:00, 19418.07it/s]\n",
      "Retrieving RobocrystallogapherDoc documents: 100%|██████████| 1/1 [00:00<00:00, 16448.25it/s]\n",
      "Retrieving RobocrystallogapherDoc documents: 100%|██████████| 1/1 [00:00<00:00, 18315.74it/s]\n"
     ]
    },
    {
     "name": "stdout",
     "output_type": "stream",
     "text": [
      "mp-698205\n"
     ]
    },
    {
     "name": "stderr",
     "output_type": "stream",
     "text": [
      "Retrieving RobocrystallogapherDoc documents: 100%|██████████| 1/1 [00:00<00:00, 17050.02it/s]\n",
      "Retrieving RobocrystallogapherDoc documents: 100%|██████████| 1/1 [00:00<00:00, 12710.01it/s]\n",
      "Retrieving RobocrystallogapherDoc documents: 100%|██████████| 1/1 [00:00<00:00, 17549.39it/s]\n",
      "Retrieving RobocrystallogapherDoc documents: 100%|██████████| 1/1 [00:00<00:00, 16844.59it/s]\n"
     ]
    },
    {
     "name": "stdout",
     "output_type": "stream",
     "text": [
      "mp-1203666\n"
     ]
    },
    {
     "name": "stderr",
     "output_type": "stream",
     "text": [
      "Retrieving RobocrystallogapherDoc documents: 100%|██████████| 1/1 [00:00<00:00, 16644.06it/s]\n"
     ]
    },
    {
     "name": "stdout",
     "output_type": "stream",
     "text": [
      "mp-1203666\n"
     ]
    },
    {
     "name": "stderr",
     "output_type": "stream",
     "text": [
      "Retrieving RobocrystallogapherDoc documents: 100%|██████████| 1/1 [00:00<00:00, 17848.10it/s]\n",
      "Retrieving RobocrystallogapherDoc documents: 100%|██████████| 1/1 [00:00<00:00, 17848.10it/s]\n",
      "Retrieving RobocrystallogapherDoc documents: 100%|██████████| 1/1 [00:00<00:00, 19972.88it/s]\n",
      "Retrieving RobocrystallogapherDoc documents: 100%|██████████| 1/1 [00:00<00:00, 17772.47it/s]\n",
      "Retrieving RobocrystallogapherDoc documents: 100%|██████████| 1/1 [00:00<00:00, 15887.52it/s]\n",
      "Retrieving RobocrystallogapherDoc documents: 100%|██████████| 1/1 [00:00<00:00, 19784.45it/s]\n",
      "Retrieving RobocrystallogapherDoc documents: 100%|██████████| 1/1 [00:00<00:00, 16194.22it/s]\n"
     ]
    },
    {
     "name": "stdout",
     "output_type": "stream",
     "text": [
      "mp-1181309\n"
     ]
    },
    {
     "name": "stderr",
     "output_type": "stream",
     "text": [
      "Retrieving RobocrystallogapherDoc documents: 100%|██████████| 1/1 [00:00<00:00, 17848.10it/s]\n"
     ]
    },
    {
     "name": "stdout",
     "output_type": "stream",
     "text": [
      "mp-1181309\n"
     ]
    },
    {
     "name": "stderr",
     "output_type": "stream",
     "text": [
      "Retrieving RobocrystallogapherDoc documents: 100%|██████████| 1/1 [00:00<00:00, 11397.57it/s]\n",
      "Retrieving RobocrystallogapherDoc documents: 100%|██████████| 1/1 [00:00<00:00, 19065.02it/s]\n",
      "Retrieving RobocrystallogapherDoc documents: 100%|██████████| 1/1 [00:00<00:00, 17924.38it/s]\n",
      "Retrieving RobocrystallogapherDoc documents: 100%|██████████| 1/1 [00:00<00:00, 16320.25it/s]\n",
      "Retrieving RobocrystallogapherDoc documents: 100%|██████████| 1/1 [00:00<00:00, 18078.90it/s]\n",
      "Retrieving RobocrystallogapherDoc documents: 100%|██████████| 1/1 [00:00<00:00, 17623.13it/s]\n",
      "Retrieving RobocrystallogapherDoc documents: 100%|██████████| 1/1 [00:00<00:00, 17848.10it/s]\n",
      "Retrieving RobocrystallogapherDoc documents: 100%|██████████| 1/1 [00:00<00:00, 17549.39it/s]\n",
      "Retrieving RobocrystallogapherDoc documents: 100%|██████████| 1/1 [00:00<00:00, 17772.47it/s]\n",
      "Retrieving RobocrystallogapherDoc documents: 100%|██████████| 1/1 [00:00<00:00, 15947.92it/s]\n",
      "Retrieving RobocrystallogapherDoc documents: 100%|██████████| 1/1 [00:00<00:00, 20068.44it/s]\n",
      "Retrieving RobocrystallogapherDoc documents: 100%|██████████| 1/1 [00:00<00:00, 17924.38it/s]\n"
     ]
    },
    {
     "name": "stdout",
     "output_type": "stream",
     "text": [
      "mp-1210976\n"
     ]
    },
    {
     "name": "stderr",
     "output_type": "stream",
     "text": [
      "Retrieving RobocrystallogapherDoc documents: 100%|██████████| 1/1 [00:00<00:00, 18078.90it/s]\n",
      "Retrieving RobocrystallogapherDoc documents: 100%|██████████| 1/1 [00:00<00:00, 16448.25it/s]\n",
      "Retrieving RobocrystallogapherDoc documents: 100%|██████████| 1/1 [00:00<00:00, 16131.94it/s]\n",
      "Retrieving RobocrystallogapherDoc documents: 100%|██████████| 1/1 [00:00<00:00, 18808.54it/s]\n"
     ]
    },
    {
     "name": "stdout",
     "output_type": "stream",
     "text": [
      "mp-1210976\n"
     ]
    },
    {
     "name": "stderr",
     "output_type": "stream",
     "text": [
      "Retrieving RobocrystallogapherDoc documents: 100%|██████████| 1/1 [00:00<00:00, 17050.02it/s]\n",
      "Retrieving RobocrystallogapherDoc documents: 100%|██████████| 1/1 [00:00<00:00, 18808.54it/s]\n",
      "Retrieving RobocrystallogapherDoc documents: 100%|██████████| 1/1 [00:00<00:00, 20661.60it/s]\n",
      "Retrieving RobocrystallogapherDoc documents: 100%|██████████| 1/1 [00:00<00:00, 17772.47it/s]\n",
      "Retrieving RobocrystallogapherDoc documents: 100%|██████████| 1/1 [00:00<00:00, 18236.10it/s]\n",
      "Retrieving RobocrystallogapherDoc documents: 100%|██████████| 1/1 [00:00<00:00, 16980.99it/s]\n",
      "Retrieving RobocrystallogapherDoc documents: 100%|██████████| 1/1 [00:00<00:00, 20262.34it/s]\n",
      "Retrieving RobocrystallogapherDoc documents: 100%|██████████| 1/1 [00:00<00:00, 15650.39it/s]\n",
      "Retrieving RobocrystallogapherDoc documents: 100%|██████████| 1/1 [00:00<00:00, 20360.70it/s]\n",
      "Retrieving RobocrystallogapherDoc documents: 100%|██████████| 1/1 [00:00<00:00, 18157.16it/s]\n",
      "Retrieving RobocrystallogapherDoc documents: 100%|██████████| 1/1 [00:00<00:00, 17260.51it/s]\n",
      "Retrieving RobocrystallogapherDoc documents: 100%|██████████| 1/1 [00:00<00:00, 17772.47it/s]\n",
      "Retrieving RobocrystallogapherDoc documents: 100%|██████████| 1/1 [00:00<00:00, 17476.27it/s]\n",
      "Retrieving RobocrystallogapherDoc documents: 100%|██████████| 1/1 [00:00<00:00, 19152.07it/s]\n",
      "Retrieving RobocrystallogapherDoc documents: 100%|██████████| 1/1 [00:00<00:00, 17189.77it/s]\n",
      "Retrieving RobocrystallogapherDoc documents: 100%|██████████| 1/1 [00:00<00:00, 17331.83it/s]\n",
      "Retrieving RobocrystallogapherDoc documents: 100%|██████████| 1/1 [00:00<00:00, 15887.52it/s]\n",
      "Retrieving RobocrystallogapherDoc documents: 100%|██████████| 1/1 [00:00<00:00, 17623.13it/s]\n",
      "Retrieving RobocrystallogapherDoc documents: 100%|██████████| 1/1 [00:00<00:00, 21399.51it/s]\n",
      "Retrieving RobocrystallogapherDoc documents: 100%|██████████| 1/1 [00:00<00:00, 16256.99it/s]\n",
      "Retrieving RobocrystallogapherDoc documents: 100%|██████████| 1/1 [00:00<00:00, 15947.92it/s]\n",
      "Retrieving RobocrystallogapherDoc documents: 100%|██████████| 1/1 [00:00<00:00, 17119.61it/s]\n",
      "Retrieving RobocrystallogapherDoc documents: 100%|██████████| 1/1 [00:00<00:00, 18396.07it/s]\n",
      "Retrieving RobocrystallogapherDoc documents: 100%|██████████| 1/1 [00:00<00:00, 17331.83it/s]\n",
      "Retrieving RobocrystallogapherDoc documents: 100%|██████████| 1/1 [00:00<00:00, 15196.75it/s]\n",
      "Retrieving RobocrystallogapherDoc documents: 100%|██████████| 1/1 [00:00<00:00, 17623.13it/s]\n",
      "Retrieving RobocrystallogapherDoc documents: 100%|██████████| 1/1 [00:00<00:00, 18236.10it/s]\n",
      "Retrieving RobocrystallogapherDoc documents: 100%|██████████| 1/1 [00:00<00:00, 17050.02it/s]\n",
      "Retrieving RobocrystallogapherDoc documents: 100%|██████████| 1/1 [00:00<00:00, 16777.22it/s]\n",
      "Retrieving RobocrystallogapherDoc documents: 100%|██████████| 1/1 [00:00<00:00, 18001.30it/s]\n",
      "Retrieving RobocrystallogapherDoc documents: 100%|██████████| 1/1 [00:00<00:00, 16194.22it/s]\n",
      "Retrieving RobocrystallogapherDoc documents: 100%|██████████| 1/1 [00:00<00:00, 15947.92it/s]\n",
      "Retrieving RobocrystallogapherDoc documents: 100%|██████████| 1/1 [00:00<00:00, 7025.63it/s]\n",
      "Retrieving RobocrystallogapherDoc documents: 100%|██████████| 1/1 [00:00<00:00, 18157.16it/s]\n"
     ]
    },
    {
     "name": "stdout",
     "output_type": "stream",
     "text": [
      "mp-1180504\n"
     ]
    },
    {
     "name": "stderr",
     "output_type": "stream",
     "text": [
      "Retrieving RobocrystallogapherDoc documents: 100%|██████████| 1/1 [00:00<00:00, 16912.52it/s]\n"
     ]
    },
    {
     "name": "stdout",
     "output_type": "stream",
     "text": [
      "mp-643708\n"
     ]
    },
    {
     "name": "stderr",
     "output_type": "stream",
     "text": [
      "Retrieving RobocrystallogapherDoc documents: 100%|██████████| 1/1 [00:00<00:00, 20262.34it/s]\n"
     ]
    },
    {
     "name": "stdout",
     "output_type": "stream",
     "text": [
      "mp-1180504\n"
     ]
    },
    {
     "name": "stderr",
     "output_type": "stream",
     "text": [
      "Retrieving RobocrystallogapherDoc documents: 100%|██████████| 1/1 [00:00<00:00, 17697.49it/s]\n"
     ]
    },
    {
     "name": "stdout",
     "output_type": "stream",
     "text": [
      "mp-1430113\n"
     ]
    },
    {
     "name": "stderr",
     "output_type": "stream",
     "text": [
      "Retrieving RobocrystallogapherDoc documents: 100%|██████████| 1/1 [00:00<00:00, 18157.16it/s]\n",
      "Retrieving RobocrystallogapherDoc documents: 100%|██████████| 1/1 [00:00<00:00, 16320.25it/s]\n"
     ]
    },
    {
     "name": "stdout",
     "output_type": "stream",
     "text": [
      "mp-1430113\n"
     ]
    },
    {
     "name": "stderr",
     "output_type": "stream",
     "text": [
      "Retrieving RobocrystallogapherDoc documents: 100%|██████████| 1/1 [00:00<00:00, 18315.74it/s]\n"
     ]
    },
    {
     "name": "stdout",
     "output_type": "stream",
     "text": [
      "mp-643708\n"
     ]
    },
    {
     "name": "stderr",
     "output_type": "stream",
     "text": [
      "Retrieving RobocrystallogapherDoc documents: 100%|██████████| 1/1 [00:00<00:00, 17549.39it/s]\n",
      "Retrieving RobocrystallogapherDoc documents: 100%|██████████| 1/1 [00:00<00:00, 19065.02it/s]\n",
      "Retrieving RobocrystallogapherDoc documents: 100%|██████████| 1/1 [00:00<00:00, 15420.24it/s]\n",
      "Retrieving RobocrystallogapherDoc documents: 100%|██████████| 1/1 [00:00<00:00, 18157.16it/s]\n",
      "Retrieving RobocrystallogapherDoc documents: 100%|██████████| 1/1 [00:00<00:00, 24672.38it/s]\n",
      "Retrieving RobocrystallogapherDoc documents: 100%|██████████| 1/1 [00:00<00:00, 19065.02it/s]\n",
      "Retrieving RobocrystallogapherDoc documents: 100%|██████████| 1/1 [00:00<00:00, 20971.52it/s]\n",
      "Retrieving RobocrystallogapherDoc documents: 100%|██████████| 1/1 [00:00<00:00, 23696.63it/s]\n",
      "Retrieving RobocrystallogapherDoc documents: 100%|██████████| 1/1 [00:00<00:00, 26886.56it/s]\n",
      "Retrieving RobocrystallogapherDoc documents: 100%|██████████| 1/1 [00:00<00:00, 19508.39it/s]\n",
      "Retrieving RobocrystallogapherDoc documents: 100%|██████████| 1/1 [00:00<00:00, 20661.60it/s]\n",
      "Retrieving RobocrystallogapherDoc documents: 100%|██████████| 1/1 [00:00<00:00, 27235.74it/s]\n",
      "Retrieving RobocrystallogapherDoc documents: 100%|██████████| 1/1 [00:00<00:00, 20262.34it/s]\n",
      "Retrieving RobocrystallogapherDoc documents: 100%|██████████| 1/1 [00:00<00:00, 23431.87it/s]\n",
      "Retrieving RobocrystallogapherDoc documents: 100%|██████████| 1/1 [00:00<00:00, 27060.03it/s]\n",
      "Retrieving RobocrystallogapherDoc documents: 100%|██████████| 1/1 [00:00<00:00, 21399.51it/s]\n",
      "Retrieving RobocrystallogapherDoc documents: 100%|██████████| 1/1 [00:00<00:00, 25890.77it/s]\n",
      "Retrieving RobocrystallogapherDoc documents: 100%|██████████| 1/1 [00:00<00:00, 21509.25it/s]\n",
      "Retrieving RobocrystallogapherDoc documents: 100%|██████████| 1/1 [00:00<00:00, 19239.93it/s]\n",
      "Retrieving RobocrystallogapherDoc documents: 100%|██████████| 1/1 [00:00<00:00, 23967.45it/s]\n",
      "Retrieving RobocrystallogapherDoc documents: 100%|██████████| 1/1 [00:00<00:00, 23563.51it/s]\n",
      "Retrieving RobocrystallogapherDoc documents: 100%|██████████| 1/1 [00:00<00:00, 23831.27it/s]\n",
      "Retrieving RobocrystallogapherDoc documents: 100%|██████████| 1/1 [00:00<00:00, 18893.26it/s]\n",
      "Retrieving RobocrystallogapherDoc documents: 100%|██████████| 1/1 [00:00<00:00, 25575.02it/s]\n",
      "Retrieving RobocrystallogapherDoc documents: 100%|██████████| 1/1 [00:00<00:00, 20867.18it/s]\n",
      "Retrieving RobocrystallogapherDoc documents: 100%|██████████| 1/1 [00:00<00:00, 20763.88it/s]\n"
     ]
    },
    {
     "name": "stdout",
     "output_type": "stream",
     "text": [
      "mp-1344789\n"
     ]
    },
    {
     "name": "stderr",
     "output_type": "stream",
     "text": [
      "Retrieving RobocrystallogapherDoc documents: 100%|██████████| 1/1 [00:00<00:00, 24818.37it/s]\n",
      "Retrieving RobocrystallogapherDoc documents: 100%|██████████| 1/1 [00:00<00:00, 14665.40it/s]\n",
      "Retrieving RobocrystallogapherDoc documents: 100%|██████████| 1/1 [00:00<00:00, 20164.92it/s]\n",
      "Retrieving RobocrystallogapherDoc documents: 100%|██████████| 1/1 [00:00<00:00, 18558.87it/s]\n",
      "Retrieving RobocrystallogapherDoc documents: 100%|██████████| 1/1 [00:00<00:00, 22192.08it/s]\n",
      "Retrieving RobocrystallogapherDoc documents: 100%|██████████| 1/1 [00:00<00:00, 24528.09it/s]\n",
      "Retrieving RobocrystallogapherDoc documents: 100%|██████████| 1/1 [00:00<00:00, 21620.12it/s]\n",
      "Retrieving RobocrystallogapherDoc documents: 100%|██████████| 1/1 [00:00<00:00, 24385.49it/s]\n",
      "Retrieving RobocrystallogapherDoc documents: 100%|██████████| 1/1 [00:00<00:00, 22550.02it/s]\n",
      "Retrieving RobocrystallogapherDoc documents: 100%|██████████| 1/1 [00:00<00:00, 17331.83it/s]\n",
      "Retrieving RobocrystallogapherDoc documents: 100%|██████████| 1/1 [00:00<00:00, 20661.60it/s]\n",
      "Retrieving RobocrystallogapherDoc documents: 100%|██████████| 1/1 [00:00<00:00, 23696.63it/s]\n"
     ]
    },
    {
     "name": "stdout",
     "output_type": "stream",
     "text": [
      "mp-1344789\n"
     ]
    },
    {
     "name": "stderr",
     "output_type": "stream",
     "text": [
      "Retrieving RobocrystallogapherDoc documents: 100%|██████████| 1/1 [00:00<00:00, 21509.25it/s]\n",
      "Retrieving RobocrystallogapherDoc documents: 100%|██████████| 1/1 [00:00<00:00, 23172.95it/s]\n",
      "Retrieving RobocrystallogapherDoc documents: 100%|██████████| 1/1 [00:00<00:00, 27776.85it/s]\n",
      "Retrieving RobocrystallogapherDoc documents: 100%|██████████| 1/1 [00:00<00:00, 19599.55it/s]\n",
      "Retrieving RobocrystallogapherDoc documents: 100%|██████████| 1/1 [00:00<00:00, 25420.02it/s]\n",
      "Retrieving RobocrystallogapherDoc documents: 100%|██████████| 1/1 [00:00<00:00, 22075.28it/s]\n",
      "Retrieving RobocrystallogapherDoc documents: 100%|██████████| 1/1 [00:00<00:00, 23172.95it/s]\n",
      "Retrieving RobocrystallogapherDoc documents: 100%|██████████| 1/1 [00:00<00:00, 23301.69it/s]\n",
      "Retrieving RobocrystallogapherDoc documents: 100%|██████████| 1/1 [00:00<00:00, 21620.12it/s]\n",
      "Retrieving RobocrystallogapherDoc documents: 100%|██████████| 1/1 [00:00<00:00, 18157.16it/s]\n",
      "Retrieving RobocrystallogapherDoc documents: 100%|██████████| 1/1 [00:00<00:00, 23172.95it/s]\n",
      "Retrieving RobocrystallogapherDoc documents: 100%|██████████| 1/1 [00:00<00:00, 26214.40it/s]\n",
      "Retrieving RobocrystallogapherDoc documents: 100%|██████████| 1/1 [00:00<00:00, 25575.02it/s]\n",
      "Retrieving RobocrystallogapherDoc documents: 100%|██████████| 1/1 [00:00<00:00, 27413.75it/s]\n",
      "Retrieving RobocrystallogapherDoc documents: 100%|██████████| 1/1 [00:00<00:00, 25266.89it/s]\n",
      "Retrieving RobocrystallogapherDoc documents: 100%|██████████| 1/1 [00:00<00:00, 23301.69it/s]\n",
      "Retrieving RobocrystallogapherDoc documents: 100%|██████████| 1/1 [00:00<00:00, 28339.89it/s]\n",
      "Retrieving RobocrystallogapherDoc documents: 100%|██████████| 1/1 [00:00<00:00, 26886.56it/s]\n",
      "Retrieving RobocrystallogapherDoc documents: 100%|██████████| 1/1 [00:00<00:00, 26546.23it/s]\n",
      "Retrieving RobocrystallogapherDoc documents: 100%|██████████| 1/1 [00:00<00:00, 14364.05it/s]\n",
      "Retrieving RobocrystallogapherDoc documents: 100%|██████████| 1/1 [00:00<00:00, 21620.12it/s]\n",
      "Retrieving RobocrystallogapherDoc documents: 100%|██████████| 1/1 [00:00<00:00, 24105.20it/s]\n",
      "Retrieving RobocrystallogapherDoc documents: 100%|██████████| 1/1 [00:00<00:00, 23563.51it/s]\n",
      "Retrieving RobocrystallogapherDoc documents: 100%|██████████| 1/1 [00:00<00:00, 20763.88it/s]\n",
      "Retrieving RobocrystallogapherDoc documents: 100%|██████████| 1/1 [00:00<00:00, 26214.40it/s]\n",
      "Retrieving RobocrystallogapherDoc documents: 100%|██████████| 1/1 [00:00<00:00, 22919.69it/s]\n",
      "Retrieving RobocrystallogapherDoc documents: 100%|██████████| 1/1 [00:00<00:00, 16320.25it/s]\n",
      "Retrieving RobocrystallogapherDoc documents: 100%|██████████| 1/1 [00:00<00:00, 19784.45it/s]\n",
      "Retrieving RobocrystallogapherDoc documents: 100%|██████████| 1/1 [00:00<00:00, 23831.27it/s]\n",
      "Retrieving RobocrystallogapherDoc documents: 100%|██████████| 1/1 [00:00<00:00, 27060.03it/s]\n",
      "Retrieving RobocrystallogapherDoc documents: 100%|██████████| 1/1 [00:00<00:00, 28728.11it/s]\n",
      "Retrieving RobocrystallogapherDoc documents: 100%|██████████| 1/1 [00:00<00:00, 13148.29it/s]\n",
      "Retrieving RobocrystallogapherDoc documents: 100%|██████████| 1/1 [00:00<00:00, 20867.18it/s]\n",
      "Retrieving RobocrystallogapherDoc documents: 100%|██████████| 1/1 [00:00<00:00, 22550.02it/s]\n",
      "Retrieving RobocrystallogapherDoc documents: 100%|██████████| 1/1 [00:00<00:00, 23045.63it/s]\n",
      "Retrieving RobocrystallogapherDoc documents: 100%|██████████| 1/1 [00:00<00:00, 20661.60it/s]\n",
      "Retrieving RobocrystallogapherDoc documents: 100%|██████████| 1/1 [00:00<00:00, 22550.02it/s]\n",
      "Retrieving RobocrystallogapherDoc documents: 100%|██████████| 1/1 [00:00<00:00, 28532.68it/s]\n",
      "Retrieving RobocrystallogapherDoc documents: 100%|██████████| 1/1 [00:00<00:00, 18001.30it/s]\n",
      "Retrieving RobocrystallogapherDoc documents: 100%|██████████| 1/1 [00:00<00:00, 22919.69it/s]\n",
      "Retrieving RobocrystallogapherDoc documents: 100%|██████████| 1/1 [00:00<00:00, 23045.63it/s]\n",
      "Retrieving RobocrystallogapherDoc documents: 100%|██████████| 1/1 [00:00<00:00, 22671.91it/s]\n",
      "Retrieving RobocrystallogapherDoc documents: 100%|██████████| 1/1 [00:00<00:00, 24818.37it/s]\n",
      "Retrieving RobocrystallogapherDoc documents: 100%|██████████| 1/1 [00:00<00:00, 26379.27it/s]\n",
      "Retrieving RobocrystallogapherDoc documents: 100%|██████████| 1/1 [00:00<00:00, 15087.42it/s]\n",
      "Retrieving RobocrystallogapherDoc documents: 100%|██████████| 1/1 [00:00<00:00, 19508.39it/s]\n",
      "Retrieving RobocrystallogapherDoc documents: 100%|██████████| 1/1 [00:00<00:00, 23301.69it/s]\n",
      "Retrieving RobocrystallogapherDoc documents: 100%|██████████| 1/1 [00:00<00:00, 26546.23it/s]\n",
      "Retrieving RobocrystallogapherDoc documents: 100%|██████████| 1/1 [00:00<00:00, 26214.40it/s]\n",
      "Retrieving RobocrystallogapherDoc documents: 100%|██████████| 1/1 [00:00<00:00, 23431.87it/s]\n",
      "Retrieving RobocrystallogapherDoc documents: 100%|██████████| 1/1 [00:00<00:00, 14665.40it/s]\n",
      "Retrieving RobocrystallogapherDoc documents: 100%|██████████| 1/1 [00:00<00:00, 20164.92it/s]\n",
      "Retrieving RobocrystallogapherDoc documents: 100%|██████████| 1/1 [00:00<00:00, 17119.61it/s]\n",
      "Retrieving RobocrystallogapherDoc documents: 100%|██████████| 1/1 [00:00<00:00, 24105.20it/s]\n",
      "Retrieving RobocrystallogapherDoc documents: 100%|██████████| 1/1 [00:00<00:00, 28339.89it/s]\n",
      "Retrieving RobocrystallogapherDoc documents: 100%|██████████| 1/1 [00:00<00:00, 27413.75it/s]\n",
      "Retrieving RobocrystallogapherDoc documents: 100%|██████████| 1/1 [00:00<00:00, 27060.03it/s]\n",
      "Retrieving RobocrystallogapherDoc documents: 100%|██████████| 1/1 [00:00<00:00, 28926.23it/s]\n"
     ]
    },
    {
     "name": "stdout",
     "output_type": "stream",
     "text": [
      "mp-729481\n"
     ]
    },
    {
     "name": "stderr",
     "output_type": "stream",
     "text": [
      "Retrieving RobocrystallogapherDoc documents: 100%|██████████| 1/1 [00:00<00:00, 15827.56it/s]\n",
      "Retrieving RobocrystallogapherDoc documents: 100%|██████████| 1/1 [00:00<00:00, 16644.06it/s]\n",
      "Retrieving RobocrystallogapherDoc documents: 100%|██████████| 1/1 [00:00<00:00, 23172.95it/s]\n",
      "Retrieving RobocrystallogapherDoc documents: 100%|██████████| 1/1 [00:00<00:00, 23696.63it/s]\n",
      "Retrieving RobocrystallogapherDoc documents: 100%|██████████| 1/1 [00:00<00:00, 24244.53it/s]\n",
      "Retrieving RobocrystallogapherDoc documents: 100%|██████████| 1/1 [00:00<00:00, 24244.53it/s]\n",
      "Retrieving RobocrystallogapherDoc documents: 100%|██████████| 1/1 [00:00<00:00, 23172.95it/s]\n",
      "Retrieving RobocrystallogapherDoc documents: 100%|██████████| 1/1 [00:00<00:00, 18477.11it/s]\n",
      "Retrieving RobocrystallogapherDoc documents: 100%|██████████| 1/1 [00:00<00:00, 20867.18it/s]\n",
      "Retrieving RobocrystallogapherDoc documents: 100%|██████████| 1/1 [00:00<00:00, 19152.07it/s]\n",
      "Retrieving RobocrystallogapherDoc documents: 100%|██████████| 1/1 [00:00<00:00, 25575.02it/s]\n",
      "Retrieving RobocrystallogapherDoc documents: 100%|██████████| 1/1 [00:00<00:00, 23967.45it/s]\n",
      "Retrieving RobocrystallogapherDoc documents: 100%|██████████| 1/1 [00:00<00:00, 22795.13it/s]\n",
      "Retrieving RobocrystallogapherDoc documents: 100%|██████████| 1/1 [00:00<00:00, 27060.03it/s]\n",
      "Retrieving RobocrystallogapherDoc documents: 100%|██████████| 1/1 [00:00<00:00, 19065.02it/s]\n",
      "Retrieving RobocrystallogapherDoc documents: 100%|██████████| 1/1 [00:00<00:00, 20460.02it/s]\n",
      "Retrieving RobocrystallogapherDoc documents: 100%|██████████| 1/1 [00:00<00:00, 26715.31it/s]\n",
      "Retrieving RobocrystallogapherDoc documents: 100%|██████████| 1/1 [00:00<00:00, 22075.28it/s]\n",
      "Retrieving RobocrystallogapherDoc documents: 100%|██████████| 1/1 [00:00<00:00, 21845.33it/s]\n",
      "Retrieving RobocrystallogapherDoc documents: 100%|██████████| 1/1 [00:00<00:00, 19239.93it/s]\n",
      "Retrieving RobocrystallogapherDoc documents: 100%|██████████| 1/1 [00:00<00:00, 17403.75it/s]\n",
      "Retrieving RobocrystallogapherDoc documents: 100%|██████████| 1/1 [00:00<00:00, 20460.02it/s]\n",
      "Retrieving RobocrystallogapherDoc documents: 100%|██████████| 1/1 [00:00<00:00, 21732.15it/s]\n",
      "Retrieving RobocrystallogapherDoc documents: 100%|██████████| 1/1 [00:00<00:00, 21732.15it/s]\n",
      "Retrieving RobocrystallogapherDoc documents: 100%|██████████| 1/1 [00:00<00:00, 20560.31it/s]\n",
      "Retrieving RobocrystallogapherDoc documents: 100%|██████████| 1/1 [00:00<00:00, 21845.33it/s]\n",
      "Retrieving RobocrystallogapherDoc documents: 100%|██████████| 1/1 [00:00<00:00, 20560.31it/s]\n",
      "Retrieving RobocrystallogapherDoc documents: 100%|██████████| 1/1 [00:00<00:00, 18477.11it/s]\n",
      "Retrieving RobocrystallogapherDoc documents: 100%|██████████| 1/1 [00:00<00:00, 21509.25it/s]\n",
      "Retrieving RobocrystallogapherDoc documents: 100%|██████████| 1/1 [00:00<00:00, 25731.93it/s]\n",
      "Retrieving RobocrystallogapherDoc documents: 100%|██████████| 1/1 [00:00<00:00, 23172.95it/s]\n",
      "Retrieving RobocrystallogapherDoc documents: 100%|██████████| 1/1 [00:00<00:00, 22310.13it/s]\n",
      "Retrieving RobocrystallogapherDoc documents: 100%|██████████| 1/1 [00:00<00:00, 14979.66it/s]\n",
      "Retrieving RobocrystallogapherDoc documents: 100%|██████████| 1/1 [00:00<00:00, 22429.43it/s]\n",
      "Retrieving RobocrystallogapherDoc documents: 100%|██████████| 1/1 [00:00<00:00, 20460.02it/s]\n",
      "Retrieving RobocrystallogapherDoc documents: 100%|██████████| 1/1 [00:00<00:00, 25420.02it/s]\n",
      "Retrieving RobocrystallogapherDoc documents: 100%|██████████| 1/1 [00:00<00:00, 23431.87it/s]\n",
      "Retrieving RobocrystallogapherDoc documents: 100%|██████████| 1/1 [00:00<00:00, 26715.31it/s]\n",
      "Retrieving RobocrystallogapherDoc documents: 100%|██████████| 1/1 [00:00<00:00, 22795.13it/s]\n",
      "Retrieving RobocrystallogapherDoc documents: 100%|██████████| 1/1 [00:00<00:00, 19508.39it/s]\n",
      "Retrieving RobocrystallogapherDoc documents: 100%|██████████| 1/1 [00:00<00:00, 19152.07it/s]\n",
      "Retrieving RobocrystallogapherDoc documents: 100%|██████████| 1/1 [00:00<00:00, 22550.02it/s]\n",
      "Retrieving RobocrystallogapherDoc documents: 100%|██████████| 1/1 [00:00<00:00, 23431.87it/s]\n",
      "Retrieving RobocrystallogapherDoc documents: 100%|██████████| 1/1 [00:00<00:00, 21076.90it/s]\n",
      "Retrieving RobocrystallogapherDoc documents: 100%|██████████| 1/1 [00:00<00:00, 26715.31it/s]\n",
      "Retrieving RobocrystallogapherDoc documents: 100%|██████████| 1/1 [00:00<00:00, 22429.43it/s]\n",
      "Retrieving RobocrystallogapherDoc documents: 100%|██████████| 1/1 [00:00<00:00, 19328.59it/s]\n",
      "Retrieving RobocrystallogapherDoc documents: 100%|██████████| 1/1 [00:00<00:00, 20560.31it/s]\n",
      "Retrieving RobocrystallogapherDoc documents: 100%|██████████| 1/1 [00:00<00:00, 21620.12it/s]\n",
      "Retrieving RobocrystallogapherDoc documents: 100%|██████████| 1/1 [00:00<00:00, 22919.69it/s]\n",
      "Retrieving RobocrystallogapherDoc documents: 100%|██████████| 1/1 [00:00<00:00, 23301.69it/s]\n",
      "Retrieving RobocrystallogapherDoc documents: 100%|██████████| 1/1 [00:00<00:00, 18641.35it/s]\n",
      "Retrieving RobocrystallogapherDoc documents: 100%|██████████| 1/1 [00:00<00:00, 18808.54it/s]\n",
      "Retrieving RobocrystallogapherDoc documents: 100%|██████████| 1/1 [00:00<00:00, 20661.60it/s]\n",
      "Retrieving RobocrystallogapherDoc documents: 100%|██████████| 1/1 [00:00<00:00, 20164.92it/s]\n",
      "Retrieving RobocrystallogapherDoc documents: 100%|██████████| 1/1 [00:00<00:00, 22919.69it/s]\n",
      "Retrieving RobocrystallogapherDoc documents: 100%|██████████| 1/1 [00:00<00:00, 28532.68it/s]\n",
      "Retrieving RobocrystallogapherDoc documents: 100%|██████████| 1/1 [00:00<00:00, 16320.25it/s]\n",
      "Retrieving RobocrystallogapherDoc documents: 100%|██████████| 1/1 [00:00<00:00, 17623.13it/s]\n",
      "Retrieving RobocrystallogapherDoc documents: 100%|██████████| 1/1 [00:00<00:00, 18641.35it/s]\n",
      "Retrieving RobocrystallogapherDoc documents: 100%|██████████| 1/1 [00:00<00:00, 21620.12it/s]\n",
      "Retrieving RobocrystallogapherDoc documents: 100%|██████████| 1/1 [00:00<00:00, 22192.08it/s]\n",
      "Retrieving RobocrystallogapherDoc documents: 100%|██████████| 1/1 [00:00<00:00, 26886.56it/s]\n",
      "Retrieving RobocrystallogapherDoc documents: 100%|██████████| 1/1 [00:00<00:00, 19878.22it/s]\n",
      "Retrieving RobocrystallogapherDoc documents: 100%|██████████| 1/1 [00:00<00:00, 19784.45it/s]\n",
      "Retrieving RobocrystallogapherDoc documents: 100%|██████████| 1/1 [00:00<00:00, 19691.57it/s]\n",
      "Retrieving RobocrystallogapherDoc documents: 100%|██████████| 1/1 [00:00<00:00, 18477.11it/s]\n",
      "Retrieving RobocrystallogapherDoc documents: 100%|██████████| 1/1 [00:00<00:00, 19972.88it/s]\n",
      "Retrieving RobocrystallogapherDoc documents: 100%|██████████| 1/1 [00:00<00:00, 21290.88it/s]\n",
      "Retrieving RobocrystallogapherDoc documents: 100%|██████████| 1/1 [00:00<00:00, 26715.31it/s]\n",
      "Retrieving RobocrystallogapherDoc documents: 100%|██████████| 1/1 [00:00<00:00, 23172.95it/s]\n",
      "Retrieving RobocrystallogapherDoc documents: 100%|██████████| 1/1 [00:00<00:00, 19599.55it/s]\n",
      "Retrieving RobocrystallogapherDoc documents: 100%|██████████| 1/1 [00:00<00:00, 22795.13it/s]\n",
      "Retrieving RobocrystallogapherDoc documents: 100%|██████████| 1/1 [00:00<00:00, 17924.38it/s]\n",
      "Retrieving RobocrystallogapherDoc documents: 100%|██████████| 1/1 [00:00<00:00, 26214.40it/s]\n",
      "Retrieving RobocrystallogapherDoc documents: 100%|██████████| 1/1 [00:00<00:00, 22550.02it/s]\n",
      "Retrieving RobocrystallogapherDoc documents: 100%|██████████| 1/1 [00:00<00:00, 23172.95it/s]\n",
      "Retrieving RobocrystallogapherDoc documents: 100%|██████████| 1/1 [00:00<00:00, 22795.13it/s]\n",
      "Retrieving RobocrystallogapherDoc documents: 100%|██████████| 1/1 [00:00<00:00, 22550.02it/s]\n",
      "Retrieving RobocrystallogapherDoc documents: 100%|██████████| 1/1 [00:00<00:00, 20763.88it/s]\n",
      "Retrieving RobocrystallogapherDoc documents: 100%|██████████| 1/1 [00:00<00:00, 19508.39it/s]\n",
      "Retrieving RobocrystallogapherDoc documents: 100%|██████████| 1/1 [00:00<00:00, 22192.08it/s]\n",
      "Retrieving RobocrystallogapherDoc documents: 100%|██████████| 1/1 [00:00<00:00, 22550.02it/s]\n",
      "Retrieving RobocrystallogapherDoc documents: 100%|██████████| 1/1 [00:00<00:00, 27235.74it/s]\n",
      "Retrieving RobocrystallogapherDoc documents: 100%|██████████| 1/1 [00:00<00:00, 23172.95it/s]\n",
      "Retrieving RobocrystallogapherDoc documents: 100%|██████████| 1/1 [00:00<00:00, 21620.12it/s]\n",
      "Retrieving RobocrystallogapherDoc documents: 100%|██████████| 1/1 [00:00<00:00, 12905.55it/s]\n",
      "Retrieving RobocrystallogapherDoc documents: 100%|██████████| 1/1 [00:00<00:00, 22310.13it/s]\n",
      "Retrieving RobocrystallogapherDoc documents: 100%|██████████| 1/1 [00:00<00:00, 21399.51it/s]\n",
      "Retrieving RobocrystallogapherDoc documents: 100%|██████████| 1/1 [00:00<00:00, 25115.59it/s]\n",
      "Retrieving RobocrystallogapherDoc documents: 100%|██████████| 1/1 [00:00<00:00, 26051.58it/s]\n",
      "Retrieving RobocrystallogapherDoc documents: 100%|██████████| 1/1 [00:00<00:00, 22671.91it/s]\n",
      "Retrieving RobocrystallogapherDoc documents: 100%|██████████| 1/1 [00:00<00:00, 26546.23it/s]\n",
      "Retrieving RobocrystallogapherDoc documents: 100%|██████████| 1/1 [00:00<00:00, 19065.02it/s]\n",
      "Retrieving RobocrystallogapherDoc documents: 100%|██████████| 1/1 [00:00<00:00, 21620.12it/s]\n",
      "Retrieving RobocrystallogapherDoc documents: 100%|██████████| 1/1 [00:00<00:00, 23301.69it/s]\n",
      "Retrieving RobocrystallogapherDoc documents: 100%|██████████| 1/1 [00:00<00:00, 16777.22it/s]\n",
      "Retrieving RobocrystallogapherDoc documents: 100%|██████████| 1/1 [00:00<00:00, 22795.13it/s]\n",
      "Retrieving RobocrystallogapherDoc documents: 100%|██████████| 1/1 [00:00<00:00, 21959.71it/s]\n",
      "Retrieving RobocrystallogapherDoc documents: 100%|██████████| 1/1 [00:00<00:00, 21076.90it/s]\n",
      "Retrieving RobocrystallogapherDoc documents: 100%|██████████| 1/1 [00:00<00:00, 18893.26it/s]\n",
      "Retrieving RobocrystallogapherDoc documents: 100%|██████████| 1/1 [00:00<00:00, 23967.45it/s]\n",
      "Retrieving RobocrystallogapherDoc documents: 100%|██████████| 1/1 [00:00<00:00, 25731.93it/s]\n",
      "Retrieving RobocrystallogapherDoc documents: 100%|██████████| 1/1 [00:00<00:00, 23431.87it/s]\n",
      "Retrieving RobocrystallogapherDoc documents: 100%|██████████| 1/1 [00:00<00:00, 27060.03it/s]\n",
      "Retrieving RobocrystallogapherDoc documents: 100%|██████████| 1/1 [00:00<00:00, 21399.51it/s]\n",
      "Retrieving RobocrystallogapherDoc documents: 100%|██████████| 1/1 [00:00<00:00, 19239.93it/s]\n",
      "Retrieving RobocrystallogapherDoc documents: 100%|██████████| 1/1 [00:00<00:00, 23301.69it/s]\n",
      "Retrieving RobocrystallogapherDoc documents: 100%|██████████| 1/1 [00:00<00:00, 18236.10it/s]\n",
      "Retrieving RobocrystallogapherDoc documents: 100%|██████████| 1/1 [00:00<00:00, 29330.80it/s]\n",
      "Retrieving RobocrystallogapherDoc documents: 100%|██████████| 1/1 [00:00<00:00, 22310.13it/s]\n",
      "Retrieving RobocrystallogapherDoc documents: 100%|██████████| 1/1 [00:00<00:00, 20360.70it/s]\n",
      "Retrieving RobocrystallogapherDoc documents: 100%|██████████| 1/1 [00:00<00:00, 21732.15it/s]\n"
     ]
    },
    {
     "name": "stdout",
     "output_type": "stream",
     "text": [
      "mp-729481\n"
     ]
    },
    {
     "name": "stderr",
     "output_type": "stream",
     "text": [
      "Retrieving RobocrystallogapherDoc documents: 100%|██████████| 1/1 [00:00<00:00, 16131.94it/s]\n",
      "Retrieving RobocrystallogapherDoc documents: 100%|██████████| 1/1 [00:00<00:00, 19784.45it/s]\n",
      "Retrieving RobocrystallogapherDoc documents: 100%|██████████| 1/1 [00:00<00:00, 16578.28it/s]\n",
      "Retrieving RobocrystallogapherDoc documents: 100%|██████████| 1/1 [00:00<00:00, 17848.10it/s]\n",
      "Retrieving RobocrystallogapherDoc documents: 100%|██████████| 1/1 [00:00<00:00, 26379.27it/s]\n",
      "Retrieving RobocrystallogapherDoc documents: 100%|██████████| 1/1 [00:00<00:00, 23172.95it/s]\n",
      "Retrieving RobocrystallogapherDoc documents: 100%|██████████| 1/1 [00:00<00:00, 23696.63it/s]\n",
      "Retrieving RobocrystallogapherDoc documents: 100%|██████████| 1/1 [00:00<00:00, 21290.88it/s]\n",
      "Retrieving RobocrystallogapherDoc documents: 100%|██████████| 1/1 [00:00<00:00, 22919.69it/s]\n",
      "Retrieving RobocrystallogapherDoc documents: 100%|██████████| 1/1 [00:00<00:00, 13842.59it/s]\n",
      "Retrieving RobocrystallogapherDoc documents: 100%|██████████| 1/1 [00:00<00:00, 25575.02it/s]\n",
      "Retrieving RobocrystallogapherDoc documents: 100%|██████████| 1/1 [00:00<00:00, 22671.91it/s]\n",
      "Retrieving RobocrystallogapherDoc documents: 100%|██████████| 1/1 [00:00<00:00, 24385.49it/s]\n",
      "Retrieving RobocrystallogapherDoc documents: 100%|██████████| 1/1 [00:00<00:00, 18315.74it/s]\n",
      "Retrieving RobocrystallogapherDoc documents: 100%|██████████| 1/1 [00:00<00:00, 24244.53it/s]\n",
      "Retrieving RobocrystallogapherDoc documents: 100%|██████████| 1/1 [00:00<00:00, 20560.31it/s]\n",
      "Retrieving RobocrystallogapherDoc documents: 100%|██████████| 1/1 [00:00<00:00, 26546.23it/s]\n",
      "Retrieving RobocrystallogapherDoc documents: 100%|██████████| 1/1 [00:00<00:00, 24818.37it/s]\n",
      "Retrieving RobocrystallogapherDoc documents: 100%|██████████| 1/1 [00:00<00:00, 19784.45it/s]\n",
      "Retrieving RobocrystallogapherDoc documents: 100%|██████████| 1/1 [00:00<00:00, 23301.69it/s]\n",
      "Retrieving RobocrystallogapherDoc documents: 100%|██████████| 1/1 [00:00<00:00, 24105.20it/s]\n",
      "Retrieving RobocrystallogapherDoc documents: 100%|██████████| 1/1 [00:00<00:00, 24385.49it/s]\n",
      "Retrieving RobocrystallogapherDoc documents: 100%|██████████| 1/1 [00:00<00:00, 14926.35it/s]\n",
      "Retrieving RobocrystallogapherDoc documents: 100%|██████████| 1/1 [00:00<00:00, 17772.47it/s]\n",
      "Retrieving RobocrystallogapherDoc documents: 100%|██████████| 1/1 [00:00<00:00, 17924.38it/s]\n",
      "Retrieving RobocrystallogapherDoc documents: 100%|██████████| 1/1 [00:00<00:00, 18477.11it/s]\n",
      "Retrieving RobocrystallogapherDoc documents: 100%|██████████| 1/1 [00:00<00:00, 12446.01it/s]\n",
      "Retrieving RobocrystallogapherDoc documents: 100%|██████████| 1/1 [00:00<00:00, 16256.99it/s]\n",
      "Retrieving RobocrystallogapherDoc documents: 100%|██████████| 1/1 [00:00<00:00, 15420.24it/s]\n",
      "Retrieving RobocrystallogapherDoc documents: 100%|██████████| 1/1 [00:00<00:00, 15650.39it/s]\n",
      "Retrieving RobocrystallogapherDoc documents: 100%|██████████| 1/1 [00:00<00:00, 14979.66it/s]\n",
      "Retrieving RobocrystallogapherDoc documents: 100%|██████████| 1/1 [00:00<00:00, 14665.40it/s]\n",
      "Retrieving RobocrystallogapherDoc documents: 100%|██████████| 1/1 [00:00<00:00, 14217.98it/s]\n",
      "Retrieving RobocrystallogapherDoc documents: 100%|██████████| 1/1 [00:00<00:00, 16513.01it/s]\n",
      "Retrieving RobocrystallogapherDoc documents: 100%|██████████| 1/1 [00:00<00:00, 14926.35it/s]\n",
      "Retrieving RobocrystallogapherDoc documents: 100%|██████████| 1/1 [00:00<00:00, 11715.93it/s]\n",
      "Retrieving RobocrystallogapherDoc documents: 100%|██████████| 1/1 [00:00<00:00, 12787.51it/s]\n",
      "Retrieving RobocrystallogapherDoc documents: 100%|██████████| 1/1 [00:00<00:00, 13486.51it/s]\n",
      "Retrieving RobocrystallogapherDoc documents: 100%|██████████| 1/1 [00:00<00:00, 18641.35it/s]\n",
      "Retrieving RobocrystallogapherDoc documents: 100%|██████████| 1/1 [00:00<00:00, 21845.33it/s]\n",
      "Retrieving RobocrystallogapherDoc documents: 100%|██████████| 1/1 [00:00<00:00, 12945.38it/s]\n",
      "Retrieving RobocrystallogapherDoc documents: 100%|██████████| 1/1 [00:00<00:00, 13617.87it/s]\n",
      "Retrieving RobocrystallogapherDoc documents: 100%|██████████| 1/1 [00:00<00:00, 14463.12it/s]\n",
      "Retrieving RobocrystallogapherDoc documents: 100%|██████████| 1/1 [00:00<00:00, 14979.66it/s]\n",
      "Retrieving RobocrystallogapherDoc documents: 100%|██████████| 1/1 [00:00<00:00, 10058.28it/s]\n",
      "Retrieving RobocrystallogapherDoc documents: 100%|██████████| 1/1 [00:00<00:00, 9754.20it/s]\n",
      "Retrieving RobocrystallogapherDoc documents: 100%|██████████| 1/1 [00:00<00:00, 12409.18it/s]\n",
      "Retrieving RobocrystallogapherDoc documents: 100%|██████████| 1/1 [00:00<00:00, 11037.64it/s]\n",
      "Retrieving RobocrystallogapherDoc documents: 100%|██████████| 1/1 [00:00<00:00, 11814.94it/s]\n",
      "Retrieving RobocrystallogapherDoc documents: 100%|██████████| 1/1 [00:00<00:00, 12192.74it/s]\n",
      "Retrieving RobocrystallogapherDoc documents: 100%|██████████| 1/1 [00:00<00:00, 11618.57it/s]\n",
      "Retrieving RobocrystallogapherDoc documents: 100%|██████████| 1/1 [00:00<00:00, 11428.62it/s]\n",
      "Retrieving RobocrystallogapherDoc documents: 100%|██████████| 1/1 [00:00<00:00, 13273.11it/s]\n",
      "Retrieving RobocrystallogapherDoc documents: 100%|██████████| 1/1 [00:00<00:00, 11650.84it/s]\n",
      "Retrieving RobocrystallogapherDoc documents: 100%|██████████| 1/1 [00:00<00:00, 12372.58it/s]\n",
      "Retrieving RobocrystallogapherDoc documents: 100%|██████████| 1/1 [00:00<00:00, 12945.38it/s]\n",
      "Retrieving RobocrystallogapherDoc documents: 100%|██████████| 1/1 [00:00<00:00, 11397.57it/s]\n",
      "Retrieving RobocrystallogapherDoc documents: 100%|██████████| 1/1 [00:00<00:00, 13573.80it/s]\n",
      "Retrieving RobocrystallogapherDoc documents: 100%|██████████| 1/1 [00:00<00:00, 12192.74it/s]\n",
      "Retrieving RobocrystallogapherDoc documents: 100%|██████████| 1/1 [00:00<00:00, 11305.40it/s]\n",
      "Retrieving RobocrystallogapherDoc documents: 100%|██████████| 1/1 [00:00<00:00, 11037.64it/s]\n",
      "Retrieving RobocrystallogapherDoc documents: 100%|██████████| 1/1 [00:00<00:00, 11983.73it/s]\n",
      "Retrieving RobocrystallogapherDoc documents: 100%|██████████| 1/1 [00:00<00:00, 11915.64it/s]\n",
      "Retrieving RobocrystallogapherDoc documents: 100%|██████████| 1/1 [00:00<00:00, 11554.56it/s]\n",
      "Retrieving RobocrystallogapherDoc documents: 100%|██████████| 1/1 [00:00<00:00, 9404.27it/s]\n",
      "Retrieving RobocrystallogapherDoc documents: 100%|██████████| 1/1 [00:00<00:00, 11848.32it/s]\n",
      "Retrieving RobocrystallogapherDoc documents: 100%|██████████| 1/1 [00:00<00:00, 11915.64it/s]\n",
      "Retrieving RobocrystallogapherDoc documents: 100%|██████████| 1/1 [00:00<00:00, 12446.01it/s]\n",
      "Retrieving RobocrystallogapherDoc documents: 100%|██████████| 1/1 [00:00<00:00, 11184.81it/s]\n",
      "Retrieving RobocrystallogapherDoc documents: 100%|██████████| 1/1 [00:00<00:00, 8756.38it/s]\n",
      "Retrieving RobocrystallogapherDoc documents: 100%|██████████| 1/1 [00:00<00:00, 11618.57it/s]\n",
      "Retrieving RobocrystallogapherDoc documents: 100%|██████████| 1/1 [00:00<00:00, 11586.48it/s]\n",
      "Retrieving RobocrystallogapherDoc documents: 100%|██████████| 1/1 [00:00<00:00, 11397.57it/s]\n",
      "Retrieving RobocrystallogapherDoc documents: 100%|██████████| 1/1 [00:00<00:00, 12087.33it/s]\n",
      "Retrieving RobocrystallogapherDoc documents: 100%|██████████| 1/1 [00:00<00:00, 11650.84it/s]\n",
      "Retrieving RobocrystallogapherDoc documents: 100%|██████████| 1/1 [00:00<00:00, 10951.19it/s]\n",
      "Retrieving RobocrystallogapherDoc documents: 100%|██████████| 1/1 [00:00<00:00, 12192.74it/s]\n",
      "Retrieving RobocrystallogapherDoc documents: 100%|██████████| 1/1 [00:00<00:00, 11814.94it/s]\n",
      "Retrieving RobocrystallogapherDoc documents: 100%|██████████| 1/1 [00:00<00:00, 3949.44it/s]\n",
      "Retrieving RobocrystallogapherDoc documents: 100%|██████████| 1/1 [00:00<00:00, 11881.88it/s]\n",
      "Retrieving RobocrystallogapherDoc documents: 100%|██████████| 1/1 [00:00<00:00, 11522.81it/s]\n",
      "Retrieving RobocrystallogapherDoc documents: 100%|██████████| 1/1 [00:00<00:00, 12018.06it/s]\n",
      "Retrieving RobocrystallogapherDoc documents: 100%|██████████| 1/1 [00:00<00:00, 10433.59it/s]\n",
      "Retrieving RobocrystallogapherDoc documents: 100%|██████████| 1/1 [00:00<00:00, 10782.27it/s]\n",
      "Retrieving RobocrystallogapherDoc documents: 100%|██████████| 1/1 [00:00<00:00, 10810.06it/s]\n",
      "Retrieving RobocrystallogapherDoc documents: 100%|██████████| 1/1 [00:00<00:00, 11184.81it/s]\n",
      "Retrieving RobocrystallogapherDoc documents: 100%|██████████| 1/1 [00:00<00:00, 11554.56it/s]\n",
      "Retrieving RobocrystallogapherDoc documents: 100%|██████████| 1/1 [00:00<00:00, 12300.01it/s]\n",
      "Retrieving RobocrystallogapherDoc documents: 100%|██████████| 1/1 [00:00<00:00, 12018.06it/s]\n"
     ]
    },
    {
     "name": "stdout",
     "output_type": "stream",
     "text": [
      "mp-23797\n"
     ]
    },
    {
     "name": "stderr",
     "output_type": "stream",
     "text": [
      "Retrieving RobocrystallogapherDoc documents: 100%|██████████| 1/1 [00:00<00:00, 12018.06it/s]\n",
      "Retrieving RobocrystallogapherDoc documents: 100%|██████████| 1/1 [00:00<00:00, 11335.96it/s]\n",
      "Retrieving RobocrystallogapherDoc documents: 100%|██████████| 1/1 [00:00<00:00, 12052.60it/s]\n",
      "Retrieving RobocrystallogapherDoc documents: 100%|██████████| 1/1 [00:00<00:00, 11522.81it/s]\n",
      "Retrieving RobocrystallogapherDoc documents: 100%|██████████| 1/1 [00:00<00:00, 12192.74it/s]\n",
      "Retrieving RobocrystallogapherDoc documents: 100%|██████████| 1/1 [00:00<00:00, 11275.01it/s]\n",
      "Retrieving RobocrystallogapherDoc documents: 100%|██████████| 1/1 [00:00<00:00, 11683.30it/s]\n",
      "Retrieving RobocrystallogapherDoc documents: 100%|██████████| 1/1 [00:00<00:00, 11781.75it/s]\n",
      "Retrieving RobocrystallogapherDoc documents: 100%|██████████| 1/1 [00:00<00:00, 10565.00it/s]\n",
      "Retrieving RobocrystallogapherDoc documents: 100%|██████████| 1/1 [00:00<00:00, 10782.27it/s]\n"
     ]
    },
    {
     "name": "stdout",
     "output_type": "stream",
     "text": [
      "mp-1235117\n"
     ]
    },
    {
     "name": "stderr",
     "output_type": "stream",
     "text": [
      "Retrieving RobocrystallogapherDoc documents: 100%|██████████| 1/1 [00:00<00:00, 11781.75it/s]\n"
     ]
    },
    {
     "name": "stdout",
     "output_type": "stream",
     "text": [
      "mp-1235117\n"
     ]
    },
    {
     "name": "stderr",
     "output_type": "stream",
     "text": [
      "Retrieving RobocrystallogapherDoc documents: 100%|██████████| 1/1 [00:00<00:00, 12264.05it/s]\n"
     ]
    },
    {
     "name": "stdout",
     "output_type": "stream",
     "text": [
      "mp-1235505\n"
     ]
    },
    {
     "name": "stderr",
     "output_type": "stream",
     "text": [
      "Retrieving RobocrystallogapherDoc documents: 100%|██████████| 1/1 [00:00<00:00, 12671.61it/s]\n",
      "Retrieving RobocrystallogapherDoc documents: 100%|██████████| 1/1 [00:00<00:00, 11428.62it/s]\n"
     ]
    },
    {
     "name": "stdout",
     "output_type": "stream",
     "text": [
      "mp-1235127\n"
     ]
    },
    {
     "name": "stderr",
     "output_type": "stream",
     "text": [
      "Retrieving RobocrystallogapherDoc documents: 100%|██████████| 1/1 [00:00<00:00, 11066.77it/s]\n",
      "Retrieving RobocrystallogapherDoc documents: 100%|██████████| 1/1 [00:00<00:00, 11781.75it/s]\n"
     ]
    },
    {
     "name": "stdout",
     "output_type": "stream",
     "text": [
      "mp-23797\n"
     ]
    },
    {
     "name": "stderr",
     "output_type": "stream",
     "text": [
      "Retrieving RobocrystallogapherDoc documents: 100%|██████████| 1/1 [00:00<00:00, 12228.29it/s]\n"
     ]
    },
    {
     "name": "stdout",
     "output_type": "stream",
     "text": [
      "mp-1235127\n"
     ]
    },
    {
     "name": "stderr",
     "output_type": "stream",
     "text": [
      "Retrieving RobocrystallogapherDoc documents: 100%|██████████| 1/1 [00:00<00:00, 12087.33it/s]\n",
      "Retrieving RobocrystallogapherDoc documents: 100%|██████████| 1/1 [00:00<00:00, 12087.33it/s]\n"
     ]
    },
    {
     "name": "stdout",
     "output_type": "stream",
     "text": [
      "mp-1235216\n"
     ]
    },
    {
     "name": "stderr",
     "output_type": "stream",
     "text": [
      "Retrieving RobocrystallogapherDoc documents: 100%|██████████| 1/1 [00:00<00:00, 13797.05it/s]\n"
     ]
    },
    {
     "name": "stdout",
     "output_type": "stream",
     "text": [
      "mp-1235357\n"
     ]
    },
    {
     "name": "stderr",
     "output_type": "stream",
     "text": [
      "Retrieving RobocrystallogapherDoc documents: 100%|██████████| 1/1 [00:00<00:00, 17476.27it/s]\n"
     ]
    },
    {
     "name": "stdout",
     "output_type": "stream",
     "text": [
      "mp-1235357\n"
     ]
    },
    {
     "name": "stderr",
     "output_type": "stream",
     "text": [
      "Retrieving RobocrystallogapherDoc documents: 100%|██████████| 1/1 [00:00<00:00, 17623.13it/s]\n",
      "Retrieving RobocrystallogapherDoc documents: 100%|██████████| 1/1 [00:00<00:00, 18477.11it/s]\n",
      "Retrieving RobocrystallogapherDoc documents: 100%|██████████| 1/1 [00:00<00:00, 12018.06it/s]\n"
     ]
    },
    {
     "name": "stdout",
     "output_type": "stream",
     "text": [
      "mp-1235216\n"
     ]
    },
    {
     "name": "stderr",
     "output_type": "stream",
     "text": [
      "Retrieving RobocrystallogapherDoc documents: 100%|██████████| 1/1 [00:00<00:00, 15252.01it/s]\n"
     ]
    },
    {
     "name": "stdout",
     "output_type": "stream",
     "text": [
      "mp-1235505\n"
     ]
    },
    {
     "name": "stderr",
     "output_type": "stream",
     "text": [
      "Retrieving RobocrystallogapherDoc documents: 100%|██████████| 1/1 [00:00<00:00, 16384.00it/s]\n",
      "Retrieving RobocrystallogapherDoc documents: 100%|██████████| 1/1 [00:00<00:00, 9137.92it/s]\n",
      "Retrieving RobocrystallogapherDoc documents: 100%|██████████| 1/1 [00:00<00:00, 22310.13it/s]\n",
      "Retrieving RobocrystallogapherDoc documents: 100%|██████████| 1/1 [00:00<00:00, 27235.74it/s]\n",
      "Retrieving RobocrystallogapherDoc documents: 100%|██████████| 1/1 [00:00<00:00, 27235.74it/s]\n",
      "Retrieving RobocrystallogapherDoc documents: 100%|██████████| 1/1 [00:00<00:00, 20262.34it/s]\n",
      "Retrieving RobocrystallogapherDoc documents: 100%|██████████| 1/1 [00:00<00:00, 22550.02it/s]\n",
      "Retrieving RobocrystallogapherDoc documents: 100%|██████████| 1/1 [00:00<00:00, 22192.08it/s]\n",
      "Retrieving RobocrystallogapherDoc documents: 100%|██████████| 1/1 [00:00<00:00, 12905.55it/s]\n",
      "Retrieving RobocrystallogapherDoc documents: 100%|██████████| 1/1 [00:00<00:00, 23301.69it/s]\n",
      "Retrieving RobocrystallogapherDoc documents: 100%|██████████| 1/1 [00:00<00:00, 23172.95it/s]\n",
      "Retrieving RobocrystallogapherDoc documents: 100%|██████████| 1/1 [00:00<00:00, 18396.07it/s]\n",
      "Retrieving RobocrystallogapherDoc documents: 100%|██████████| 1/1 [00:00<00:00, 17119.61it/s]\n",
      "Retrieving RobocrystallogapherDoc documents: 100%|██████████| 1/1 [00:00<00:00, 18315.74it/s]\n",
      "Retrieving RobocrystallogapherDoc documents: 100%|██████████| 1/1 [00:00<00:00, 18558.87it/s]\n",
      "Retrieving RobocrystallogapherDoc documents: 100%|██████████| 1/1 [00:00<00:00, 18724.57it/s]\n",
      "Retrieving RobocrystallogapherDoc documents: 100%|██████████| 1/1 [00:00<00:00, 15141.89it/s]\n"
     ]
    },
    {
     "name": "stdout",
     "output_type": "stream",
     "text": [
      "mp-1236223\n"
     ]
    },
    {
     "name": "stderr",
     "output_type": "stream",
     "text": [
      "Retrieving RobocrystallogapherDoc documents: 100%|██████████| 1/1 [00:00<00:00, 18893.26it/s]\n",
      "Retrieving RobocrystallogapherDoc documents: 100%|██████████| 1/1 [00:00<00:00, 19691.57it/s]\n",
      "Retrieving RobocrystallogapherDoc documents: 100%|██████████| 1/1 [00:00<00:00, 18641.35it/s]\n"
     ]
    },
    {
     "name": "stdout",
     "output_type": "stream",
     "text": [
      "mp-1236223\n"
     ]
    },
    {
     "name": "stderr",
     "output_type": "stream",
     "text": [
      "Retrieving RobocrystallogapherDoc documents: 100%|██████████| 1/1 [00:00<00:00, 19065.02it/s]\n"
     ]
    },
    {
     "name": "stdout",
     "output_type": "stream",
     "text": [
      "mp-1236223\n"
     ]
    },
    {
     "name": "stderr",
     "output_type": "stream",
     "text": [
      "Retrieving RobocrystallogapherDoc documents: 100%|██████████| 1/1 [00:00<00:00, 14513.16it/s]\n",
      "Retrieving RobocrystallogapherDoc documents: 100%|██████████| 1/1 [00:00<00:00, 18396.07it/s]\n",
      "Retrieving RobocrystallogapherDoc documents: 100%|██████████| 1/1 [00:00<00:00, 17331.83it/s]\n",
      "Retrieving RobocrystallogapherDoc documents: 100%|██████████| 1/1 [00:00<00:00, 20661.60it/s]\n",
      "Retrieving RobocrystallogapherDoc documents: 100%|██████████| 1/1 [00:00<00:00, 17772.47it/s]\n",
      "Retrieving RobocrystallogapherDoc documents: 100%|██████████| 1/1 [00:00<00:00, 18315.74it/s]\n",
      "Retrieving RobocrystallogapherDoc documents: 100%|██████████| 1/1 [00:00<00:00, 17772.47it/s]\n",
      "Retrieving RobocrystallogapherDoc documents: 100%|██████████| 1/1 [00:00<00:00, 11650.84it/s]\n",
      "Retrieving RobocrystallogapherDoc documents: 100%|██████████| 1/1 [00:00<00:00, 10305.42it/s]\n",
      "Retrieving RobocrystallogapherDoc documents: 100%|██████████| 1/1 [00:00<00:00, 18724.57it/s]\n",
      "Retrieving RobocrystallogapherDoc documents: 100%|██████████| 1/1 [00:00<00:00, 19239.93it/s]\n",
      "Retrieving RobocrystallogapherDoc documents: 100%|██████████| 1/1 [00:00<00:00, 17331.83it/s]\n",
      "Retrieving RobocrystallogapherDoc documents: 100%|██████████| 1/1 [00:00<00:00, 18157.16it/s]\n",
      "Retrieving RobocrystallogapherDoc documents: 100%|██████████| 1/1 [00:00<00:00, 19152.07it/s]\n",
      "Retrieving RobocrystallogapherDoc documents: 100%|██████████| 1/1 [00:00<00:00, 17772.47it/s]\n",
      "Retrieving RobocrystallogapherDoc documents: 100%|██████████| 1/1 [00:00<00:00, 18893.26it/s]\n",
      "Retrieving RobocrystallogapherDoc documents: 100%|██████████| 1/1 [00:00<00:00, 16980.99it/s]\n",
      "Retrieving RobocrystallogapherDoc documents: 100%|██████████| 1/1 [00:00<00:00, 18001.30it/s]\n",
      "Retrieving RobocrystallogapherDoc documents: 100%|██████████| 1/1 [00:00<00:00, 23831.27it/s]\n",
      "Retrieving RobocrystallogapherDoc documents: 100%|██████████| 1/1 [00:00<00:00, 22671.91it/s]\n",
      "Retrieving RobocrystallogapherDoc documents: 100%|██████████| 1/1 [00:00<00:00, 23563.51it/s]\n",
      "Retrieving RobocrystallogapherDoc documents: 100%|██████████| 1/1 [00:00<00:00, 24818.37it/s]\n",
      "Retrieving RobocrystallogapherDoc documents: 100%|██████████| 1/1 [00:00<00:00, 23172.95it/s]\n",
      "Retrieving RobocrystallogapherDoc documents: 100%|██████████| 1/1 [00:00<00:00, 21845.33it/s]\n",
      "Retrieving RobocrystallogapherDoc documents: 100%|██████████| 1/1 [00:00<00:00, 24105.20it/s]\n",
      "Retrieving RobocrystallogapherDoc documents: 100%|██████████| 1/1 [00:00<00:00, 20360.70it/s]\n",
      "Retrieving RobocrystallogapherDoc documents: 100%|██████████| 1/1 [00:00<00:00, 19239.93it/s]\n",
      "Retrieving RobocrystallogapherDoc documents: 100%|██████████| 1/1 [00:00<00:00, 19691.57it/s]\n",
      "Retrieving RobocrystallogapherDoc documents: 100%|██████████| 1/1 [00:00<00:00, 19152.07it/s]\n",
      "Retrieving RobocrystallogapherDoc documents: 100%|██████████| 1/1 [00:00<00:00, 19508.39it/s]\n",
      "Retrieving RobocrystallogapherDoc documents: 100%|██████████| 1/1 [00:00<00:00, 19972.88it/s]\n",
      "Retrieving RobocrystallogapherDoc documents: 100%|██████████| 1/1 [00:00<00:00, 21959.71it/s]\n",
      "Retrieving RobocrystallogapherDoc documents: 100%|██████████| 1/1 [00:00<00:00, 22550.02it/s]\n",
      "Retrieving RobocrystallogapherDoc documents: 100%|██████████| 1/1 [00:00<00:00, 22310.13it/s]\n",
      "Retrieving RobocrystallogapherDoc documents: 100%|██████████| 1/1 [00:00<00:00, 19691.57it/s]\n",
      "Retrieving RobocrystallogapherDoc documents: 100%|██████████| 1/1 [00:00<00:00, 19065.02it/s]\n",
      "Retrieving RobocrystallogapherDoc documents: 100%|██████████| 1/1 [00:00<00:00, 19508.39it/s]\n",
      "Retrieving RobocrystallogapherDoc documents: 100%|██████████| 1/1 [00:00<00:00, 19328.59it/s]\n",
      "Retrieving RobocrystallogapherDoc documents: 100%|██████████| 1/1 [00:00<00:00, 19784.45it/s]\n",
      "Retrieving RobocrystallogapherDoc documents: 100%|██████████| 1/1 [00:00<00:00, 19784.45it/s]\n",
      "Retrieving RobocrystallogapherDoc documents: 100%|██████████| 1/1 [00:00<00:00, 22192.08it/s]\n",
      "Retrieving RobocrystallogapherDoc documents: 100%|██████████| 1/1 [00:00<00:00, 22795.13it/s]\n",
      "Retrieving RobocrystallogapherDoc documents: 100%|██████████| 1/1 [00:00<00:00, 20164.92it/s]\n",
      "Retrieving RobocrystallogapherDoc documents: 100%|██████████| 1/1 [00:00<00:00, 19599.55it/s]\n",
      "Retrieving RobocrystallogapherDoc documents: 100%|██████████| 1/1 [00:00<00:00, 19239.93it/s]\n",
      "Retrieving RobocrystallogapherDoc documents: 100%|██████████| 1/1 [00:00<00:00, 19239.93it/s]\n",
      "Retrieving RobocrystallogapherDoc documents: 100%|██████████| 1/1 [00:00<00:00, 22310.13it/s]\n",
      "Retrieving RobocrystallogapherDoc documents: 100%|██████████| 1/1 [00:00<00:00, 20560.31it/s]\n",
      "Retrieving RobocrystallogapherDoc documents: 100%|██████████| 1/1 [00:00<00:00, 23696.63it/s]\n",
      "Retrieving RobocrystallogapherDoc documents: 100%|██████████| 1/1 [00:00<00:00, 19152.07it/s]\n"
     ]
    },
    {
     "name": "stdout",
     "output_type": "stream",
     "text": [
      "mp-1178142\n"
     ]
    },
    {
     "name": "stderr",
     "output_type": "stream",
     "text": [
      "Retrieving RobocrystallogapherDoc documents: 100%|██████████| 1/1 [00:00<00:00, 20360.70it/s]\n"
     ]
    },
    {
     "name": "stdout",
     "output_type": "stream",
     "text": [
      "mp-1178142\n"
     ]
    },
    {
     "name": "stderr",
     "output_type": "stream",
     "text": [
      "Retrieving RobocrystallogapherDoc documents: 100%|██████████| 1/1 [00:00<00:00, 22310.13it/s]\n",
      "Retrieving RobocrystallogapherDoc documents: 100%|██████████| 1/1 [00:00<00:00, 18978.75it/s]\n",
      "Retrieving RobocrystallogapherDoc documents: 100%|██████████| 1/1 [00:00<00:00, 19508.39it/s]\n"
     ]
    },
    {
     "name": "stdout",
     "output_type": "stream",
     "text": [
      "mp-1193297\n"
     ]
    },
    {
     "name": "stderr",
     "output_type": "stream",
     "text": [
      "Retrieving RobocrystallogapherDoc documents: 100%|██████████| 1/1 [00:00<00:00, 22550.02it/s]\n",
      "Retrieving RobocrystallogapherDoc documents: 100%|██████████| 1/1 [00:00<00:00, 20360.70it/s]\n",
      "Retrieving RobocrystallogapherDoc documents: 100%|██████████| 1/1 [00:00<00:00, 19691.57it/s]\n",
      "Retrieving RobocrystallogapherDoc documents: 100%|██████████| 1/1 [00:00<00:00, 19878.22it/s]\n",
      "Retrieving RobocrystallogapherDoc documents: 100%|██████████| 1/1 [00:00<00:00, 22919.69it/s]\n"
     ]
    },
    {
     "name": "stdout",
     "output_type": "stream",
     "text": [
      "mp-1193297\n"
     ]
    },
    {
     "name": "stderr",
     "output_type": "stream",
     "text": [
      "Retrieving RobocrystallogapherDoc documents: 100%|██████████| 1/1 [00:00<00:00, 20262.34it/s]\n",
      "Retrieving RobocrystallogapherDoc documents: 100%|██████████| 1/1 [00:00<00:00, 19239.93it/s]\n",
      "Retrieving RobocrystallogapherDoc documents: 100%|██████████| 1/1 [00:00<00:00, 20164.92it/s]\n",
      "Retrieving RobocrystallogapherDoc documents: 100%|██████████| 1/1 [00:00<00:00, 18893.26it/s]\n",
      "Retrieving RobocrystallogapherDoc documents: 100%|██████████| 1/1 [00:00<00:00, 16644.06it/s]\n",
      "Retrieving RobocrystallogapherDoc documents: 100%|██████████| 1/1 [00:00<00:00, 19418.07it/s]\n"
     ]
    },
    {
     "name": "stdout",
     "output_type": "stream",
     "text": [
      "mp-1235186\n"
     ]
    },
    {
     "name": "stderr",
     "output_type": "stream",
     "text": [
      "Retrieving RobocrystallogapherDoc documents: 100%|██████████| 1/1 [00:00<00:00, 19691.57it/s]\n",
      "Retrieving RobocrystallogapherDoc documents: 100%|██████████| 1/1 [00:00<00:00, 19418.07it/s]\n",
      "Retrieving RobocrystallogapherDoc documents: 100%|██████████| 1/1 [00:00<00:00, 20068.44it/s]\n",
      "Retrieving RobocrystallogapherDoc documents: 100%|██████████| 1/1 [00:00<00:00, 22075.28it/s]\n"
     ]
    },
    {
     "name": "stdout",
     "output_type": "stream",
     "text": [
      "mp-1235186\n"
     ]
    },
    {
     "name": "stderr",
     "output_type": "stream",
     "text": [
      "Retrieving RobocrystallogapherDoc documents: 100%|██████████| 1/1 [00:00<00:00, 20560.31it/s]\n",
      "Retrieving RobocrystallogapherDoc documents: 100%|██████████| 1/1 [00:00<00:00, 19418.07it/s]\n",
      "Retrieving RobocrystallogapherDoc documents: 100%|██████████| 1/1 [00:00<00:00, 22075.28it/s]\n",
      "Retrieving RobocrystallogapherDoc documents: 100%|██████████| 1/1 [00:00<00:00, 19599.55it/s]\n",
      "Retrieving RobocrystallogapherDoc documents: 100%|██████████| 1/1 [00:00<00:00, 19328.59it/s]\n",
      "Retrieving RobocrystallogapherDoc documents: 100%|██████████| 1/1 [00:00<00:00, 24105.20it/s]\n",
      "Retrieving RobocrystallogapherDoc documents: 100%|██████████| 1/1 [00:00<00:00, 23831.27it/s]\n",
      "Retrieving RobocrystallogapherDoc documents: 100%|██████████| 1/1 [00:00<00:00, 22192.08it/s]\n",
      "Retrieving RobocrystallogapherDoc documents: 100%|██████████| 1/1 [00:00<00:00, 19599.55it/s]\n",
      "Retrieving RobocrystallogapherDoc documents: 100%|██████████| 1/1 [00:00<00:00, 19691.57it/s]\n",
      "Retrieving RobocrystallogapherDoc documents: 100%|██████████| 1/1 [00:00<00:00, 23431.87it/s]\n",
      "Retrieving RobocrystallogapherDoc documents: 100%|██████████| 1/1 [00:00<00:00, 22310.13it/s]\n",
      "Retrieving RobocrystallogapherDoc documents: 100%|██████████| 1/1 [00:00<00:00, 20262.34it/s]\n",
      "Retrieving RobocrystallogapherDoc documents: 100%|██████████| 1/1 [00:00<00:00, 19599.55it/s]\n",
      "Retrieving RobocrystallogapherDoc documents: 100%|██████████| 1/1 [00:00<00:00, 19784.45it/s]\n",
      "Retrieving RobocrystallogapherDoc documents: 100%|██████████| 1/1 [00:00<00:00, 23301.69it/s]\n",
      "Retrieving RobocrystallogapherDoc documents: 100%|██████████| 1/1 [00:00<00:00, 20460.02it/s]\n",
      "Retrieving RobocrystallogapherDoc documents: 100%|██████████| 1/1 [00:00<00:00, 19972.88it/s]\n",
      "Retrieving RobocrystallogapherDoc documents: 100%|██████████| 1/1 [00:00<00:00, 21620.12it/s]\n",
      "Retrieving RobocrystallogapherDoc documents: 100%|██████████| 1/1 [00:00<00:00, 22671.91it/s]\n",
      "Retrieving RobocrystallogapherDoc documents: 100%|██████████| 1/1 [00:00<00:00, 19691.57it/s]\n",
      "Retrieving RobocrystallogapherDoc documents: 100%|██████████| 1/1 [00:00<00:00, 16980.99it/s]\n",
      "Retrieving RobocrystallogapherDoc documents: 100%|██████████| 1/1 [00:00<00:00, 17772.47it/s]\n",
      "Retrieving RobocrystallogapherDoc documents: 100%|██████████| 1/1 [00:00<00:00, 17924.38it/s]\n",
      "Retrieving RobocrystallogapherDoc documents: 100%|██████████| 1/1 [00:00<00:00, 17924.38it/s]\n",
      "Retrieving RobocrystallogapherDoc documents: 100%|██████████| 1/1 [00:00<00:00, 16008.79it/s]\n",
      "Retrieving RobocrystallogapherDoc documents: 100%|██████████| 1/1 [00:00<00:00, 17848.10it/s]\n",
      "Retrieving RobocrystallogapherDoc documents: 100%|██████████| 1/1 [00:00<00:00, 17050.02it/s]\n",
      "Retrieving RobocrystallogapherDoc documents: 100%|██████████| 1/1 [00:00<00:00, 18001.30it/s]\n",
      "Retrieving RobocrystallogapherDoc documents: 100%|██████████| 1/1 [00:00<00:00, 17697.49it/s]\n",
      "Retrieving RobocrystallogapherDoc documents: 100%|██████████| 1/1 [00:00<00:00, 17924.38it/s]\n"
     ]
    },
    {
     "name": "stdout",
     "output_type": "stream",
     "text": [
      "mp-1236032\n"
     ]
    },
    {
     "name": "stderr",
     "output_type": "stream",
     "text": [
      "Retrieving RobocrystallogapherDoc documents: 100%|██████████| 1/1 [00:00<00:00, 14563.56it/s]\n"
     ]
    },
    {
     "name": "stdout",
     "output_type": "stream",
     "text": [
      "mp-1236032\n"
     ]
    },
    {
     "name": "stderr",
     "output_type": "stream",
     "text": [
      "Retrieving RobocrystallogapherDoc documents: 100%|██████████| 1/1 [00:00<00:00, 24244.53it/s]\n",
      "Retrieving RobocrystallogapherDoc documents: 100%|██████████| 1/1 [00:00<00:00, 21732.15it/s]\n",
      "Retrieving RobocrystallogapherDoc documents: 100%|██████████| 1/1 [00:00<00:00, 19418.07it/s]\n",
      "Retrieving RobocrystallogapherDoc documents: 100%|██████████| 1/1 [00:00<00:00, 21732.15it/s]\n",
      "Retrieving RobocrystallogapherDoc documents: 100%|██████████| 1/1 [00:00<00:00, 19691.57it/s]\n",
      "Retrieving RobocrystallogapherDoc documents: 100%|██████████| 1/1 [00:00<00:00, 23301.69it/s]\n",
      "Retrieving RobocrystallogapherDoc documents: 100%|██████████| 1/1 [00:00<00:00, 16777.22it/s]\n",
      "Retrieving RobocrystallogapherDoc documents: 100%|██████████| 1/1 [00:00<00:00, 23045.63it/s]\n",
      "Retrieving RobocrystallogapherDoc documents: 100%|██████████| 1/1 [00:00<00:00, 23172.95it/s]\n",
      "Retrieving RobocrystallogapherDoc documents: 100%|██████████| 1/1 [00:00<00:00, 23696.63it/s]\n"
     ]
    },
    {
     "name": "stdout",
     "output_type": "stream",
     "text": [
      "mp-648988\n"
     ]
    },
    {
     "name": "stderr",
     "output_type": "stream",
     "text": [
      "Retrieving RobocrystallogapherDoc documents: 100%|██████████| 1/1 [00:00<00:00, 22550.02it/s]\n",
      "Retrieving RobocrystallogapherDoc documents: 100%|██████████| 1/1 [00:00<00:00, 27776.85it/s]\n",
      "Retrieving RobocrystallogapherDoc documents: 100%|██████████| 1/1 [00:00<00:00, 20867.18it/s]\n",
      "Retrieving RobocrystallogapherDoc documents: 100%|██████████| 1/1 [00:00<00:00, 20164.92it/s]\n"
     ]
    },
    {
     "name": "stdout",
     "output_type": "stream",
     "text": [
      "mp-648988\n"
     ]
    },
    {
     "name": "stderr",
     "output_type": "stream",
     "text": [
      "Retrieving RobocrystallogapherDoc documents: 100%|██████████| 1/1 [00:00<00:00, 24818.37it/s]\n",
      "Retrieving RobocrystallogapherDoc documents: 100%|██████████| 1/1 [00:00<00:00, 23831.27it/s]\n",
      "Retrieving RobocrystallogapherDoc documents: 100%|██████████| 1/1 [00:00<00:00, 24528.09it/s]\n",
      "Retrieving RobocrystallogapherDoc documents: 100%|██████████| 1/1 [00:00<00:00, 24244.53it/s]\n",
      "Retrieving RobocrystallogapherDoc documents: 100%|██████████| 1/1 [00:00<00:00, 23563.51it/s]\n",
      "Retrieving RobocrystallogapherDoc documents: 100%|██████████| 1/1 [00:00<00:00, 18641.35it/s]\n",
      "Retrieving RobocrystallogapherDoc documents: 100%|██████████| 1/1 [00:00<00:00, 19599.55it/s]\n",
      "Retrieving RobocrystallogapherDoc documents: 100%|██████████| 1/1 [00:00<00:00, 17260.51it/s]\n",
      "Retrieving RobocrystallogapherDoc documents: 100%|██████████| 1/1 [00:00<00:00, 21620.12it/s]\n",
      "Retrieving RobocrystallogapherDoc documents: 100%|██████████| 1/1 [00:00<00:00, 13066.37it/s]\n",
      "Retrieving RobocrystallogapherDoc documents: 100%|██████████| 1/1 [00:00<00:00, 14768.68it/s]\n",
      "Retrieving RobocrystallogapherDoc documents: 100%|██████████| 1/1 [00:00<00:00, 14614.30it/s]\n",
      "Retrieving RobocrystallogapherDoc documents: 100%|██████████| 1/1 [00:00<00:00, 14563.56it/s]\n",
      "Retrieving RobocrystallogapherDoc documents: 100%|██████████| 1/1 [00:00<00:00, 15307.68it/s]\n",
      "Retrieving RobocrystallogapherDoc documents: 100%|██████████| 1/1 [00:00<00:00, 13530.01it/s]\n",
      "Retrieving RobocrystallogapherDoc documents: 100%|██████████| 1/1 [00:00<00:00, 23696.63it/s]\n",
      "Retrieving RobocrystallogapherDoc documents: 100%|██████████| 1/1 [00:00<00:00, 23301.69it/s]\n",
      "Retrieving RobocrystallogapherDoc documents: 100%|██████████| 1/1 [00:00<00:00, 23172.95it/s]\n"
     ]
    },
    {
     "name": "stdout",
     "output_type": "stream",
     "text": [
      "mp-1106116\n"
     ]
    },
    {
     "name": "stderr",
     "output_type": "stream",
     "text": [
      "Retrieving RobocrystallogapherDoc documents: 100%|██████████| 1/1 [00:00<00:00, 23301.69it/s]\n"
     ]
    },
    {
     "name": "stdout",
     "output_type": "stream",
     "text": [
      "mp-1180582\n"
     ]
    },
    {
     "name": "stderr",
     "output_type": "stream",
     "text": [
      "Retrieving RobocrystallogapherDoc documents: 100%|██████████| 1/1 [00:00<00:00, 23431.87it/s]\n"
     ]
    },
    {
     "name": "stdout",
     "output_type": "stream",
     "text": [
      "mp-1180582\n"
     ]
    },
    {
     "name": "stderr",
     "output_type": "stream",
     "text": [
      "Retrieving RobocrystallogapherDoc documents: 100%|██████████| 1/1 [00:00<00:00, 23172.95it/s]\n"
     ]
    },
    {
     "name": "stdout",
     "output_type": "stream",
     "text": [
      "mp-1106116\n"
     ]
    },
    {
     "name": "stderr",
     "output_type": "stream",
     "text": [
      "Retrieving RobocrystallogapherDoc documents: 100%|██████████| 1/1 [00:00<00:00, 23696.63it/s]\n",
      "Retrieving RobocrystallogapherDoc documents: 100%|██████████| 1/1 [00:00<00:00, 19878.22it/s]\n",
      "Retrieving RobocrystallogapherDoc documents: 100%|██████████| 1/1 [00:00<00:00, 21290.88it/s]\n",
      "Retrieving RobocrystallogapherDoc documents: 100%|██████████| 1/1 [00:00<00:00, 23831.27it/s]\n",
      "Retrieving RobocrystallogapherDoc documents: 100%|██████████| 1/1 [00:00<00:00, 22429.43it/s]\n",
      "Retrieving RobocrystallogapherDoc documents: 100%|██████████| 1/1 [00:00<00:00, 15534.46it/s]\n",
      "Retrieving RobocrystallogapherDoc documents: 100%|██████████| 1/1 [00:00<00:00, 20068.44it/s]\n",
      "Retrieving RobocrystallogapherDoc documents: 100%|██████████| 1/1 [00:00<00:00, 21959.71it/s]\n",
      "Retrieving RobocrystallogapherDoc documents: 100%|██████████| 1/1 [00:00<00:00, 26379.27it/s]\n",
      "Retrieving RobocrystallogapherDoc documents: 100%|██████████| 1/1 [00:00<00:00, 22795.13it/s]\n",
      "Retrieving RobocrystallogapherDoc documents: 100%|██████████| 1/1 [00:00<00:00, 10754.63it/s]\n",
      "Retrieving RobocrystallogapherDoc documents: 100%|██████████| 1/1 [00:00<00:00, 17119.61it/s]\n",
      "Retrieving RobocrystallogapherDoc documents: 100%|██████████| 1/1 [00:00<00:00, 12595.51it/s]\n",
      "Retrieving RobocrystallogapherDoc documents: 100%|██████████| 1/1 [00:00<00:00, 13400.33it/s]\n",
      "Retrieving RobocrystallogapherDoc documents: 100%|██████████| 1/1 [00:00<00:00, 20971.52it/s]\n",
      "Retrieving RobocrystallogapherDoc documents: 100%|██████████| 1/1 [00:00<00:00, 22550.02it/s]\n",
      "Retrieving RobocrystallogapherDoc documents: 100%|██████████| 1/1 [00:00<00:00, 23045.63it/s]\n",
      "Retrieving RobocrystallogapherDoc documents: 100%|██████████| 1/1 [00:00<00:00, 18558.87it/s]\n",
      "Retrieving RobocrystallogapherDoc documents: 100%|██████████| 1/1 [00:00<00:00, 27413.75it/s]\n",
      "Retrieving RobocrystallogapherDoc documents: 100%|██████████| 1/1 [00:00<00:00, 27235.74it/s]\n",
      "Retrieving RobocrystallogapherDoc documents: 100%|██████████| 1/1 [00:00<00:00, 17260.51it/s]\n",
      "Retrieving RobocrystallogapherDoc documents: 100%|██████████| 1/1 [00:00<00:00, 16844.59it/s]\n",
      "Retrieving RobocrystallogapherDoc documents: 100%|██████████| 1/1 [00:00<00:00, 19878.22it/s]\n"
     ]
    },
    {
     "name": "stdout",
     "output_type": "stream",
     "text": [
      "mp-1235056\n"
     ]
    },
    {
     "name": "stderr",
     "output_type": "stream",
     "text": [
      "Retrieving RobocrystallogapherDoc documents: 100%|██████████| 1/1 [00:00<00:00, 19784.45it/s]\n",
      "Retrieving RobocrystallogapherDoc documents: 100%|██████████| 1/1 [00:00<00:00, 26715.31it/s]\n",
      "Retrieving RobocrystallogapherDoc documents: 100%|██████████| 1/1 [00:00<00:00, 21290.88it/s]\n",
      "Retrieving RobocrystallogapherDoc documents: 100%|██████████| 1/1 [00:00<00:00, 27413.75it/s]\n",
      "Retrieving RobocrystallogapherDoc documents: 100%|██████████| 1/1 [00:00<00:00, 12520.31it/s]\n"
     ]
    },
    {
     "name": "stdout",
     "output_type": "stream",
     "text": [
      "mp-1235056\n"
     ]
    },
    {
     "name": "stderr",
     "output_type": "stream",
     "text": [
      "Retrieving RobocrystallogapherDoc documents: 100%|██████████| 1/1 [00:00<00:00, 22919.69it/s]\n",
      "Retrieving RobocrystallogapherDoc documents: 100%|██████████| 1/1 [00:00<00:00, 23172.95it/s]\n",
      "Retrieving RobocrystallogapherDoc documents: 100%|██████████| 1/1 [00:00<00:00, 27060.03it/s]\n",
      "Retrieving RobocrystallogapherDoc documents: 100%|██████████| 1/1 [00:00<00:00, 24244.53it/s]\n",
      "Retrieving RobocrystallogapherDoc documents: 100%|██████████| 1/1 [00:00<00:00, 25115.59it/s]\n",
      "Retrieving RobocrystallogapherDoc documents: 100%|██████████| 1/1 [00:00<00:00, 21620.12it/s]\n",
      "Retrieving RobocrystallogapherDoc documents: 100%|██████████| 1/1 [00:00<00:00, 23431.87it/s]\n",
      "Retrieving RobocrystallogapherDoc documents: 100%|██████████| 1/1 [00:00<00:00, 26886.56it/s]\n",
      "Retrieving RobocrystallogapherDoc documents: 100%|██████████| 1/1 [00:00<00:00, 16644.06it/s]\n",
      "Retrieving RobocrystallogapherDoc documents: 100%|██████████| 1/1 [00:00<00:00, 17189.77it/s]\n",
      "Retrieving RobocrystallogapherDoc documents: 100%|██████████| 1/1 [00:00<00:00, 17189.77it/s]\n",
      "Retrieving RobocrystallogapherDoc documents: 100%|██████████| 1/1 [00:00<00:00, 15947.92it/s]\n",
      "Retrieving RobocrystallogapherDoc documents: 100%|██████████| 1/1 [00:00<00:00, 15141.89it/s]\n",
      "Retrieving RobocrystallogapherDoc documents: 100%|██████████| 1/1 [00:00<00:00, 17260.51it/s]\n",
      "Retrieving RobocrystallogapherDoc documents: 100%|██████████| 1/1 [00:00<00:00, 16448.25it/s]\n",
      "Retrieving RobocrystallogapherDoc documents: 100%|██████████| 1/1 [00:00<00:00, 16844.59it/s]\n",
      "Retrieving RobocrystallogapherDoc documents: 100%|██████████| 1/1 [00:00<00:00, 14513.16it/s]\n",
      "Retrieving RobocrystallogapherDoc documents: 100%|██████████| 1/1 [00:00<00:00, 16320.25it/s]\n",
      "Retrieving RobocrystallogapherDoc documents: 100%|██████████| 1/1 [00:00<00:00, 15363.75it/s]\n",
      "Retrieving RobocrystallogapherDoc documents: 100%|██████████| 1/1 [00:00<00:00, 15709.00it/s]\n",
      "Retrieving RobocrystallogapherDoc documents: 100%|██████████| 1/1 [00:00<00:00, 15887.52it/s]\n",
      "Retrieving RobocrystallogapherDoc documents: 100%|██████████| 1/1 [00:00<00:00, 11848.32it/s]\n",
      "Retrieving RobocrystallogapherDoc documents: 100%|██████████| 1/1 [00:00<00:00, 12336.19it/s]\n",
      "Retrieving RobocrystallogapherDoc documents: 100%|██████████| 1/1 [00:00<00:00, 15709.00it/s]\n",
      "Retrieving RobocrystallogapherDoc documents: 100%|██████████| 1/1 [00:00<00:00, 14820.86it/s]\n",
      "Retrieving RobocrystallogapherDoc documents: 100%|██████████| 1/1 [00:00<00:00, 16980.99it/s]\n",
      "Retrieving RobocrystallogapherDoc documents: 100%|██████████| 1/1 [00:00<00:00, 13400.33it/s]\n",
      "Retrieving RobocrystallogapherDoc documents: 100%|██████████| 1/1 [00:00<00:00, 12228.29it/s]\n"
     ]
    },
    {
     "name": "stdout",
     "output_type": "stream",
     "text": [
      "mp-23985\n"
     ]
    },
    {
     "name": "stderr",
     "output_type": "stream",
     "text": [
      "Retrieving RobocrystallogapherDoc documents: 100%|██████████| 1/1 [00:00<00:00, 16384.00it/s]\n",
      "Retrieving RobocrystallogapherDoc documents: 100%|██████████| 1/1 [00:00<00:00, 16980.99it/s]\n",
      "Retrieving RobocrystallogapherDoc documents: 100%|██████████| 1/1 [00:00<00:00, 13400.33it/s]\n",
      "Retrieving RobocrystallogapherDoc documents: 100%|██████████| 1/1 [00:00<00:00, 15650.39it/s]\n",
      "Retrieving RobocrystallogapherDoc documents: 100%|██████████| 1/1 [00:00<00:00, 12787.51it/s]\n"
     ]
    },
    {
     "name": "stdout",
     "output_type": "stream",
     "text": [
      "mp-23985\n"
     ]
    },
    {
     "name": "stderr",
     "output_type": "stream",
     "text": [
      "Retrieving RobocrystallogapherDoc documents: 100%|██████████| 1/1 [00:00<00:00, 12228.29it/s]\n",
      "Retrieving RobocrystallogapherDoc documents: 100%|██████████| 1/1 [00:00<00:00, 16384.00it/s]\n",
      "Retrieving RobocrystallogapherDoc documents: 100%|██████████| 1/1 [00:00<00:00, 10433.59it/s]\n",
      "Retrieving RobocrystallogapherDoc documents: 100%|██████████| 1/1 [00:00<00:00, 13842.59it/s]\n",
      "Retrieving RobocrystallogapherDoc documents: 100%|██████████| 1/1 [00:00<00:00, 14074.85it/s]\n"
     ]
    },
    {
     "name": "stdout",
     "output_type": "stream",
     "text": [
      "mp-1235478\n"
     ]
    },
    {
     "name": "stderr",
     "output_type": "stream",
     "text": [
      "Retrieving RobocrystallogapherDoc documents: 100%|██████████| 1/1 [00:00<00:00, 15196.75it/s]\n"
     ]
    },
    {
     "name": "stdout",
     "output_type": "stream",
     "text": [
      "mp-1235478\n"
     ]
    },
    {
     "name": "stderr",
     "output_type": "stream",
     "text": [
      "Retrieving RobocrystallogapherDoc documents: 100%|██████████| 1/1 [00:00<00:00, 21290.88it/s]\n",
      "Retrieving RobocrystallogapherDoc documents: 100%|██████████| 1/1 [00:00<00:00, 23967.45it/s]\n",
      "Retrieving RobocrystallogapherDoc documents: 100%|██████████| 1/1 [00:00<00:00, 26715.31it/s]\n",
      "Retrieving RobocrystallogapherDoc documents: 100%|██████████| 1/1 [00:00<00:00, 22919.69it/s]\n",
      "Retrieving RobocrystallogapherDoc documents: 100%|██████████| 1/1 [00:00<00:00, 22671.91it/s]\n",
      "Retrieving RobocrystallogapherDoc documents: 100%|██████████| 1/1 [00:00<00:00, 23172.95it/s]\n",
      "Retrieving RobocrystallogapherDoc documents: 100%|██████████| 1/1 [00:00<00:00, 27060.03it/s]\n",
      "Retrieving RobocrystallogapherDoc documents: 100%|██████████| 1/1 [00:00<00:00, 16320.25it/s]\n",
      "Retrieving RobocrystallogapherDoc documents: 100%|██████████| 1/1 [00:00<00:00, 20560.31it/s]\n",
      "Retrieving RobocrystallogapherDoc documents: 100%|██████████| 1/1 [00:00<00:00, 26379.27it/s]\n",
      "Retrieving RobocrystallogapherDoc documents: 100%|██████████| 1/1 [00:00<00:00, 25731.93it/s]\n",
      "Retrieving RobocrystallogapherDoc documents: 100%|██████████| 1/1 [00:00<00:00, 22550.02it/s]\n",
      "Retrieving RobocrystallogapherDoc documents: 100%|██████████| 1/1 [00:00<00:00, 27235.74it/s]\n",
      "Retrieving RobocrystallogapherDoc documents: 100%|██████████| 1/1 [00:00<00:00, 13400.33it/s]\n",
      "Retrieving RobocrystallogapherDoc documents: 100%|██████████| 1/1 [00:00<00:00, 26214.40it/s]\n",
      "Retrieving RobocrystallogapherDoc documents: 100%|██████████| 1/1 [00:00<00:00, 24966.10it/s]\n",
      "Retrieving RobocrystallogapherDoc documents: 100%|██████████| 1/1 [00:00<00:00, 21732.15it/s]\n",
      "Retrieving RobocrystallogapherDoc documents: 100%|██████████| 1/1 [00:00<00:00, 27235.74it/s]\n",
      "Retrieving RobocrystallogapherDoc documents: 100%|██████████| 1/1 [00:00<00:00, 23431.87it/s]\n",
      "Retrieving RobocrystallogapherDoc documents: 100%|██████████| 1/1 [00:00<00:00, 26379.27it/s]\n",
      "Retrieving RobocrystallogapherDoc documents: 100%|██████████| 1/1 [00:00<00:00, 15033.35it/s]\n",
      "Retrieving RobocrystallogapherDoc documents: 100%|██████████| 1/1 [00:00<00:00, 20068.44it/s]\n",
      "Retrieving RobocrystallogapherDoc documents: 100%|██████████| 1/1 [00:00<00:00, 25420.02it/s]\n",
      "Retrieving RobocrystallogapherDoc documents: 100%|██████████| 1/1 [00:00<00:00, 21620.12it/s]\n",
      "Retrieving RobocrystallogapherDoc documents: 100%|██████████| 1/1 [00:00<00:00, 24528.09it/s]\n",
      "Retrieving RobocrystallogapherDoc documents: 100%|██████████| 1/1 [00:00<00:00, 24385.49it/s]\n",
      "Retrieving RobocrystallogapherDoc documents: 100%|██████████| 1/1 [00:00<00:00, 22075.28it/s]\n",
      "Retrieving RobocrystallogapherDoc documents: 100%|██████████| 1/1 [00:00<00:00, 21290.88it/s]\n",
      "Retrieving RobocrystallogapherDoc documents: 100%|██████████| 1/1 [00:00<00:00, 19784.45it/s]\n",
      "Retrieving RobocrystallogapherDoc documents: 100%|██████████| 1/1 [00:00<00:00, 22310.13it/s]\n",
      "Retrieving RobocrystallogapherDoc documents: 100%|██████████| 1/1 [00:00<00:00, 21732.15it/s]\n",
      "Retrieving RobocrystallogapherDoc documents: 100%|██████████| 1/1 [00:00<00:00, 17697.49it/s]\n",
      "Retrieving RobocrystallogapherDoc documents: 100%|██████████| 1/1 [00:00<00:00, 22795.13it/s]\n",
      "Retrieving RobocrystallogapherDoc documents: 100%|██████████| 1/1 [00:00<00:00, 23045.63it/s]\n",
      "Retrieving RobocrystallogapherDoc documents: 100%|██████████| 1/1 [00:00<00:00, 13662.23it/s]\n",
      "Retrieving RobocrystallogapherDoc documents: 100%|██████████| 1/1 [00:00<00:00, 12945.38it/s]\n",
      "Retrieving RobocrystallogapherDoc documents: 100%|██████████| 1/1 [00:00<00:00, 10407.70it/s]\n",
      "Retrieving RobocrystallogapherDoc documents: 100%|██████████| 1/1 [00:00<00:00, 14463.12it/s]\n",
      "Retrieving RobocrystallogapherDoc documents: 100%|██████████| 1/1 [00:00<00:00, 14768.68it/s]\n",
      "Retrieving RobocrystallogapherDoc documents: 100%|██████████| 1/1 [00:00<00:00, 13888.42it/s]\n",
      "Retrieving RobocrystallogapherDoc documents: 100%|██████████| 1/1 [00:00<00:00, 15252.01it/s]\n",
      "Retrieving RobocrystallogapherDoc documents: 100%|██████████| 1/1 [00:00<00:00, 15087.42it/s]\n",
      "Retrieving RobocrystallogapherDoc documents: 100%|██████████| 1/1 [00:00<00:00, 15709.00it/s]\n",
      "Retrieving RobocrystallogapherDoc documents: 100%|██████████| 1/1 [00:00<00:00, 16384.00it/s]\n",
      "Retrieving RobocrystallogapherDoc documents: 100%|██████████| 1/1 [00:00<00:00, 22429.43it/s]\n",
      "Retrieving RobocrystallogapherDoc documents: 100%|██████████| 1/1 [00:00<00:00, 22075.28it/s]\n",
      "Retrieving RobocrystallogapherDoc documents: 100%|██████████| 1/1 [00:00<00:00, 23831.27it/s]\n",
      "Retrieving RobocrystallogapherDoc documents: 100%|██████████| 1/1 [00:00<00:00, 22919.69it/s]\n",
      "Retrieving RobocrystallogapherDoc documents: 100%|██████████| 1/1 [00:00<00:00, 19691.57it/s]\n",
      "Retrieving RobocrystallogapherDoc documents: 100%|██████████| 1/1 [00:00<00:00, 19972.88it/s]\n",
      "Retrieving RobocrystallogapherDoc documents: 100%|██████████| 1/1 [00:00<00:00, 22919.69it/s]\n",
      "Retrieving RobocrystallogapherDoc documents: 100%|██████████| 1/1 [00:00<00:00, 23831.27it/s]\n",
      "Retrieving RobocrystallogapherDoc documents: 100%|██████████| 1/1 [00:00<00:00, 27962.03it/s]\n",
      "Retrieving RobocrystallogapherDoc documents: 100%|██████████| 1/1 [00:00<00:00, 22919.69it/s]\n",
      "Retrieving RobocrystallogapherDoc documents: 100%|██████████| 1/1 [00:00<00:00, 27776.85it/s]\n",
      "Retrieving RobocrystallogapherDoc documents: 100%|██████████| 1/1 [00:00<00:00, 21620.12it/s]\n",
      "Retrieving RobocrystallogapherDoc documents: 100%|██████████| 1/1 [00:00<00:00, 20661.60it/s]\n",
      "Retrieving RobocrystallogapherDoc documents: 100%|██████████| 1/1 [00:00<00:00, 23431.87it/s]\n",
      "Retrieving RobocrystallogapherDoc documents: 100%|██████████| 1/1 [00:00<00:00, 23431.87it/s]\n",
      "Retrieving RobocrystallogapherDoc documents: 100%|██████████| 1/1 [00:00<00:00, 18808.54it/s]\n",
      "Retrieving RobocrystallogapherDoc documents: 100%|██████████| 1/1 [00:00<00:00, 15141.89it/s]\n",
      "Retrieving RobocrystallogapherDoc documents: 100%|██████████| 1/1 [00:00<00:00, 13107.20it/s]\n",
      "Retrieving RobocrystallogapherDoc documents: 100%|██████████| 1/1 [00:00<00:00, 14665.40it/s]\n",
      "Retrieving RobocrystallogapherDoc documents: 100%|██████████| 1/1 [00:00<00:00, 14315.03it/s]\n",
      "Retrieving RobocrystallogapherDoc documents: 100%|██████████| 1/1 [00:00<00:00, 15709.00it/s]\n",
      "Retrieving RobocrystallogapherDoc documents: 100%|██████████| 1/1 [00:00<00:00, 13357.66it/s]\n",
      "Retrieving RobocrystallogapherDoc documents: 100%|██████████| 1/1 [00:00<00:00, 14563.56it/s]\n",
      "Retrieving RobocrystallogapherDoc documents: 100%|██████████| 1/1 [00:00<00:00, 12228.29it/s]\n",
      "Retrieving RobocrystallogapherDoc documents: 100%|██████████| 1/1 [00:00<00:00, 15827.56it/s]\n"
     ]
    },
    {
     "name": "stdout",
     "output_type": "stream",
     "text": [
      "mp-1236232\n"
     ]
    },
    {
     "name": "stderr",
     "output_type": "stream",
     "text": [
      "Retrieving RobocrystallogapherDoc documents: 100%|██████████| 1/1 [00:00<00:00, 13706.88it/s]\n"
     ]
    },
    {
     "name": "stdout",
     "output_type": "stream",
     "text": [
      "mp-1236232\n"
     ]
    },
    {
     "name": "stderr",
     "output_type": "stream",
     "text": [
      "Retrieving RobocrystallogapherDoc documents: 100%|██████████| 1/1 [00:00<00:00, 14169.95it/s]\n",
      "Retrieving RobocrystallogapherDoc documents: 100%|██████████| 1/1 [00:00<00:00, 10837.99it/s]\n",
      "Retrieving RobocrystallogapherDoc documents: 100%|██████████| 1/1 [00:00<00:00, 12945.38it/s]\n",
      "Retrieving RobocrystallogapherDoc documents: 100%|██████████| 1/1 [00:00<00:00, 15033.35it/s]\n",
      "Retrieving RobocrystallogapherDoc documents: 100%|██████████| 1/1 [00:00<00:00, 13888.42it/s]\n",
      "Retrieving RobocrystallogapherDoc documents: 100%|██████████| 1/1 [00:00<00:00, 15307.68it/s]\n",
      "Retrieving RobocrystallogapherDoc documents: 100%|██████████| 1/1 [00:00<00:00, 16008.79it/s]\n",
      "Retrieving RobocrystallogapherDoc documents: 100%|██████████| 1/1 [00:00<00:00, 15196.75it/s]\n",
      "Retrieving RobocrystallogapherDoc documents: 100%|██████████| 1/1 [00:00<00:00, 9754.20it/s]\n",
      "Retrieving RobocrystallogapherDoc documents: 100%|██████████| 1/1 [00:00<00:00, 12710.01it/s]\n"
     ]
    },
    {
     "name": "stdout",
     "output_type": "stream",
     "text": [
      "mp-24446\n"
     ]
    },
    {
     "name": "stderr",
     "output_type": "stream",
     "text": [
      "Retrieving RobocrystallogapherDoc documents: 100%|██████████| 1/1 [00:00<00:00, 16256.99it/s]\n"
     ]
    },
    {
     "name": "stdout",
     "output_type": "stream",
     "text": [
      "mp-24446\n"
     ]
    },
    {
     "name": "stderr",
     "output_type": "stream",
     "text": [
      "Retrieving RobocrystallogapherDoc documents: 100%|██████████| 1/1 [00:00<00:00, 18558.87it/s]\n",
      "Retrieving RobocrystallogapherDoc documents: 100%|██████████| 1/1 [00:00<00:00, 17260.51it/s]\n",
      "Retrieving RobocrystallogapherDoc documents: 100%|██████████| 1/1 [00:00<00:00, 15592.21it/s]\n"
     ]
    },
    {
     "name": "stdout",
     "output_type": "stream",
     "text": [
      "mp-642650\n"
     ]
    },
    {
     "name": "stderr",
     "output_type": "stream",
     "text": [
      "Retrieving RobocrystallogapherDoc documents: 100%|██████████| 1/1 [00:00<00:00, 17549.39it/s]\n",
      "Retrieving RobocrystallogapherDoc documents: 100%|██████████| 1/1 [00:00<00:00, 16320.25it/s]\n",
      "Retrieving RobocrystallogapherDoc documents: 100%|██████████| 1/1 [00:00<00:00, 14716.86it/s]\n",
      "Retrieving RobocrystallogapherDoc documents: 100%|██████████| 1/1 [00:00<00:00, 14768.68it/s]\n",
      "Retrieving RobocrystallogapherDoc documents: 100%|██████████| 1/1 [00:00<00:00, 14820.86it/s]\n",
      "Retrieving RobocrystallogapherDoc documents: 100%|██████████| 1/1 [00:00<00:00, 16980.99it/s]\n",
      "Retrieving RobocrystallogapherDoc documents: 100%|██████████| 1/1 [00:00<00:00, 15477.14it/s]\n",
      "Retrieving RobocrystallogapherDoc documents: 100%|██████████| 1/1 [00:00<00:00, 16194.22it/s]\n",
      "Retrieving RobocrystallogapherDoc documents: 100%|██████████| 1/1 [00:00<00:00, 14563.56it/s]\n",
      "Retrieving RobocrystallogapherDoc documents: 100%|██████████| 1/1 [00:00<00:00, 16844.59it/s]\n"
     ]
    },
    {
     "name": "stdout",
     "output_type": "stream",
     "text": [
      "mp-642650\n"
     ]
    },
    {
     "name": "stderr",
     "output_type": "stream",
     "text": [
      "Retrieving RobocrystallogapherDoc documents: 100%|██████████| 1/1 [00:00<00:00, 13662.23it/s]\n",
      "Retrieving RobocrystallogapherDoc documents: 100%|██████████| 1/1 [00:00<00:00, 15768.06it/s]\n",
      "Retrieving RobocrystallogapherDoc documents: 100%|██████████| 1/1 [00:00<00:00, 15363.75it/s]\n",
      "Retrieving RobocrystallogapherDoc documents: 100%|██████████| 1/1 [00:00<00:00, 12671.61it/s]\n",
      "Retrieving RobocrystallogapherDoc documents: 100%|██████████| 1/1 [00:00<00:00, 15650.39it/s]\n",
      "Retrieving RobocrystallogapherDoc documents: 100%|██████████| 1/1 [00:00<00:00, 14563.56it/s]\n",
      "Retrieving RobocrystallogapherDoc documents: 100%|██████████| 1/1 [00:00<00:00, 16256.99it/s]\n",
      "Retrieving RobocrystallogapherDoc documents: 100%|██████████| 1/1 [00:00<00:00, 17549.39it/s]\n",
      "Retrieving RobocrystallogapherDoc documents: 100%|██████████| 1/1 [00:00<00:00, 15252.01it/s]\n",
      "Retrieving RobocrystallogapherDoc documents: 100%|██████████| 1/1 [00:00<00:00, 13273.11it/s]\n",
      "Retrieving RobocrystallogapherDoc documents: 100%|██████████| 1/1 [00:00<00:00, 15709.00it/s]\n",
      "Retrieving RobocrystallogapherDoc documents: 100%|██████████| 1/1 [00:00<00:00, 11305.40it/s]\n",
      "Retrieving RobocrystallogapherDoc documents: 100%|██████████| 1/1 [00:00<00:00, 13486.51it/s]\n",
      "Retrieving RobocrystallogapherDoc documents: 100%|██████████| 1/1 [00:00<00:00, 15420.24it/s]\n",
      "Retrieving RobocrystallogapherDoc documents: 100%|██████████| 1/1 [00:00<00:00, 15420.24it/s]\n",
      "Retrieving RobocrystallogapherDoc documents: 100%|██████████| 1/1 [00:00<00:00, 17331.83it/s]\n"
     ]
    },
    {
     "name": "stdout",
     "output_type": "stream",
     "text": [
      "mp-756853\n"
     ]
    },
    {
     "name": "stderr",
     "output_type": "stream",
     "text": [
      "Retrieving RobocrystallogapherDoc documents: 100%|██████████| 1/1 [00:00<00:00, 17260.51it/s]\n",
      "Retrieving RobocrystallogapherDoc documents: 100%|██████████| 1/1 [00:00<00:00, 17403.75it/s]\n",
      "Retrieving RobocrystallogapherDoc documents: 100%|██████████| 1/1 [00:00<00:00, 15768.06it/s]\n",
      "Retrieving RobocrystallogapherDoc documents: 100%|██████████| 1/1 [00:00<00:00, 14315.03it/s]\n",
      "Retrieving RobocrystallogapherDoc documents: 100%|██████████| 1/1 [00:00<00:00, 15477.14it/s]\n",
      "Retrieving RobocrystallogapherDoc documents: 100%|██████████| 1/1 [00:00<00:00, 17260.51it/s]\n",
      "Retrieving RobocrystallogapherDoc documents: 100%|██████████| 1/1 [00:00<00:00, 16912.52it/s]\n",
      "Retrieving RobocrystallogapherDoc documents: 100%|██████████| 1/1 [00:00<00:00, 15363.75it/s]\n"
     ]
    },
    {
     "name": "stdout",
     "output_type": "stream",
     "text": [
      "mp-1236720\n"
     ]
    },
    {
     "name": "stderr",
     "output_type": "stream",
     "text": [
      "Retrieving RobocrystallogapherDoc documents: 100%|██████████| 1/1 [00:00<00:00, 14820.86it/s]\n",
      "Retrieving RobocrystallogapherDoc documents: 100%|██████████| 1/1 [00:00<00:00, 12192.74it/s]\n",
      "Retrieving RobocrystallogapherDoc documents: 100%|██████████| 1/1 [00:00<00:00, 14027.77it/s]\n",
      "Retrieving RobocrystallogapherDoc documents: 100%|██████████| 1/1 [00:00<00:00, 16644.06it/s]\n",
      "Retrieving RobocrystallogapherDoc documents: 100%|██████████| 1/1 [00:00<00:00, 16980.99it/s]\n",
      "Retrieving RobocrystallogapherDoc documents: 100%|██████████| 1/1 [00:00<00:00, 15307.68it/s]\n",
      "Retrieving RobocrystallogapherDoc documents: 100%|██████████| 1/1 [00:00<00:00, 15650.39it/s]\n"
     ]
    },
    {
     "name": "stdout",
     "output_type": "stream",
     "text": [
      "mp-1236720\n"
     ]
    },
    {
     "name": "stderr",
     "output_type": "stream",
     "text": [
      "Retrieving RobocrystallogapherDoc documents: 100%|██████████| 1/1 [00:00<00:00, 16844.59it/s]\n",
      "Retrieving RobocrystallogapherDoc documents: 100%|██████████| 1/1 [00:00<00:00, 15650.39it/s]\n",
      "Retrieving RobocrystallogapherDoc documents: 100%|██████████| 1/1 [00:00<00:00, 14873.42it/s]\n",
      "Retrieving RobocrystallogapherDoc documents: 100%|██████████| 1/1 [00:00<00:00, 15709.00it/s]\n",
      "Retrieving RobocrystallogapherDoc documents: 100%|██████████| 1/1 [00:00<00:00, 17119.61it/s]\n"
     ]
    },
    {
     "name": "stdout",
     "output_type": "stream",
     "text": [
      "mp-756853\n"
     ]
    },
    {
     "name": "stderr",
     "output_type": "stream",
     "text": [
      "Retrieving RobocrystallogapherDoc documents: 100%|██████████| 1/1 [00:00<00:00, 13888.42it/s]\n",
      "Retrieving RobocrystallogapherDoc documents: 100%|██████████| 1/1 [00:00<00:00, 15709.00it/s]\n",
      "Retrieving RobocrystallogapherDoc documents: 100%|██████████| 1/1 [00:00<00:00, 17119.61it/s]\n",
      "Retrieving RobocrystallogapherDoc documents: 100%|██████████| 1/1 [00:00<00:00, 17260.51it/s]\n",
      "Retrieving RobocrystallogapherDoc documents: 100%|██████████| 1/1 [00:00<00:00, 15420.24it/s]\n",
      "Retrieving RobocrystallogapherDoc documents: 100%|██████████| 1/1 [00:00<00:00, 17189.77it/s]\n",
      "Retrieving RobocrystallogapherDoc documents: 100%|██████████| 1/1 [00:00<00:00, 15592.21it/s]\n",
      "Retrieving RobocrystallogapherDoc documents: 100%|██████████| 1/1 [00:00<00:00, 17119.61it/s]\n",
      "Retrieving RobocrystallogapherDoc documents: 100%|██████████| 1/1 [00:00<00:00, 16844.59it/s]\n",
      "Retrieving RobocrystallogapherDoc documents: 100%|██████████| 1/1 [00:00<00:00, 11915.64it/s]\n",
      "Retrieving RobocrystallogapherDoc documents: 100%|██████████| 1/1 [00:00<00:00, 12228.29it/s]\n",
      "Retrieving RobocrystallogapherDoc documents: 100%|██████████| 1/1 [00:00<00:00, 17260.51it/s]\n",
      "Retrieving RobocrystallogapherDoc documents: 100%|██████████| 1/1 [00:00<00:00, 13025.79it/s]\n",
      "Retrieving RobocrystallogapherDoc documents: 100%|██████████| 1/1 [00:00<00:00, 15592.21it/s]\n",
      "Retrieving RobocrystallogapherDoc documents: 100%|██████████| 1/1 [00:00<00:00, 15087.42it/s]\n",
      "Retrieving RobocrystallogapherDoc documents: 100%|██████████| 1/1 [00:00<00:00, 17697.49it/s]\n",
      "Retrieving RobocrystallogapherDoc documents: 100%|██████████| 1/1 [00:00<00:00, 15592.21it/s]\n",
      "Retrieving RobocrystallogapherDoc documents: 100%|██████████| 1/1 [00:00<00:00, 14979.66it/s]\n",
      "Retrieving RobocrystallogapherDoc documents: 100%|██████████| 1/1 [00:00<00:00, 13934.56it/s]\n",
      "Retrieving RobocrystallogapherDoc documents: 100%|██████████| 1/1 [00:00<00:00, 15033.35it/s]\n",
      "Retrieving RobocrystallogapherDoc documents: 100%|██████████| 1/1 [00:00<00:00, 14820.86it/s]\n",
      "Retrieving RobocrystallogapherDoc documents: 100%|██████████| 1/1 [00:00<00:00, 15947.92it/s]\n",
      "Retrieving RobocrystallogapherDoc documents: 100%|██████████| 1/1 [00:00<00:00, 13981.01it/s]\n",
      "Retrieving RobocrystallogapherDoc documents: 100%|██████████| 1/1 [00:00<00:00, 14169.95it/s]\n",
      "Retrieving RobocrystallogapherDoc documents: 100%|██████████| 1/1 [00:00<00:00, 15709.00it/s]\n",
      "Retrieving RobocrystallogapherDoc documents: 100%|██████████| 1/1 [00:00<00:00, 15363.75it/s]\n",
      "Retrieving RobocrystallogapherDoc documents: 100%|██████████| 1/1 [00:00<00:00, 13486.51it/s]\n",
      "Retrieving RobocrystallogapherDoc documents: 100%|██████████| 1/1 [00:00<00:00, 15709.00it/s]\n",
      "Retrieving RobocrystallogapherDoc documents: 100%|██████████| 1/1 [00:00<00:00, 8097.11it/s]\n",
      "Retrieving RobocrystallogapherDoc documents: 100%|██████████| 1/1 [00:00<00:00, 17119.61it/s]\n",
      "Retrieving RobocrystallogapherDoc documents: 100%|██████████| 1/1 [00:00<00:00, 14768.68it/s]\n",
      "Retrieving RobocrystallogapherDoc documents: 100%|██████████| 1/1 [00:00<00:00, 22919.69it/s]\n",
      "Retrieving RobocrystallogapherDoc documents: 100%|██████████| 1/1 [00:00<00:00, 26886.56it/s]\n",
      "Retrieving RobocrystallogapherDoc documents: 100%|██████████| 1/1 [00:00<00:00, 26379.27it/s]\n",
      "Retrieving RobocrystallogapherDoc documents: 100%|██████████| 1/1 [00:00<00:00, 27235.74it/s]\n",
      "Retrieving RobocrystallogapherDoc documents: 100%|██████████| 1/1 [00:00<00:00, 26051.58it/s]\n",
      "Retrieving RobocrystallogapherDoc documents: 100%|██████████| 1/1 [00:00<00:00, 19418.07it/s]\n",
      "Retrieving RobocrystallogapherDoc documents: 100%|██████████| 1/1 [00:00<00:00, 13443.28it/s]\n",
      "Retrieving RobocrystallogapherDoc documents: 100%|██████████| 1/1 [00:00<00:00, 27060.03it/s]\n",
      "Retrieving RobocrystallogapherDoc documents: 100%|██████████| 1/1 [00:00<00:00, 22429.43it/s]\n",
      "Retrieving RobocrystallogapherDoc documents: 100%|██████████| 1/1 [00:00<00:00, 15592.21it/s]\n",
      "Retrieving RobocrystallogapherDoc documents: 100%|██████████| 1/1 [00:00<00:00, 21732.15it/s]\n",
      "Retrieving RobocrystallogapherDoc documents: 100%|██████████| 1/1 [00:00<00:00, 23172.95it/s]\n",
      "Retrieving RobocrystallogapherDoc documents: 100%|██████████| 1/1 [00:00<00:00, 13981.01it/s]\n",
      "Retrieving RobocrystallogapherDoc documents: 100%|██████████| 1/1 [00:00<00:00, 24966.10it/s]\n",
      "Retrieving RobocrystallogapherDoc documents: 100%|██████████| 1/1 [00:00<00:00, 22919.69it/s]\n",
      "Retrieving RobocrystallogapherDoc documents: 100%|██████████| 1/1 [00:00<00:00, 18893.26it/s]\n",
      "Retrieving RobocrystallogapherDoc documents: 100%|██████████| 1/1 [00:00<00:00, 16008.79it/s]\n",
      "Retrieving RobocrystallogapherDoc documents: 100%|██████████| 1/1 [00:00<00:00, 21845.33it/s]\n",
      "Retrieving RobocrystallogapherDoc documents: 100%|██████████| 1/1 [00:00<00:00, 20460.02it/s]\n",
      "Retrieving RobocrystallogapherDoc documents: 100%|██████████| 1/1 [00:00<00:00, 26715.31it/s]\n",
      "Retrieving RobocrystallogapherDoc documents: 100%|██████████| 1/1 [00:00<00:00, 18978.75it/s]\n",
      "Retrieving RobocrystallogapherDoc documents: 100%|██████████| 1/1 [00:00<00:00, 24966.10it/s]\n",
      "Retrieving RobocrystallogapherDoc documents: 100%|██████████| 1/1 [00:00<00:00, 14315.03it/s]\n",
      "Retrieving RobocrystallogapherDoc documents: 100%|██████████| 1/1 [00:00<00:00, 20763.88it/s]\n",
      "Retrieving RobocrystallogapherDoc documents: 100%|██████████| 1/1 [00:00<00:00, 27235.74it/s]\n",
      "Retrieving RobocrystallogapherDoc documents: 100%|██████████| 1/1 [00:00<00:00, 19152.07it/s]\n",
      "Retrieving RobocrystallogapherDoc documents: 100%|██████████| 1/1 [00:00<00:00, 26379.27it/s]\n"
     ]
    },
    {
     "name": "stdout",
     "output_type": "stream",
     "text": [
      "mp-1235642\n"
     ]
    },
    {
     "name": "stderr",
     "output_type": "stream",
     "text": [
      "Retrieving RobocrystallogapherDoc documents: 100%|██████████| 1/1 [00:00<00:00, 23696.63it/s]\n"
     ]
    },
    {
     "name": "stdout",
     "output_type": "stream",
     "text": [
      "mp-1235642\n"
     ]
    },
    {
     "name": "stderr",
     "output_type": "stream",
     "text": [
      "Retrieving RobocrystallogapherDoc documents: 100%|██████████| 1/1 [00:00<00:00, 16710.37it/s]\n",
      "Retrieving RobocrystallogapherDoc documents: 100%|██████████| 1/1 [00:00<00:00, 16912.52it/s]\n",
      "Retrieving RobocrystallogapherDoc documents: 100%|██████████| 1/1 [00:00<00:00, 21183.35it/s]\n",
      "Retrieving RobocrystallogapherDoc documents: 100%|██████████| 1/1 [00:00<00:00, 18893.26it/s]\n",
      "Retrieving RobocrystallogapherDoc documents: 100%|██████████| 1/1 [00:00<00:00, 23431.87it/s]\n",
      "Retrieving RobocrystallogapherDoc documents: 100%|██████████| 1/1 [00:00<00:00, 21183.35it/s]\n",
      "Retrieving RobocrystallogapherDoc documents: 100%|██████████| 1/1 [00:00<00:00, 22671.91it/s]\n",
      "Retrieving RobocrystallogapherDoc documents: 100%|██████████| 1/1 [00:00<00:00, 16070.13it/s]\n",
      "Retrieving RobocrystallogapherDoc documents: 100%|██████████| 1/1 [00:00<00:00, 19691.57it/s]\n",
      "Retrieving RobocrystallogapherDoc documents: 100%|██████████| 1/1 [00:00<00:00, 24385.49it/s]\n",
      "Retrieving RobocrystallogapherDoc documents: 100%|██████████| 1/1 [00:00<00:00, 22919.69it/s]\n",
      "Retrieving RobocrystallogapherDoc documents: 100%|██████████| 1/1 [00:00<00:00, 26886.56it/s]\n",
      "Retrieving RobocrystallogapherDoc documents: 100%|██████████| 1/1 [00:00<00:00, 23696.63it/s]\n"
     ]
    },
    {
     "name": "stdout",
     "output_type": "stream",
     "text": [
      "mp-1236322\n"
     ]
    },
    {
     "name": "stderr",
     "output_type": "stream",
     "text": [
      "Retrieving RobocrystallogapherDoc documents: 100%|██████████| 1/1 [00:00<00:00, 26379.27it/s]\n",
      "Retrieving RobocrystallogapherDoc documents: 100%|██████████| 1/1 [00:00<00:00, 18078.90it/s]\n",
      "Retrieving RobocrystallogapherDoc documents: 100%|██████████| 1/1 [00:00<00:00, 19328.59it/s]\n",
      "Retrieving RobocrystallogapherDoc documents: 100%|██████████| 1/1 [00:00<00:00, 25575.02it/s]\n"
     ]
    },
    {
     "name": "stdout",
     "output_type": "stream",
     "text": [
      "mp-1236395\n"
     ]
    },
    {
     "name": "stderr",
     "output_type": "stream",
     "text": [
      "Retrieving RobocrystallogapherDoc documents: 100%|██████████| 1/1 [00:00<00:00, 21845.33it/s]\n",
      "Retrieving RobocrystallogapherDoc documents: 100%|██████████| 1/1 [00:00<00:00, 25890.77it/s]\n",
      "Retrieving RobocrystallogapherDoc documents: 100%|██████████| 1/1 [00:00<00:00, 21076.90it/s]\n",
      "Retrieving RobocrystallogapherDoc documents: 100%|██████████| 1/1 [00:00<00:00, 23045.63it/s]\n"
     ]
    },
    {
     "name": "stdout",
     "output_type": "stream",
     "text": [
      "mp-1236322\n"
     ]
    },
    {
     "name": "stderr",
     "output_type": "stream",
     "text": [
      "Retrieving RobocrystallogapherDoc documents: 100%|██████████| 1/1 [00:00<00:00, 18641.35it/s]\n"
     ]
    },
    {
     "name": "stdout",
     "output_type": "stream",
     "text": [
      "mp-1236395\n"
     ]
    },
    {
     "name": "stderr",
     "output_type": "stream",
     "text": [
      "Retrieving RobocrystallogapherDoc documents: 100%|██████████| 1/1 [00:00<00:00, 21620.12it/s]\n",
      "Retrieving RobocrystallogapherDoc documents: 100%|██████████| 1/1 [00:00<00:00, 26051.58it/s]\n",
      "Retrieving RobocrystallogapherDoc documents: 100%|██████████| 1/1 [00:00<00:00, 18558.87it/s]\n",
      "Retrieving RobocrystallogapherDoc documents: 100%|██████████| 1/1 [00:00<00:00, 20971.52it/s]\n",
      "Retrieving RobocrystallogapherDoc documents: 100%|██████████| 1/1 [00:00<00:00, 22919.69it/s]\n",
      "Retrieving RobocrystallogapherDoc documents: 100%|██████████| 1/1 [00:00<00:00, 22075.28it/s]\n",
      "Retrieving RobocrystallogapherDoc documents: 100%|██████████| 1/1 [00:00<00:00, 26886.56it/s]\n",
      "Retrieving RobocrystallogapherDoc documents: 100%|██████████| 1/1 [00:00<00:00, 21399.51it/s]\n",
      "Retrieving RobocrystallogapherDoc documents: 100%|██████████| 1/1 [00:00<00:00, 28339.89it/s]\n",
      "Retrieving RobocrystallogapherDoc documents: 100%|██████████| 1/1 [00:00<00:00, 25420.02it/s]\n",
      "Retrieving RobocrystallogapherDoc documents: 100%|██████████| 1/1 [00:00<00:00, 21183.35it/s]\n",
      "Retrieving RobocrystallogapherDoc documents: 100%|██████████| 1/1 [00:00<00:00, 27060.03it/s]\n",
      "Retrieving RobocrystallogapherDoc documents: 100%|██████████| 1/1 [00:00<00:00, 25115.59it/s]\n",
      "Retrieving RobocrystallogapherDoc documents: 100%|██████████| 1/1 [00:00<00:00, 22550.02it/s]\n",
      "Retrieving RobocrystallogapherDoc documents: 100%|██████████| 1/1 [00:00<00:00, 17549.39it/s]\n",
      "Retrieving RobocrystallogapherDoc documents: 100%|██████████| 1/1 [00:00<00:00, 26715.31it/s]\n",
      "Retrieving RobocrystallogapherDoc documents: 100%|██████████| 1/1 [00:00<00:00, 22192.08it/s]\n",
      "Retrieving RobocrystallogapherDoc documents: 100%|██████████| 1/1 [00:00<00:00, 19691.57it/s]\n",
      "Retrieving RobocrystallogapherDoc documents: 100%|██████████| 1/1 [00:00<00:00, 16644.06it/s]\n",
      "Retrieving RobocrystallogapherDoc documents: 100%|██████████| 1/1 [00:00<00:00, 24672.38it/s]\n",
      "Retrieving RobocrystallogapherDoc documents: 100%|██████████| 1/1 [00:00<00:00, 22192.08it/s]\n",
      "Retrieving RobocrystallogapherDoc documents: 100%|██████████| 1/1 [00:00<00:00, 20560.31it/s]\n",
      "Retrieving RobocrystallogapherDoc documents: 100%|██████████| 1/1 [00:00<00:00, 26886.56it/s]\n",
      "Retrieving RobocrystallogapherDoc documents: 100%|██████████| 1/1 [00:00<00:00, 26715.31it/s]\n",
      "Retrieving RobocrystallogapherDoc documents: 100%|██████████| 1/1 [00:00<00:00, 21509.25it/s]\n",
      "Retrieving RobocrystallogapherDoc documents: 100%|██████████| 1/1 [00:00<00:00, 23045.63it/s]\n",
      "Retrieving RobocrystallogapherDoc documents: 100%|██████████| 1/1 [00:00<00:00, 22671.91it/s]\n",
      "Retrieving RobocrystallogapherDoc documents: 100%|██████████| 1/1 [00:00<00:00, 20164.92it/s]\n",
      "Retrieving RobocrystallogapherDoc documents: 100%|██████████| 1/1 [00:00<00:00, 21732.15it/s]\n",
      "Retrieving RobocrystallogapherDoc documents: 100%|██████████| 1/1 [00:00<00:00, 26715.31it/s]\n",
      "Retrieving RobocrystallogapherDoc documents: 100%|██████████| 1/1 [00:00<00:00, 21076.90it/s]\n",
      "Retrieving RobocrystallogapherDoc documents: 100%|██████████| 1/1 [00:00<00:00, 21399.51it/s]\n",
      "Retrieving RobocrystallogapherDoc documents: 100%|██████████| 1/1 [00:00<00:00, 22671.91it/s]\n",
      "Retrieving RobocrystallogapherDoc documents: 100%|██████████| 1/1 [00:00<00:00, 21076.90it/s]\n",
      "Retrieving RobocrystallogapherDoc documents: 100%|██████████| 1/1 [00:00<00:00, 16384.00it/s]\n",
      "Retrieving RobocrystallogapherDoc documents: 100%|██████████| 1/1 [00:00<00:00, 15477.14it/s]\n",
      "Retrieving RobocrystallogapherDoc documents: 100%|██████████| 1/1 [00:00<00:00, 23172.95it/s]\n",
      "Retrieving RobocrystallogapherDoc documents: 100%|██████████| 1/1 [00:00<00:00, 24385.49it/s]\n",
      "Retrieving RobocrystallogapherDoc documents: 100%|██████████| 1/1 [00:00<00:00, 22429.43it/s]\n",
      "Retrieving RobocrystallogapherDoc documents: 100%|██████████| 1/1 [00:00<00:00, 18078.90it/s]\n",
      "Retrieving RobocrystallogapherDoc documents: 100%|██████████| 1/1 [00:00<00:00, 19328.59it/s]\n",
      "Retrieving RobocrystallogapherDoc documents: 100%|██████████| 1/1 [00:00<00:00, 22550.02it/s]\n",
      "Retrieving RobocrystallogapherDoc documents: 100%|██████████| 1/1 [00:00<00:00, 26546.23it/s]\n",
      "Retrieving RobocrystallogapherDoc documents: 100%|██████████| 1/1 [00:00<00:00, 21509.25it/s]\n",
      "Retrieving RobocrystallogapherDoc documents: 100%|██████████| 1/1 [00:00<00:00, 23431.87it/s]\n",
      "Retrieving RobocrystallogapherDoc documents: 100%|██████████| 1/1 [00:00<00:00, 20867.18it/s]\n",
      "Retrieving RobocrystallogapherDoc documents: 100%|██████████| 1/1 [00:00<00:00, 15307.68it/s]\n",
      "Retrieving RobocrystallogapherDoc documents: 100%|██████████| 1/1 [00:00<00:00, 20360.70it/s]\n",
      "Retrieving RobocrystallogapherDoc documents: 100%|██████████| 1/1 [00:00<00:00, 27060.03it/s]\n",
      "Retrieving RobocrystallogapherDoc documents: 100%|██████████| 1/1 [00:00<00:00, 22429.43it/s]\n",
      "Retrieving RobocrystallogapherDoc documents: 100%|██████████| 1/1 [00:00<00:00, 19239.93it/s]\n",
      "Retrieving RobocrystallogapherDoc documents: 100%|██████████| 1/1 [00:00<00:00, 19152.07it/s]\n",
      "Retrieving RobocrystallogapherDoc documents: 100%|██████████| 1/1 [00:00<00:00, 18078.90it/s]\n",
      "Retrieving RobocrystallogapherDoc documents: 100%|██████████| 1/1 [00:00<00:00, 22550.02it/s]\n",
      "Retrieving RobocrystallogapherDoc documents: 100%|██████████| 1/1 [00:00<00:00, 17119.61it/s]\n",
      "Retrieving RobocrystallogapherDoc documents: 100%|██████████| 1/1 [00:00<00:00, 18001.30it/s]\n",
      "Retrieving RobocrystallogapherDoc documents: 100%|██████████| 1/1 [00:00<00:00, 21732.15it/s]\n",
      "Retrieving RobocrystallogapherDoc documents: 100%|██████████| 1/1 [00:00<00:00, 19599.55it/s]\n",
      "Retrieving RobocrystallogapherDoc documents: 100%|██████████| 1/1 [00:00<00:00, 18315.74it/s]\n",
      "Retrieving RobocrystallogapherDoc documents: 100%|██████████| 1/1 [00:00<00:00, 20867.18it/s]\n",
      "Retrieving RobocrystallogapherDoc documents: 100%|██████████| 1/1 [00:00<00:00, 17050.02it/s]\n",
      "Retrieving RobocrystallogapherDoc documents: 100%|██████████| 1/1 [00:00<00:00, 14122.24it/s]\n",
      "Retrieving RobocrystallogapherDoc documents: 100%|██████████| 1/1 [00:00<00:00, 14614.30it/s]\n",
      "Retrieving RobocrystallogapherDoc documents: 100%|██████████| 1/1 [00:00<00:00, 10979.85it/s]\n",
      "Retrieving RobocrystallogapherDoc documents: 100%|██████████| 1/1 [00:00<00:00, 18001.30it/s]\n",
      "Retrieving RobocrystallogapherDoc documents: 100%|██████████| 1/1 [00:00<00:00, 21290.88it/s]\n",
      "Retrieving RobocrystallogapherDoc documents: 100%|██████████| 1/1 [00:00<00:00, 26886.56it/s]\n",
      "Retrieving RobocrystallogapherDoc documents: 100%|██████████| 1/1 [00:00<00:00, 21509.25it/s]\n",
      "Retrieving RobocrystallogapherDoc documents: 100%|██████████| 1/1 [00:00<00:00, 25575.02it/s]\n",
      "Retrieving RobocrystallogapherDoc documents: 100%|██████████| 1/1 [00:00<00:00, 26546.23it/s]\n",
      "Retrieving RobocrystallogapherDoc documents: 100%|██████████| 1/1 [00:00<00:00, 20560.31it/s]\n",
      "Retrieving RobocrystallogapherDoc documents: 100%|██████████| 1/1 [00:00<00:00, 25266.89it/s]\n",
      "Retrieving RobocrystallogapherDoc documents: 100%|██████████| 1/1 [00:00<00:00, 22075.28it/s]\n",
      "Retrieving RobocrystallogapherDoc documents: 100%|██████████| 1/1 [00:00<00:00, 22550.02it/s]\n",
      "Retrieving RobocrystallogapherDoc documents: 100%|██████████| 1/1 [00:00<00:00, 26051.58it/s]\n",
      "Retrieving RobocrystallogapherDoc documents: 100%|██████████| 1/1 [00:00<00:00, 26715.31it/s]\n",
      "Retrieving RobocrystallogapherDoc documents: 100%|██████████| 1/1 [00:00<00:00, 13888.42it/s]\n",
      "Retrieving RobocrystallogapherDoc documents: 100%|██████████| 1/1 [00:00<00:00, 18157.16it/s]\n",
      "Retrieving RobocrystallogapherDoc documents: 100%|██████████| 1/1 [00:00<00:00, 15534.46it/s]\n",
      "Retrieving RobocrystallogapherDoc documents: 100%|██████████| 1/1 [00:00<00:00, 27413.75it/s]\n",
      "Retrieving RobocrystallogapherDoc documents: 100%|██████████| 1/1 [00:00<00:00, 26546.23it/s]\n",
      "Retrieving RobocrystallogapherDoc documents: 100%|██████████| 1/1 [00:00<00:00, 20164.92it/s]\n",
      "Retrieving RobocrystallogapherDoc documents: 100%|██████████| 1/1 [00:00<00:00, 27060.03it/s]\n"
     ]
    },
    {
     "name": "stdout",
     "output_type": "stream",
     "text": [
      "mp-729013\n"
     ]
    },
    {
     "name": "stderr",
     "output_type": "stream",
     "text": [
      "Retrieving RobocrystallogapherDoc documents: 100%|██████████| 1/1 [00:00<00:00, 18558.87it/s]\n",
      "Retrieving RobocrystallogapherDoc documents: 100%|██████████| 1/1 [00:00<00:00, 20460.02it/s]\n",
      "Retrieving RobocrystallogapherDoc documents: 100%|██████████| 1/1 [00:00<00:00, 22550.02it/s]\n",
      "Retrieving RobocrystallogapherDoc documents: 100%|██████████| 1/1 [00:00<00:00, 19328.59it/s]\n",
      "Retrieving RobocrystallogapherDoc documents: 100%|██████████| 1/1 [00:00<00:00, 22192.08it/s]\n",
      "Retrieving RobocrystallogapherDoc documents: 100%|██████████| 1/1 [00:00<00:00, 22310.13it/s]\n",
      "Retrieving RobocrystallogapherDoc documents: 100%|██████████| 1/1 [00:00<00:00, 19418.07it/s]\n",
      "Retrieving RobocrystallogapherDoc documents: 100%|██████████| 1/1 [00:00<00:00, 18893.26it/s]\n",
      "Retrieving RobocrystallogapherDoc documents: 100%|██████████| 1/1 [00:00<00:00, 19691.57it/s]\n",
      "Retrieving RobocrystallogapherDoc documents: 100%|██████████| 1/1 [00:00<00:00, 25890.77it/s]\n",
      "Retrieving RobocrystallogapherDoc documents: 100%|██████████| 1/1 [00:00<00:00, 19418.07it/s]\n",
      "Retrieving RobocrystallogapherDoc documents: 100%|██████████| 1/1 [00:00<00:00, 23172.95it/s]\n",
      "Retrieving RobocrystallogapherDoc documents: 100%|██████████| 1/1 [00:00<00:00, 20661.60it/s]\n",
      "Retrieving RobocrystallogapherDoc documents: 100%|██████████| 1/1 [00:00<00:00, 15534.46it/s]\n",
      "Retrieving RobocrystallogapherDoc documents: 100%|██████████| 1/1 [00:00<00:00, 13357.66it/s]\n",
      "Retrieving RobocrystallogapherDoc documents: 100%|██████████| 1/1 [00:00<00:00, 20763.88it/s]\n",
      "Retrieving RobocrystallogapherDoc documents: 100%|██████████| 1/1 [00:00<00:00, 26214.40it/s]\n",
      "Retrieving RobocrystallogapherDoc documents: 100%|██████████| 1/1 [00:00<00:00, 26886.56it/s]\n",
      "Retrieving RobocrystallogapherDoc documents: 100%|██████████| 1/1 [00:00<00:00, 27594.11it/s]\n",
      "Retrieving RobocrystallogapherDoc documents: 100%|██████████| 1/1 [00:00<00:00, 17476.27it/s]\n",
      "Retrieving RobocrystallogapherDoc documents: 100%|██████████| 1/1 [00:00<00:00, 19972.88it/s]\n",
      "Retrieving RobocrystallogapherDoc documents: 100%|██████████| 1/1 [00:00<00:00, 17924.38it/s]\n",
      "Retrieving RobocrystallogapherDoc documents: 100%|██████████| 1/1 [00:00<00:00, 25420.02it/s]\n",
      "Retrieving RobocrystallogapherDoc documents: 100%|██████████| 1/1 [00:00<00:00, 21959.71it/s]\n",
      "Retrieving RobocrystallogapherDoc documents: 100%|██████████| 1/1 [00:00<00:00, 24105.20it/s]\n",
      "Retrieving RobocrystallogapherDoc documents: 100%|██████████| 1/1 [00:00<00:00, 22671.91it/s]\n",
      "Retrieving RobocrystallogapherDoc documents: 100%|██████████| 1/1 [00:00<00:00, 21290.88it/s]\n",
      "Retrieving RobocrystallogapherDoc documents: 100%|██████████| 1/1 [00:00<00:00, 21620.12it/s]\n",
      "Retrieving RobocrystallogapherDoc documents: 100%|██████████| 1/1 [00:00<00:00, 23696.63it/s]\n",
      "Retrieving RobocrystallogapherDoc documents: 100%|██████████| 1/1 [00:00<00:00, 26886.56it/s]\n",
      "Retrieving RobocrystallogapherDoc documents: 100%|██████████| 1/1 [00:00<00:00, 19065.02it/s]\n",
      "Retrieving RobocrystallogapherDoc documents: 100%|██████████| 1/1 [00:00<00:00, 27413.75it/s]\n",
      "Retrieving RobocrystallogapherDoc documents: 100%|██████████| 1/1 [00:00<00:00, 16070.13it/s]\n",
      "Retrieving RobocrystallogapherDoc documents: 100%|██████████| 1/1 [00:00<00:00, 21620.12it/s]\n",
      "Retrieving RobocrystallogapherDoc documents: 100%|██████████| 1/1 [00:00<00:00, 22671.91it/s]\n",
      "Retrieving RobocrystallogapherDoc documents: 100%|██████████| 1/1 [00:00<00:00, 22550.02it/s]\n",
      "Retrieving RobocrystallogapherDoc documents: 100%|██████████| 1/1 [00:00<00:00, 20661.60it/s]\n",
      "Retrieving RobocrystallogapherDoc documents: 100%|██████████| 1/1 [00:00<00:00, 21183.35it/s]\n",
      "Retrieving RobocrystallogapherDoc documents: 100%|██████████| 1/1 [00:00<00:00, 19508.39it/s]\n",
      "Retrieving RobocrystallogapherDoc documents: 100%|██████████| 1/1 [00:00<00:00, 20460.02it/s]\n",
      "Retrieving RobocrystallogapherDoc documents: 100%|██████████| 1/1 [00:00<00:00, 23172.95it/s]\n",
      "Retrieving RobocrystallogapherDoc documents: 100%|██████████| 1/1 [00:00<00:00, 19065.02it/s]\n",
      "Retrieving RobocrystallogapherDoc documents: 100%|██████████| 1/1 [00:00<00:00, 23563.51it/s]\n",
      "Retrieving RobocrystallogapherDoc documents: 100%|██████████| 1/1 [00:00<00:00, 27235.74it/s]\n",
      "Retrieving RobocrystallogapherDoc documents: 100%|██████████| 1/1 [00:00<00:00, 19878.22it/s]\n",
      "Retrieving RobocrystallogapherDoc documents: 100%|██████████| 1/1 [00:00<00:00, 18078.90it/s]\n",
      "Retrieving RobocrystallogapherDoc documents: 100%|██████████| 1/1 [00:00<00:00, 26546.23it/s]\n",
      "Retrieving RobocrystallogapherDoc documents: 100%|██████████| 1/1 [00:00<00:00, 26051.58it/s]\n",
      "Retrieving RobocrystallogapherDoc documents: 100%|██████████| 1/1 [00:00<00:00, 22075.28it/s]\n",
      "Retrieving RobocrystallogapherDoc documents: 100%|██████████| 1/1 [00:00<00:00, 23045.63it/s]\n",
      "Retrieving RobocrystallogapherDoc documents: 100%|██████████| 1/1 [00:00<00:00, 18724.57it/s]\n",
      "Retrieving RobocrystallogapherDoc documents: 100%|██████████| 1/1 [00:00<00:00, 17848.10it/s]\n",
      "Retrieving RobocrystallogapherDoc documents: 100%|██████████| 1/1 [00:00<00:00, 19878.22it/s]\n",
      "Retrieving RobocrystallogapherDoc documents: 100%|██████████| 1/1 [00:00<00:00, 21509.25it/s]\n",
      "Retrieving RobocrystallogapherDoc documents: 100%|██████████| 1/1 [00:00<00:00, 16644.06it/s]\n",
      "Retrieving RobocrystallogapherDoc documents: 100%|██████████| 1/1 [00:00<00:00, 19152.07it/s]\n",
      "Retrieving RobocrystallogapherDoc documents: 100%|██████████| 1/1 [00:00<00:00, 23301.69it/s]\n",
      "Retrieving RobocrystallogapherDoc documents: 100%|██████████| 1/1 [00:00<00:00, 23831.27it/s]\n",
      "Retrieving RobocrystallogapherDoc documents: 100%|██████████| 1/1 [00:00<00:00, 23301.69it/s]\n"
     ]
    },
    {
     "name": "stdout",
     "output_type": "stream",
     "text": [
      "mp-729013\n"
     ]
    },
    {
     "name": "stderr",
     "output_type": "stream",
     "text": [
      "Retrieving RobocrystallogapherDoc documents: 100%|██████████| 1/1 [00:00<00:00, 23696.63it/s]\n",
      "Retrieving RobocrystallogapherDoc documents: 100%|██████████| 1/1 [00:00<00:00, 22550.02it/s]\n",
      "Retrieving RobocrystallogapherDoc documents: 100%|██████████| 1/1 [00:00<00:00, 21183.35it/s]\n"
     ]
    },
    {
     "name": "stdout",
     "output_type": "stream",
     "text": [
      "mp-935710\n"
     ]
    },
    {
     "name": "stderr",
     "output_type": "stream",
     "text": [
      "Retrieving RobocrystallogapherDoc documents: 100%|██████████| 1/1 [00:00<00:00, 19691.57it/s]\n",
      "Retrieving RobocrystallogapherDoc documents: 100%|██████████| 1/1 [00:00<00:00, 26886.56it/s]\n",
      "Retrieving RobocrystallogapherDoc documents: 100%|██████████| 1/1 [00:00<00:00, 23431.87it/s]\n",
      "Retrieving RobocrystallogapherDoc documents: 100%|██████████| 1/1 [00:00<00:00, 22429.43it/s]\n",
      "Retrieving RobocrystallogapherDoc documents: 100%|██████████| 1/1 [00:00<00:00, 21959.71it/s]\n",
      "Retrieving RobocrystallogapherDoc documents: 100%|██████████| 1/1 [00:00<00:00, 20867.18it/s]\n",
      "Retrieving RobocrystallogapherDoc documents: 100%|██████████| 1/1 [00:00<00:00, 27235.74it/s]\n",
      "Retrieving RobocrystallogapherDoc documents: 100%|██████████| 1/1 [00:00<00:00, 22192.08it/s]\n",
      "Retrieving RobocrystallogapherDoc documents: 100%|██████████| 1/1 [00:00<00:00, 22919.69it/s]\n",
      "Retrieving RobocrystallogapherDoc documents: 100%|██████████| 1/1 [00:00<00:00, 27413.75it/s]\n",
      "Retrieving RobocrystallogapherDoc documents: 100%|██████████| 1/1 [00:00<00:00, 19599.55it/s]\n",
      "Retrieving RobocrystallogapherDoc documents: 100%|██████████| 1/1 [00:00<00:00, 19599.55it/s]\n",
      "Retrieving RobocrystallogapherDoc documents: 100%|██████████| 1/1 [00:00<00:00, 19972.88it/s]\n",
      "Retrieving RobocrystallogapherDoc documents: 100%|██████████| 1/1 [00:00<00:00, 20971.52it/s]\n",
      "Retrieving RobocrystallogapherDoc documents: 100%|██████████| 1/1 [00:00<00:00, 22919.69it/s]\n",
      "Retrieving RobocrystallogapherDoc documents: 100%|██████████| 1/1 [00:00<00:00, 23301.69it/s]\n",
      "Retrieving RobocrystallogapherDoc documents: 100%|██████████| 1/1 [00:00<00:00, 17260.51it/s]\n",
      "Retrieving RobocrystallogapherDoc documents: 100%|██████████| 1/1 [00:00<00:00, 19784.45it/s]\n",
      "Retrieving RobocrystallogapherDoc documents: 100%|██████████| 1/1 [00:00<00:00, 14768.68it/s]\n",
      "Retrieving RobocrystallogapherDoc documents: 100%|██████████| 1/1 [00:00<00:00, 21399.51it/s]\n",
      "Retrieving RobocrystallogapherDoc documents: 100%|██████████| 1/1 [00:00<00:00, 20262.34it/s]\n",
      "Retrieving RobocrystallogapherDoc documents: 100%|██████████| 1/1 [00:00<00:00, 18641.35it/s]\n",
      "Retrieving RobocrystallogapherDoc documents: 100%|██████████| 1/1 [00:00<00:00, 18641.35it/s]\n",
      "Retrieving RobocrystallogapherDoc documents: 100%|██████████| 1/1 [00:00<00:00, 22919.69it/s]\n",
      "Retrieving RobocrystallogapherDoc documents: 100%|██████████| 1/1 [00:00<00:00, 14315.03it/s]\n",
      "Retrieving RobocrystallogapherDoc documents: 100%|██████████| 1/1 [00:00<00:00, 14413.42it/s]\n",
      "Retrieving RobocrystallogapherDoc documents: 100%|██████████| 1/1 [00:00<00:00, 13662.23it/s]\n",
      "Retrieving RobocrystallogapherDoc documents: 100%|██████████| 1/1 [00:00<00:00, 13797.05it/s]\n",
      "Retrieving RobocrystallogapherDoc documents: 100%|██████████| 1/1 [00:00<00:00, 15196.75it/s]\n",
      "Retrieving RobocrystallogapherDoc documents: 100%|██████████| 1/1 [00:00<00:00, 13842.59it/s]\n",
      "Retrieving RobocrystallogapherDoc documents: 100%|██████████| 1/1 [00:00<00:00, 17549.39it/s]\n",
      "Retrieving RobocrystallogapherDoc documents: 100%|██████████| 1/1 [00:00<00:00, 15887.52it/s]\n"
     ]
    },
    {
     "name": "stdout",
     "output_type": "stream",
     "text": [
      "mp-935710\n"
     ]
    },
    {
     "name": "stderr",
     "output_type": "stream",
     "text": [
      "Retrieving RobocrystallogapherDoc documents: 100%|██████████| 1/1 [00:00<00:00, 13797.05it/s]\n",
      "Retrieving RobocrystallogapherDoc documents: 100%|██████████| 1/1 [00:00<00:00, 15196.75it/s]\n"
     ]
    },
    {
     "name": "stdout",
     "output_type": "stream",
     "text": [
      "mp-26652\n"
     ]
    },
    {
     "name": "stderr",
     "output_type": "stream",
     "text": [
      "Retrieving RobocrystallogapherDoc documents: 100%|██████████| 1/1 [00:00<00:00, 16912.52it/s]\n",
      "Retrieving RobocrystallogapherDoc documents: 100%|██████████| 1/1 [00:00<00:00, 15827.56it/s]\n",
      "Retrieving RobocrystallogapherDoc documents: 100%|██████████| 1/1 [00:00<00:00, 17623.13it/s]\n",
      "Retrieving RobocrystallogapherDoc documents: 100%|██████████| 1/1 [00:00<00:00, 17260.51it/s]\n",
      "Retrieving RobocrystallogapherDoc documents: 100%|██████████| 1/1 [00:00<00:00, 14074.85it/s]\n",
      "Retrieving RobocrystallogapherDoc documents: 100%|██████████| 1/1 [00:00<00:00, 12905.55it/s]\n",
      "Retrieving RobocrystallogapherDoc documents: 100%|██████████| 1/1 [00:00<00:00, 13357.66it/s]\n",
      "Retrieving RobocrystallogapherDoc documents: 100%|██████████| 1/1 [00:00<00:00, 17331.83it/s]\n",
      "Retrieving RobocrystallogapherDoc documents: 100%|██████████| 1/1 [00:00<00:00, 13934.56it/s]\n",
      "Retrieving RobocrystallogapherDoc documents: 100%|██████████| 1/1 [00:00<00:00, 15477.14it/s]\n",
      "Retrieving RobocrystallogapherDoc documents: 100%|██████████| 1/1 [00:00<00:00, 15947.92it/s]\n",
      "Retrieving RobocrystallogapherDoc documents: 100%|██████████| 1/1 [00:00<00:00, 15477.14it/s]\n",
      "Retrieving RobocrystallogapherDoc documents: 100%|██████████| 1/1 [00:00<00:00, 15827.56it/s]\n",
      "Retrieving RobocrystallogapherDoc documents: 100%|██████████| 1/1 [00:00<00:00, 14979.66it/s]\n",
      "Retrieving RobocrystallogapherDoc documents: 100%|██████████| 1/1 [00:00<00:00, 14563.56it/s]\n",
      "Retrieving RobocrystallogapherDoc documents: 100%|██████████| 1/1 [00:00<00:00, 16194.22it/s]\n",
      "Retrieving RobocrystallogapherDoc documents: 100%|██████████| 1/1 [00:00<00:00, 14820.86it/s]\n",
      "Retrieving RobocrystallogapherDoc documents: 100%|██████████| 1/1 [00:00<00:00, 15196.75it/s]\n",
      "Retrieving RobocrystallogapherDoc documents: 100%|██████████| 1/1 [00:00<00:00, 15768.06it/s]\n",
      "Retrieving RobocrystallogapherDoc documents: 100%|██████████| 1/1 [00:00<00:00, 15827.56it/s]\n",
      "Retrieving RobocrystallogapherDoc documents: 100%|██████████| 1/1 [00:00<00:00, 15650.39it/s]\n",
      "Retrieving RobocrystallogapherDoc documents: 100%|██████████| 1/1 [00:00<00:00, 15087.42it/s]\n",
      "Retrieving RobocrystallogapherDoc documents: 100%|██████████| 1/1 [00:00<00:00, 14217.98it/s]\n",
      "Retrieving RobocrystallogapherDoc documents: 100%|██████████| 1/1 [00:00<00:00, 13189.64it/s]\n",
      "Retrieving RobocrystallogapherDoc documents: 100%|██████████| 1/1 [00:00<00:00, 14820.86it/s]\n",
      "Retrieving RobocrystallogapherDoc documents: 100%|██████████| 1/1 [00:00<00:00, 14513.16it/s]\n",
      "Retrieving RobocrystallogapherDoc documents: 100%|██████████| 1/1 [00:00<00:00, 16777.22it/s]\n",
      "Retrieving RobocrystallogapherDoc documents: 100%|██████████| 1/1 [00:00<00:00, 15196.75it/s]\n",
      "Retrieving RobocrystallogapherDoc documents: 100%|██████████| 1/1 [00:00<00:00, 15033.35it/s]\n",
      "Retrieving RobocrystallogapherDoc documents: 100%|██████████| 1/1 [00:00<00:00, 14217.98it/s]\n",
      "Retrieving RobocrystallogapherDoc documents: 100%|██████████| 1/1 [00:00<00:00, 16008.79it/s]\n",
      "Retrieving RobocrystallogapherDoc documents: 100%|██████████| 1/1 [00:00<00:00, 15141.89it/s]\n",
      "Retrieving RobocrystallogapherDoc documents: 100%|██████████| 1/1 [00:00<00:00, 15477.14it/s]\n",
      "Retrieving RobocrystallogapherDoc documents: 100%|██████████| 1/1 [00:00<00:00, 15592.21it/s]\n",
      "Retrieving RobocrystallogapherDoc documents: 100%|██████████| 1/1 [00:00<00:00, 14074.85it/s]\n",
      "Retrieving RobocrystallogapherDoc documents: 100%|██████████| 1/1 [00:00<00:00, 13888.42it/s]\n",
      "Retrieving RobocrystallogapherDoc documents: 100%|██████████| 1/1 [00:00<00:00, 15363.75it/s]\n",
      "Retrieving RobocrystallogapherDoc documents: 100%|██████████| 1/1 [00:00<00:00, 15650.39it/s]\n",
      "Retrieving RobocrystallogapherDoc documents: 100%|██████████| 1/1 [00:00<00:00, 15252.01it/s]\n",
      "Retrieving RobocrystallogapherDoc documents: 100%|██████████| 1/1 [00:00<00:00, 15650.39it/s]\n",
      "Retrieving RobocrystallogapherDoc documents: 100%|██████████| 1/1 [00:00<00:00, 15768.06it/s]\n",
      "Retrieving RobocrystallogapherDoc documents: 100%|██████████| 1/1 [00:00<00:00, 15534.46it/s]\n",
      "Retrieving RobocrystallogapherDoc documents: 100%|██████████| 1/1 [00:00<00:00, 15363.75it/s]\n"
     ]
    },
    {
     "name": "stdout",
     "output_type": "stream",
     "text": [
      "mp-722902\n"
     ]
    },
    {
     "name": "stderr",
     "output_type": "stream",
     "text": [
      "Retrieving RobocrystallogapherDoc documents: 100%|██████████| 1/1 [00:00<00:00, 15887.52it/s]\n"
     ]
    },
    {
     "name": "stdout",
     "output_type": "stream",
     "text": [
      "mp-23906\n"
     ]
    },
    {
     "name": "stderr",
     "output_type": "stream",
     "text": [
      "Retrieving RobocrystallogapherDoc documents: 100%|██████████| 1/1 [00:00<00:00, 14768.68it/s]\n",
      "Retrieving RobocrystallogapherDoc documents: 100%|██████████| 1/1 [00:00<00:00, 3622.02it/s]\n",
      "Retrieving RobocrystallogapherDoc documents: 100%|██████████| 1/1 [00:00<00:00, 15592.21it/s]\n"
     ]
    },
    {
     "name": "stdout",
     "output_type": "stream",
     "text": [
      "mp-859133\n"
     ]
    },
    {
     "name": "stderr",
     "output_type": "stream",
     "text": [
      "Retrieving RobocrystallogapherDoc documents: 100%|██████████| 1/1 [00:00<00:00, 15252.01it/s]\n",
      "Retrieving RobocrystallogapherDoc documents: 100%|██████████| 1/1 [00:00<00:00, 13189.64it/s]\n",
      "Retrieving RobocrystallogapherDoc documents: 100%|██████████| 1/1 [00:00<00:00, 13486.51it/s]\n"
     ]
    },
    {
     "name": "stdout",
     "output_type": "stream",
     "text": [
      "mp-859133\n"
     ]
    },
    {
     "name": "stderr",
     "output_type": "stream",
     "text": [
      "Retrieving RobocrystallogapherDoc documents: 100%|██████████| 1/1 [00:00<00:00, 13273.11it/s]\n"
     ]
    },
    {
     "name": "stdout",
     "output_type": "stream",
     "text": [
      "mp-23906\n"
     ]
    },
    {
     "name": "stderr",
     "output_type": "stream",
     "text": [
      "Retrieving RobocrystallogapherDoc documents: 100%|██████████| 1/1 [00:00<00:00, 14926.35it/s]\n"
     ]
    },
    {
     "name": "stdout",
     "output_type": "stream",
     "text": [
      "mp-722902\n"
     ]
    },
    {
     "name": "stderr",
     "output_type": "stream",
     "text": [
      "Retrieving RobocrystallogapherDoc documents: 100%|██████████| 1/1 [00:00<00:00, 13400.33it/s]\n",
      "Retrieving RobocrystallogapherDoc documents: 100%|██████████| 1/1 [00:00<00:00, 12710.01it/s]\n",
      "Retrieving RobocrystallogapherDoc documents: 100%|██████████| 1/1 [00:00<00:00, 15307.68it/s]\n",
      "Retrieving RobocrystallogapherDoc documents: 100%|██████████| 1/1 [00:00<00:00, 13573.80it/s]\n",
      "Retrieving RobocrystallogapherDoc documents: 100%|██████████| 1/1 [00:00<00:00, 15196.75it/s]\n",
      "Retrieving RobocrystallogapherDoc documents: 100%|██████████| 1/1 [00:00<00:00, 12945.38it/s]\n",
      "Retrieving RobocrystallogapherDoc documents: 100%|██████████| 1/1 [00:00<00:00, 12595.51it/s]\n",
      "Retrieving RobocrystallogapherDoc documents: 100%|██████████| 1/1 [00:00<00:00, 14364.05it/s]\n",
      "Retrieving RobocrystallogapherDoc documents: 100%|██████████| 1/1 [00:00<00:00, 14413.42it/s]\n",
      "Retrieving RobocrystallogapherDoc documents: 100%|██████████| 1/1 [00:00<00:00, 14926.35it/s]\n",
      "Retrieving RobocrystallogapherDoc documents: 100%|██████████| 1/1 [00:00<00:00, 15363.75it/s]\n",
      "Retrieving RobocrystallogapherDoc documents: 100%|██████████| 1/1 [00:00<00:00, 16256.99it/s]\n",
      "Retrieving RobocrystallogapherDoc documents: 100%|██████████| 1/1 [00:00<00:00, 12157.40it/s]\n",
      "Retrieving RobocrystallogapherDoc documents: 100%|██████████| 1/1 [00:00<00:00, 14665.40it/s]\n",
      "Retrieving RobocrystallogapherDoc documents: 100%|██████████| 1/1 [00:00<00:00, 15087.42it/s]\n",
      "Retrieving RobocrystallogapherDoc documents: 100%|██████████| 1/1 [00:00<00:00, 12710.01it/s]\n",
      "Retrieving RobocrystallogapherDoc documents: 100%|██████████| 1/1 [00:00<00:00, 15947.92it/s]\n",
      "Retrieving RobocrystallogapherDoc documents: 100%|██████████| 1/1 [00:00<00:00, 14315.03it/s]\n",
      "Retrieving RobocrystallogapherDoc documents: 100%|██████████| 1/1 [00:00<00:00, 14266.34it/s]\n",
      "Retrieving RobocrystallogapherDoc documents: 100%|██████████| 1/1 [00:00<00:00, 14463.12it/s]\n",
      "Retrieving RobocrystallogapherDoc documents: 100%|██████████| 1/1 [00:00<00:00, 15033.35it/s]\n",
      "Retrieving RobocrystallogapherDoc documents: 100%|██████████| 1/1 [00:00<00:00, 15650.39it/s]\n",
      "Retrieving RobocrystallogapherDoc documents: 100%|██████████| 1/1 [00:00<00:00, 15592.21it/s]\n",
      "Retrieving RobocrystallogapherDoc documents: 100%|██████████| 1/1 [00:00<00:00, 12446.01it/s]\n",
      "Retrieving RobocrystallogapherDoc documents: 100%|██████████| 1/1 [00:00<00:00, 13751.82it/s]\n",
      "Retrieving RobocrystallogapherDoc documents: 100%|██████████| 1/1 [00:00<00:00, 14979.66it/s]\n",
      "Retrieving RobocrystallogapherDoc documents: 100%|██████████| 1/1 [00:00<00:00, 15363.75it/s]\n",
      "Retrieving RobocrystallogapherDoc documents: 100%|██████████| 1/1 [00:00<00:00, 14979.66it/s]\n",
      "Retrieving RobocrystallogapherDoc documents: 100%|██████████| 1/1 [00:00<00:00, 16008.79it/s]\n"
     ]
    },
    {
     "name": "stdout",
     "output_type": "stream",
     "text": [
      "mp-1236393\n"
     ]
    },
    {
     "name": "stderr",
     "output_type": "stream",
     "text": [
      "Retrieving RobocrystallogapherDoc documents: 100%|██████████| 1/1 [00:00<00:00, 15196.75it/s]\n",
      "Retrieving RobocrystallogapherDoc documents: 100%|██████████| 1/1 [00:00<00:00, 14563.56it/s]\n",
      "Retrieving RobocrystallogapherDoc documents: 100%|██████████| 1/1 [00:00<00:00, 12409.18it/s]\n"
     ]
    },
    {
     "name": "stdout",
     "output_type": "stream",
     "text": [
      "mp-1236393\n"
     ]
    },
    {
     "name": "stderr",
     "output_type": "stream",
     "text": [
      "Retrieving RobocrystallogapherDoc documents: 100%|██████████| 1/1 [00:00<00:00, 21399.51it/s]\n",
      "Retrieving RobocrystallogapherDoc documents: 100%|██████████| 1/1 [00:00<00:00, 22429.43it/s]\n",
      "Retrieving RobocrystallogapherDoc documents: 100%|██████████| 1/1 [00:00<00:00, 23045.63it/s]\n",
      "Retrieving RobocrystallogapherDoc documents: 100%|██████████| 1/1 [00:00<00:00, 23301.69it/s]\n",
      "Retrieving RobocrystallogapherDoc documents: 100%|██████████| 1/1 [00:00<00:00, 18641.35it/s]\n",
      "Retrieving RobocrystallogapherDoc documents: 100%|██████████| 1/1 [00:00<00:00, 18396.07it/s]\n",
      "Retrieving RobocrystallogapherDoc documents: 100%|██████████| 1/1 [00:00<00:00, 16777.22it/s]\n",
      "Retrieving RobocrystallogapherDoc documents: 100%|██████████| 1/1 [00:00<00:00, 18724.57it/s]\n",
      "Retrieving RobocrystallogapherDoc documents: 100%|██████████| 1/1 [00:00<00:00, 22671.91it/s]\n",
      "Retrieving RobocrystallogapherDoc documents: 100%|██████████| 1/1 [00:00<00:00, 23431.87it/s]\n",
      "Retrieving RobocrystallogapherDoc documents: 100%|██████████| 1/1 [00:00<00:00, 21845.33it/s]\n",
      "Retrieving RobocrystallogapherDoc documents: 100%|██████████| 1/1 [00:00<00:00, 19784.45it/s]\n",
      "Retrieving RobocrystallogapherDoc documents: 100%|██████████| 1/1 [00:00<00:00, 23045.63it/s]\n"
     ]
    },
    {
     "name": "stdout",
     "output_type": "stream",
     "text": [
      "mp-1235439\n"
     ]
    },
    {
     "name": "stderr",
     "output_type": "stream",
     "text": [
      "Retrieving RobocrystallogapherDoc documents: 100%|██████████| 1/1 [00:00<00:00, 23172.95it/s]\n"
     ]
    },
    {
     "name": "stdout",
     "output_type": "stream",
     "text": [
      "mp-1236093\n"
     ]
    },
    {
     "name": "stderr",
     "output_type": "stream",
     "text": [
      "Retrieving RobocrystallogapherDoc documents: 100%|██████████| 1/1 [00:00<00:00, 21290.88it/s]\n",
      "Retrieving RobocrystallogapherDoc documents: 100%|██████████| 1/1 [00:00<00:00, 23301.69it/s]\n",
      "Retrieving RobocrystallogapherDoc documents: 100%|██████████| 1/1 [00:00<00:00, 22919.69it/s]\n"
     ]
    },
    {
     "name": "stdout",
     "output_type": "stream",
     "text": [
      "mp-1235439\n"
     ]
    },
    {
     "name": "stderr",
     "output_type": "stream",
     "text": [
      "Retrieving RobocrystallogapherDoc documents: 100%|██████████| 1/1 [00:00<00:00, 18001.30it/s]\n",
      "Retrieving RobocrystallogapherDoc documents: 100%|██████████| 1/1 [00:00<00:00, 23696.63it/s]\n"
     ]
    },
    {
     "name": "stdout",
     "output_type": "stream",
     "text": [
      "mp-1236093\n"
     ]
    },
    {
     "name": "stderr",
     "output_type": "stream",
     "text": [
      "Retrieving RobocrystallogapherDoc documents: 100%|██████████| 1/1 [00:00<00:00, 24528.09it/s]\n"
     ]
    },
    {
     "name": "stdout",
     "output_type": "stream",
     "text": [
      "mp-1235373\n"
     ]
    },
    {
     "name": "stderr",
     "output_type": "stream",
     "text": [
      "Retrieving RobocrystallogapherDoc documents: 100%|██████████| 1/1 [00:00<00:00, 21732.15it/s]\n",
      "Retrieving RobocrystallogapherDoc documents: 100%|██████████| 1/1 [00:00<00:00, 23301.69it/s]\n"
     ]
    },
    {
     "name": "stdout",
     "output_type": "stream",
     "text": [
      "mp-1235373\n"
     ]
    },
    {
     "name": "stderr",
     "output_type": "stream",
     "text": [
      "Retrieving RobocrystallogapherDoc documents: 100%|██████████| 1/1 [00:00<00:00, 23967.45it/s]\n"
     ]
    },
    {
     "name": "stdout",
     "output_type": "stream",
     "text": [
      "mp-1235581\n"
     ]
    },
    {
     "name": "stderr",
     "output_type": "stream",
     "text": [
      "Retrieving RobocrystallogapherDoc documents: 100%|██████████| 1/1 [00:00<00:00, 23431.87it/s]\n"
     ]
    },
    {
     "name": "stdout",
     "output_type": "stream",
     "text": [
      "mp-1235581\n"
     ]
    },
    {
     "name": "stderr",
     "output_type": "stream",
     "text": [
      "Retrieving RobocrystallogapherDoc documents: 100%|██████████| 1/1 [00:00<00:00, 23172.95it/s]\n",
      "Retrieving RobocrystallogapherDoc documents: 100%|██████████| 1/1 [00:00<00:00, 23563.51it/s]\n",
      "Retrieving RobocrystallogapherDoc documents: 100%|██████████| 1/1 [00:00<00:00, 23045.63it/s]\n",
      "Retrieving RobocrystallogapherDoc documents: 100%|██████████| 1/1 [00:00<00:00, 28149.69it/s]\n",
      "Retrieving RobocrystallogapherDoc documents: 100%|██████████| 1/1 [00:00<00:00, 27413.75it/s]\n",
      "Retrieving RobocrystallogapherDoc documents: 100%|██████████| 1/1 [00:00<00:00, 21290.88it/s]\n",
      "Retrieving RobocrystallogapherDoc documents: 100%|██████████| 1/1 [00:00<00:00, 21509.25it/s]\n",
      "Retrieving RobocrystallogapherDoc documents: 100%|██████████| 1/1 [00:00<00:00, 21845.33it/s]\n",
      "Retrieving RobocrystallogapherDoc documents: 100%|██████████| 1/1 [00:00<00:00, 23301.69it/s]\n",
      "Retrieving RobocrystallogapherDoc documents: 100%|██████████| 1/1 [00:00<00:00, 21845.33it/s]\n",
      "Retrieving RobocrystallogapherDoc documents: 100%|██████████| 1/1 [00:00<00:00, 23301.69it/s]\n",
      "Retrieving RobocrystallogapherDoc documents: 100%|██████████| 1/1 [00:00<00:00, 22795.13it/s]\n",
      "Retrieving RobocrystallogapherDoc documents: 100%|██████████| 1/1 [00:00<00:00, 23301.69it/s]\n",
      "Retrieving RobocrystallogapherDoc documents: 100%|██████████| 1/1 [00:00<00:00, 18236.10it/s]\n",
      "Retrieving RobocrystallogapherDoc documents: 100%|██████████| 1/1 [00:00<00:00, 23563.51it/s]\n",
      "Retrieving RobocrystallogapherDoc documents: 100%|██████████| 1/1 [00:00<00:00, 23967.45it/s]\n",
      "Retrieving RobocrystallogapherDoc documents: 100%|██████████| 1/1 [00:00<00:00, 24105.20it/s]\n",
      "Retrieving RobocrystallogapherDoc documents: 100%|██████████| 1/1 [00:00<00:00, 22671.91it/s]\n",
      "Retrieving RobocrystallogapherDoc documents: 100%|██████████| 1/1 [00:00<00:00, 19972.88it/s]\n",
      "Retrieving RobocrystallogapherDoc documents: 100%|██████████| 1/1 [00:00<00:00, 22429.43it/s]\n",
      "Retrieving RobocrystallogapherDoc documents: 100%|██████████| 1/1 [00:00<00:00, 23696.63it/s]\n"
     ]
    },
    {
     "name": "stdout",
     "output_type": "stream",
     "text": [
      "mp-1235455\n"
     ]
    },
    {
     "name": "stderr",
     "output_type": "stream",
     "text": [
      "Retrieving RobocrystallogapherDoc documents: 100%|██████████| 1/1 [00:00<00:00, 23301.69it/s]\n"
     ]
    },
    {
     "name": "stdout",
     "output_type": "stream",
     "text": [
      "mp-1235030\n"
     ]
    },
    {
     "name": "stderr",
     "output_type": "stream",
     "text": [
      "Retrieving RobocrystallogapherDoc documents: 100%|██████████| 1/1 [00:00<00:00, 18808.54it/s]\n"
     ]
    },
    {
     "name": "stdout",
     "output_type": "stream",
     "text": [
      "mp-1236054\n"
     ]
    },
    {
     "name": "stderr",
     "output_type": "stream",
     "text": [
      "Retrieving RobocrystallogapherDoc documents: 100%|██████████| 1/1 [00:00<00:00, 20867.18it/s]\n"
     ]
    },
    {
     "name": "stdout",
     "output_type": "stream",
     "text": [
      "mp-1235030\n"
     ]
    },
    {
     "name": "stderr",
     "output_type": "stream",
     "text": [
      "Retrieving RobocrystallogapherDoc documents: 100%|██████████| 1/1 [00:00<00:00, 19691.57it/s]\n"
     ]
    },
    {
     "name": "stdout",
     "output_type": "stream",
     "text": [
      "mp-1235455\n"
     ]
    },
    {
     "name": "stderr",
     "output_type": "stream",
     "text": [
      "Retrieving RobocrystallogapherDoc documents: 100%|██████████| 1/1 [00:00<00:00, 17331.83it/s]\n"
     ]
    },
    {
     "name": "stdout",
     "output_type": "stream",
     "text": [
      "mp-1236054\n"
     ]
    },
    {
     "name": "stderr",
     "output_type": "stream",
     "text": [
      "Retrieving RobocrystallogapherDoc documents: 100%|██████████| 1/1 [00:00<00:00, 21620.12it/s]\n",
      "Retrieving RobocrystallogapherDoc documents: 100%|██████████| 1/1 [00:00<00:00, 23301.69it/s]\n",
      "Retrieving RobocrystallogapherDoc documents: 100%|██████████| 1/1 [00:00<00:00, 23563.51it/s]\n",
      "Retrieving RobocrystallogapherDoc documents: 100%|██████████| 1/1 [00:00<00:00, 23967.45it/s]\n",
      "Retrieving RobocrystallogapherDoc documents: 100%|██████████| 1/1 [00:00<00:00, 23301.69it/s]\n"
     ]
    },
    {
     "name": "stdout",
     "output_type": "stream",
     "text": [
      "mp-7744\n"
     ]
    },
    {
     "name": "stderr",
     "output_type": "stream",
     "text": [
      "Retrieving RobocrystallogapherDoc documents: 100%|██████████| 1/1 [00:00<00:00, 23696.63it/s]\n"
     ]
    },
    {
     "name": "stdout",
     "output_type": "stream",
     "text": [
      "mp-7744\n"
     ]
    },
    {
     "name": "stderr",
     "output_type": "stream",
     "text": [
      "Retrieving RobocrystallogapherDoc documents: 100%|██████████| 1/1 [00:00<00:00, 19784.45it/s]\n",
      "Retrieving RobocrystallogapherDoc documents: 100%|██████████| 1/1 [00:00<00:00, 17772.47it/s]\n",
      "Retrieving RobocrystallogapherDoc documents: 100%|██████████| 1/1 [00:00<00:00, 19972.88it/s]\n",
      "Retrieving RobocrystallogapherDoc documents: 100%|██████████| 1/1 [00:00<00:00, 23563.51it/s]\n",
      "Retrieving RobocrystallogapherDoc documents: 100%|██████████| 1/1 [00:00<00:00, 22919.69it/s]\n",
      "Retrieving RobocrystallogapherDoc documents: 100%|██████████| 1/1 [00:00<00:00, 20560.31it/s]\n",
      "Retrieving RobocrystallogapherDoc documents: 100%|██████████| 1/1 [00:00<00:00, 21509.25it/s]\n",
      "Retrieving RobocrystallogapherDoc documents: 100%|██████████| 1/1 [00:00<00:00, 22671.91it/s]\n",
      "Retrieving RobocrystallogapherDoc documents: 100%|██████████| 1/1 [00:00<00:00, 23696.63it/s]\n",
      "Retrieving RobocrystallogapherDoc documents: 100%|██████████| 1/1 [00:00<00:00, 23967.45it/s]\n",
      "Retrieving RobocrystallogapherDoc documents: 100%|██████████| 1/1 [00:00<00:00, 22192.08it/s]\n",
      "Retrieving RobocrystallogapherDoc documents: 100%|██████████| 1/1 [00:00<00:00, 23431.87it/s]\n",
      "Retrieving RobocrystallogapherDoc documents: 100%|██████████| 1/1 [00:00<00:00, 22795.13it/s]\n",
      "Retrieving RobocrystallogapherDoc documents: 100%|██████████| 1/1 [00:00<00:00, 21732.15it/s]\n",
      "Retrieving RobocrystallogapherDoc documents: 100%|██████████| 1/1 [00:00<00:00, 23831.27it/s]\n",
      "Retrieving RobocrystallogapherDoc documents: 100%|██████████| 1/1 [00:00<00:00, 23563.51it/s]\n",
      "Retrieving RobocrystallogapherDoc documents: 100%|██████████| 1/1 [00:00<00:00, 11915.64it/s]\n",
      "Retrieving RobocrystallogapherDoc documents: 100%|██████████| 1/1 [00:00<00:00, 22310.13it/s]\n",
      "Retrieving RobocrystallogapherDoc documents: 100%|██████████| 1/1 [00:00<00:00, 22795.13it/s]\n",
      "Retrieving RobocrystallogapherDoc documents: 100%|██████████| 1/1 [00:00<00:00, 20560.31it/s]\n",
      "Retrieving RobocrystallogapherDoc documents: 100%|██████████| 1/1 [00:00<00:00, 23563.51it/s]\n",
      "Retrieving RobocrystallogapherDoc documents: 100%|██████████| 1/1 [00:00<00:00, 22795.13it/s]\n",
      "Retrieving RobocrystallogapherDoc documents: 100%|██████████| 1/1 [00:00<00:00, 23696.63it/s]\n",
      "Retrieving RobocrystallogapherDoc documents: 100%|██████████| 1/1 [00:00<00:00, 23696.63it/s]\n",
      "Retrieving RobocrystallogapherDoc documents: 100%|██████████| 1/1 [00:00<00:00, 23045.63it/s]\n",
      "Retrieving RobocrystallogapherDoc documents: 100%|██████████| 1/1 [00:00<00:00, 23696.63it/s]\n",
      "Retrieving RobocrystallogapherDoc documents: 100%|██████████| 1/1 [00:00<00:00, 18978.75it/s]\n",
      "Retrieving RobocrystallogapherDoc documents: 100%|██████████| 1/1 [00:00<00:00, 19328.59it/s]\n",
      "Retrieving RobocrystallogapherDoc documents: 100%|██████████| 1/1 [00:00<00:00, 22795.13it/s]\n",
      "Retrieving RobocrystallogapherDoc documents: 100%|██████████| 1/1 [00:00<00:00, 23301.69it/s]\n",
      "Retrieving RobocrystallogapherDoc documents: 100%|██████████| 1/1 [00:00<00:00, 23563.51it/s]\n",
      "Retrieving RobocrystallogapherDoc documents: 100%|██████████| 1/1 [00:00<00:00, 23563.51it/s]\n",
      "Retrieving RobocrystallogapherDoc documents: 100%|██████████| 1/1 [00:00<00:00, 20068.44it/s]\n",
      "Retrieving RobocrystallogapherDoc documents: 100%|██████████| 1/1 [00:00<00:00, 23172.95it/s]\n",
      "Retrieving RobocrystallogapherDoc documents: 100%|██████████| 1/1 [00:00<00:00, 21509.25it/s]\n",
      "Retrieving RobocrystallogapherDoc documents: 100%|██████████| 1/1 [00:00<00:00, 23045.63it/s]\n",
      "Retrieving RobocrystallogapherDoc documents: 100%|██████████| 1/1 [00:00<00:00, 23563.51it/s]\n",
      "Retrieving RobocrystallogapherDoc documents: 100%|██████████| 1/1 [00:00<00:00, 22919.69it/s]\n",
      "Retrieving RobocrystallogapherDoc documents: 100%|██████████| 1/1 [00:00<00:00, 22429.43it/s]\n",
      "Retrieving RobocrystallogapherDoc documents: 100%|██████████| 1/1 [00:00<00:00, 18893.26it/s]\n",
      "Retrieving RobocrystallogapherDoc documents: 100%|██████████| 1/1 [00:00<00:00, 22919.69it/s]\n",
      "Retrieving RobocrystallogapherDoc documents: 100%|██████████| 1/1 [00:00<00:00, 23696.63it/s]\n",
      "Retrieving RobocrystallogapherDoc documents: 100%|██████████| 1/1 [00:00<00:00, 22671.91it/s]\n",
      "Retrieving RobocrystallogapherDoc documents: 100%|██████████| 1/1 [00:00<00:00, 23045.63it/s]\n",
      "Retrieving RobocrystallogapherDoc documents: 100%|██████████| 1/1 [00:00<00:00, 18477.11it/s]\n",
      "Retrieving RobocrystallogapherDoc documents: 100%|██████████| 1/1 [00:00<00:00, 12264.05it/s]\n",
      "Retrieving RobocrystallogapherDoc documents: 100%|██████████| 1/1 [00:00<00:00, 13443.28it/s]\n",
      "Retrieving RobocrystallogapherDoc documents: 100%|██████████| 1/1 [00:00<00:00, 15947.92it/s]\n",
      "Retrieving RobocrystallogapherDoc documents: 100%|██████████| 1/1 [00:00<00:00, 13066.37it/s]\n",
      "Retrieving RobocrystallogapherDoc documents: 100%|██████████| 1/1 [00:00<00:00, 16513.01it/s]\n",
      "Retrieving RobocrystallogapherDoc documents: 100%|██████████| 1/1 [00:00<00:00, 15033.35it/s]\n",
      "Retrieving RobocrystallogapherDoc documents: 100%|██████████| 1/1 [00:00<00:00, 13443.28it/s]\n",
      "Retrieving RobocrystallogapherDoc documents: 100%|██████████| 1/1 [00:00<00:00, 15252.01it/s]\n",
      "Retrieving RobocrystallogapherDoc documents: 100%|██████████| 1/1 [00:00<00:00, 14768.68it/s]\n",
      "Retrieving RobocrystallogapherDoc documents: 100%|██████████| 1/1 [00:00<00:00, 13751.82it/s]\n",
      "Retrieving RobocrystallogapherDoc documents: 100%|██████████| 1/1 [00:00<00:00, 14315.03it/s]\n",
      "Retrieving RobocrystallogapherDoc documents: 100%|██████████| 1/1 [00:00<00:00, 15196.75it/s]\n",
      "Retrieving RobocrystallogapherDoc documents: 100%|██████████| 1/1 [00:00<00:00, 14563.56it/s]\n",
      "Retrieving RobocrystallogapherDoc documents: 100%|██████████| 1/1 [00:00<00:00, 11881.88it/s]\n",
      "Retrieving RobocrystallogapherDoc documents: 100%|██████████| 1/1 [00:00<00:00, 14563.56it/s]\n",
      "Retrieving RobocrystallogapherDoc documents: 100%|██████████| 1/1 [00:00<00:00, 15141.89it/s]\n",
      "Retrieving RobocrystallogapherDoc documents: 100%|██████████| 1/1 [00:00<00:00, 17403.75it/s]\n",
      "Retrieving RobocrystallogapherDoc documents: 100%|██████████| 1/1 [00:00<00:00, 15592.21it/s]\n",
      "Retrieving RobocrystallogapherDoc documents: 100%|██████████| 1/1 [00:00<00:00, 15087.42it/s]\n",
      "Retrieving RobocrystallogapherDoc documents: 100%|██████████| 1/1 [00:00<00:00, 15087.42it/s]\n",
      "Retrieving RobocrystallogapherDoc documents: 100%|██████████| 1/1 [00:00<00:00, 12122.27it/s]\n",
      "Retrieving RobocrystallogapherDoc documents: 100%|██████████| 1/1 [00:00<00:00, 14716.86it/s]\n",
      "Retrieving RobocrystallogapherDoc documents: 100%|██████████| 1/1 [00:00<00:00, 14820.86it/s]\n",
      "Retrieving RobocrystallogapherDoc documents: 100%|██████████| 1/1 [00:00<00:00, 11428.62it/s]\n",
      "Retrieving RobocrystallogapherDoc documents: 100%|██████████| 1/1 [00:00<00:00, 14217.98it/s]\n",
      "Retrieving RobocrystallogapherDoc documents: 100%|██████████| 1/1 [00:00<00:00, 14716.86it/s]\n",
      "Retrieving RobocrystallogapherDoc documents: 100%|██████████| 1/1 [00:00<00:00, 15307.68it/s]\n",
      "Retrieving RobocrystallogapherDoc documents: 100%|██████████| 1/1 [00:00<00:00, 15534.46it/s]\n",
      "Retrieving RobocrystallogapherDoc documents: 100%|██████████| 1/1 [00:00<00:00, 14820.86it/s]\n",
      "Retrieving RobocrystallogapherDoc documents: 100%|██████████| 1/1 [00:00<00:00, 15033.35it/s]\n",
      "Retrieving RobocrystallogapherDoc documents: 100%|██████████| 1/1 [00:00<00:00, 15252.01it/s]\n",
      "Retrieving RobocrystallogapherDoc documents: 100%|██████████| 1/1 [00:00<00:00, 14614.30it/s]\n",
      "Retrieving RobocrystallogapherDoc documents: 100%|██████████| 1/1 [00:00<00:00, 14513.16it/s]\n",
      "Retrieving RobocrystallogapherDoc documents: 100%|██████████| 1/1 [00:00<00:00, 13662.23it/s]\n",
      "Retrieving RobocrystallogapherDoc documents: 100%|██████████| 1/1 [00:00<00:00, 15363.75it/s]\n",
      "Retrieving RobocrystallogapherDoc documents: 100%|██████████| 1/1 [00:00<00:00, 15196.75it/s]\n",
      "Retrieving RobocrystallogapherDoc documents: 100%|██████████| 1/1 [00:00<00:00, 15534.46it/s]\n",
      "Retrieving RobocrystallogapherDoc documents: 100%|██████████| 1/1 [00:00<00:00, 15768.06it/s]\n",
      "Retrieving RobocrystallogapherDoc documents: 100%|██████████| 1/1 [00:00<00:00, 15196.75it/s]\n",
      "Retrieving RobocrystallogapherDoc documents: 100%|██████████| 1/1 [00:00<00:00, 15534.46it/s]\n",
      "Retrieving RobocrystallogapherDoc documents: 100%|██████████| 1/1 [00:00<00:00, 14716.86it/s]\n",
      "Retrieving RobocrystallogapherDoc documents: 100%|██████████| 1/1 [00:00<00:00, 14463.12it/s]\n",
      "Retrieving RobocrystallogapherDoc documents: 100%|██████████| 1/1 [00:00<00:00, 16644.06it/s]\n",
      "Retrieving RobocrystallogapherDoc documents: 100%|██████████| 1/1 [00:00<00:00, 13189.64it/s]\n",
      "Retrieving RobocrystallogapherDoc documents: 100%|██████████| 1/1 [00:00<00:00, 13530.01it/s]\n",
      "Retrieving RobocrystallogapherDoc documents: 100%|██████████| 1/1 [00:00<00:00, 15768.06it/s]\n",
      "Retrieving RobocrystallogapherDoc documents: 100%|██████████| 1/1 [00:00<00:00, 15252.01it/s]\n",
      "Retrieving RobocrystallogapherDoc documents: 100%|██████████| 1/1 [00:00<00:00, 15650.39it/s]\n",
      "Retrieving RobocrystallogapherDoc documents: 100%|██████████| 1/1 [00:00<00:00, 17050.02it/s]\n",
      "Retrieving RobocrystallogapherDoc documents: 100%|██████████| 1/1 [00:00<00:00, 12336.19it/s]\n",
      "Retrieving RobocrystallogapherDoc documents: 100%|██████████| 1/1 [00:00<00:00, 14463.12it/s]\n",
      "Retrieving RobocrystallogapherDoc documents: 100%|██████████| 1/1 [00:00<00:00, 16320.25it/s]\n",
      "Retrieving RobocrystallogapherDoc documents: 100%|██████████| 1/1 [00:00<00:00, 14169.95it/s]\n",
      "Retrieving RobocrystallogapherDoc documents: 100%|██████████| 1/1 [00:00<00:00, 14413.42it/s]\n",
      "Retrieving RobocrystallogapherDoc documents: 100%|██████████| 1/1 [00:00<00:00, 13706.88it/s]\n",
      "Retrieving RobocrystallogapherDoc documents: 100%|██████████| 1/1 [00:00<00:00, 15887.52it/s]\n",
      "Retrieving RobocrystallogapherDoc documents: 100%|██████████| 1/1 [00:00<00:00, 16448.25it/s]\n",
      "Retrieving RobocrystallogapherDoc documents: 100%|██████████| 1/1 [00:00<00:00, 15534.46it/s]\n"
     ]
    },
    {
     "name": "stdout",
     "output_type": "stream",
     "text": [
      "mp-26652\n"
     ]
    },
    {
     "name": "stderr",
     "output_type": "stream",
     "text": [
      "Retrieving RobocrystallogapherDoc documents: 100%|██████████| 1/1 [00:00<00:00, 15709.00it/s]\n",
      "Retrieving RobocrystallogapherDoc documents: 100%|██████████| 1/1 [00:00<00:00, 15650.39it/s]\n",
      "Retrieving RobocrystallogapherDoc documents: 100%|██████████| 1/1 [00:00<00:00, 15420.24it/s]\n",
      "Retrieving RobocrystallogapherDoc documents: 100%|██████████| 1/1 [00:00<00:00, 16710.37it/s]\n",
      "Retrieving RobocrystallogapherDoc documents: 100%|██████████| 1/1 [00:00<00:00, 16644.06it/s]\n",
      "Retrieving RobocrystallogapherDoc documents: 100%|██████████| 1/1 [00:00<00:00, 14979.66it/s]\n",
      "Retrieving RobocrystallogapherDoc documents: 100%|██████████| 1/1 [00:00<00:00, 18808.54it/s]\n",
      "Retrieving RobocrystallogapherDoc documents: 100%|██████████| 1/1 [00:00<00:00, 29537.35it/s]\n",
      "Retrieving RobocrystallogapherDoc documents: 100%|██████████| 1/1 [00:00<00:00, 23696.63it/s]\n",
      "Retrieving RobocrystallogapherDoc documents: 100%|██████████| 1/1 [00:00<00:00, 28149.69it/s]\n",
      "Retrieving RobocrystallogapherDoc documents: 100%|██████████| 1/1 [00:00<00:00, 24385.49it/s]\n",
      "Retrieving RobocrystallogapherDoc documents: 100%|██████████| 1/1 [00:00<00:00, 20867.18it/s]\n"
     ]
    },
    {
     "name": "stdout",
     "output_type": "stream",
     "text": [
      "mp-973966\n"
     ]
    },
    {
     "name": "stderr",
     "output_type": "stream",
     "text": [
      "Retrieving RobocrystallogapherDoc documents: 100%|██████████| 1/1 [00:00<00:00, 24385.49it/s]\n",
      "Retrieving RobocrystallogapherDoc documents: 100%|██████████| 1/1 [00:00<00:00, 23045.63it/s]\n",
      "Retrieving RobocrystallogapherDoc documents: 100%|██████████| 1/1 [00:00<00:00, 23045.63it/s]\n",
      "Retrieving RobocrystallogapherDoc documents: 100%|██████████| 1/1 [00:00<00:00, 23563.51it/s]\n",
      "Retrieving RobocrystallogapherDoc documents: 100%|██████████| 1/1 [00:00<00:00, 24528.09it/s]\n",
      "Retrieving RobocrystallogapherDoc documents: 100%|██████████| 1/1 [00:00<00:00, 22919.69it/s]\n",
      "Retrieving RobocrystallogapherDoc documents: 100%|██████████| 1/1 [00:00<00:00, 14463.12it/s]\n"
     ]
    },
    {
     "name": "stdout",
     "output_type": "stream",
     "text": [
      "mp-973966\n"
     ]
    },
    {
     "name": "stderr",
     "output_type": "stream",
     "text": [
      "Retrieving RobocrystallogapherDoc documents: 100%|██████████| 1/1 [00:00<00:00, 24818.37it/s]\n",
      "Retrieving RobocrystallogapherDoc documents: 100%|██████████| 1/1 [00:00<00:00, 20262.34it/s]\n",
      "Retrieving RobocrystallogapherDoc documents: 100%|██████████| 1/1 [00:00<00:00, 24528.09it/s]\n",
      "Retrieving RobocrystallogapherDoc documents: 100%|██████████| 1/1 [00:00<00:00, 24105.20it/s]\n",
      "Retrieving RobocrystallogapherDoc documents: 100%|██████████| 1/1 [00:00<00:00, 24528.09it/s]\n",
      "Retrieving RobocrystallogapherDoc documents: 100%|██████████| 1/1 [00:00<00:00, 23563.51it/s]\n",
      "Retrieving RobocrystallogapherDoc documents: 100%|██████████| 1/1 [00:00<00:00, 23831.27it/s]\n",
      "Retrieving RobocrystallogapherDoc documents: 100%|██████████| 1/1 [00:00<00:00, 23831.27it/s]\n",
      "Retrieving RobocrystallogapherDoc documents: 100%|██████████| 1/1 [00:00<00:00, 28728.11it/s]\n",
      "Retrieving RobocrystallogapherDoc documents: 100%|██████████| 1/1 [00:00<00:00, 23831.27it/s]\n",
      "Retrieving RobocrystallogapherDoc documents: 100%|██████████| 1/1 [00:00<00:00, 20661.60it/s]\n",
      "Retrieving RobocrystallogapherDoc documents: 100%|██████████| 1/1 [00:00<00:00, 24818.37it/s]\n",
      "Retrieving RobocrystallogapherDoc documents: 100%|██████████| 1/1 [00:00<00:00, 23831.27it/s]\n"
     ]
    },
    {
     "name": "stdout",
     "output_type": "stream",
     "text": [
      "mp-1147554\n"
     ]
    },
    {
     "name": "stderr",
     "output_type": "stream",
     "text": [
      "Retrieving RobocrystallogapherDoc documents: 100%|██████████| 1/1 [00:00<00:00, 21290.88it/s]\n",
      "Retrieving RobocrystallogapherDoc documents: 100%|██████████| 1/1 [00:00<00:00, 24244.53it/s]\n"
     ]
    },
    {
     "name": "stdout",
     "output_type": "stream",
     "text": [
      "mp-1147554\n"
     ]
    },
    {
     "name": "stderr",
     "output_type": "stream",
     "text": [
      "Retrieving RobocrystallogapherDoc documents: 100%|██████████| 1/1 [00:00<00:00, 27413.75it/s]\n",
      "Retrieving RobocrystallogapherDoc documents: 100%|██████████| 1/1 [00:00<00:00, 24244.53it/s]\n",
      "Retrieving RobocrystallogapherDoc documents: 100%|██████████| 1/1 [00:00<00:00, 23431.87it/s]\n",
      "Retrieving RobocrystallogapherDoc documents: 100%|██████████| 1/1 [00:00<00:00, 23967.45it/s]\n",
      "Retrieving RobocrystallogapherDoc documents: 100%|██████████| 1/1 [00:00<00:00, 22671.91it/s]\n",
      "Retrieving RobocrystallogapherDoc documents: 100%|██████████| 1/1 [00:00<00:00, 20763.88it/s]\n",
      "Retrieving RobocrystallogapherDoc documents: 100%|██████████| 1/1 [00:00<00:00, 24818.37it/s]\n"
     ]
    },
    {
     "name": "stdout",
     "output_type": "stream",
     "text": [
      "mp-1235504\n"
     ]
    },
    {
     "name": "stderr",
     "output_type": "stream",
     "text": [
      "Retrieving RobocrystallogapherDoc documents: 100%|██████████| 1/1 [00:00<00:00, 18808.54it/s]\n",
      "Retrieving RobocrystallogapherDoc documents: 100%|██████████| 1/1 [00:00<00:00, 21959.71it/s]\n"
     ]
    },
    {
     "name": "stdout",
     "output_type": "stream",
     "text": [
      "mp-1236123\n"
     ]
    },
    {
     "name": "stderr",
     "output_type": "stream",
     "text": [
      "Retrieving RobocrystallogapherDoc documents: 100%|██████████| 1/1 [00:00<00:00, 22919.69it/s]\n",
      "Retrieving RobocrystallogapherDoc documents: 100%|██████████| 1/1 [00:00<00:00, 29127.11it/s]\n"
     ]
    },
    {
     "name": "stdout",
     "output_type": "stream",
     "text": [
      "mp-1236123\n"
     ]
    },
    {
     "name": "stderr",
     "output_type": "stream",
     "text": [
      "Retrieving RobocrystallogapherDoc documents: 100%|██████████| 1/1 [00:00<00:00, 27060.03it/s]\n",
      "Retrieving RobocrystallogapherDoc documents: 100%|██████████| 1/1 [00:00<00:00, 23967.45it/s]\n",
      "Retrieving RobocrystallogapherDoc documents: 100%|██████████| 1/1 [00:00<00:00, 24672.38it/s]\n"
     ]
    },
    {
     "name": "stdout",
     "output_type": "stream",
     "text": [
      "mp-1235504\n"
     ]
    },
    {
     "name": "stderr",
     "output_type": "stream",
     "text": [
      "Retrieving RobocrystallogapherDoc documents: 100%|██████████| 1/1 [00:00<00:00, 27060.03it/s]\n",
      "Retrieving RobocrystallogapherDoc documents: 100%|██████████| 1/1 [00:00<00:00, 25420.02it/s]\n",
      "Retrieving RobocrystallogapherDoc documents: 100%|██████████| 1/1 [00:00<00:00, 22919.69it/s]\n",
      "Retrieving RobocrystallogapherDoc documents: 100%|██████████| 1/1 [00:00<00:00, 19239.93it/s]\n",
      "Retrieving RobocrystallogapherDoc documents: 100%|██████████| 1/1 [00:00<00:00, 23045.63it/s]\n",
      "Retrieving RobocrystallogapherDoc documents: 100%|██████████| 1/1 [00:00<00:00, 17848.10it/s]\n",
      "Retrieving RobocrystallogapherDoc documents: 100%|██████████| 1/1 [00:00<00:00, 24385.49it/s]\n",
      "Retrieving RobocrystallogapherDoc documents: 100%|██████████| 1/1 [00:00<00:00, 28926.23it/s]\n",
      "Retrieving RobocrystallogapherDoc documents: 100%|██████████| 1/1 [00:00<00:00, 25575.02it/s]\n",
      "Retrieving RobocrystallogapherDoc documents: 100%|██████████| 1/1 [00:00<00:00, 20867.18it/s]\n",
      "Retrieving RobocrystallogapherDoc documents: 100%|██████████| 1/1 [00:00<00:00, 23045.63it/s]\n",
      "Retrieving RobocrystallogapherDoc documents: 100%|██████████| 1/1 [00:00<00:00, 22192.08it/s]\n",
      "Retrieving RobocrystallogapherDoc documents: 100%|██████████| 1/1 [00:00<00:00, 22075.28it/s]\n",
      "Retrieving RobocrystallogapherDoc documents: 100%|██████████| 1/1 [00:00<00:00, 23967.45it/s]\n",
      "Retrieving RobocrystallogapherDoc documents: 100%|██████████| 1/1 [00:00<00:00, 27060.03it/s]\n",
      "Retrieving RobocrystallogapherDoc documents: 100%|██████████| 1/1 [00:00<00:00, 19508.39it/s]\n",
      "Retrieving RobocrystallogapherDoc documents: 100%|██████████| 1/1 [00:00<00:00, 20164.92it/s]\n",
      "Retrieving RobocrystallogapherDoc documents: 100%|██████████| 1/1 [00:00<00:00, 28339.89it/s]\n",
      "Retrieving RobocrystallogapherDoc documents: 100%|██████████| 1/1 [00:00<00:00, 23045.63it/s]\n",
      "Retrieving RobocrystallogapherDoc documents: 100%|██████████| 1/1 [00:00<00:00, 23431.87it/s]\n",
      "Retrieving RobocrystallogapherDoc documents: 100%|██████████| 1/1 [00:00<00:00, 22671.91it/s]\n",
      "Retrieving RobocrystallogapherDoc documents: 100%|██████████| 1/1 [00:00<00:00, 28728.11it/s]\n",
      "Retrieving RobocrystallogapherDoc documents: 100%|██████████| 1/1 [00:00<00:00, 24385.49it/s]\n",
      "Retrieving RobocrystallogapherDoc documents: 100%|██████████| 1/1 [00:00<00:00, 29127.11it/s]\n",
      "Retrieving RobocrystallogapherDoc documents: 100%|██████████| 1/1 [00:00<00:00, 19878.22it/s]\n",
      "Retrieving RobocrystallogapherDoc documents: 100%|██████████| 1/1 [00:00<00:00, 22429.43it/s]\n",
      "Retrieving RobocrystallogapherDoc documents: 100%|██████████| 1/1 [00:00<00:00, 24528.09it/s]\n",
      "Retrieving RobocrystallogapherDoc documents: 100%|██████████| 1/1 [00:00<00:00, 18808.54it/s]\n",
      "Retrieving RobocrystallogapherDoc documents: 100%|██████████| 1/1 [00:00<00:00, 28339.89it/s]\n",
      "Retrieving RobocrystallogapherDoc documents: 100%|██████████| 1/1 [00:00<00:00, 20763.88it/s]\n",
      "Retrieving RobocrystallogapherDoc documents: 100%|██████████| 1/1 [00:00<00:00, 26886.56it/s]\n",
      "Retrieving RobocrystallogapherDoc documents: 100%|██████████| 1/1 [00:00<00:00, 23563.51it/s]\n",
      "Retrieving RobocrystallogapherDoc documents: 100%|██████████| 1/1 [00:00<00:00, 22919.69it/s]\n",
      "Retrieving RobocrystallogapherDoc documents: 100%|██████████| 1/1 [00:00<00:00, 24672.38it/s]\n",
      "Retrieving RobocrystallogapherDoc documents: 100%|██████████| 1/1 [00:00<00:00, 28926.23it/s]\n",
      "Retrieving RobocrystallogapherDoc documents: 100%|██████████| 1/1 [00:00<00:00, 23563.51it/s]\n",
      "Retrieving RobocrystallogapherDoc documents: 100%|██████████| 1/1 [00:00<00:00, 29330.80it/s]\n",
      "Retrieving RobocrystallogapherDoc documents: 100%|██████████| 1/1 [00:00<00:00, 26546.23it/s]\n",
      "Retrieving RobocrystallogapherDoc documents: 100%|██████████| 1/1 [00:00<00:00, 23696.63it/s]\n",
      "Retrieving RobocrystallogapherDoc documents: 100%|██████████| 1/1 [00:00<00:00, 27060.03it/s]\n",
      "Retrieving RobocrystallogapherDoc documents: 100%|██████████| 1/1 [00:00<00:00, 23172.95it/s]\n",
      "Retrieving RobocrystallogapherDoc documents: 100%|██████████| 1/1 [00:00<00:00, 19691.57it/s]\n",
      "Retrieving RobocrystallogapherDoc documents: 100%|██████████| 1/1 [00:00<00:00, 24105.20it/s]\n",
      "Retrieving RobocrystallogapherDoc documents: 100%|██████████| 1/1 [00:00<00:00, 24244.53it/s]\n"
     ]
    },
    {
     "name": "stdout",
     "output_type": "stream",
     "text": [
      "mp-1198271\n"
     ]
    },
    {
     "name": "stderr",
     "output_type": "stream",
     "text": [
      "Retrieving RobocrystallogapherDoc documents: 100%|██████████| 1/1 [00:00<00:00, 23967.45it/s]\n",
      "Retrieving RobocrystallogapherDoc documents: 100%|██████████| 1/1 [00:00<00:00, 20164.92it/s]\n",
      "Retrieving RobocrystallogapherDoc documents: 100%|██████████| 1/1 [00:00<00:00, 24818.37it/s]\n",
      "Retrieving RobocrystallogapherDoc documents: 100%|██████████| 1/1 [00:00<00:00, 24244.53it/s]\n",
      "Retrieving RobocrystallogapherDoc documents: 100%|██████████| 1/1 [00:00<00:00, 24528.09it/s]\n"
     ]
    },
    {
     "name": "stdout",
     "output_type": "stream",
     "text": [
      "mp-1198188\n"
     ]
    },
    {
     "name": "stderr",
     "output_type": "stream",
     "text": [
      "Retrieving RobocrystallogapherDoc documents: 100%|██████████| 1/1 [00:00<00:00, 23045.63it/s]\n"
     ]
    },
    {
     "name": "stdout",
     "output_type": "stream",
     "text": [
      "mp-1198188\n"
     ]
    },
    {
     "name": "stderr",
     "output_type": "stream",
     "text": [
      "Retrieving RobocrystallogapherDoc documents: 100%|██████████| 1/1 [00:00<00:00, 25731.93it/s]\n"
     ]
    },
    {
     "name": "stdout",
     "output_type": "stream",
     "text": [
      "mp-1198271\n"
     ]
    },
    {
     "name": "stderr",
     "output_type": "stream",
     "text": [
      "Retrieving RobocrystallogapherDoc documents: 100%|██████████| 1/1 [00:00<00:00, 23301.69it/s]\n",
      "Retrieving RobocrystallogapherDoc documents: 100%|██████████| 1/1 [00:00<00:00, 20460.02it/s]\n",
      "Retrieving RobocrystallogapherDoc documents: 100%|██████████| 1/1 [00:00<00:00, 23301.69it/s]\n",
      "Retrieving RobocrystallogapherDoc documents: 100%|██████████| 1/1 [00:00<00:00, 21959.71it/s]\n",
      "Retrieving RobocrystallogapherDoc documents: 100%|██████████| 1/1 [00:00<00:00, 23696.63it/s]\n",
      "Retrieving RobocrystallogapherDoc documents: 100%|██████████| 1/1 [00:00<00:00, 24385.49it/s]\n",
      "Retrieving RobocrystallogapherDoc documents: 100%|██████████| 1/1 [00:00<00:00, 20560.31it/s]\n",
      "Retrieving RobocrystallogapherDoc documents: 100%|██████████| 1/1 [00:00<00:00, 20661.60it/s]\n",
      "Retrieving RobocrystallogapherDoc documents: 100%|██████████| 1/1 [00:00<00:00, 23967.45it/s]\n",
      "Retrieving RobocrystallogapherDoc documents: 100%|██████████| 1/1 [00:00<00:00, 22795.13it/s]\n",
      "Retrieving RobocrystallogapherDoc documents: 100%|██████████| 1/1 [00:00<00:00, 20360.70it/s]\n",
      "Retrieving RobocrystallogapherDoc documents: 100%|██████████| 1/1 [00:00<00:00, 26379.27it/s]\n",
      "Retrieving RobocrystallogapherDoc documents: 100%|██████████| 1/1 [00:00<00:00, 24105.20it/s]\n",
      "Retrieving RobocrystallogapherDoc documents: 100%|██████████| 1/1 [00:00<00:00, 23696.63it/s]\n",
      "Retrieving RobocrystallogapherDoc documents: 100%|██████████| 1/1 [00:00<00:00, 20763.88it/s]\n",
      "Retrieving RobocrystallogapherDoc documents: 100%|██████████| 1/1 [00:00<00:00, 18724.57it/s]\n",
      "Retrieving RobocrystallogapherDoc documents: 100%|██████████| 1/1 [00:00<00:00, 21290.88it/s]\n",
      "Retrieving RobocrystallogapherDoc documents: 100%|██████████| 1/1 [00:00<00:00, 18001.30it/s]\n",
      "Retrieving RobocrystallogapherDoc documents: 100%|██████████| 1/1 [00:00<00:00, 20763.88it/s]\n",
      "Retrieving RobocrystallogapherDoc documents: 100%|██████████| 1/1 [00:00<00:00, 22429.43it/s]\n",
      "Retrieving RobocrystallogapherDoc documents: 100%|██████████| 1/1 [00:00<00:00, 18078.90it/s]\n",
      "Retrieving RobocrystallogapherDoc documents: 100%|██████████| 1/1 [00:00<00:00, 20560.31it/s]\n",
      "Retrieving RobocrystallogapherDoc documents: 100%|██████████| 1/1 [00:00<00:00, 22795.13it/s]\n",
      "Retrieving RobocrystallogapherDoc documents: 100%|██████████| 1/1 [00:00<00:00, 20262.34it/s]\n",
      "Retrieving RobocrystallogapherDoc documents: 100%|██████████| 1/1 [00:00<00:00, 13706.88it/s]\n"
     ]
    },
    {
     "name": "stdout",
     "output_type": "stream",
     "text": [
      "mp-1195757\n"
     ]
    },
    {
     "name": "stderr",
     "output_type": "stream",
     "text": [
      "Retrieving RobocrystallogapherDoc documents: 100%|██████████| 1/1 [00:00<00:00, 16256.99it/s]\n"
     ]
    },
    {
     "name": "stdout",
     "output_type": "stream",
     "text": [
      "mp-1195757\n"
     ]
    },
    {
     "name": "stderr",
     "output_type": "stream",
     "text": [
      "Retrieving RobocrystallogapherDoc documents: 100%|██████████| 1/1 [00:00<00:00, 17697.49it/s]\n",
      "Retrieving RobocrystallogapherDoc documents: 100%|██████████| 1/1 [00:00<00:00, 16448.25it/s]\n",
      "Retrieving RobocrystallogapherDoc documents: 100%|██████████| 1/1 [00:00<00:00, 21509.25it/s]\n",
      "Retrieving RobocrystallogapherDoc documents: 100%|██████████| 1/1 [00:00<00:00, 19065.02it/s]\n",
      "Retrieving RobocrystallogapherDoc documents: 100%|██████████| 1/1 [00:00<00:00, 21183.35it/s]\n",
      "Retrieving RobocrystallogapherDoc documents: 100%|██████████| 1/1 [00:00<00:00, 19328.59it/s]\n",
      "Retrieving RobocrystallogapherDoc documents: 100%|██████████| 1/1 [00:00<00:00, 13025.79it/s]\n",
      "Retrieving RobocrystallogapherDoc documents: 100%|██████████| 1/1 [00:00<00:00, 17050.02it/s]\n",
      "Retrieving RobocrystallogapherDoc documents: 100%|██████████| 1/1 [00:00<00:00, 18724.57it/s]\n",
      "Retrieving RobocrystallogapherDoc documents: 100%|██████████| 1/1 [00:00<00:00, 18315.74it/s]\n",
      "Retrieving RobocrystallogapherDoc documents: 100%|██████████| 1/1 [00:00<00:00, 18001.30it/s]\n",
      "Retrieving RobocrystallogapherDoc documents: 100%|██████████| 1/1 [00:00<00:00, 17697.49it/s]\n",
      "Retrieving RobocrystallogapherDoc documents: 100%|██████████| 1/1 [00:00<00:00, 18236.10it/s]\n",
      "Retrieving RobocrystallogapherDoc documents: 100%|██████████| 1/1 [00:00<00:00, 18315.74it/s]\n",
      "Retrieving RobocrystallogapherDoc documents: 100%|██████████| 1/1 [00:00<00:00, 15477.14it/s]\n",
      "Retrieving RobocrystallogapherDoc documents: 100%|██████████| 1/1 [00:00<00:00, 11037.64it/s]\n",
      "Retrieving RobocrystallogapherDoc documents: 100%|██████████| 1/1 [00:00<00:00, 19152.07it/s]\n",
      "Retrieving RobocrystallogapherDoc documents: 100%|██████████| 1/1 [00:00<00:00, 18078.90it/s]\n",
      "Retrieving RobocrystallogapherDoc documents: 100%|██████████| 1/1 [00:00<00:00, 17050.02it/s]\n",
      "Retrieving RobocrystallogapherDoc documents: 100%|██████████| 1/1 [00:00<00:00, 21845.33it/s]\n",
      "Retrieving RobocrystallogapherDoc documents: 100%|██████████| 1/1 [00:00<00:00, 16912.52it/s]\n",
      "Retrieving RobocrystallogapherDoc documents: 100%|██████████| 1/1 [00:00<00:00, 17260.51it/s]\n",
      "Retrieving RobocrystallogapherDoc documents: 100%|██████████| 1/1 [00:00<00:00, 17476.27it/s]\n",
      "Retrieving RobocrystallogapherDoc documents: 100%|██████████| 1/1 [00:00<00:00, 18893.26it/s]\n",
      "Retrieving RobocrystallogapherDoc documents: 100%|██████████| 1/1 [00:00<00:00, 22919.69it/s]\n",
      "Retrieving RobocrystallogapherDoc documents: 100%|██████████| 1/1 [00:00<00:00, 20068.44it/s]\n",
      "Retrieving RobocrystallogapherDoc documents: 100%|██████████| 1/1 [00:00<00:00, 22550.02it/s]\n",
      "Retrieving RobocrystallogapherDoc documents: 100%|██████████| 1/1 [00:00<00:00, 20460.02it/s]\n",
      "Retrieving RobocrystallogapherDoc documents: 100%|██████████| 1/1 [00:00<00:00, 24244.53it/s]\n",
      "Retrieving RobocrystallogapherDoc documents: 100%|██████████| 1/1 [00:00<00:00, 16980.99it/s]\n",
      "Retrieving RobocrystallogapherDoc documents: 100%|██████████| 1/1 [00:00<00:00, 20661.60it/s]\n",
      "Retrieving RobocrystallogapherDoc documents: 100%|██████████| 1/1 [00:00<00:00, 28926.23it/s]\n",
      "Retrieving RobocrystallogapherDoc documents: 100%|██████████| 1/1 [00:00<00:00, 22429.43it/s]\n",
      "Retrieving RobocrystallogapherDoc documents: 100%|██████████| 1/1 [00:00<00:00, 21959.71it/s]\n",
      "Retrieving RobocrystallogapherDoc documents: 100%|██████████| 1/1 [00:00<00:00, 28532.68it/s]\n",
      "Retrieving RobocrystallogapherDoc documents: 100%|██████████| 1/1 [00:00<00:00, 21620.12it/s]\n",
      "Retrieving RobocrystallogapherDoc documents: 100%|██████████| 1/1 [00:00<00:00, 16578.28it/s]\n",
      "Retrieving RobocrystallogapherDoc documents: 100%|██████████| 1/1 [00:00<00:00, 22429.43it/s]\n",
      "Retrieving RobocrystallogapherDoc documents: 100%|██████████| 1/1 [00:00<00:00, 14315.03it/s]\n",
      "Retrieving RobocrystallogapherDoc documents: 100%|██████████| 1/1 [00:00<00:00, 22795.13it/s]\n",
      "Retrieving RobocrystallogapherDoc documents: 100%|██████████| 1/1 [00:00<00:00, 20763.88it/s]\n",
      "Retrieving RobocrystallogapherDoc documents: 100%|██████████| 1/1 [00:00<00:00, 20971.52it/s]\n",
      "Retrieving RobocrystallogapherDoc documents: 100%|██████████| 1/1 [00:00<00:00, 20164.92it/s]\n",
      "Retrieving RobocrystallogapherDoc documents: 100%|██████████| 1/1 [00:00<00:00, 18477.11it/s]\n",
      "Retrieving RobocrystallogapherDoc documents: 100%|██████████| 1/1 [00:00<00:00, 17623.13it/s]\n",
      "Retrieving RobocrystallogapherDoc documents: 100%|██████████| 1/1 [00:00<00:00, 19418.07it/s]\n",
      "Retrieving RobocrystallogapherDoc documents: 100%|██████████| 1/1 [00:00<00:00, 16980.99it/s]\n",
      "Retrieving RobocrystallogapherDoc documents: 100%|██████████| 1/1 [00:00<00:00, 18641.35it/s]\n",
      "Retrieving RobocrystallogapherDoc documents: 100%|██████████| 1/1 [00:00<00:00, 18477.11it/s]\n",
      "Retrieving RobocrystallogapherDoc documents: 100%|██████████| 1/1 [00:00<00:00, 18078.90it/s]\n",
      "Retrieving RobocrystallogapherDoc documents: 100%|██████████| 1/1 [00:00<00:00, 18078.90it/s]\n",
      "Retrieving RobocrystallogapherDoc documents: 100%|██████████| 1/1 [00:00<00:00, 19239.93it/s]\n",
      "Retrieving RobocrystallogapherDoc documents: 100%|██████████| 1/1 [00:00<00:00, 18236.10it/s]\n",
      "Retrieving RobocrystallogapherDoc documents: 100%|██████████| 1/1 [00:00<00:00, 18724.57it/s]\n",
      "Retrieving RobocrystallogapherDoc documents: 100%|██████████| 1/1 [00:00<00:00, 18558.87it/s]\n",
      "Retrieving RobocrystallogapherDoc documents: 100%|██████████| 1/1 [00:00<00:00, 18808.54it/s]\n",
      "Retrieving RobocrystallogapherDoc documents: 100%|██████████| 1/1 [00:00<00:00, 16844.59it/s]\n",
      "Retrieving RobocrystallogapherDoc documents: 100%|██████████| 1/1 [00:00<00:00, 17772.47it/s]\n",
      "Retrieving RobocrystallogapherDoc documents: 100%|██████████| 1/1 [00:00<00:00, 17697.49it/s]\n",
      "Retrieving RobocrystallogapherDoc documents: 100%|██████████| 1/1 [00:00<00:00, 18558.87it/s]\n",
      "Retrieving RobocrystallogapherDoc documents: 100%|██████████| 1/1 [00:00<00:00, 18396.07it/s]\n",
      "Retrieving RobocrystallogapherDoc documents: 100%|██████████| 1/1 [00:00<00:00, 18001.30it/s]\n",
      "Retrieving RobocrystallogapherDoc documents: 100%|██████████| 1/1 [00:00<00:00, 16256.99it/s]\n",
      "Retrieving RobocrystallogapherDoc documents: 100%|██████████| 1/1 [00:00<00:00, 18001.30it/s]\n",
      "Retrieving RobocrystallogapherDoc documents: 100%|██████████| 1/1 [00:00<00:00, 15650.39it/s]\n",
      "Retrieving RobocrystallogapherDoc documents: 100%|██████████| 1/1 [00:00<00:00, 17697.49it/s]\n",
      "Retrieving RobocrystallogapherDoc documents: 100%|██████████| 1/1 [00:00<00:00, 14364.05it/s]\n",
      "Retrieving RobocrystallogapherDoc documents: 100%|██████████| 1/1 [00:00<00:00, 14768.68it/s]\n",
      "Retrieving RobocrystallogapherDoc documents: 100%|██████████| 1/1 [00:00<00:00, 20971.52it/s]\n",
      "Retrieving RobocrystallogapherDoc documents: 100%|██████████| 1/1 [00:00<00:00, 15141.89it/s]\n",
      "Retrieving RobocrystallogapherDoc documents: 100%|██████████| 1/1 [00:00<00:00, 16777.22it/s]\n",
      "Retrieving RobocrystallogapherDoc documents: 100%|██████████| 1/1 [00:00<00:00, 20560.31it/s]\n",
      "Retrieving RobocrystallogapherDoc documents: 100%|██████████| 1/1 [00:00<00:00, 18001.30it/s]\n",
      "Retrieving RobocrystallogapherDoc documents: 100%|██████████| 1/1 [00:00<00:00, 17623.13it/s]\n",
      "Retrieving RobocrystallogapherDoc documents: 100%|██████████| 1/1 [00:00<00:00, 15141.89it/s]\n",
      "Retrieving RobocrystallogapherDoc documents: 100%|██████████| 1/1 [00:00<00:00, 18978.75it/s]\n",
      "Retrieving RobocrystallogapherDoc documents: 100%|██████████| 1/1 [00:00<00:00, 20262.34it/s]\n",
      "Retrieving RobocrystallogapherDoc documents: 100%|██████████| 1/1 [00:00<00:00, 17623.13it/s]\n",
      "Retrieving RobocrystallogapherDoc documents: 100%|██████████| 1/1 [00:00<00:00, 19239.93it/s]\n",
      "Retrieving RobocrystallogapherDoc documents: 100%|██████████| 1/1 [00:00<00:00, 17848.10it/s]\n",
      "Retrieving RobocrystallogapherDoc documents: 100%|██████████| 1/1 [00:00<00:00, 18315.74it/s]\n",
      "Retrieving RobocrystallogapherDoc documents: 100%|██████████| 1/1 [00:00<00:00, 16980.99it/s]\n",
      "Retrieving RobocrystallogapherDoc documents: 100%|██████████| 1/1 [00:00<00:00, 17119.61it/s]\n",
      "Retrieving RobocrystallogapherDoc documents: 100%|██████████| 1/1 [00:00<00:00, 17050.02it/s]\n",
      "Retrieving RobocrystallogapherDoc documents: 100%|██████████| 1/1 [00:00<00:00, 21076.90it/s]\n",
      "Retrieving RobocrystallogapherDoc documents: 100%|██████████| 1/1 [00:00<00:00, 18724.57it/s]\n",
      "Retrieving RobocrystallogapherDoc documents: 100%|██████████| 1/1 [00:00<00:00, 15947.92it/s]\n",
      "Retrieving RobocrystallogapherDoc documents: 100%|██████████| 1/1 [00:00<00:00, 18558.87it/s]\n",
      "Retrieving RobocrystallogapherDoc documents: 100%|██████████| 1/1 [00:00<00:00, 18315.74it/s]\n",
      "Retrieving RobocrystallogapherDoc documents: 100%|██████████| 1/1 [00:00<00:00, 18157.16it/s]\n",
      "Retrieving RobocrystallogapherDoc documents: 100%|██████████| 1/1 [00:00<00:00, 14820.86it/s]\n",
      "Retrieving RobocrystallogapherDoc documents: 100%|██████████| 1/1 [00:00<00:00, 19065.02it/s]\n",
      "Retrieving RobocrystallogapherDoc documents: 100%|██████████| 1/1 [00:00<00:00, 18157.16it/s]\n",
      "Retrieving RobocrystallogapherDoc documents: 100%|██████████| 1/1 [00:00<00:00, 18001.30it/s]\n",
      "Retrieving RobocrystallogapherDoc documents: 100%|██████████| 1/1 [00:00<00:00, 18236.10it/s]\n",
      "Retrieving RobocrystallogapherDoc documents: 100%|██████████| 1/1 [00:00<00:00, 19065.02it/s]\n",
      "Retrieving RobocrystallogapherDoc documents: 100%|██████████| 1/1 [00:00<00:00, 18315.74it/s]\n",
      "Retrieving RobocrystallogapherDoc documents: 100%|██████████| 1/1 [00:00<00:00, 19418.07it/s]\n",
      "Retrieving RobocrystallogapherDoc documents: 100%|██████████| 1/1 [00:00<00:00, 17697.49it/s]\n",
      "Retrieving RobocrystallogapherDoc documents: 100%|██████████| 1/1 [00:00<00:00, 18641.35it/s]\n",
      "Retrieving RobocrystallogapherDoc documents: 100%|██████████| 1/1 [00:00<00:00, 18724.57it/s]\n",
      "Retrieving RobocrystallogapherDoc documents: 100%|██████████| 1/1 [00:00<00:00, 20068.44it/s]\n",
      "Retrieving RobocrystallogapherDoc documents: 100%|██████████| 1/1 [00:00<00:00, 19972.88it/s]\n",
      "Retrieving RobocrystallogapherDoc documents: 100%|██████████| 1/1 [00:00<00:00, 17772.47it/s]\n",
      "Retrieving RobocrystallogapherDoc documents: 100%|██████████| 1/1 [00:00<00:00, 18236.10it/s]\n"
     ]
    },
    {
     "name": "stdout",
     "output_type": "stream",
     "text": [
      "mp-684477\n"
     ]
    },
    {
     "name": "stderr",
     "output_type": "stream",
     "text": [
      "Retrieving RobocrystallogapherDoc documents: 100%|██████████| 1/1 [00:00<00:00, 17260.51it/s]\n",
      "Retrieving RobocrystallogapherDoc documents: 100%|██████████| 1/1 [00:00<00:00, 12748.64it/s]\n",
      "Retrieving RobocrystallogapherDoc documents: 100%|██████████| 1/1 [00:00<00:00, 19152.07it/s]\n"
     ]
    },
    {
     "name": "stdout",
     "output_type": "stream",
     "text": [
      "mp-757282\n"
     ]
    },
    {
     "name": "stderr",
     "output_type": "stream",
     "text": [
      "Retrieving RobocrystallogapherDoc documents: 100%|██████████| 1/1 [00:00<00:00, 18157.16it/s]\n",
      "Retrieving RobocrystallogapherDoc documents: 100%|██████████| 1/1 [00:00<00:00, 17403.75it/s]\n"
     ]
    },
    {
     "name": "stdout",
     "output_type": "stream",
     "text": [
      "mp-757282\n"
     ]
    },
    {
     "name": "stderr",
     "output_type": "stream",
     "text": [
      "Retrieving RobocrystallogapherDoc documents: 100%|██████████| 1/1 [00:00<00:00, 13573.80it/s]\n",
      "Retrieving RobocrystallogapherDoc documents: 100%|██████████| 1/1 [00:00<00:00, 8473.34it/s]\n",
      "Retrieving RobocrystallogapherDoc documents: 100%|██████████| 1/1 [00:00<00:00, 17331.83it/s]\n",
      "Retrieving RobocrystallogapherDoc documents: 100%|██████████| 1/1 [00:00<00:00, 18724.57it/s]\n",
      "Retrieving RobocrystallogapherDoc documents: 100%|██████████| 1/1 [00:00<00:00, 17924.38it/s]\n",
      "Retrieving RobocrystallogapherDoc documents: 100%|██████████| 1/1 [00:00<00:00, 17189.77it/s]\n",
      "Retrieving RobocrystallogapherDoc documents: 100%|██████████| 1/1 [00:00<00:00, 18724.57it/s]\n",
      "Retrieving RobocrystallogapherDoc documents: 100%|██████████| 1/1 [00:00<00:00, 17772.47it/s]\n",
      "Retrieving RobocrystallogapherDoc documents: 100%|██████████| 1/1 [00:00<00:00, 15477.14it/s]\n",
      "Retrieving RobocrystallogapherDoc documents: 100%|██████████| 1/1 [00:00<00:00, 18078.90it/s]\n",
      "Retrieving RobocrystallogapherDoc documents: 100%|██████████| 1/1 [00:00<00:00, 18396.07it/s]\n",
      "Retrieving RobocrystallogapherDoc documents: 100%|██████████| 1/1 [00:00<00:00, 19418.07it/s]\n",
      "Retrieving RobocrystallogapherDoc documents: 100%|██████████| 1/1 [00:00<00:00, 16980.99it/s]\n",
      "Retrieving RobocrystallogapherDoc documents: 100%|██████████| 1/1 [00:00<00:00, 17623.13it/s]\n",
      "Retrieving RobocrystallogapherDoc documents: 100%|██████████| 1/1 [00:00<00:00, 19784.45it/s]\n",
      "Retrieving RobocrystallogapherDoc documents: 100%|██████████| 1/1 [00:00<00:00, 18477.11it/s]\n",
      "Retrieving RobocrystallogapherDoc documents: 100%|██████████| 1/1 [00:00<00:00, 16912.52it/s]\n",
      "Retrieving RobocrystallogapherDoc documents: 100%|██████████| 1/1 [00:00<00:00, 17476.27it/s]\n",
      "Retrieving RobocrystallogapherDoc documents: 100%|██████████| 1/1 [00:00<00:00, 20360.70it/s]\n",
      "Retrieving RobocrystallogapherDoc documents: 100%|██████████| 1/1 [00:00<00:00, 17119.61it/s]\n",
      "Retrieving RobocrystallogapherDoc documents: 100%|██████████| 1/1 [00:00<00:00, 16777.22it/s]\n",
      "Retrieving RobocrystallogapherDoc documents: 100%|██████████| 1/1 [00:00<00:00, 15363.75it/s]\n",
      "Retrieving RobocrystallogapherDoc documents: 100%|██████████| 1/1 [00:00<00:00, 18396.07it/s]\n",
      "Retrieving RobocrystallogapherDoc documents: 100%|██████████| 1/1 [00:00<00:00, 15947.92it/s]\n",
      "Retrieving RobocrystallogapherDoc documents: 100%|██████████| 1/1 [00:00<00:00, 16980.99it/s]\n",
      "Retrieving RobocrystallogapherDoc documents: 100%|██████████| 1/1 [00:00<00:00, 20262.34it/s]\n",
      "Retrieving RobocrystallogapherDoc documents: 100%|██████████| 1/1 [00:00<00:00, 17403.75it/s]\n",
      "Retrieving RobocrystallogapherDoc documents: 100%|██████████| 1/1 [00:00<00:00, 16384.00it/s]\n",
      "Retrieving RobocrystallogapherDoc documents: 100%|██████████| 1/1 [00:00<00:00, 17260.51it/s]\n",
      "Retrieving RobocrystallogapherDoc documents: 100%|██████████| 1/1 [00:00<00:00, 15477.14it/s]\n",
      "Retrieving RobocrystallogapherDoc documents: 100%|██████████| 1/1 [00:00<00:00, 18157.16it/s]\n",
      "Retrieving RobocrystallogapherDoc documents: 100%|██████████| 1/1 [00:00<00:00, 19691.57it/s]\n",
      "Retrieving RobocrystallogapherDoc documents: 100%|██████████| 1/1 [00:00<00:00, 18157.16it/s]\n",
      "Retrieving RobocrystallogapherDoc documents: 100%|██████████| 1/1 [00:00<00:00, 12409.18it/s]\n",
      "Retrieving RobocrystallogapherDoc documents: 100%|██████████| 1/1 [00:00<00:00, 20763.88it/s]\n",
      "Retrieving RobocrystallogapherDoc documents: 100%|██████████| 1/1 [00:00<00:00, 21509.25it/s]\n",
      "Retrieving RobocrystallogapherDoc documents: 100%|██████████| 1/1 [00:00<00:00, 17848.10it/s]\n",
      "Retrieving RobocrystallogapherDoc documents: 100%|██████████| 1/1 [00:00<00:00, 20971.52it/s]\n",
      "Retrieving RobocrystallogapherDoc documents: 100%|██████████| 1/1 [00:00<00:00, 17924.38it/s]\n",
      "Retrieving RobocrystallogapherDoc documents: 100%|██████████| 1/1 [00:00<00:00, 17260.51it/s]\n",
      "Retrieving RobocrystallogapherDoc documents: 100%|██████████| 1/1 [00:00<00:00, 22310.13it/s]\n",
      "Retrieving RobocrystallogapherDoc documents: 100%|██████████| 1/1 [00:00<00:00, 24672.38it/s]\n",
      "Retrieving RobocrystallogapherDoc documents: 100%|██████████| 1/1 [00:00<00:00, 27235.74it/s]\n",
      "Retrieving RobocrystallogapherDoc documents: 100%|██████████| 1/1 [00:00<00:00, 27235.74it/s]\n",
      "Retrieving RobocrystallogapherDoc documents: 100%|██████████| 1/1 [00:00<00:00, 14315.03it/s]\n",
      "Retrieving RobocrystallogapherDoc documents: 100%|██████████| 1/1 [00:00<00:00, 29330.80it/s]\n",
      "Retrieving RobocrystallogapherDoc documents: 100%|██████████| 1/1 [00:00<00:00, 21959.71it/s]\n",
      "Retrieving RobocrystallogapherDoc documents: 100%|██████████| 1/1 [00:00<00:00, 23967.45it/s]\n",
      "Retrieving RobocrystallogapherDoc documents: 100%|██████████| 1/1 [00:00<00:00, 16644.06it/s]\n",
      "Retrieving RobocrystallogapherDoc documents: 100%|██████████| 1/1 [00:00<00:00, 29330.80it/s]\n",
      "Retrieving RobocrystallogapherDoc documents: 100%|██████████| 1/1 [00:00<00:00, 24105.20it/s]\n",
      "Retrieving RobocrystallogapherDoc documents: 100%|██████████| 1/1 [00:00<00:00, 25890.77it/s]\n",
      "Retrieving RobocrystallogapherDoc documents: 100%|██████████| 1/1 [00:00<00:00, 24672.38it/s]\n",
      "Retrieving RobocrystallogapherDoc documents: 100%|██████████| 1/1 [00:00<00:00, 19328.59it/s]\n",
      "Retrieving RobocrystallogapherDoc documents: 100%|██████████| 1/1 [00:00<00:00, 24528.09it/s]\n",
      "Retrieving RobocrystallogapherDoc documents: 100%|██████████| 1/1 [00:00<00:00, 24818.37it/s]\n",
      "Retrieving RobocrystallogapherDoc documents: 100%|██████████| 1/1 [00:00<00:00, 19972.88it/s]\n",
      "Retrieving RobocrystallogapherDoc documents: 100%|██████████| 1/1 [00:00<00:00, 23831.27it/s]\n",
      "Retrieving RobocrystallogapherDoc documents: 100%|██████████| 1/1 [00:00<00:00, 28532.68it/s]\n",
      "Retrieving RobocrystallogapherDoc documents: 100%|██████████| 1/1 [00:00<00:00, 24672.38it/s]\n",
      "Retrieving RobocrystallogapherDoc documents: 100%|██████████| 1/1 [00:00<00:00, 23301.69it/s]\n",
      "Retrieving RobocrystallogapherDoc documents: 100%|██████████| 1/1 [00:00<00:00, 26546.23it/s]\n",
      "Retrieving RobocrystallogapherDoc documents: 100%|██████████| 1/1 [00:00<00:00, 27594.11it/s]\n",
      "Retrieving RobocrystallogapherDoc documents: 100%|██████████| 1/1 [00:00<00:00, 29127.11it/s]\n",
      "Retrieving RobocrystallogapherDoc documents: 100%|██████████| 1/1 [00:00<00:00, 25575.02it/s]\n",
      "Retrieving RobocrystallogapherDoc documents: 100%|██████████| 1/1 [00:00<00:00, 25575.02it/s]\n"
     ]
    },
    {
     "name": "stdout",
     "output_type": "stream",
     "text": [
      "mp-1181036\n"
     ]
    },
    {
     "name": "stderr",
     "output_type": "stream",
     "text": [
      "Retrieving RobocrystallogapherDoc documents: 100%|██████████| 1/1 [00:00<00:00, 22550.02it/s]\n",
      "Retrieving RobocrystallogapherDoc documents: 100%|██████████| 1/1 [00:00<00:00, 21845.33it/s]\n",
      "Retrieving RobocrystallogapherDoc documents: 100%|██████████| 1/1 [00:00<00:00, 22192.08it/s]\n",
      "Retrieving RobocrystallogapherDoc documents: 100%|██████████| 1/1 [00:00<00:00, 28728.11it/s]\n",
      "Retrieving RobocrystallogapherDoc documents: 100%|██████████| 1/1 [00:00<00:00, 27594.11it/s]\n",
      "Retrieving RobocrystallogapherDoc documents: 100%|██████████| 1/1 [00:00<00:00, 23045.63it/s]\n",
      "Retrieving RobocrystallogapherDoc documents: 100%|██████████| 1/1 [00:00<00:00, 26546.23it/s]\n",
      "Retrieving RobocrystallogapherDoc documents: 100%|██████████| 1/1 [00:00<00:00, 28532.68it/s]\n",
      "Retrieving RobocrystallogapherDoc documents: 100%|██████████| 1/1 [00:00<00:00, 17848.10it/s]\n",
      "Retrieving RobocrystallogapherDoc documents: 100%|██████████| 1/1 [00:00<00:00, 19691.57it/s]\n",
      "Retrieving RobocrystallogapherDoc documents: 100%|██████████| 1/1 [00:00<00:00, 24385.49it/s]\n",
      "Retrieving RobocrystallogapherDoc documents: 100%|██████████| 1/1 [00:00<00:00, 28728.11it/s]\n",
      "Retrieving RobocrystallogapherDoc documents: 100%|██████████| 1/1 [00:00<00:00, 22671.91it/s]\n",
      "Retrieving RobocrystallogapherDoc documents: 100%|██████████| 1/1 [00:00<00:00, 23696.63it/s]\n",
      "Retrieving RobocrystallogapherDoc documents: 100%|██████████| 1/1 [00:00<00:00, 28339.89it/s]\n",
      "Retrieving RobocrystallogapherDoc documents: 100%|██████████| 1/1 [00:00<00:00, 24672.38it/s]\n",
      "Retrieving RobocrystallogapherDoc documents: 100%|██████████| 1/1 [00:00<00:00, 27594.11it/s]\n",
      "Retrieving RobocrystallogapherDoc documents: 100%|██████████| 1/1 [00:00<00:00, 21620.12it/s]\n",
      "Retrieving RobocrystallogapherDoc documents: 100%|██████████| 1/1 [00:00<00:00, 23172.95it/s]\n",
      "Retrieving RobocrystallogapherDoc documents: 100%|██████████| 1/1 [00:00<00:00, 29127.11it/s]\n",
      "Retrieving RobocrystallogapherDoc documents: 100%|██████████| 1/1 [00:00<00:00, 29537.35it/s]\n",
      "Retrieving RobocrystallogapherDoc documents: 100%|██████████| 1/1 [00:00<00:00, 26886.56it/s]\n",
      "Retrieving RobocrystallogapherDoc documents: 100%|██████████| 1/1 [00:00<00:00, 14820.86it/s]\n",
      "Retrieving RobocrystallogapherDoc documents: 100%|██████████| 1/1 [00:00<00:00, 22671.91it/s]\n",
      "Retrieving RobocrystallogapherDoc documents: 100%|██████████| 1/1 [00:00<00:00, 17623.13it/s]\n",
      "Retrieving RobocrystallogapherDoc documents: 100%|██████████| 1/1 [00:00<00:00, 22429.43it/s]\n",
      "Retrieving RobocrystallogapherDoc documents: 100%|██████████| 1/1 [00:00<00:00, 20661.60it/s]\n",
      "Retrieving RobocrystallogapherDoc documents: 100%|██████████| 1/1 [00:00<00:00, 19599.55it/s]\n",
      "Retrieving RobocrystallogapherDoc documents: 100%|██████████| 1/1 [00:00<00:00, 27962.03it/s]\n",
      "Retrieving RobocrystallogapherDoc documents: 100%|██████████| 1/1 [00:00<00:00, 22919.69it/s]\n",
      "Retrieving RobocrystallogapherDoc documents: 100%|██████████| 1/1 [00:00<00:00, 23563.51it/s]\n",
      "Retrieving RobocrystallogapherDoc documents: 100%|██████████| 1/1 [00:00<00:00, 23301.69it/s]\n",
      "Retrieving RobocrystallogapherDoc documents: 100%|██████████| 1/1 [00:00<00:00, 23431.87it/s]\n",
      "Retrieving RobocrystallogapherDoc documents: 100%|██████████| 1/1 [00:00<00:00, 26546.23it/s]\n"
     ]
    },
    {
     "name": "stdout",
     "output_type": "stream",
     "text": [
      "mp-1181036\n"
     ]
    },
    {
     "name": "stderr",
     "output_type": "stream",
     "text": [
      "Retrieving RobocrystallogapherDoc documents: 100%|██████████| 1/1 [00:00<00:00, 29330.80it/s]\n",
      "Retrieving RobocrystallogapherDoc documents: 100%|██████████| 1/1 [00:00<00:00, 17403.75it/s]\n",
      "Retrieving RobocrystallogapherDoc documents: 100%|██████████| 1/1 [00:00<00:00, 23431.87it/s]\n",
      "Retrieving RobocrystallogapherDoc documents: 100%|██████████| 1/1 [00:00<00:00, 18236.10it/s]\n",
      "Retrieving RobocrystallogapherDoc documents: 100%|██████████| 1/1 [00:00<00:00, 23831.27it/s]\n",
      "Retrieving RobocrystallogapherDoc documents: 100%|██████████| 1/1 [00:00<00:00, 24528.09it/s]\n",
      "Retrieving RobocrystallogapherDoc documents: 100%|██████████| 1/1 [00:00<00:00, 21732.15it/s]\n",
      "Retrieving RobocrystallogapherDoc documents: 100%|██████████| 1/1 [00:00<00:00, 23967.45it/s]\n",
      "Retrieving RobocrystallogapherDoc documents: 100%|██████████| 1/1 [00:00<00:00, 20867.18it/s]\n",
      "Retrieving RobocrystallogapherDoc documents: 100%|██████████| 1/1 [00:00<00:00, 21620.12it/s]\n",
      "Retrieving RobocrystallogapherDoc documents: 100%|██████████| 1/1 [00:00<00:00, 27594.11it/s]\n",
      "Retrieving RobocrystallogapherDoc documents: 100%|██████████| 1/1 [00:00<00:00, 29127.11it/s]\n",
      "Retrieving RobocrystallogapherDoc documents: 100%|██████████| 1/1 [00:00<00:00, 19972.88it/s]\n",
      "Retrieving RobocrystallogapherDoc documents: 100%|██████████| 1/1 [00:00<00:00, 22429.43it/s]\n",
      "Retrieving RobocrystallogapherDoc documents: 100%|██████████| 1/1 [00:00<00:00, 28926.23it/s]\n",
      "Retrieving RobocrystallogapherDoc documents: 100%|██████████| 1/1 [00:00<00:00, 22429.43it/s]\n",
      "Retrieving RobocrystallogapherDoc documents: 100%|██████████| 1/1 [00:00<00:00, 18236.10it/s]\n",
      "Retrieving RobocrystallogapherDoc documents: 100%|██████████| 1/1 [00:00<00:00, 26214.40it/s]\n",
      "Retrieving RobocrystallogapherDoc documents: 100%|██████████| 1/1 [00:00<00:00, 23045.63it/s]\n",
      "Retrieving RobocrystallogapherDoc documents: 100%|██████████| 1/1 [00:00<00:00, 22075.28it/s]\n",
      "Retrieving RobocrystallogapherDoc documents: 100%|██████████| 1/1 [00:00<00:00, 28532.68it/s]\n",
      "Retrieving RobocrystallogapherDoc documents: 100%|██████████| 1/1 [00:00<00:00, 28149.69it/s]\n",
      "Retrieving RobocrystallogapherDoc documents: 100%|██████████| 1/1 [00:00<00:00, 25115.59it/s]\n",
      "Retrieving RobocrystallogapherDoc documents: 100%|██████████| 1/1 [00:00<00:00, 18477.11it/s]\n",
      "Retrieving RobocrystallogapherDoc documents: 100%|██████████| 1/1 [00:00<00:00, 25890.77it/s]\n",
      "Retrieving RobocrystallogapherDoc documents: 100%|██████████| 1/1 [00:00<00:00, 29127.11it/s]\n",
      "Retrieving RobocrystallogapherDoc documents: 100%|██████████| 1/1 [00:00<00:00, 18893.26it/s]\n",
      "Retrieving RobocrystallogapherDoc documents: 100%|██████████| 1/1 [00:00<00:00, 22429.43it/s]\n",
      "Retrieving RobocrystallogapherDoc documents: 100%|██████████| 1/1 [00:00<00:00, 20763.88it/s]\n",
      "Retrieving RobocrystallogapherDoc documents: 100%|██████████| 1/1 [00:00<00:00, 21620.12it/s]\n",
      "Retrieving RobocrystallogapherDoc documents: 100%|██████████| 1/1 [00:00<00:00, 28149.69it/s]\n"
     ]
    },
    {
     "name": "stdout",
     "output_type": "stream",
     "text": [
      "mp-770832\n"
     ]
    },
    {
     "name": "stderr",
     "output_type": "stream",
     "text": [
      "Retrieving RobocrystallogapherDoc documents: 100%|██████████| 1/1 [00:00<00:00, 22671.91it/s]\n",
      "Retrieving RobocrystallogapherDoc documents: 100%|██████████| 1/1 [00:00<00:00, 23431.87it/s]\n"
     ]
    },
    {
     "name": "stdout",
     "output_type": "stream",
     "text": [
      "mp-770832\n"
     ]
    },
    {
     "name": "stderr",
     "output_type": "stream",
     "text": [
      "Retrieving RobocrystallogapherDoc documents: 100%|██████████| 1/1 [00:00<00:00, 20867.18it/s]\n",
      "Retrieving RobocrystallogapherDoc documents: 100%|██████████| 1/1 [00:00<00:00, 25115.59it/s]\n",
      "Retrieving RobocrystallogapherDoc documents: 100%|██████████| 1/1 [00:00<00:00, 24672.38it/s]\n",
      "Retrieving RobocrystallogapherDoc documents: 100%|██████████| 1/1 [00:00<00:00, 23563.51it/s]\n",
      "Retrieving RobocrystallogapherDoc documents: 100%|██████████| 1/1 [00:00<00:00, 27060.03it/s]\n",
      "Retrieving RobocrystallogapherDoc documents: 100%|██████████| 1/1 [00:00<00:00, 19152.07it/s]\n",
      "Retrieving RobocrystallogapherDoc documents: 100%|██████████| 1/1 [00:00<00:00, 19065.02it/s]\n",
      "Retrieving RobocrystallogapherDoc documents: 100%|██████████| 1/1 [00:00<00:00, 19878.22it/s]\n",
      "Retrieving RobocrystallogapherDoc documents: 100%|██████████| 1/1 [00:00<00:00, 17050.02it/s]\n",
      "Retrieving RobocrystallogapherDoc documents: 100%|██████████| 1/1 [00:00<00:00, 22795.13it/s]\n",
      "Retrieving RobocrystallogapherDoc documents: 100%|██████████| 1/1 [00:00<00:00, 22919.69it/s]\n",
      "Retrieving RobocrystallogapherDoc documents: 100%|██████████| 1/1 [00:00<00:00, 29537.35it/s]\n",
      "Retrieving RobocrystallogapherDoc documents: 100%|██████████| 1/1 [00:00<00:00, 19599.55it/s]\n",
      "Retrieving RobocrystallogapherDoc documents: 100%|██████████| 1/1 [00:00<00:00, 23045.63it/s]\n",
      "Retrieving RobocrystallogapherDoc documents: 100%|██████████| 1/1 [00:00<00:00, 28728.11it/s]\n",
      "Retrieving RobocrystallogapherDoc documents: 100%|██████████| 1/1 [00:00<00:00, 20661.60it/s]\n",
      "Retrieving RobocrystallogapherDoc documents: 100%|██████████| 1/1 [00:00<00:00, 26379.27it/s]\n",
      "Retrieving RobocrystallogapherDoc documents: 100%|██████████| 1/1 [00:00<00:00, 24385.49it/s]\n",
      "Retrieving RobocrystallogapherDoc documents: 100%|██████████| 1/1 [00:00<00:00, 25420.02it/s]\n",
      "Retrieving RobocrystallogapherDoc documents: 100%|██████████| 1/1 [00:00<00:00, 27776.85it/s]\n",
      "Retrieving RobocrystallogapherDoc documents: 100%|██████████| 1/1 [00:00<00:00, 27594.11it/s]\n",
      "Retrieving RobocrystallogapherDoc documents: 100%|██████████| 1/1 [00:00<00:00, 20867.18it/s]\n",
      "Retrieving RobocrystallogapherDoc documents: 100%|██████████| 1/1 [00:00<00:00, 21290.88it/s]\n",
      "Retrieving RobocrystallogapherDoc documents: 100%|██████████| 1/1 [00:00<00:00, 18078.90it/s]\n",
      "Retrieving RobocrystallogapherDoc documents: 100%|██████████| 1/1 [00:00<00:00, 29330.80it/s]\n",
      "Retrieving RobocrystallogapherDoc documents: 100%|██████████| 1/1 [00:00<00:00, 29746.84it/s]\n",
      "Retrieving RobocrystallogapherDoc documents: 100%|██████████| 1/1 [00:00<00:00, 20262.34it/s]\n",
      "Retrieving RobocrystallogapherDoc documents: 100%|██████████| 1/1 [00:00<00:00, 23563.51it/s]\n",
      "Retrieving RobocrystallogapherDoc documents: 100%|██████████| 1/1 [00:00<00:00, 23172.95it/s]\n",
      "Retrieving RobocrystallogapherDoc documents: 100%|██████████| 1/1 [00:00<00:00, 10782.27it/s]\n",
      "Retrieving RobocrystallogapherDoc documents: 100%|██████████| 1/1 [00:00<00:00, 13066.37it/s]\n",
      "Retrieving RobocrystallogapherDoc documents: 100%|██████████| 1/1 [00:00<00:00, 15827.56it/s]\n",
      "Retrieving RobocrystallogapherDoc documents: 100%|██████████| 1/1 [00:00<00:00, 24385.49it/s]\n",
      "Retrieving RobocrystallogapherDoc documents: 100%|██████████| 1/1 [00:00<00:00, 19972.88it/s]\n",
      "Retrieving RobocrystallogapherDoc documents: 100%|██████████| 1/1 [00:00<00:00, 15252.01it/s]\n",
      "Retrieving RobocrystallogapherDoc documents: 100%|██████████| 1/1 [00:00<00:00, 16008.79it/s]\n",
      "Retrieving RobocrystallogapherDoc documents: 100%|██████████| 1/1 [00:00<00:00, 14463.12it/s]\n",
      "Retrieving RobocrystallogapherDoc documents: 100%|██████████| 1/1 [00:00<00:00, 26379.27it/s]\n",
      "Retrieving RobocrystallogapherDoc documents: 100%|██████████| 1/1 [00:00<00:00, 23301.69it/s]\n",
      "Retrieving RobocrystallogapherDoc documents: 100%|██████████| 1/1 [00:00<00:00, 13981.01it/s]\n",
      "Retrieving RobocrystallogapherDoc documents: 100%|██████████| 1/1 [00:00<00:00, 21290.88it/s]\n",
      "Retrieving RobocrystallogapherDoc documents: 100%|██████████| 1/1 [00:00<00:00, 20164.92it/s]\n",
      "Retrieving RobocrystallogapherDoc documents: 100%|██████████| 1/1 [00:00<00:00, 17848.10it/s]\n",
      "Retrieving RobocrystallogapherDoc documents: 100%|██████████| 1/1 [00:00<00:00, 27776.85it/s]\n",
      "Retrieving RobocrystallogapherDoc documents: 100%|██████████| 1/1 [00:00<00:00, 29537.35it/s]\n",
      "Retrieving RobocrystallogapherDoc documents: 100%|██████████| 1/1 [00:00<00:00, 14716.86it/s]\n",
      "Retrieving RobocrystallogapherDoc documents: 100%|██████████| 1/1 [00:00<00:00, 23563.51it/s]\n",
      "Retrieving RobocrystallogapherDoc documents: 100%|██████████| 1/1 [00:00<00:00, 21399.51it/s]\n",
      "Retrieving RobocrystallogapherDoc documents: 100%|██████████| 1/1 [00:00<00:00, 24244.53it/s]\n",
      "Retrieving RobocrystallogapherDoc documents: 100%|██████████| 1/1 [00:00<00:00, 22550.02it/s]\n",
      "Retrieving RobocrystallogapherDoc documents: 100%|██████████| 1/1 [00:00<00:00, 27235.74it/s]\n",
      "Retrieving RobocrystallogapherDoc documents: 100%|██████████| 1/1 [00:00<00:00, 16710.37it/s]\n",
      "Retrieving RobocrystallogapherDoc documents: 100%|██████████| 1/1 [00:00<00:00, 20867.18it/s]\n",
      "Retrieving RobocrystallogapherDoc documents: 100%|██████████| 1/1 [00:00<00:00, 15252.01it/s]\n",
      "Retrieving RobocrystallogapherDoc documents: 100%|██████████| 1/1 [00:00<00:00, 23431.87it/s]\n",
      "Retrieving RobocrystallogapherDoc documents: 100%|██████████| 1/1 [00:00<00:00, 19972.88it/s]\n",
      "Retrieving RobocrystallogapherDoc documents: 100%|██████████| 1/1 [00:00<00:00, 25266.89it/s]\n",
      "Retrieving RobocrystallogapherDoc documents: 100%|██████████| 1/1 [00:00<00:00, 18893.26it/s]\n",
      "Retrieving RobocrystallogapherDoc documents: 100%|██████████| 1/1 [00:00<00:00, 19691.57it/s]\n",
      "Retrieving RobocrystallogapherDoc documents: 100%|██████████| 1/1 [00:00<00:00, 24244.53it/s]\n",
      "Retrieving RobocrystallogapherDoc documents: 100%|██████████| 1/1 [00:00<00:00, 15827.56it/s]\n",
      "Retrieving RobocrystallogapherDoc documents: 100%|██████████| 1/1 [00:00<00:00, 23172.95it/s]\n"
     ]
    },
    {
     "name": "stdout",
     "output_type": "stream",
     "text": [
      "mp-684477\n"
     ]
    },
    {
     "name": "stderr",
     "output_type": "stream",
     "text": [
      "Retrieving RobocrystallogapherDoc documents: 100%|██████████| 1/1 [00:00<00:00, 17119.61it/s]\n",
      "Retrieving RobocrystallogapherDoc documents: 100%|██████████| 1/1 [00:00<00:00, 22550.02it/s]\n",
      "Retrieving RobocrystallogapherDoc documents: 100%|██████████| 1/1 [00:00<00:00, 19972.88it/s]\n",
      "Retrieving RobocrystallogapherDoc documents: 100%|██████████| 1/1 [00:00<00:00, 19599.55it/s]\n",
      "Retrieving RobocrystallogapherDoc documents: 100%|██████████| 1/1 [00:00<00:00, 24385.49it/s]\n",
      "Retrieving RobocrystallogapherDoc documents: 100%|██████████| 1/1 [00:00<00:00, 20971.52it/s]\n",
      "Retrieving RobocrystallogapherDoc documents: 100%|██████████| 1/1 [00:00<00:00, 22310.13it/s]\n",
      "Retrieving RobocrystallogapherDoc documents: 100%|██████████| 1/1 [00:00<00:00, 20763.88it/s]\n",
      "Retrieving RobocrystallogapherDoc documents: 100%|██████████| 1/1 [00:00<00:00, 14873.42it/s]\n",
      "Retrieving RobocrystallogapherDoc documents: 100%|██████████| 1/1 [00:00<00:00, 17476.27it/s]\n",
      "Retrieving RobocrystallogapherDoc documents: 100%|██████████| 1/1 [00:00<00:00, 16844.59it/s]\n",
      "Retrieving RobocrystallogapherDoc documents: 100%|██████████| 1/1 [00:00<00:00, 20661.60it/s]\n",
      "Retrieving RobocrystallogapherDoc documents: 100%|██████████| 1/1 [00:00<00:00, 21183.35it/s]\n",
      "Retrieving RobocrystallogapherDoc documents: 100%|██████████| 1/1 [00:00<00:00, 20763.88it/s]\n",
      "Retrieving RobocrystallogapherDoc documents: 100%|██████████| 1/1 [00:00<00:00, 20360.70it/s]\n",
      "Retrieving RobocrystallogapherDoc documents: 100%|██████████| 1/1 [00:00<00:00, 18157.16it/s]\n"
     ]
    },
    {
     "name": "stdout",
     "output_type": "stream",
     "text": [
      "mp-696949\n"
     ]
    },
    {
     "name": "stderr",
     "output_type": "stream",
     "text": [
      "Retrieving RobocrystallogapherDoc documents: 100%|██████████| 1/1 [00:00<00:00, 19599.55it/s]\n"
     ]
    },
    {
     "name": "stdout",
     "output_type": "stream",
     "text": [
      "mp-696949\n"
     ]
    },
    {
     "name": "stderr",
     "output_type": "stream",
     "text": [
      "Retrieving RobocrystallogapherDoc documents: 100%|██████████| 1/1 [00:00<00:00, 20867.18it/s]\n",
      "Retrieving RobocrystallogapherDoc documents: 100%|██████████| 1/1 [00:00<00:00, 22310.13it/s]\n",
      "Retrieving RobocrystallogapherDoc documents: 100%|██████████| 1/1 [00:00<00:00, 24818.37it/s]\n",
      "Retrieving RobocrystallogapherDoc documents: 100%|██████████| 1/1 [00:00<00:00, 23301.69it/s]\n",
      "Retrieving RobocrystallogapherDoc documents: 100%|██████████| 1/1 [00:00<00:00, 20262.34it/s]\n",
      "Retrieving RobocrystallogapherDoc documents: 100%|██████████| 1/1 [00:00<00:00, 21509.25it/s]\n",
      "Retrieving RobocrystallogapherDoc documents: 100%|██████████| 1/1 [00:00<00:00, 22550.02it/s]\n",
      "Retrieving RobocrystallogapherDoc documents: 100%|██████████| 1/1 [00:00<00:00, 21845.33it/s]\n",
      "Retrieving RobocrystallogapherDoc documents: 100%|██████████| 1/1 [00:00<00:00, 18157.16it/s]\n",
      "Retrieving RobocrystallogapherDoc documents: 100%|██████████| 1/1 [00:00<00:00, 20460.02it/s]\n",
      "Retrieving RobocrystallogapherDoc documents: 100%|██████████| 1/1 [00:00<00:00, 17848.10it/s]\n",
      "Retrieving RobocrystallogapherDoc documents: 100%|██████████| 1/1 [00:00<00:00, 19065.02it/s]\n",
      "Retrieving RobocrystallogapherDoc documents: 100%|██████████| 1/1 [00:00<00:00, 21290.88it/s]\n",
      "Retrieving RobocrystallogapherDoc documents: 100%|██████████| 1/1 [00:00<00:00, 21845.33it/s]\n",
      "Retrieving RobocrystallogapherDoc documents: 100%|██████████| 1/1 [00:00<00:00, 24105.20it/s]\n",
      "Retrieving RobocrystallogapherDoc documents: 100%|██████████| 1/1 [00:00<00:00, 25575.02it/s]\n",
      "Retrieving RobocrystallogapherDoc documents: 100%|██████████| 1/1 [00:00<00:00, 24966.10it/s]\n",
      "Retrieving RobocrystallogapherDoc documents: 100%|██████████| 1/1 [00:00<00:00, 21183.35it/s]\n",
      "Retrieving RobocrystallogapherDoc documents: 100%|██████████| 1/1 [00:00<00:00, 23301.69it/s]\n",
      "Retrieving RobocrystallogapherDoc documents: 100%|██████████| 1/1 [00:00<00:00, 20763.88it/s]\n",
      "Retrieving RobocrystallogapherDoc documents: 100%|██████████| 1/1 [00:00<00:00, 17697.49it/s]\n",
      "Retrieving RobocrystallogapherDoc documents: 100%|██████████| 1/1 [00:00<00:00, 23172.95it/s]\n",
      "Retrieving RobocrystallogapherDoc documents: 100%|██████████| 1/1 [00:00<00:00, 23831.27it/s]\n",
      "Retrieving RobocrystallogapherDoc documents: 100%|██████████| 1/1 [00:00<00:00, 20661.60it/s]\n",
      "Retrieving RobocrystallogapherDoc documents: 100%|██████████| 1/1 [00:00<00:00, 16513.01it/s]\n",
      "Retrieving RobocrystallogapherDoc documents: 100%|██████████| 1/1 [00:00<00:00, 27776.85it/s]\n",
      "Retrieving RobocrystallogapherDoc documents: 100%|██████████| 1/1 [00:00<00:00, 19972.88it/s]\n",
      "Retrieving RobocrystallogapherDoc documents: 100%|██████████| 1/1 [00:00<00:00, 22919.69it/s]\n",
      "Retrieving RobocrystallogapherDoc documents: 100%|██████████| 1/1 [00:00<00:00, 22429.43it/s]\n",
      "Retrieving RobocrystallogapherDoc documents: 100%|██████████| 1/1 [00:00<00:00, 23172.95it/s]\n",
      "Retrieving RobocrystallogapherDoc documents: 100%|██████████| 1/1 [00:00<00:00, 23563.51it/s]\n",
      "Retrieving RobocrystallogapherDoc documents: 100%|██████████| 1/1 [00:00<00:00, 23172.95it/s]\n",
      "Retrieving RobocrystallogapherDoc documents: 100%|██████████| 1/1 [00:00<00:00, 23301.69it/s]\n",
      "Retrieving RobocrystallogapherDoc documents: 100%|██████████| 1/1 [00:00<00:00, 18978.75it/s]\n",
      "Retrieving RobocrystallogapherDoc documents: 100%|██████████| 1/1 [00:00<00:00, 13486.51it/s]\n",
      "Retrieving RobocrystallogapherDoc documents: 100%|██████████| 1/1 [00:00<00:00, 27413.75it/s]\n",
      "Retrieving RobocrystallogapherDoc documents: 100%|██████████| 1/1 [00:00<00:00, 18396.07it/s]\n",
      "Retrieving RobocrystallogapherDoc documents: 100%|██████████| 1/1 [00:00<00:00, 24385.49it/s]\n",
      "Retrieving RobocrystallogapherDoc documents: 100%|██████████| 1/1 [00:00<00:00, 21959.71it/s]\n",
      "Retrieving RobocrystallogapherDoc documents: 100%|██████████| 1/1 [00:00<00:00, 27235.74it/s]\n",
      "Retrieving RobocrystallogapherDoc documents: 100%|██████████| 1/1 [00:00<00:00, 15650.39it/s]\n",
      "Retrieving RobocrystallogapherDoc documents: 100%|██████████| 1/1 [00:00<00:00, 15650.39it/s]\n",
      "Retrieving RobocrystallogapherDoc documents: 100%|██████████| 1/1 [00:00<00:00, 22429.43it/s]\n"
     ]
    },
    {
     "name": "stdout",
     "output_type": "stream",
     "text": [
      "mp-1188395\n"
     ]
    },
    {
     "name": "stderr",
     "output_type": "stream",
     "text": [
      "Retrieving RobocrystallogapherDoc documents: 100%|██████████| 1/1 [00:00<00:00, 22429.43it/s]\n"
     ]
    },
    {
     "name": "stdout",
     "output_type": "stream",
     "text": [
      "mp-1188395\n"
     ]
    },
    {
     "name": "stderr",
     "output_type": "stream",
     "text": [
      "Retrieving RobocrystallogapherDoc documents: 100%|██████████| 1/1 [00:00<00:00, 16384.00it/s]\n",
      "Retrieving RobocrystallogapherDoc documents: 100%|██████████| 1/1 [00:00<00:00, 17697.49it/s]\n",
      "Retrieving RobocrystallogapherDoc documents: 100%|██████████| 1/1 [00:00<00:00, 27235.74it/s]\n",
      "Retrieving RobocrystallogapherDoc documents: 100%|██████████| 1/1 [00:00<00:00, 27235.74it/s]\n",
      "Retrieving RobocrystallogapherDoc documents: 100%|██████████| 1/1 [00:00<00:00, 27776.85it/s]\n",
      "Retrieving RobocrystallogapherDoc documents: 100%|██████████| 1/1 [00:00<00:00, 19691.57it/s]\n",
      "Retrieving RobocrystallogapherDoc documents: 100%|██████████| 1/1 [00:00<00:00, 23563.51it/s]\n",
      "Retrieving RobocrystallogapherDoc documents: 100%|██████████| 1/1 [00:00<00:00, 16578.28it/s]\n",
      "Retrieving RobocrystallogapherDoc documents: 100%|██████████| 1/1 [00:00<00:00, 27235.74it/s]\n",
      "Retrieving RobocrystallogapherDoc documents: 100%|██████████| 1/1 [00:00<00:00, 24672.38it/s]\n",
      "Retrieving RobocrystallogapherDoc documents: 100%|██████████| 1/1 [00:00<00:00, 22919.69it/s]\n",
      "Retrieving RobocrystallogapherDoc documents: 100%|██████████| 1/1 [00:00<00:00, 16256.99it/s]\n",
      "Retrieving RobocrystallogapherDoc documents: 100%|██████████| 1/1 [00:00<00:00, 24244.53it/s]\n",
      "Retrieving RobocrystallogapherDoc documents: 100%|██████████| 1/1 [00:00<00:00, 21959.71it/s]\n",
      "Retrieving RobocrystallogapherDoc documents: 100%|██████████| 1/1 [00:00<00:00, 24385.49it/s]\n",
      "Retrieving RobocrystallogapherDoc documents: 100%|██████████| 1/1 [00:00<00:00, 27962.03it/s]\n",
      "Retrieving RobocrystallogapherDoc documents: 100%|██████████| 1/1 [00:00<00:00, 22671.91it/s]\n",
      "Retrieving RobocrystallogapherDoc documents: 100%|██████████| 1/1 [00:00<00:00, 21620.12it/s]\n",
      "Retrieving RobocrystallogapherDoc documents: 100%|██████████| 1/1 [00:00<00:00, 23563.51it/s]\n",
      "Retrieving RobocrystallogapherDoc documents: 100%|██████████| 1/1 [00:00<00:00, 23967.45it/s]\n",
      "Retrieving RobocrystallogapherDoc documents: 100%|██████████| 1/1 [00:00<00:00, 21290.88it/s]\n",
      "Retrieving RobocrystallogapherDoc documents: 100%|██████████| 1/1 [00:00<00:00, 23831.27it/s]\n",
      "Retrieving RobocrystallogapherDoc documents: 100%|██████████| 1/1 [00:00<00:00, 23172.95it/s]\n",
      "Retrieving RobocrystallogapherDoc documents: 100%|██████████| 1/1 [00:00<00:00, 19599.55it/s]\n",
      "Retrieving RobocrystallogapherDoc documents: 100%|██████████| 1/1 [00:00<00:00, 24818.37it/s]\n",
      "Retrieving RobocrystallogapherDoc documents: 100%|██████████| 1/1 [00:00<00:00, 22795.13it/s]\n",
      "Retrieving RobocrystallogapherDoc documents: 100%|██████████| 1/1 [00:00<00:00, 19878.22it/s]\n",
      "Retrieving RobocrystallogapherDoc documents: 100%|██████████| 1/1 [00:00<00:00, 23301.69it/s]\n",
      "Retrieving RobocrystallogapherDoc documents: 100%|██████████| 1/1 [00:00<00:00, 23967.45it/s]\n",
      "Retrieving RobocrystallogapherDoc documents: 100%|██████████| 1/1 [00:00<00:00, 23172.95it/s]\n",
      "Retrieving RobocrystallogapherDoc documents: 100%|██████████| 1/1 [00:00<00:00, 21509.25it/s]\n",
      "Retrieving RobocrystallogapherDoc documents: 100%|██████████| 1/1 [00:00<00:00, 25266.89it/s]\n",
      "Retrieving RobocrystallogapherDoc documents: 100%|██████████| 1/1 [00:00<00:00, 19972.88it/s]\n",
      "Retrieving RobocrystallogapherDoc documents: 100%|██████████| 1/1 [00:00<00:00, 19599.55it/s]\n",
      "Retrieving RobocrystallogapherDoc documents: 100%|██████████| 1/1 [00:00<00:00, 27413.75it/s]\n",
      "Retrieving RobocrystallogapherDoc documents: 100%|██████████| 1/1 [00:00<00:00, 22310.13it/s]\n",
      "Retrieving RobocrystallogapherDoc documents: 100%|██████████| 1/1 [00:00<00:00, 24672.38it/s]\n",
      "Retrieving RobocrystallogapherDoc documents: 100%|██████████| 1/1 [00:00<00:00, 20661.60it/s]\n",
      "Retrieving RobocrystallogapherDoc documents: 100%|██████████| 1/1 [00:00<00:00, 23967.45it/s]\n",
      "Retrieving RobocrystallogapherDoc documents: 100%|██████████| 1/1 [00:00<00:00, 23172.95it/s]\n",
      "Retrieving RobocrystallogapherDoc documents: 100%|██████████| 1/1 [00:00<00:00, 21076.90it/s]\n",
      "Retrieving RobocrystallogapherDoc documents: 100%|██████████| 1/1 [00:00<00:00, 22310.13it/s]\n",
      "Retrieving RobocrystallogapherDoc documents: 100%|██████████| 1/1 [00:00<00:00, 23431.87it/s]\n",
      "Retrieving RobocrystallogapherDoc documents: 100%|██████████| 1/1 [00:00<00:00, 27235.74it/s]\n",
      "Retrieving RobocrystallogapherDoc documents: 100%|██████████| 1/1 [00:00<00:00, 22429.43it/s]\n",
      "Retrieving RobocrystallogapherDoc documents: 100%|██████████| 1/1 [00:00<00:00, 24244.53it/s]\n",
      "Retrieving RobocrystallogapherDoc documents: 100%|██████████| 1/1 [00:00<00:00, 24105.20it/s]\n",
      "Retrieving RobocrystallogapherDoc documents: 100%|██████████| 1/1 [00:00<00:00, 19152.07it/s]\n",
      "Retrieving RobocrystallogapherDoc documents: 100%|██████████| 1/1 [00:00<00:00, 22919.69it/s]\n",
      "Retrieving RobocrystallogapherDoc documents: 100%|██████████| 1/1 [00:00<00:00, 22075.28it/s]\n",
      "Retrieving RobocrystallogapherDoc documents: 100%|██████████| 1/1 [00:00<00:00, 27235.74it/s]\n",
      "Retrieving RobocrystallogapherDoc documents: 100%|██████████| 1/1 [00:00<00:00, 22795.13it/s]\n",
      "Retrieving RobocrystallogapherDoc documents: 100%|██████████| 1/1 [00:00<00:00, 20971.52it/s]\n",
      "Retrieving RobocrystallogapherDoc documents: 100%|██████████| 1/1 [00:00<00:00, 23301.69it/s]\n",
      "Retrieving RobocrystallogapherDoc documents: 100%|██████████| 1/1 [00:00<00:00, 23563.51it/s]\n",
      "Retrieving RobocrystallogapherDoc documents: 100%|██████████| 1/1 [00:00<00:00, 20068.44it/s]\n",
      "Retrieving RobocrystallogapherDoc documents: 100%|██████████| 1/1 [00:00<00:00, 26715.31it/s]\n",
      "Retrieving RobocrystallogapherDoc documents: 100%|██████████| 1/1 [00:00<00:00, 21959.71it/s]\n",
      "Retrieving RobocrystallogapherDoc documents: 100%|██████████| 1/1 [00:00<00:00, 26886.56it/s]\n",
      "Retrieving RobocrystallogapherDoc documents: 100%|██████████| 1/1 [00:00<00:00, 23967.45it/s]\n",
      "Retrieving RobocrystallogapherDoc documents: 100%|██████████| 1/1 [00:00<00:00, 23172.95it/s]\n",
      "Retrieving RobocrystallogapherDoc documents: 100%|██████████| 1/1 [00:00<00:00, 24818.37it/s]\n",
      "Retrieving RobocrystallogapherDoc documents: 100%|██████████| 1/1 [00:00<00:00, 23172.95it/s]\n",
      "Retrieving RobocrystallogapherDoc documents: 100%|██████████| 1/1 [00:00<00:00, 25420.02it/s]\n",
      "Retrieving RobocrystallogapherDoc documents: 100%|██████████| 1/1 [00:00<00:00, 22075.28it/s]\n",
      "Retrieving RobocrystallogapherDoc documents: 100%|██████████| 1/1 [00:00<00:00, 22919.69it/s]\n",
      "Retrieving RobocrystallogapherDoc documents: 100%|██████████| 1/1 [00:00<00:00, 18001.30it/s]\n",
      "Retrieving RobocrystallogapherDoc documents: 100%|██████████| 1/1 [00:00<00:00, 22795.13it/s]\n",
      "Retrieving RobocrystallogapherDoc documents: 100%|██████████| 1/1 [00:00<00:00, 23696.63it/s]\n",
      "Retrieving RobocrystallogapherDoc documents: 100%|██████████| 1/1 [00:00<00:00, 22795.13it/s]\n",
      "Retrieving RobocrystallogapherDoc documents: 100%|██████████| 1/1 [00:00<00:00, 26214.40it/s]\n",
      "Retrieving RobocrystallogapherDoc documents: 100%|██████████| 1/1 [00:00<00:00, 18978.75it/s]\n",
      "Retrieving RobocrystallogapherDoc documents: 100%|██████████| 1/1 [00:00<00:00, 21620.12it/s]\n",
      "Retrieving RobocrystallogapherDoc documents: 100%|██████████| 1/1 [00:00<00:00, 23431.87it/s]\n",
      "Retrieving RobocrystallogapherDoc documents: 100%|██████████| 1/1 [00:00<00:00, 23431.87it/s]\n",
      "Retrieving RobocrystallogapherDoc documents: 100%|██████████| 1/1 [00:00<00:00, 24818.37it/s]\n",
      "Retrieving RobocrystallogapherDoc documents: 100%|██████████| 1/1 [00:00<00:00, 23831.27it/s]\n",
      "Retrieving RobocrystallogapherDoc documents: 100%|██████████| 1/1 [00:00<00:00, 22429.43it/s]\n",
      "Retrieving RobocrystallogapherDoc documents: 100%|██████████| 1/1 [00:00<00:00, 23431.87it/s]\n",
      "Retrieving RobocrystallogapherDoc documents: 100%|██████████| 1/1 [00:00<00:00, 27413.75it/s]\n",
      "Retrieving RobocrystallogapherDoc documents: 100%|██████████| 1/1 [00:00<00:00, 21732.15it/s]\n",
      "Retrieving RobocrystallogapherDoc documents: 100%|██████████| 1/1 [00:00<00:00, 21290.88it/s]\n",
      "Retrieving RobocrystallogapherDoc documents: 100%|██████████| 1/1 [00:00<00:00, 14513.16it/s]\n",
      "Retrieving RobocrystallogapherDoc documents: 100%|██████████| 1/1 [00:00<00:00, 23831.27it/s]\n",
      "Retrieving RobocrystallogapherDoc documents: 100%|██████████| 1/1 [00:00<00:00, 18558.87it/s]\n",
      "Retrieving RobocrystallogapherDoc documents: 100%|██████████| 1/1 [00:00<00:00, 24528.09it/s]\n",
      "Retrieving RobocrystallogapherDoc documents: 100%|██████████| 1/1 [00:00<00:00, 15363.75it/s]\n",
      "Retrieving RobocrystallogapherDoc documents: 100%|██████████| 1/1 [00:00<00:00, 25420.02it/s]\n",
      "Retrieving RobocrystallogapherDoc documents: 100%|██████████| 1/1 [00:00<00:00, 25266.89it/s]\n",
      "Retrieving RobocrystallogapherDoc documents: 100%|██████████| 1/1 [00:00<00:00, 18236.10it/s]\n",
      "Retrieving RobocrystallogapherDoc documents: 100%|██████████| 1/1 [00:00<00:00, 28339.89it/s]\n",
      "Retrieving RobocrystallogapherDoc documents: 100%|██████████| 1/1 [00:00<00:00, 19784.45it/s]\n",
      "Retrieving RobocrystallogapherDoc documents: 100%|██████████| 1/1 [00:00<00:00, 20360.70it/s]\n",
      "Retrieving RobocrystallogapherDoc documents: 100%|██████████| 1/1 [00:00<00:00, 14665.40it/s]\n",
      "Retrieving RobocrystallogapherDoc documents: 100%|██████████| 1/1 [00:00<00:00, 22429.43it/s]\n",
      "Retrieving RobocrystallogapherDoc documents: 100%|██████████| 1/1 [00:00<00:00, 27235.74it/s]\n",
      "Retrieving RobocrystallogapherDoc documents: 100%|██████████| 1/1 [00:00<00:00, 24105.20it/s]\n",
      "Retrieving RobocrystallogapherDoc documents: 100%|██████████| 1/1 [00:00<00:00, 24966.10it/s]\n",
      "Retrieving RobocrystallogapherDoc documents: 100%|██████████| 1/1 [00:00<00:00, 19972.88it/s]\n",
      "Retrieving RobocrystallogapherDoc documents: 100%|██████████| 1/1 [00:00<00:00, 27594.11it/s]\n",
      "Retrieving RobocrystallogapherDoc documents: 100%|██████████| 1/1 [00:00<00:00, 22795.13it/s]\n",
      "Retrieving RobocrystallogapherDoc documents: 100%|██████████| 1/1 [00:00<00:00, 29127.11it/s]\n",
      "Retrieving RobocrystallogapherDoc documents: 100%|██████████| 1/1 [00:00<00:00, 19972.88it/s]\n",
      "Retrieving RobocrystallogapherDoc documents: 100%|██████████| 1/1 [00:00<00:00, 22550.02it/s]\n",
      "Retrieving RobocrystallogapherDoc documents: 100%|██████████| 1/1 [00:00<00:00, 24528.09it/s]\n",
      "Retrieving RobocrystallogapherDoc documents: 100%|██████████| 1/1 [00:00<00:00, 26886.56it/s]\n",
      "Retrieving RobocrystallogapherDoc documents: 100%|██████████| 1/1 [00:00<00:00, 17331.83it/s]\n",
      "Retrieving RobocrystallogapherDoc documents: 100%|██████████| 1/1 [00:00<00:00, 22192.08it/s]\n",
      "Retrieving RobocrystallogapherDoc documents: 100%|██████████| 1/1 [00:00<00:00, 19418.07it/s]\n",
      "Retrieving RobocrystallogapherDoc documents: 100%|██████████| 1/1 [00:00<00:00, 22429.43it/s]\n",
      "Retrieving RobocrystallogapherDoc documents: 100%|██████████| 1/1 [00:00<00:00, 18236.10it/s]\n",
      "Retrieving RobocrystallogapherDoc documents: 100%|██████████| 1/1 [00:00<00:00, 24672.38it/s]\n",
      "Retrieving RobocrystallogapherDoc documents: 100%|██████████| 1/1 [00:00<00:00, 22671.91it/s]\n",
      "Retrieving RobocrystallogapherDoc documents: 100%|██████████| 1/1 [00:00<00:00, 21183.35it/s]\n",
      "Retrieving RobocrystallogapherDoc documents: 100%|██████████| 1/1 [00:00<00:00, 22075.28it/s]\n",
      "Retrieving RobocrystallogapherDoc documents: 100%|██████████| 1/1 [00:00<00:00, 22550.02it/s]\n",
      "Retrieving RobocrystallogapherDoc documents: 100%|██████████| 1/1 [00:00<00:00, 27235.74it/s]\n",
      "Retrieving RobocrystallogapherDoc documents: 100%|██████████| 1/1 [00:00<00:00, 20360.70it/s]\n",
      "Retrieving RobocrystallogapherDoc documents: 100%|██████████| 1/1 [00:00<00:00, 23431.87it/s]\n",
      "Retrieving RobocrystallogapherDoc documents: 100%|██████████| 1/1 [00:00<00:00, 27235.74it/s]\n",
      "Retrieving RobocrystallogapherDoc documents: 100%|██████████| 1/1 [00:00<00:00, 23045.63it/s]\n",
      "Retrieving RobocrystallogapherDoc documents: 100%|██████████| 1/1 [00:00<00:00, 28149.69it/s]\n",
      "Retrieving RobocrystallogapherDoc documents: 100%|██████████| 1/1 [00:00<00:00, 20971.52it/s]\n",
      "Retrieving RobocrystallogapherDoc documents: 100%|██████████| 1/1 [00:00<00:00, 22795.13it/s]\n",
      "Retrieving RobocrystallogapherDoc documents: 100%|██████████| 1/1 [00:00<00:00, 18641.35it/s]\n",
      "Retrieving RobocrystallogapherDoc documents: 100%|██████████| 1/1 [00:00<00:00, 27060.03it/s]\n",
      "Retrieving RobocrystallogapherDoc documents: 100%|██████████| 1/1 [00:00<00:00, 26546.23it/s]\n",
      "Retrieving RobocrystallogapherDoc documents: 100%|██████████| 1/1 [00:00<00:00, 23431.87it/s]\n",
      "Retrieving RobocrystallogapherDoc documents: 100%|██████████| 1/1 [00:00<00:00, 27060.03it/s]\n",
      "Retrieving RobocrystallogapherDoc documents: 100%|██████████| 1/1 [00:00<00:00, 24105.20it/s]\n",
      "Retrieving RobocrystallogapherDoc documents: 100%|██████████| 1/1 [00:00<00:00, 26379.27it/s]\n",
      "Retrieving RobocrystallogapherDoc documents: 100%|██████████| 1/1 [00:00<00:00, 21399.51it/s]\n",
      "Retrieving RobocrystallogapherDoc documents: 100%|██████████| 1/1 [00:00<00:00, 28532.68it/s]\n",
      "Retrieving RobocrystallogapherDoc documents: 100%|██████████| 1/1 [00:00<00:00, 20661.60it/s]\n",
      "Retrieving RobocrystallogapherDoc documents: 100%|██████████| 1/1 [00:00<00:00, 19508.39it/s]\n",
      "Retrieving RobocrystallogapherDoc documents: 100%|██████████| 1/1 [00:00<00:00, 22429.43it/s]\n",
      "Retrieving RobocrystallogapherDoc documents: 100%|██████████| 1/1 [00:00<00:00, 23831.27it/s]\n",
      "Retrieving RobocrystallogapherDoc documents: 100%|██████████| 1/1 [00:00<00:00, 23172.95it/s]\n",
      "Retrieving RobocrystallogapherDoc documents: 100%|██████████| 1/1 [00:00<00:00, 23045.63it/s]\n",
      "Retrieving RobocrystallogapherDoc documents: 100%|██████████| 1/1 [00:00<00:00, 26886.56it/s]\n",
      "Retrieving RobocrystallogapherDoc documents: 100%|██████████| 1/1 [00:00<00:00, 23301.69it/s]\n",
      "Retrieving RobocrystallogapherDoc documents: 100%|██████████| 1/1 [00:00<00:00, 23563.51it/s]\n",
      "Retrieving RobocrystallogapherDoc documents: 100%|██████████| 1/1 [00:00<00:00, 21959.71it/s]\n",
      "Retrieving RobocrystallogapherDoc documents: 100%|██████████| 1/1 [00:00<00:00, 24818.37it/s]\n",
      "Retrieving RobocrystallogapherDoc documents: 100%|██████████| 1/1 [00:00<00:00, 22919.69it/s]\n",
      "Retrieving RobocrystallogapherDoc documents: 100%|██████████| 1/1 [00:00<00:00, 23696.63it/s]\n",
      "Retrieving RobocrystallogapherDoc documents: 100%|██████████| 1/1 [00:00<00:00, 29127.11it/s]\n",
      "Retrieving RobocrystallogapherDoc documents: 100%|██████████| 1/1 [00:00<00:00, 22192.08it/s]\n",
      "Retrieving RobocrystallogapherDoc documents: 100%|██████████| 1/1 [00:00<00:00, 22192.08it/s]\n",
      "Retrieving RobocrystallogapherDoc documents: 100%|██████████| 1/1 [00:00<00:00, 23301.69it/s]\n",
      "Retrieving RobocrystallogapherDoc documents: 100%|██████████| 1/1 [00:00<00:00, 16256.99it/s]\n",
      "Retrieving RobocrystallogapherDoc documents: 100%|██████████| 1/1 [00:00<00:00, 22550.02it/s]\n",
      "Retrieving RobocrystallogapherDoc documents: 100%|██████████| 1/1 [00:00<00:00, 21959.71it/s]\n",
      "Retrieving RobocrystallogapherDoc documents: 100%|██████████| 1/1 [00:00<00:00, 21076.90it/s]\n",
      "Retrieving RobocrystallogapherDoc documents: 100%|██████████| 1/1 [00:00<00:00, 16980.99it/s]\n",
      "Retrieving RobocrystallogapherDoc documents: 100%|██████████| 1/1 [00:00<00:00, 23172.95it/s]\n",
      "Retrieving RobocrystallogapherDoc documents: 100%|██████████| 1/1 [00:00<00:00, 21845.33it/s]\n",
      "Retrieving RobocrystallogapherDoc documents: 100%|██████████| 1/1 [00:00<00:00, 19784.45it/s]\n",
      "Retrieving RobocrystallogapherDoc documents: 100%|██████████| 1/1 [00:00<00:00, 24672.38it/s]\n",
      "Retrieving RobocrystallogapherDoc documents: 100%|██████████| 1/1 [00:00<00:00, 22795.13it/s]\n",
      "Retrieving RobocrystallogapherDoc documents: 100%|██████████| 1/1 [00:00<00:00, 21076.90it/s]\n",
      "Retrieving RobocrystallogapherDoc documents: 100%|██████████| 1/1 [00:00<00:00, 27776.85it/s]\n",
      "Retrieving RobocrystallogapherDoc documents: 100%|██████████| 1/1 [00:00<00:00, 24244.53it/s]\n",
      "Retrieving RobocrystallogapherDoc documents: 100%|██████████| 1/1 [00:00<00:00, 22795.13it/s]\n",
      "Retrieving RobocrystallogapherDoc documents: 100%|██████████| 1/1 [00:00<00:00, 26886.56it/s]\n",
      "Retrieving RobocrystallogapherDoc documents: 100%|██████████| 1/1 [00:00<00:00, 27413.75it/s]\n",
      "Retrieving RobocrystallogapherDoc documents: 100%|██████████| 1/1 [00:00<00:00, 26379.27it/s]\n",
      "Retrieving RobocrystallogapherDoc documents: 100%|██████████| 1/1 [00:00<00:00, 24385.49it/s]\n",
      "Retrieving RobocrystallogapherDoc documents: 100%|██████████| 1/1 [00:00<00:00, 23301.69it/s]\n",
      "Retrieving RobocrystallogapherDoc documents: 100%|██████████| 1/1 [00:00<00:00, 22919.69it/s]\n",
      "Retrieving RobocrystallogapherDoc documents: 100%|██████████| 1/1 [00:00<00:00, 25890.77it/s]\n",
      "Retrieving RobocrystallogapherDoc documents: 100%|██████████| 1/1 [00:00<00:00, 23301.69it/s]\n",
      "Retrieving RobocrystallogapherDoc documents: 100%|██████████| 1/1 [00:00<00:00, 26886.56it/s]\n",
      "Retrieving RobocrystallogapherDoc documents: 100%|██████████| 1/1 [00:00<00:00, 23563.51it/s]\n",
      "Retrieving RobocrystallogapherDoc documents: 100%|██████████| 1/1 [00:00<00:00, 25115.59it/s]\n",
      "Retrieving RobocrystallogapherDoc documents: 100%|██████████| 1/1 [00:00<00:00, 22550.02it/s]\n",
      "Retrieving RobocrystallogapherDoc documents: 100%|██████████| 1/1 [00:00<00:00, 18641.35it/s]\n",
      "Retrieving RobocrystallogapherDoc documents: 100%|██████████| 1/1 [00:00<00:00, 20763.88it/s]\n",
      "Retrieving RobocrystallogapherDoc documents: 100%|██████████| 1/1 [00:00<00:00, 23301.69it/s]\n",
      "Retrieving RobocrystallogapherDoc documents: 100%|██████████| 1/1 [00:00<00:00, 23172.95it/s]\n",
      "Retrieving RobocrystallogapherDoc documents: 100%|██████████| 1/1 [00:00<00:00, 23045.63it/s]\n",
      "Retrieving RobocrystallogapherDoc documents: 100%|██████████| 1/1 [00:00<00:00, 22795.13it/s]\n",
      "Retrieving RobocrystallogapherDoc documents: 100%|██████████| 1/1 [00:00<00:00, 22919.69it/s]\n",
      "Retrieving RobocrystallogapherDoc documents: 100%|██████████| 1/1 [00:00<00:00, 26546.23it/s]\n",
      "Retrieving RobocrystallogapherDoc documents: 100%|██████████| 1/1 [00:00<00:00, 23172.95it/s]\n",
      "Retrieving RobocrystallogapherDoc documents: 100%|██████████| 1/1 [00:00<00:00, 26379.27it/s]\n",
      "Retrieving RobocrystallogapherDoc documents: 100%|██████████| 1/1 [00:00<00:00, 24105.20it/s]\n",
      "Retrieving RobocrystallogapherDoc documents: 100%|██████████| 1/1 [00:00<00:00, 27060.03it/s]\n",
      "Retrieving RobocrystallogapherDoc documents: 100%|██████████| 1/1 [00:00<00:00, 27962.03it/s]\n",
      "Retrieving RobocrystallogapherDoc documents: 100%|██████████| 1/1 [00:00<00:00, 24105.20it/s]\n",
      "Retrieving RobocrystallogapherDoc documents: 100%|██████████| 1/1 [00:00<00:00, 27962.03it/s]\n",
      "Retrieving RobocrystallogapherDoc documents: 100%|██████████| 1/1 [00:00<00:00, 22671.91it/s]\n",
      "Retrieving RobocrystallogapherDoc documents: 100%|██████████| 1/1 [00:00<00:00, 23831.27it/s]\n",
      "Retrieving RobocrystallogapherDoc documents: 100%|██████████| 1/1 [00:00<00:00, 17403.75it/s]\n",
      "Retrieving RobocrystallogapherDoc documents: 100%|██████████| 1/1 [00:00<00:00, 21959.71it/s]\n",
      "Retrieving RobocrystallogapherDoc documents: 100%|██████████| 1/1 [00:00<00:00, 19878.22it/s]\n",
      "Retrieving RobocrystallogapherDoc documents: 100%|██████████| 1/1 [00:00<00:00, 13400.33it/s]\n",
      "Retrieving RobocrystallogapherDoc documents: 100%|██████████| 1/1 [00:00<00:00, 23696.63it/s]\n",
      "Retrieving RobocrystallogapherDoc documents: 100%|██████████| 1/1 [00:00<00:00, 23045.63it/s]\n",
      "Retrieving RobocrystallogapherDoc documents: 100%|██████████| 1/1 [00:00<00:00, 22310.13it/s]\n",
      "Retrieving RobocrystallogapherDoc documents: 100%|██████████| 1/1 [00:00<00:00, 27235.74it/s]\n",
      "Retrieving RobocrystallogapherDoc documents: 100%|██████████| 1/1 [00:00<00:00, 23696.63it/s]\n",
      "Retrieving RobocrystallogapherDoc documents: 100%|██████████| 1/1 [00:00<00:00, 27776.85it/s]\n",
      "Retrieving RobocrystallogapherDoc documents: 100%|██████████| 1/1 [00:00<00:00, 25420.02it/s]\n",
      "Retrieving RobocrystallogapherDoc documents: 100%|██████████| 1/1 [00:00<00:00, 22919.69it/s]\n",
      "Retrieving RobocrystallogapherDoc documents: 100%|██████████| 1/1 [00:00<00:00, 26051.58it/s]\n",
      "Retrieving RobocrystallogapherDoc documents: 100%|██████████| 1/1 [00:00<00:00, 17623.13it/s]\n",
      "Retrieving RobocrystallogapherDoc documents: 100%|██████████| 1/1 [00:00<00:00, 20763.88it/s]\n",
      "Retrieving RobocrystallogapherDoc documents: 100%|██████████| 1/1 [00:00<00:00, 27060.03it/s]\n",
      "Retrieving RobocrystallogapherDoc documents: 100%|██████████| 1/1 [00:00<00:00, 26546.23it/s]\n",
      "Retrieving RobocrystallogapherDoc documents: 100%|██████████| 1/1 [00:00<00:00, 27235.74it/s]\n",
      "Retrieving RobocrystallogapherDoc documents: 100%|██████████| 1/1 [00:00<00:00, 20661.60it/s]\n",
      "Retrieving RobocrystallogapherDoc documents: 100%|██████████| 1/1 [00:00<00:00, 23301.69it/s]\n",
      "Retrieving RobocrystallogapherDoc documents: 100%|██████████| 1/1 [00:00<00:00, 26715.31it/s]\n",
      "Retrieving RobocrystallogapherDoc documents: 100%|██████████| 1/1 [00:00<00:00, 26379.27it/s]\n",
      "Retrieving RobocrystallogapherDoc documents: 100%|██████████| 1/1 [00:00<00:00, 20068.44it/s]\n",
      "Retrieving RobocrystallogapherDoc documents: 100%|██████████| 1/1 [00:00<00:00, 23563.51it/s]\n",
      "Retrieving RobocrystallogapherDoc documents: 100%|██████████| 1/1 [00:00<00:00, 27235.74it/s]\n",
      "Retrieving RobocrystallogapherDoc documents: 100%|██████████| 1/1 [00:00<00:00, 22919.69it/s]\n",
      "Retrieving RobocrystallogapherDoc documents: 100%|██████████| 1/1 [00:00<00:00, 24244.53it/s]\n",
      "Retrieving RobocrystallogapherDoc documents: 100%|██████████| 1/1 [00:00<00:00, 20971.52it/s]\n",
      "Retrieving RobocrystallogapherDoc documents: 100%|██████████| 1/1 [00:00<00:00, 23831.27it/s]\n",
      "Retrieving RobocrystallogapherDoc documents: 100%|██████████| 1/1 [00:00<00:00, 22429.43it/s]\n",
      "Retrieving RobocrystallogapherDoc documents: 100%|██████████| 1/1 [00:00<00:00, 28149.69it/s]\n",
      "Retrieving RobocrystallogapherDoc documents: 100%|██████████| 1/1 [00:00<00:00, 24244.53it/s]\n",
      "Retrieving RobocrystallogapherDoc documents: 100%|██████████| 1/1 [00:00<00:00, 22192.08it/s]\n",
      "Retrieving RobocrystallogapherDoc documents: 100%|██████████| 1/1 [00:00<00:00, 22671.91it/s]\n",
      "Retrieving RobocrystallogapherDoc documents: 100%|██████████| 1/1 [00:00<00:00, 23431.87it/s]\n",
      "Retrieving RobocrystallogapherDoc documents: 100%|██████████| 1/1 [00:00<00:00, 27413.75it/s]\n",
      "Retrieving RobocrystallogapherDoc documents: 100%|██████████| 1/1 [00:00<00:00, 22919.69it/s]\n",
      "Retrieving RobocrystallogapherDoc documents: 100%|██████████| 1/1 [00:00<00:00, 26546.23it/s]\n",
      "Retrieving RobocrystallogapherDoc documents: 100%|██████████| 1/1 [00:00<00:00, 19418.07it/s]\n",
      "Retrieving RobocrystallogapherDoc documents: 100%|██████████| 1/1 [00:00<00:00, 22919.69it/s]\n",
      "Retrieving RobocrystallogapherDoc documents: 100%|██████████| 1/1 [00:00<00:00, 28926.23it/s]\n",
      "Retrieving RobocrystallogapherDoc documents: 100%|██████████| 1/1 [00:00<00:00, 26546.23it/s]\n",
      "Retrieving RobocrystallogapherDoc documents: 100%|██████████| 1/1 [00:00<00:00, 17331.83it/s]\n",
      "Retrieving RobocrystallogapherDoc documents: 100%|██████████| 1/1 [00:00<00:00, 20661.60it/s]\n",
      "Retrieving RobocrystallogapherDoc documents: 100%|██████████| 1/1 [00:00<00:00, 22310.13it/s]\n",
      "Retrieving RobocrystallogapherDoc documents: 100%|██████████| 1/1 [00:00<00:00, 21959.71it/s]\n",
      "Retrieving RobocrystallogapherDoc documents: 100%|██████████| 1/1 [00:00<00:00, 21959.71it/s]\n",
      "Retrieving RobocrystallogapherDoc documents: 100%|██████████| 1/1 [00:00<00:00, 18236.10it/s]\n",
      "Retrieving RobocrystallogapherDoc documents: 100%|██████████| 1/1 [00:00<00:00, 19784.45it/s]\n",
      "Retrieving RobocrystallogapherDoc documents: 100%|██████████| 1/1 [00:00<00:00, 23301.69it/s]\n"
     ]
    },
    {
     "name": "stdout",
     "output_type": "stream",
     "text": [
      "mp-851443\n"
     ]
    },
    {
     "name": "stderr",
     "output_type": "stream",
     "text": [
      "Retrieving RobocrystallogapherDoc documents: 100%|██████████| 1/1 [00:00<00:00, 21959.71it/s]\n",
      "Retrieving RobocrystallogapherDoc documents: 100%|██████████| 1/1 [00:00<00:00, 12192.74it/s]\n",
      "Retrieving RobocrystallogapherDoc documents: 100%|██████████| 1/1 [00:00<00:00, 22919.69it/s]\n",
      "Retrieving RobocrystallogapherDoc documents: 100%|██████████| 1/1 [00:00<00:00, 22192.08it/s]\n",
      "Retrieving RobocrystallogapherDoc documents: 100%|██████████| 1/1 [00:00<00:00, 27060.03it/s]\n",
      "Retrieving RobocrystallogapherDoc documents: 100%|██████████| 1/1 [00:00<00:00, 23431.87it/s]\n",
      "Retrieving RobocrystallogapherDoc documents: 100%|██████████| 1/1 [00:00<00:00, 27413.75it/s]\n",
      "Retrieving RobocrystallogapherDoc documents: 100%|██████████| 1/1 [00:00<00:00, 22550.02it/s]\n",
      "Retrieving RobocrystallogapherDoc documents: 100%|██████████| 1/1 [00:00<00:00, 22310.13it/s]\n",
      "Retrieving RobocrystallogapherDoc documents: 100%|██████████| 1/1 [00:00<00:00, 23696.63it/s]\n",
      "Retrieving RobocrystallogapherDoc documents: 100%|██████████| 1/1 [00:00<00:00, 28728.11it/s]\n",
      "Retrieving RobocrystallogapherDoc documents: 100%|██████████| 1/1 [00:00<00:00, 23301.69it/s]\n",
      "Retrieving RobocrystallogapherDoc documents: 100%|██████████| 1/1 [00:00<00:00, 21076.90it/s]\n",
      "Retrieving RobocrystallogapherDoc documents: 100%|██████████| 1/1 [00:00<00:00, 20763.88it/s]\n",
      "Retrieving RobocrystallogapherDoc documents: 100%|██████████| 1/1 [00:00<00:00, 20661.60it/s]\n",
      "Retrieving RobocrystallogapherDoc documents: 100%|██████████| 1/1 [00:00<00:00, 19878.22it/s]\n",
      "Retrieving RobocrystallogapherDoc documents: 100%|██████████| 1/1 [00:00<00:00, 27413.75it/s]\n",
      "Retrieving RobocrystallogapherDoc documents: 100%|██████████| 1/1 [00:00<00:00, 27060.03it/s]\n",
      "Retrieving RobocrystallogapherDoc documents: 100%|██████████| 1/1 [00:00<00:00, 26546.23it/s]\n"
     ]
    },
    {
     "name": "stdout",
     "output_type": "stream",
     "text": [
      "mp-585408\n"
     ]
    },
    {
     "name": "stderr",
     "output_type": "stream",
     "text": [
      "Retrieving RobocrystallogapherDoc documents: 100%|██████████| 1/1 [00:00<00:00, 22429.43it/s]\n",
      "Retrieving RobocrystallogapherDoc documents: 100%|██████████| 1/1 [00:00<00:00, 19878.22it/s]\n",
      "Retrieving RobocrystallogapherDoc documents: 100%|██████████| 1/1 [00:00<00:00, 29537.35it/s]\n",
      "Retrieving RobocrystallogapherDoc documents: 100%|██████████| 1/1 [00:00<00:00, 26715.31it/s]\n",
      "Retrieving RobocrystallogapherDoc documents: 100%|██████████| 1/1 [00:00<00:00, 23696.63it/s]\n",
      "Retrieving RobocrystallogapherDoc documents: 100%|██████████| 1/1 [00:00<00:00, 20661.60it/s]\n",
      "Retrieving RobocrystallogapherDoc documents: 100%|██████████| 1/1 [00:00<00:00, 28532.68it/s]\n",
      "Retrieving RobocrystallogapherDoc documents: 100%|██████████| 1/1 [00:00<00:00, 23831.27it/s]\n",
      "Retrieving RobocrystallogapherDoc documents: 100%|██████████| 1/1 [00:00<00:00, 23831.27it/s]\n"
     ]
    },
    {
     "name": "stdout",
     "output_type": "stream",
     "text": [
      "mp-585408\n"
     ]
    },
    {
     "name": "stderr",
     "output_type": "stream",
     "text": [
      "Retrieving RobocrystallogapherDoc documents: 100%|██████████| 1/1 [00:00<00:00, 18978.75it/s]\n",
      "Retrieving RobocrystallogapherDoc documents: 100%|██████████| 1/1 [00:00<00:00, 26886.56it/s]\n",
      "Retrieving RobocrystallogapherDoc documents: 100%|██████████| 1/1 [00:00<00:00, 21732.15it/s]\n",
      "Retrieving RobocrystallogapherDoc documents: 100%|██████████| 1/1 [00:00<00:00, 28728.11it/s]\n",
      "Retrieving RobocrystallogapherDoc documents: 100%|██████████| 1/1 [00:00<00:00, 26379.27it/s]\n",
      "Retrieving RobocrystallogapherDoc documents: 100%|██████████| 1/1 [00:00<00:00, 18078.90it/s]\n",
      "Retrieving RobocrystallogapherDoc documents: 100%|██████████| 1/1 [00:00<00:00, 27962.03it/s]\n",
      "Retrieving RobocrystallogapherDoc documents: 100%|██████████| 1/1 [00:00<00:00, 21845.33it/s]\n",
      "Retrieving RobocrystallogapherDoc documents: 100%|██████████| 1/1 [00:00<00:00, 23563.51it/s]\n",
      "Retrieving RobocrystallogapherDoc documents: 100%|██████████| 1/1 [00:00<00:00, 26886.56it/s]\n",
      "Retrieving RobocrystallogapherDoc documents: 100%|██████████| 1/1 [00:00<00:00, 24672.38it/s]\n",
      "Retrieving RobocrystallogapherDoc documents: 100%|██████████| 1/1 [00:00<00:00, 23563.51it/s]\n",
      "Retrieving RobocrystallogapherDoc documents: 100%|██████████| 1/1 [00:00<00:00, 22075.28it/s]\n",
      "Retrieving RobocrystallogapherDoc documents: 100%|██████████| 1/1 [00:00<00:00, 22795.13it/s]\n"
     ]
    },
    {
     "name": "stdout",
     "output_type": "stream",
     "text": [
      "mp-851443\n"
     ]
    },
    {
     "name": "stderr",
     "output_type": "stream",
     "text": [
      "Retrieving RobocrystallogapherDoc documents: 100%|██████████| 1/1 [00:00<00:00, 23967.45it/s]\n",
      "Retrieving RobocrystallogapherDoc documents: 100%|██████████| 1/1 [00:00<00:00, 15534.46it/s]\n",
      "Retrieving RobocrystallogapherDoc documents: 100%|██████████| 1/1 [00:00<00:00, 20460.02it/s]\n",
      "Retrieving RobocrystallogapherDoc documents: 100%|██████████| 1/1 [00:00<00:00, 26214.40it/s]\n",
      "Retrieving RobocrystallogapherDoc documents: 100%|██████████| 1/1 [00:00<00:00, 23172.95it/s]\n",
      "Retrieving RobocrystallogapherDoc documents: 100%|██████████| 1/1 [00:00<00:00, 20560.31it/s]\n",
      "Retrieving RobocrystallogapherDoc documents: 100%|██████████| 1/1 [00:00<00:00, 11335.96it/s]\n",
      "Retrieving RobocrystallogapherDoc documents: 100%|██████████| 1/1 [00:00<00:00, 19239.93it/s]\n",
      "Retrieving RobocrystallogapherDoc documents: 100%|██████████| 1/1 [00:00<00:00, 21509.25it/s]\n",
      "Retrieving RobocrystallogapherDoc documents: 100%|██████████| 1/1 [00:00<00:00, 18893.26it/s]\n",
      "Retrieving RobocrystallogapherDoc documents: 100%|██████████| 1/1 [00:00<00:00, 22429.43it/s]\n",
      "Retrieving RobocrystallogapherDoc documents: 100%|██████████| 1/1 [00:00<00:00, 21509.25it/s]\n",
      "Retrieving RobocrystallogapherDoc documents: 100%|██████████| 1/1 [00:00<00:00, 22919.69it/s]\n",
      "Retrieving RobocrystallogapherDoc documents: 100%|██████████| 1/1 [00:00<00:00, 23431.87it/s]\n",
      "Retrieving RobocrystallogapherDoc documents: 100%|██████████| 1/1 [00:00<00:00, 22192.08it/s]\n",
      "Retrieving RobocrystallogapherDoc documents: 100%|██████████| 1/1 [00:00<00:00, 24385.49it/s]\n",
      "Retrieving RobocrystallogapherDoc documents: 100%|██████████| 1/1 [00:00<00:00, 19328.59it/s]\n",
      "Retrieving RobocrystallogapherDoc documents: 100%|██████████| 1/1 [00:00<00:00, 21183.35it/s]\n",
      "Retrieving RobocrystallogapherDoc documents: 100%|██████████| 1/1 [00:00<00:00, 26546.23it/s]\n",
      "Retrieving RobocrystallogapherDoc documents: 100%|██████████| 1/1 [00:00<00:00, 11814.94it/s]\n",
      "Retrieving RobocrystallogapherDoc documents: 100%|██████████| 1/1 [00:00<00:00, 23301.69it/s]\n",
      "Retrieving RobocrystallogapherDoc documents: 100%|██████████| 1/1 [00:00<00:00, 23045.63it/s]\n",
      "Retrieving RobocrystallogapherDoc documents: 100%|██████████| 1/1 [00:00<00:00, 23172.95it/s]\n",
      "Retrieving RobocrystallogapherDoc documents: 100%|██████████| 1/1 [00:00<00:00, 20661.60it/s]\n",
      "Retrieving RobocrystallogapherDoc documents: 100%|██████████| 1/1 [00:00<00:00, 20068.44it/s]\n",
      "Retrieving RobocrystallogapherDoc documents: 100%|██████████| 1/1 [00:00<00:00, 22795.13it/s]\n",
      "Retrieving RobocrystallogapherDoc documents: 100%|██████████| 1/1 [00:00<00:00, 24528.09it/s]\n",
      "Retrieving RobocrystallogapherDoc documents: 100%|██████████| 1/1 [00:00<00:00, 18001.30it/s]\n",
      "Retrieving RobocrystallogapherDoc documents: 100%|██████████| 1/1 [00:00<00:00, 27413.75it/s]\n",
      "Retrieving RobocrystallogapherDoc documents: 100%|██████████| 1/1 [00:00<00:00, 26051.58it/s]\n",
      "Retrieving RobocrystallogapherDoc documents: 100%|██████████| 1/1 [00:00<00:00, 24385.49it/s]\n",
      "Retrieving RobocrystallogapherDoc documents: 100%|██████████| 1/1 [00:00<00:00, 20360.70it/s]\n",
      "Retrieving RobocrystallogapherDoc documents: 100%|██████████| 1/1 [00:00<00:00, 22671.91it/s]\n",
      "Retrieving RobocrystallogapherDoc documents: 100%|██████████| 1/1 [00:00<00:00, 27060.03it/s]\n",
      "Retrieving RobocrystallogapherDoc documents: 100%|██████████| 1/1 [00:00<00:00, 25420.02it/s]\n",
      "Retrieving RobocrystallogapherDoc documents: 100%|██████████| 1/1 [00:00<00:00, 20971.52it/s]\n",
      "Retrieving RobocrystallogapherDoc documents: 100%|██████████| 1/1 [00:00<00:00, 20867.18it/s]\n",
      "Retrieving RobocrystallogapherDoc documents: 100%|██████████| 1/1 [00:00<00:00, 21399.51it/s]\n",
      "Retrieving RobocrystallogapherDoc documents: 100%|██████████| 1/1 [00:00<00:00, 11066.77it/s]\n",
      "Retrieving RobocrystallogapherDoc documents: 100%|██████████| 1/1 [00:00<00:00, 22919.69it/s]\n",
      "Retrieving RobocrystallogapherDoc documents: 100%|██████████| 1/1 [00:00<00:00, 23045.63it/s]\n",
      "Retrieving RobocrystallogapherDoc documents: 100%|██████████| 1/1 [00:00<00:00, 18477.11it/s]\n",
      "Retrieving RobocrystallogapherDoc documents: 100%|██████████| 1/1 [00:00<00:00, 21959.71it/s]\n",
      "Retrieving RobocrystallogapherDoc documents: 100%|██████████| 1/1 [00:00<00:00, 22795.13it/s]\n",
      "Retrieving RobocrystallogapherDoc documents: 100%|██████████| 1/1 [00:00<00:00, 25890.77it/s]\n",
      "Retrieving RobocrystallogapherDoc documents: 100%|██████████| 1/1 [00:00<00:00, 22192.08it/s]\n",
      "Retrieving RobocrystallogapherDoc documents: 100%|██████████| 1/1 [00:00<00:00, 14413.42it/s]\n",
      "Retrieving RobocrystallogapherDoc documents: 100%|██████████| 1/1 [00:00<00:00, 27235.74it/s]\n",
      "Retrieving RobocrystallogapherDoc documents: 100%|██████████| 1/1 [00:00<00:00, 15947.92it/s]\n",
      "Retrieving RobocrystallogapherDoc documents: 100%|██████████| 1/1 [00:00<00:00, 16777.22it/s]\n",
      "Retrieving RobocrystallogapherDoc documents: 100%|██████████| 1/1 [00:00<00:00, 24105.20it/s]\n",
      "Retrieving RobocrystallogapherDoc documents: 100%|██████████| 1/1 [00:00<00:00, 23045.63it/s]\n",
      "Retrieving RobocrystallogapherDoc documents: 100%|██████████| 1/1 [00:00<00:00, 24105.20it/s]\n",
      "Retrieving RobocrystallogapherDoc documents: 100%|██████████| 1/1 [00:00<00:00, 26214.40it/s]\n",
      "Retrieving RobocrystallogapherDoc documents: 100%|██████████| 1/1 [00:00<00:00, 18641.35it/s]\n",
      "Retrieving RobocrystallogapherDoc documents: 100%|██████████| 1/1 [00:00<00:00, 26051.58it/s]\n",
      "Retrieving RobocrystallogapherDoc documents: 100%|██████████| 1/1 [00:00<00:00, 19599.55it/s]\n",
      "Retrieving RobocrystallogapherDoc documents: 100%|██████████| 1/1 [00:00<00:00, 28149.69it/s]\n",
      "Retrieving RobocrystallogapherDoc documents: 100%|██████████| 1/1 [00:00<00:00, 23563.51it/s]\n",
      "Retrieving RobocrystallogapherDoc documents: 100%|██████████| 1/1 [00:00<00:00, 22429.43it/s]\n",
      "Retrieving RobocrystallogapherDoc documents: 100%|██████████| 1/1 [00:00<00:00, 17549.39it/s]\n",
      "Retrieving RobocrystallogapherDoc documents: 100%|██████████| 1/1 [00:00<00:00, 22075.28it/s]\n",
      "Retrieving RobocrystallogapherDoc documents: 100%|██████████| 1/1 [00:00<00:00, 20262.34it/s]\n",
      "Retrieving RobocrystallogapherDoc documents: 100%|██████████| 1/1 [00:00<00:00, 22550.02it/s]\n",
      "Retrieving RobocrystallogapherDoc documents: 100%|██████████| 1/1 [00:00<00:00, 22310.13it/s]\n",
      "Retrieving RobocrystallogapherDoc documents: 100%|██████████| 1/1 [00:00<00:00, 26379.27it/s]\n",
      "Retrieving RobocrystallogapherDoc documents: 100%|██████████| 1/1 [00:00<00:00, 20971.52it/s]\n",
      "Retrieving RobocrystallogapherDoc documents: 100%|██████████| 1/1 [00:00<00:00, 27413.75it/s]\n",
      "Retrieving RobocrystallogapherDoc documents: 100%|██████████| 1/1 [00:00<00:00, 22671.91it/s]\n",
      "Retrieving RobocrystallogapherDoc documents: 100%|██████████| 1/1 [00:00<00:00, 14463.12it/s]\n",
      "Retrieving RobocrystallogapherDoc documents: 100%|██████████| 1/1 [00:00<00:00, 22075.28it/s]\n",
      "Retrieving RobocrystallogapherDoc documents: 100%|██████████| 1/1 [00:00<00:00, 21509.25it/s]\n",
      "Retrieving RobocrystallogapherDoc documents: 100%|██████████| 1/1 [00:00<00:00, 26214.40it/s]\n",
      "Retrieving RobocrystallogapherDoc documents: 100%|██████████| 1/1 [00:00<00:00, 22795.13it/s]\n",
      "Retrieving RobocrystallogapherDoc documents: 100%|██████████| 1/1 [00:00<00:00, 19784.45it/s]\n",
      "Retrieving RobocrystallogapherDoc documents: 100%|██████████| 1/1 [00:00<00:00, 23696.63it/s]\n",
      "Retrieving RobocrystallogapherDoc documents: 100%|██████████| 1/1 [00:00<00:00, 23696.63it/s]\n",
      "Retrieving RobocrystallogapherDoc documents: 100%|██████████| 1/1 [00:00<00:00, 25890.77it/s]\n",
      "Retrieving RobocrystallogapherDoc documents: 100%|██████████| 1/1 [00:00<00:00, 14513.16it/s]\n",
      "Retrieving RobocrystallogapherDoc documents: 100%|██████████| 1/1 [00:00<00:00, 27594.11it/s]\n",
      "Retrieving RobocrystallogapherDoc documents: 100%|██████████| 1/1 [00:00<00:00, 18477.11it/s]\n",
      "Retrieving RobocrystallogapherDoc documents: 100%|██████████| 1/1 [00:00<00:00, 23431.87it/s]\n",
      "Retrieving RobocrystallogapherDoc documents: 100%|██████████| 1/1 [00:00<00:00, 20661.60it/s]\n",
      "Retrieving RobocrystallogapherDoc documents: 100%|██████████| 1/1 [00:00<00:00, 23431.87it/s]\n",
      "Retrieving RobocrystallogapherDoc documents: 100%|██████████| 1/1 [00:00<00:00, 25575.02it/s]\n",
      "Retrieving RobocrystallogapherDoc documents: 100%|██████████| 1/1 [00:00<00:00, 15252.01it/s]\n",
      "Retrieving RobocrystallogapherDoc documents: 100%|██████████| 1/1 [00:00<00:00, 26379.27it/s]\n",
      "Retrieving RobocrystallogapherDoc documents: 100%|██████████| 1/1 [00:00<00:00, 23563.51it/s]\n",
      "Retrieving RobocrystallogapherDoc documents: 100%|██████████| 1/1 [00:00<00:00, 26546.23it/s]\n",
      "Retrieving RobocrystallogapherDoc documents: 100%|██████████| 1/1 [00:00<00:00, 23696.63it/s]\n",
      "Retrieving RobocrystallogapherDoc documents: 100%|██████████| 1/1 [00:00<00:00, 23696.63it/s]\n",
      "Retrieving RobocrystallogapherDoc documents: 100%|██████████| 1/1 [00:00<00:00, 22919.69it/s]\n",
      "Retrieving RobocrystallogapherDoc documents: 100%|██████████| 1/1 [00:00<00:00, 23967.45it/s]\n",
      "Retrieving RobocrystallogapherDoc documents: 100%|██████████| 1/1 [00:00<00:00, 19152.07it/s]\n",
      "Retrieving RobocrystallogapherDoc documents: 100%|██████████| 1/1 [00:00<00:00, 19508.39it/s]\n",
      "Retrieving RobocrystallogapherDoc documents: 100%|██████████| 1/1 [00:00<00:00, 18978.75it/s]\n",
      "Retrieving RobocrystallogapherDoc documents: 100%|██████████| 1/1 [00:00<00:00, 21845.33it/s]\n",
      "Retrieving RobocrystallogapherDoc documents: 100%|██████████| 1/1 [00:00<00:00, 23045.63it/s]\n",
      "Retrieving RobocrystallogapherDoc documents: 100%|██████████| 1/1 [00:00<00:00, 23831.27it/s]\n",
      "Retrieving RobocrystallogapherDoc documents: 100%|██████████| 1/1 [00:00<00:00, 23431.87it/s]\n",
      "Retrieving RobocrystallogapherDoc documents: 100%|██████████| 1/1 [00:00<00:00, 23563.51it/s]\n",
      "Retrieving RobocrystallogapherDoc documents: 100%|██████████| 1/1 [00:00<00:00, 21290.88it/s]\n",
      "Retrieving RobocrystallogapherDoc documents: 100%|██████████| 1/1 [00:00<00:00, 15827.56it/s]\n",
      "Retrieving RobocrystallogapherDoc documents: 100%|██████████| 1/1 [00:00<00:00, 23301.69it/s]\n",
      "Retrieving RobocrystallogapherDoc documents: 100%|██████████| 1/1 [00:00<00:00, 23301.69it/s]\n",
      "Retrieving RobocrystallogapherDoc documents: 100%|██████████| 1/1 [00:00<00:00, 23301.69it/s]\n",
      "Retrieving RobocrystallogapherDoc documents: 100%|██████████| 1/1 [00:00<00:00, 19508.39it/s]\n",
      "Retrieving RobocrystallogapherDoc documents: 100%|██████████| 1/1 [00:00<00:00, 23696.63it/s]\n",
      "Retrieving RobocrystallogapherDoc documents: 100%|██████████| 1/1 [00:00<00:00, 23967.45it/s]\n",
      "Retrieving RobocrystallogapherDoc documents: 100%|██████████| 1/1 [00:00<00:00, 23172.95it/s]\n",
      "Retrieving RobocrystallogapherDoc documents: 100%|██████████| 1/1 [00:00<00:00, 20360.70it/s]\n",
      "Retrieving RobocrystallogapherDoc documents: 100%|██████████| 1/1 [00:00<00:00, 23045.63it/s]\n",
      "Retrieving RobocrystallogapherDoc documents: 100%|██████████| 1/1 [00:00<00:00, 28339.89it/s]\n",
      "Retrieving RobocrystallogapherDoc documents: 100%|██████████| 1/1 [00:00<00:00, 23301.69it/s]\n",
      "Retrieving RobocrystallogapherDoc documents: 100%|██████████| 1/1 [00:00<00:00, 24385.49it/s]\n",
      "Retrieving RobocrystallogapherDoc documents: 100%|██████████| 1/1 [00:00<00:00, 23563.51it/s]\n",
      "Retrieving RobocrystallogapherDoc documents: 100%|██████████| 1/1 [00:00<00:00, 23301.69it/s]\n",
      "Retrieving RobocrystallogapherDoc documents: 100%|██████████| 1/1 [00:00<00:00, 12446.01it/s]\n",
      "Retrieving RobocrystallogapherDoc documents: 100%|██████████| 1/1 [00:00<00:00, 27413.75it/s]\n",
      "Retrieving RobocrystallogapherDoc documents: 100%|██████████| 1/1 [00:00<00:00, 27060.03it/s]\n",
      "Retrieving RobocrystallogapherDoc documents: 100%|██████████| 1/1 [00:00<00:00, 14665.40it/s]\n",
      "Retrieving RobocrystallogapherDoc documents: 100%|██████████| 1/1 [00:00<00:00, 28728.11it/s]\n",
      "Retrieving RobocrystallogapherDoc documents: 100%|██████████| 1/1 [00:00<00:00, 29127.11it/s]\n",
      "Retrieving RobocrystallogapherDoc documents: 100%|██████████| 1/1 [00:00<00:00, 24105.20it/s]\n",
      "Retrieving RobocrystallogapherDoc documents: 100%|██████████| 1/1 [00:00<00:00, 21845.33it/s]\n",
      "Retrieving RobocrystallogapherDoc documents: 100%|██████████| 1/1 [00:00<00:00, 16912.52it/s]\n",
      "Retrieving RobocrystallogapherDoc documents: 100%|██████████| 1/1 [00:00<00:00, 23172.95it/s]\n",
      "Retrieving RobocrystallogapherDoc documents: 100%|██████████| 1/1 [00:00<00:00, 26546.23it/s]\n",
      "Retrieving RobocrystallogapherDoc documents: 100%|██████████| 1/1 [00:00<00:00, 28532.68it/s]\n",
      "Retrieving RobocrystallogapherDoc documents: 100%|██████████| 1/1 [00:00<00:00, 19328.59it/s]\n",
      "Retrieving RobocrystallogapherDoc documents: 100%|██████████| 1/1 [00:00<00:00, 23045.63it/s]\n",
      "Retrieving RobocrystallogapherDoc documents: 100%|██████████| 1/1 [00:00<00:00, 26886.56it/s]\n",
      "Retrieving RobocrystallogapherDoc documents: 100%|██████████| 1/1 [00:00<00:00, 23967.45it/s]\n",
      "Retrieving RobocrystallogapherDoc documents: 100%|██████████| 1/1 [00:00<00:00, 21399.51it/s]\n",
      "Retrieving RobocrystallogapherDoc documents: 100%|██████████| 1/1 [00:00<00:00, 24244.53it/s]\n",
      "Retrieving RobocrystallogapherDoc documents: 100%|██████████| 1/1 [00:00<00:00, 20262.34it/s]\n",
      "Retrieving RobocrystallogapherDoc documents: 100%|██████████| 1/1 [00:00<00:00, 23431.87it/s]\n",
      "Retrieving RobocrystallogapherDoc documents: 100%|██████████| 1/1 [00:00<00:00, 28149.69it/s]\n",
      "Retrieving RobocrystallogapherDoc documents: 100%|██████████| 1/1 [00:00<00:00, 21620.12it/s]\n",
      "Retrieving RobocrystallogapherDoc documents: 100%|██████████| 1/1 [00:00<00:00, 27235.74it/s]\n",
      "Retrieving RobocrystallogapherDoc documents: 100%|██████████| 1/1 [00:00<00:00, 27413.75it/s]\n",
      "Retrieving RobocrystallogapherDoc documents: 100%|██████████| 1/1 [00:00<00:00, 28926.23it/s]\n",
      "Retrieving RobocrystallogapherDoc documents: 100%|██████████| 1/1 [00:00<00:00, 19508.39it/s]\n",
      "Retrieving RobocrystallogapherDoc documents: 100%|██████████| 1/1 [00:00<00:00, 19599.55it/s]\n",
      "Retrieving RobocrystallogapherDoc documents: 100%|██████████| 1/1 [00:00<00:00, 27776.85it/s]\n",
      "Retrieving RobocrystallogapherDoc documents: 100%|██████████| 1/1 [00:00<00:00, 20360.70it/s]\n",
      "Retrieving RobocrystallogapherDoc documents: 100%|██████████| 1/1 [00:00<00:00, 27594.11it/s]\n",
      "Retrieving RobocrystallogapherDoc documents: 100%|██████████| 1/1 [00:00<00:00, 21290.88it/s]\n",
      "Retrieving RobocrystallogapherDoc documents: 100%|██████████| 1/1 [00:00<00:00, 16384.00it/s]\n",
      "Retrieving RobocrystallogapherDoc documents: 100%|██████████| 1/1 [00:00<00:00, 16513.01it/s]\n",
      "Retrieving RobocrystallogapherDoc documents: 100%|██████████| 1/1 [00:00<00:00, 22671.91it/s]\n",
      "Retrieving RobocrystallogapherDoc documents: 100%|██████████| 1/1 [00:00<00:00, 26886.56it/s]\n",
      "Retrieving RobocrystallogapherDoc documents: 100%|██████████| 1/1 [00:00<00:00, 22919.69it/s]\n",
      "Retrieving RobocrystallogapherDoc documents: 100%|██████████| 1/1 [00:00<00:00, 28149.69it/s]\n",
      "Retrieving RobocrystallogapherDoc documents: 100%|██████████| 1/1 [00:00<00:00, 23172.95it/s]\n",
      "Retrieving RobocrystallogapherDoc documents: 100%|██████████| 1/1 [00:00<00:00, 23431.87it/s]\n",
      "Retrieving RobocrystallogapherDoc documents: 100%|██████████| 1/1 [00:00<00:00, 23563.51it/s]\n",
      "Retrieving RobocrystallogapherDoc documents: 100%|██████████| 1/1 [00:00<00:00, 20867.18it/s]\n",
      "Retrieving RobocrystallogapherDoc documents: 100%|██████████| 1/1 [00:00<00:00, 23831.27it/s]\n",
      "Retrieving RobocrystallogapherDoc documents: 100%|██████████| 1/1 [00:00<00:00, 24528.09it/s]\n",
      "Retrieving RobocrystallogapherDoc documents: 100%|██████████| 1/1 [00:00<00:00, 22919.69it/s]\n",
      "Retrieving RobocrystallogapherDoc documents: 100%|██████████| 1/1 [00:00<00:00, 26214.40it/s]\n",
      "Retrieving RobocrystallogapherDoc documents: 100%|██████████| 1/1 [00:00<00:00, 17697.49it/s]\n",
      "Retrieving RobocrystallogapherDoc documents: 100%|██████████| 1/1 [00:00<00:00, 22192.08it/s]\n",
      "Retrieving RobocrystallogapherDoc documents: 100%|██████████| 1/1 [00:00<00:00, 23045.63it/s]\n",
      "Retrieving RobocrystallogapherDoc documents: 100%|██████████| 1/1 [00:00<00:00, 22919.69it/s]\n",
      "Retrieving RobocrystallogapherDoc documents: 100%|██████████| 1/1 [00:00<00:00, 23696.63it/s]\n",
      "Retrieving RobocrystallogapherDoc documents: 100%|██████████| 1/1 [00:00<00:00, 22429.43it/s]\n",
      "Retrieving RobocrystallogapherDoc documents: 100%|██████████| 1/1 [00:00<00:00, 23563.51it/s]\n",
      "Retrieving RobocrystallogapherDoc documents: 100%|██████████| 1/1 [00:00<00:00, 26715.31it/s]\n",
      "Retrieving RobocrystallogapherDoc documents: 100%|██████████| 1/1 [00:00<00:00, 28339.89it/s]\n",
      "Retrieving RobocrystallogapherDoc documents: 100%|██████████| 1/1 [00:00<00:00, 27060.03it/s]\n",
      "Retrieving RobocrystallogapherDoc documents: 100%|██████████| 1/1 [00:00<00:00, 23431.87it/s]\n",
      "Retrieving RobocrystallogapherDoc documents: 100%|██████████| 1/1 [00:00<00:00, 19784.45it/s]\n",
      "Retrieving RobocrystallogapherDoc documents: 100%|██████████| 1/1 [00:00<00:00, 23301.69it/s]\n",
      "Retrieving RobocrystallogapherDoc documents: 100%|██████████| 1/1 [00:00<00:00, 19418.07it/s]\n",
      "Retrieving RobocrystallogapherDoc documents: 100%|██████████| 1/1 [00:00<00:00, 27060.03it/s]\n",
      "Retrieving RobocrystallogapherDoc documents: 100%|██████████| 1/1 [00:00<00:00, 23696.63it/s]\n",
      "Retrieving RobocrystallogapherDoc documents: 100%|██████████| 1/1 [00:00<00:00, 24105.20it/s]\n",
      "Retrieving RobocrystallogapherDoc documents: 100%|██████████| 1/1 [00:00<00:00, 22671.91it/s]\n",
      "Retrieving RobocrystallogapherDoc documents: 100%|██████████| 1/1 [00:00<00:00, 23696.63it/s]\n",
      "Retrieving RobocrystallogapherDoc documents: 100%|██████████| 1/1 [00:00<00:00, 27594.11it/s]\n",
      "Retrieving RobocrystallogapherDoc documents: 100%|██████████| 1/1 [00:00<00:00, 27060.03it/s]\n",
      "Retrieving RobocrystallogapherDoc documents: 100%|██████████| 1/1 [00:00<00:00, 22919.69it/s]\n",
      "Retrieving RobocrystallogapherDoc documents: 100%|██████████| 1/1 [00:00<00:00, 23301.69it/s]\n",
      "Retrieving RobocrystallogapherDoc documents: 100%|██████████| 1/1 [00:00<00:00, 24105.20it/s]\n",
      "Retrieving RobocrystallogapherDoc documents: 100%|██████████| 1/1 [00:00<00:00, 26715.31it/s]\n",
      "Retrieving RobocrystallogapherDoc documents: 100%|██████████| 1/1 [00:00<00:00, 26886.56it/s]\n",
      "Retrieving RobocrystallogapherDoc documents: 100%|██████████| 1/1 [00:00<00:00, 27413.75it/s]\n",
      "Retrieving RobocrystallogapherDoc documents: 100%|██████████| 1/1 [00:00<00:00, 23172.95it/s]\n",
      "Retrieving RobocrystallogapherDoc documents: 100%|██████████| 1/1 [00:00<00:00, 24528.09it/s]\n",
      "Retrieving RobocrystallogapherDoc documents: 100%|██████████| 1/1 [00:00<00:00, 21959.71it/s]\n",
      "Retrieving RobocrystallogapherDoc documents: 100%|██████████| 1/1 [00:00<00:00, 27413.75it/s]\n",
      "Retrieving RobocrystallogapherDoc documents: 100%|██████████| 1/1 [00:00<00:00, 22671.91it/s]\n",
      "Retrieving RobocrystallogapherDoc documents: 100%|██████████| 1/1 [00:00<00:00, 18724.57it/s]\n",
      "Retrieving RobocrystallogapherDoc documents: 100%|██████████| 1/1 [00:00<00:00, 26214.40it/s]\n",
      "Retrieving RobocrystallogapherDoc documents: 100%|██████████| 1/1 [00:00<00:00, 22919.69it/s]\n",
      "Retrieving RobocrystallogapherDoc documents: 100%|██████████| 1/1 [00:00<00:00, 27235.74it/s]\n",
      "Retrieving RobocrystallogapherDoc documents: 100%|██████████| 1/1 [00:00<00:00, 23431.87it/s]\n",
      "Retrieving RobocrystallogapherDoc documents: 100%|██████████| 1/1 [00:00<00:00, 23172.95it/s]\n",
      "Retrieving RobocrystallogapherDoc documents: 100%|██████████| 1/1 [00:00<00:00, 19152.07it/s]\n",
      "Retrieving RobocrystallogapherDoc documents: 100%|██████████| 1/1 [00:00<00:00, 26546.23it/s]\n",
      "Retrieving RobocrystallogapherDoc documents: 100%|██████████| 1/1 [00:00<00:00, 19508.39it/s]\n",
      "Retrieving RobocrystallogapherDoc documents: 100%|██████████| 1/1 [00:00<00:00, 19784.45it/s]\n",
      "Retrieving RobocrystallogapherDoc documents: 100%|██████████| 1/1 [00:00<00:00, 23696.63it/s]\n",
      "Retrieving RobocrystallogapherDoc documents: 100%|██████████| 1/1 [00:00<00:00, 21290.88it/s]\n",
      "Retrieving RobocrystallogapherDoc documents: 100%|██████████| 1/1 [00:00<00:00, 19784.45it/s]\n",
      "Retrieving RobocrystallogapherDoc documents: 100%|██████████| 1/1 [00:00<00:00, 19878.22it/s]\n",
      "Retrieving RobocrystallogapherDoc documents: 100%|██████████| 1/1 [00:00<00:00, 17476.27it/s]\n",
      "Retrieving RobocrystallogapherDoc documents: 100%|██████████| 1/1 [00:00<00:00, 17260.51it/s]\n",
      "Retrieving RobocrystallogapherDoc documents: 100%|██████████| 1/1 [00:00<00:00, 22795.13it/s]\n",
      "Retrieving RobocrystallogapherDoc documents: 100%|██████████| 1/1 [00:00<00:00, 16448.25it/s]\n",
      "Retrieving RobocrystallogapherDoc documents: 100%|██████████| 1/1 [00:00<00:00, 26886.56it/s]\n",
      "Retrieving RobocrystallogapherDoc documents: 100%|██████████| 1/1 [00:00<00:00, 26214.40it/s]\n",
      "Retrieving RobocrystallogapherDoc documents: 100%|██████████| 1/1 [00:00<00:00, 19328.59it/s]\n",
      "Retrieving RobocrystallogapherDoc documents: 100%|██████████| 1/1 [00:00<00:00, 21290.88it/s]\n",
      "Retrieving RobocrystallogapherDoc documents: 100%|██████████| 1/1 [00:00<00:00, 19508.39it/s]\n",
      "Retrieving RobocrystallogapherDoc documents: 100%|██████████| 1/1 [00:00<00:00, 23563.51it/s]\n",
      "Retrieving RobocrystallogapherDoc documents: 100%|██████████| 1/1 [00:00<00:00, 21183.35it/s]\n",
      "Retrieving RobocrystallogapherDoc documents: 100%|██████████| 1/1 [00:00<00:00, 23172.95it/s]\n",
      "Retrieving RobocrystallogapherDoc documents: 100%|██████████| 1/1 [00:00<00:00, 26546.23it/s]\n",
      "Retrieving RobocrystallogapherDoc documents: 100%|██████████| 1/1 [00:00<00:00, 24528.09it/s]\n",
      "Retrieving RobocrystallogapherDoc documents: 100%|██████████| 1/1 [00:00<00:00, 24528.09it/s]\n",
      "Retrieving RobocrystallogapherDoc documents: 100%|██████████| 1/1 [00:00<00:00, 23831.27it/s]\n",
      "Retrieving RobocrystallogapherDoc documents: 100%|██████████| 1/1 [00:00<00:00, 20164.92it/s]\n",
      "Retrieving RobocrystallogapherDoc documents: 100%|██████████| 1/1 [00:00<00:00, 22919.69it/s]\n",
      "Retrieving RobocrystallogapherDoc documents: 100%|██████████| 1/1 [00:00<00:00, 23045.63it/s]\n",
      "Retrieving RobocrystallogapherDoc documents: 100%|██████████| 1/1 [00:00<00:00, 19878.22it/s]\n"
     ]
    },
    {
     "name": "stdout",
     "output_type": "stream",
     "text": [
      "mp-643655\n"
     ]
    },
    {
     "name": "stderr",
     "output_type": "stream",
     "text": [
      "Retrieving RobocrystallogapherDoc documents: 100%|██████████| 1/1 [00:00<00:00, 21509.25it/s]\n"
     ]
    },
    {
     "name": "stdout",
     "output_type": "stream",
     "text": [
      "mp-556310\n"
     ]
    },
    {
     "name": "stderr",
     "output_type": "stream",
     "text": [
      "Retrieving RobocrystallogapherDoc documents: 100%|██████████| 1/1 [00:00<00:00, 22919.69it/s]\n"
     ]
    },
    {
     "name": "stdout",
     "output_type": "stream",
     "text": [
      "mp-643655\n"
     ]
    },
    {
     "name": "stderr",
     "output_type": "stream",
     "text": [
      "Retrieving RobocrystallogapherDoc documents: 100%|██████████| 1/1 [00:00<00:00, 24528.09it/s]\n"
     ]
    },
    {
     "name": "stdout",
     "output_type": "stream",
     "text": [
      "mp-556310\n"
     ]
    },
    {
     "name": "stderr",
     "output_type": "stream",
     "text": [
      "Retrieving RobocrystallogapherDoc documents: 100%|██████████| 1/1 [00:00<00:00, 23967.45it/s]\n",
      "Retrieving RobocrystallogapherDoc documents: 100%|██████████| 1/1 [00:00<00:00, 21845.33it/s]\n",
      "Retrieving RobocrystallogapherDoc documents: 100%|██████████| 1/1 [00:00<00:00, 22795.13it/s]\n",
      "Retrieving RobocrystallogapherDoc documents: 100%|██████████| 1/1 [00:00<00:00, 19508.39it/s]\n",
      "Retrieving RobocrystallogapherDoc documents: 100%|██████████| 1/1 [00:00<00:00, 20460.02it/s]\n",
      "Retrieving RobocrystallogapherDoc documents: 100%|██████████| 1/1 [00:00<00:00, 22310.13it/s]\n",
      "Retrieving RobocrystallogapherDoc documents: 100%|██████████| 1/1 [00:00<00:00, 20262.34it/s]\n",
      "Retrieving RobocrystallogapherDoc documents: 100%|██████████| 1/1 [00:00<00:00, 27413.75it/s]\n",
      "Retrieving RobocrystallogapherDoc documents: 100%|██████████| 1/1 [00:00<00:00, 22671.91it/s]\n",
      "Retrieving RobocrystallogapherDoc documents: 100%|██████████| 1/1 [00:00<00:00, 19691.57it/s]\n",
      "Retrieving RobocrystallogapherDoc documents: 100%|██████████| 1/1 [00:00<00:00, 22919.69it/s]\n"
     ]
    },
    {
     "name": "stdout",
     "output_type": "stream",
     "text": [
      "mp-556562\n"
     ]
    },
    {
     "name": "stderr",
     "output_type": "stream",
     "text": [
      "Retrieving RobocrystallogapherDoc documents: 100%|██████████| 1/1 [00:00<00:00, 27235.74it/s]\n"
     ]
    },
    {
     "name": "stdout",
     "output_type": "stream",
     "text": [
      "mp-556562\n"
     ]
    },
    {
     "name": "stderr",
     "output_type": "stream",
     "text": [
      "Retrieving RobocrystallogapherDoc documents: 100%|██████████| 1/1 [00:00<00:00, 23301.69it/s]\n",
      "Retrieving RobocrystallogapherDoc documents: 100%|██████████| 1/1 [00:00<00:00, 23172.95it/s]\n",
      "Retrieving RobocrystallogapherDoc documents: 100%|██████████| 1/1 [00:00<00:00, 22795.13it/s]\n",
      "Retrieving RobocrystallogapherDoc documents: 100%|██████████| 1/1 [00:00<00:00, 24105.20it/s]\n",
      "Retrieving RobocrystallogapherDoc documents: 100%|██████████| 1/1 [00:00<00:00, 24966.10it/s]\n",
      "Retrieving RobocrystallogapherDoc documents: 100%|██████████| 1/1 [00:00<00:00, 23172.95it/s]\n",
      "Retrieving RobocrystallogapherDoc documents: 100%|██████████| 1/1 [00:00<00:00, 27235.74it/s]\n"
     ]
    },
    {
     "name": "stdout",
     "output_type": "stream",
     "text": [
      "mp-555090\n"
     ]
    },
    {
     "name": "stderr",
     "output_type": "stream",
     "text": [
      "Retrieving RobocrystallogapherDoc documents: 100%|██████████| 1/1 [00:00<00:00, 24244.53it/s]\n",
      "Retrieving RobocrystallogapherDoc documents: 100%|██████████| 1/1 [00:00<00:00, 16513.01it/s]\n",
      "Retrieving RobocrystallogapherDoc documents: 100%|██████████| 1/1 [00:00<00:00, 23967.45it/s]\n"
     ]
    },
    {
     "name": "stdout",
     "output_type": "stream",
     "text": [
      "mp-555090\n"
     ]
    },
    {
     "name": "stderr",
     "output_type": "stream",
     "text": [
      "Retrieving RobocrystallogapherDoc documents: 100%|██████████| 1/1 [00:00<00:00, 22671.91it/s]\n",
      "Retrieving RobocrystallogapherDoc documents: 100%|██████████| 1/1 [00:00<00:00, 25115.59it/s]\n",
      "Retrieving RobocrystallogapherDoc documents: 100%|██████████| 1/1 [00:00<00:00, 23301.69it/s]\n",
      "Retrieving RobocrystallogapherDoc documents: 100%|██████████| 1/1 [00:00<00:00, 23431.87it/s]\n",
      "Retrieving RobocrystallogapherDoc documents: 100%|██████████| 1/1 [00:00<00:00, 23831.27it/s]\n",
      "Retrieving RobocrystallogapherDoc documents: 100%|██████████| 1/1 [00:00<00:00, 29746.84it/s]\n",
      "Retrieving RobocrystallogapherDoc documents: 100%|██████████| 1/1 [00:00<00:00, 23563.51it/s]\n",
      "Retrieving RobocrystallogapherDoc documents: 100%|██████████| 1/1 [00:00<00:00, 19599.55it/s]\n",
      "Retrieving RobocrystallogapherDoc documents: 100%|██████████| 1/1 [00:00<00:00, 17260.51it/s]\n",
      "Retrieving RobocrystallogapherDoc documents: 100%|██████████| 1/1 [00:00<00:00, 24818.37it/s]\n",
      "Retrieving RobocrystallogapherDoc documents: 100%|██████████| 1/1 [00:00<00:00, 24385.49it/s]\n",
      "Retrieving RobocrystallogapherDoc documents: 100%|██████████| 1/1 [00:00<00:00, 20262.34it/s]\n"
     ]
    },
    {
     "name": "stdout",
     "output_type": "stream",
     "text": [
      "mp-1180608\n"
     ]
    },
    {
     "name": "stderr",
     "output_type": "stream",
     "text": [
      "Retrieving RobocrystallogapherDoc documents: 100%|██████████| 1/1 [00:00<00:00, 19972.88it/s]\n"
     ]
    },
    {
     "name": "stdout",
     "output_type": "stream",
     "text": [
      "mp-1180608\n"
     ]
    },
    {
     "name": "stderr",
     "output_type": "stream",
     "text": [
      "Retrieving RobocrystallogapherDoc documents: 100%|██████████| 1/1 [00:00<00:00, 27413.75it/s]\n",
      "Retrieving RobocrystallogapherDoc documents: 100%|██████████| 1/1 [00:00<00:00, 19784.45it/s]\n",
      "Retrieving RobocrystallogapherDoc documents: 100%|██████████| 1/1 [00:00<00:00, 19065.02it/s]\n",
      "Retrieving RobocrystallogapherDoc documents: 100%|██████████| 1/1 [00:00<00:00, 28728.11it/s]\n",
      "Retrieving RobocrystallogapherDoc documents: 100%|██████████| 1/1 [00:00<00:00, 20068.44it/s]\n",
      "Retrieving RobocrystallogapherDoc documents: 100%|██████████| 1/1 [00:00<00:00, 26886.56it/s]\n",
      "Retrieving RobocrystallogapherDoc documents: 100%|██████████| 1/1 [00:00<00:00, 27060.03it/s]\n",
      "Retrieving RobocrystallogapherDoc documents: 100%|██████████| 1/1 [00:00<00:00, 22075.28it/s]\n",
      "Retrieving RobocrystallogapherDoc documents: 100%|██████████| 1/1 [00:00<00:00, 16448.25it/s]\n",
      "Retrieving RobocrystallogapherDoc documents: 100%|██████████| 1/1 [00:00<00:00, 22919.69it/s]\n",
      "Retrieving RobocrystallogapherDoc documents: 100%|██████████| 1/1 [00:00<00:00, 19599.55it/s]\n",
      "Retrieving RobocrystallogapherDoc documents: 100%|██████████| 1/1 [00:00<00:00, 16194.22it/s]\n",
      "Retrieving RobocrystallogapherDoc documents: 100%|██████████| 1/1 [00:00<00:00, 26715.31it/s]\n",
      "Retrieving RobocrystallogapherDoc documents: 100%|██████████| 1/1 [00:00<00:00, 22429.43it/s]\n",
      "Retrieving RobocrystallogapherDoc documents: 100%|██████████| 1/1 [00:00<00:00, 22919.69it/s]\n"
     ]
    },
    {
     "name": "stdout",
     "output_type": "stream",
     "text": [
      "mp-1235165\n"
     ]
    },
    {
     "name": "stderr",
     "output_type": "stream",
     "text": [
      "Retrieving RobocrystallogapherDoc documents: 100%|██████████| 1/1 [00:00<00:00, 19239.93it/s]\n"
     ]
    },
    {
     "name": "stdout",
     "output_type": "stream",
     "text": [
      "mp-1235761\n"
     ]
    },
    {
     "name": "stderr",
     "output_type": "stream",
     "text": [
      "Retrieving RobocrystallogapherDoc documents: 100%|██████████| 1/1 [00:00<00:00, 21183.35it/s]\n"
     ]
    },
    {
     "name": "stdout",
     "output_type": "stream",
     "text": [
      "mp-1235165\n"
     ]
    },
    {
     "name": "stderr",
     "output_type": "stream",
     "text": [
      "Retrieving RobocrystallogapherDoc documents: 100%|██████████| 1/1 [00:00<00:00, 26715.31it/s]\n",
      "Retrieving RobocrystallogapherDoc documents: 100%|██████████| 1/1 [00:00<00:00, 23045.63it/s]\n"
     ]
    },
    {
     "name": "stdout",
     "output_type": "stream",
     "text": [
      "mp-1235761\n"
     ]
    },
    {
     "name": "stderr",
     "output_type": "stream",
     "text": [
      "Retrieving RobocrystallogapherDoc documents: 100%|██████████| 1/1 [00:00<00:00, 24385.49it/s]\n",
      "Retrieving RobocrystallogapherDoc documents: 100%|██████████| 1/1 [00:00<00:00, 25890.77it/s]\n",
      "Retrieving RobocrystallogapherDoc documents: 100%|██████████| 1/1 [00:00<00:00, 23563.51it/s]\n",
      "Retrieving RobocrystallogapherDoc documents: 100%|██████████| 1/1 [00:00<00:00, 22550.02it/s]\n",
      "Retrieving RobocrystallogapherDoc documents: 100%|██████████| 1/1 [00:00<00:00, 22671.91it/s]\n",
      "Retrieving RobocrystallogapherDoc documents: 100%|██████████| 1/1 [00:00<00:00, 22075.28it/s]\n",
      "Retrieving RobocrystallogapherDoc documents: 100%|██████████| 1/1 [00:00<00:00, 23301.69it/s]\n",
      "Retrieving RobocrystallogapherDoc documents: 100%|██████████| 1/1 [00:00<00:00, 21845.33it/s]\n",
      "Retrieving RobocrystallogapherDoc documents: 100%|██████████| 1/1 [00:00<00:00, 21959.71it/s]\n",
      "Retrieving RobocrystallogapherDoc documents: 100%|██████████| 1/1 [00:00<00:00, 23563.51it/s]\n",
      "Retrieving RobocrystallogapherDoc documents: 100%|██████████| 1/1 [00:00<00:00, 23431.87it/s]\n",
      "Retrieving RobocrystallogapherDoc documents: 100%|██████████| 1/1 [00:00<00:00, 19972.88it/s]\n",
      "Retrieving RobocrystallogapherDoc documents: 100%|██████████| 1/1 [00:00<00:00, 21290.88it/s]\n",
      "Retrieving RobocrystallogapherDoc documents: 100%|██████████| 1/1 [00:00<00:00, 21845.33it/s]\n",
      "Retrieving RobocrystallogapherDoc documents: 100%|██████████| 1/1 [00:00<00:00, 23563.51it/s]\n",
      "Retrieving RobocrystallogapherDoc documents: 100%|██████████| 1/1 [00:00<00:00, 21732.15it/s]\n",
      "Retrieving RobocrystallogapherDoc documents: 100%|██████████| 1/1 [00:00<00:00, 18157.16it/s]\n",
      "Retrieving RobocrystallogapherDoc documents: 100%|██████████| 1/1 [00:00<00:00, 17549.39it/s]\n",
      "Retrieving RobocrystallogapherDoc documents: 100%|██████████| 1/1 [00:00<00:00, 23563.51it/s]\n"
     ]
    },
    {
     "name": "stdout",
     "output_type": "stream",
     "text": [
      "mp-1236075\n"
     ]
    },
    {
     "name": "stderr",
     "output_type": "stream",
     "text": [
      "Retrieving RobocrystallogapherDoc documents: 100%|██████████| 1/1 [00:00<00:00, 22075.28it/s]\n"
     ]
    },
    {
     "name": "stdout",
     "output_type": "stream",
     "text": [
      "mp-1235321\n"
     ]
    },
    {
     "name": "stderr",
     "output_type": "stream",
     "text": [
      "Retrieving RobocrystallogapherDoc documents: 100%|██████████| 1/1 [00:00<00:00, 24105.20it/s]\n"
     ]
    },
    {
     "name": "stdout",
     "output_type": "stream",
     "text": [
      "mp-1235321\n"
     ]
    },
    {
     "name": "stderr",
     "output_type": "stream",
     "text": [
      "Retrieving RobocrystallogapherDoc documents: 100%|██████████| 1/1 [00:00<00:00, 22919.69it/s]\n",
      "Retrieving RobocrystallogapherDoc documents: 100%|██████████| 1/1 [00:00<00:00, 19418.07it/s]\n"
     ]
    },
    {
     "name": "stdout",
     "output_type": "stream",
     "text": [
      "mp-1236668\n"
     ]
    },
    {
     "name": "stderr",
     "output_type": "stream",
     "text": [
      "Retrieving RobocrystallogapherDoc documents: 100%|██████████| 1/1 [00:00<00:00, 22919.69it/s]\n"
     ]
    },
    {
     "name": "stdout",
     "output_type": "stream",
     "text": [
      "mp-1236075\n"
     ]
    },
    {
     "name": "stderr",
     "output_type": "stream",
     "text": [
      "Retrieving RobocrystallogapherDoc documents: 100%|██████████| 1/1 [00:00<00:00, 21399.51it/s]\n",
      "Retrieving RobocrystallogapherDoc documents: 100%|██████████| 1/1 [00:00<00:00, 24385.49it/s]\n",
      "Retrieving RobocrystallogapherDoc documents: 100%|██████████| 1/1 [00:00<00:00, 24385.49it/s]\n"
     ]
    },
    {
     "name": "stdout",
     "output_type": "stream",
     "text": [
      "mp-1236668\n"
     ]
    },
    {
     "name": "stderr",
     "output_type": "stream",
     "text": [
      "Retrieving RobocrystallogapherDoc documents: 100%|██████████| 1/1 [00:00<00:00, 18236.10it/s]\n",
      "Retrieving RobocrystallogapherDoc documents: 100%|██████████| 1/1 [00:00<00:00, 23301.69it/s]\n",
      "Retrieving RobocrystallogapherDoc documents: 100%|██████████| 1/1 [00:00<00:00, 21845.33it/s]\n",
      "Retrieving RobocrystallogapherDoc documents: 100%|██████████| 1/1 [00:00<00:00, 22192.08it/s]\n",
      "Retrieving RobocrystallogapherDoc documents: 100%|██████████| 1/1 [00:00<00:00, 23563.51it/s]\n",
      "Retrieving RobocrystallogapherDoc documents: 100%|██████████| 1/1 [00:00<00:00, 19328.59it/s]\n",
      "Retrieving RobocrystallogapherDoc documents: 100%|██████████| 1/1 [00:00<00:00, 27413.75it/s]\n"
     ]
    },
    {
     "name": "stdout",
     "output_type": "stream",
     "text": [
      "mp-1097038\n"
     ]
    },
    {
     "name": "stderr",
     "output_type": "stream",
     "text": [
      "Retrieving RobocrystallogapherDoc documents: 100%|██████████| 1/1 [00:00<00:00, 26546.23it/s]\n",
      "Retrieving RobocrystallogapherDoc documents: 100%|██████████| 1/1 [00:00<00:00, 19784.45it/s]\n",
      "Retrieving RobocrystallogapherDoc documents: 100%|██████████| 1/1 [00:00<00:00, 22192.08it/s]\n",
      "Retrieving RobocrystallogapherDoc documents: 100%|██████████| 1/1 [00:00<00:00, 22795.13it/s]\n",
      "Retrieving RobocrystallogapherDoc documents: 100%|██████████| 1/1 [00:00<00:00, 21399.51it/s]\n",
      "Retrieving RobocrystallogapherDoc documents: 100%|██████████| 1/1 [00:00<00:00, 20164.92it/s]\n",
      "Retrieving RobocrystallogapherDoc documents: 100%|██████████| 1/1 [00:00<00:00, 23967.45it/s]\n",
      "Retrieving RobocrystallogapherDoc documents: 100%|██████████| 1/1 [00:00<00:00, 22192.08it/s]\n",
      "Retrieving RobocrystallogapherDoc documents: 100%|██████████| 1/1 [00:00<00:00, 21845.33it/s]\n",
      "Retrieving RobocrystallogapherDoc documents: 100%|██████████| 1/1 [00:00<00:00, 22795.13it/s]\n",
      "Retrieving RobocrystallogapherDoc documents: 100%|██████████| 1/1 [00:00<00:00, 23563.51it/s]\n",
      "Retrieving RobocrystallogapherDoc documents: 100%|██████████| 1/1 [00:00<00:00, 23301.69it/s]\n",
      "Retrieving RobocrystallogapherDoc documents: 100%|██████████| 1/1 [00:00<00:00, 23696.63it/s]\n",
      "Retrieving RobocrystallogapherDoc documents: 100%|██████████| 1/1 [00:00<00:00, 25115.59it/s]\n"
     ]
    },
    {
     "name": "stdout",
     "output_type": "stream",
     "text": [
      "mp-1097038\n"
     ]
    },
    {
     "name": "stderr",
     "output_type": "stream",
     "text": [
      "Retrieving RobocrystallogapherDoc documents: 100%|██████████| 1/1 [00:00<00:00, 22192.08it/s]\n",
      "Retrieving RobocrystallogapherDoc documents: 100%|██████████| 1/1 [00:00<00:00, 27235.74it/s]\n",
      "Retrieving RobocrystallogapherDoc documents: 100%|██████████| 1/1 [00:00<00:00, 19599.55it/s]\n",
      "Retrieving RobocrystallogapherDoc documents: 100%|██████████| 1/1 [00:00<00:00, 23431.87it/s]\n",
      "Retrieving RobocrystallogapherDoc documents: 100%|██████████| 1/1 [00:00<00:00, 16194.22it/s]\n",
      "Retrieving RobocrystallogapherDoc documents: 100%|██████████| 1/1 [00:00<00:00, 23831.27it/s]\n",
      "Retrieving RobocrystallogapherDoc documents: 100%|██████████| 1/1 [00:00<00:00, 22429.43it/s]\n",
      "Retrieving RobocrystallogapherDoc documents: 100%|██████████| 1/1 [00:00<00:00, 16131.94it/s]\n",
      "Retrieving RobocrystallogapherDoc documents: 100%|██████████| 1/1 [00:00<00:00, 23563.51it/s]\n"
     ]
    },
    {
     "name": "stdout",
     "output_type": "stream",
     "text": [
      "mp-1222409\n"
     ]
    },
    {
     "name": "stderr",
     "output_type": "stream",
     "text": [
      "Retrieving RobocrystallogapherDoc documents: 100%|██████████| 1/1 [00:00<00:00, 21732.15it/s]\n"
     ]
    },
    {
     "name": "stdout",
     "output_type": "stream",
     "text": [
      "mp-24615\n"
     ]
    },
    {
     "name": "stderr",
     "output_type": "stream",
     "text": [
      "Retrieving RobocrystallogapherDoc documents: 100%|██████████| 1/1 [00:00<00:00, 18641.35it/s]\n",
      "Retrieving RobocrystallogapherDoc documents: 100%|██████████| 1/1 [00:00<00:00, 21509.25it/s]\n",
      "Retrieving RobocrystallogapherDoc documents: 100%|██████████| 1/1 [00:00<00:00, 27235.74it/s]\n"
     ]
    },
    {
     "name": "stdout",
     "output_type": "stream",
     "text": [
      "mp-24615\n"
     ]
    },
    {
     "name": "stderr",
     "output_type": "stream",
     "text": [
      "Retrieving RobocrystallogapherDoc documents: 100%|██████████| 1/1 [00:00<00:00, 24818.37it/s]\n",
      "Retrieving RobocrystallogapherDoc documents: 100%|██████████| 1/1 [00:00<00:00, 23696.63it/s]\n",
      "Retrieving RobocrystallogapherDoc documents: 100%|██████████| 1/1 [00:00<00:00, 25115.59it/s]\n",
      "Retrieving RobocrystallogapherDoc documents: 100%|██████████| 1/1 [00:00<00:00, 18808.54it/s]\n"
     ]
    },
    {
     "name": "stdout",
     "output_type": "stream",
     "text": [
      "mp-1222409\n"
     ]
    },
    {
     "name": "stderr",
     "output_type": "stream",
     "text": [
      "Retrieving RobocrystallogapherDoc documents: 100%|██████████| 1/1 [00:00<00:00, 23431.87it/s]\n",
      "Retrieving RobocrystallogapherDoc documents: 100%|██████████| 1/1 [00:00<00:00, 24385.49it/s]\n"
     ]
    },
    {
     "name": "stdout",
     "output_type": "stream",
     "text": [
      "mp-1222409\n"
     ]
    },
    {
     "name": "stderr",
     "output_type": "stream",
     "text": [
      "Retrieving RobocrystallogapherDoc documents: 100%|██████████| 1/1 [00:00<00:00, 23563.51it/s]\n"
     ]
    },
    {
     "name": "stdout",
     "output_type": "stream",
     "text": [
      "mp-1235589\n"
     ]
    },
    {
     "name": "stderr",
     "output_type": "stream",
     "text": [
      "Retrieving RobocrystallogapherDoc documents: 100%|██████████| 1/1 [00:00<00:00, 18315.74it/s]\n",
      "Retrieving RobocrystallogapherDoc documents: 100%|██████████| 1/1 [00:00<00:00, 23045.63it/s]\n"
     ]
    },
    {
     "name": "stdout",
     "output_type": "stream",
     "text": [
      "mp-1235589\n"
     ]
    },
    {
     "name": "stderr",
     "output_type": "stream",
     "text": [
      "Retrieving RobocrystallogapherDoc documents: 100%|██████████| 1/1 [00:00<00:00, 17772.47it/s]\n",
      "Retrieving RobocrystallogapherDoc documents: 100%|██████████| 1/1 [00:00<00:00, 21620.12it/s]\n",
      "Retrieving RobocrystallogapherDoc documents: 100%|██████████| 1/1 [00:00<00:00, 22310.13it/s]\n",
      "Retrieving RobocrystallogapherDoc documents: 100%|██████████| 1/1 [00:00<00:00, 22550.02it/s]\n",
      "Retrieving RobocrystallogapherDoc documents: 100%|██████████| 1/1 [00:00<00:00, 22429.43it/s]\n",
      "Retrieving RobocrystallogapherDoc documents: 100%|██████████| 1/1 [00:00<00:00, 19152.07it/s]\n",
      "Retrieving RobocrystallogapherDoc documents: 100%|██████████| 1/1 [00:00<00:00, 20661.60it/s]\n",
      "Retrieving RobocrystallogapherDoc documents: 100%|██████████| 1/1 [00:00<00:00, 22795.13it/s]\n",
      "Retrieving RobocrystallogapherDoc documents: 100%|██████████| 1/1 [00:00<00:00, 24105.20it/s]\n",
      "Retrieving RobocrystallogapherDoc documents: 100%|██████████| 1/1 [00:00<00:00, 22795.13it/s]\n",
      "Retrieving RobocrystallogapherDoc documents: 100%|██████████| 1/1 [00:00<00:00, 26546.23it/s]\n",
      "Retrieving RobocrystallogapherDoc documents: 100%|██████████| 1/1 [00:00<00:00, 22795.13it/s]\n"
     ]
    },
    {
     "name": "stdout",
     "output_type": "stream",
     "text": [
      "mp-707929\n"
     ]
    },
    {
     "name": "stderr",
     "output_type": "stream",
     "text": [
      "Retrieving RobocrystallogapherDoc documents: 100%|██████████| 1/1 [00:00<00:00, 20971.52it/s]\n"
     ]
    },
    {
     "name": "stdout",
     "output_type": "stream",
     "text": [
      "mp-707929\n"
     ]
    },
    {
     "name": "stderr",
     "output_type": "stream",
     "text": [
      "Retrieving RobocrystallogapherDoc documents: 100%|██████████| 1/1 [00:00<00:00, 19239.93it/s]\n",
      "Retrieving RobocrystallogapherDoc documents: 100%|██████████| 1/1 [00:00<00:00, 23696.63it/s]\n",
      "Retrieving RobocrystallogapherDoc documents: 100%|██████████| 1/1 [00:00<00:00, 21845.33it/s]\n",
      "Retrieving RobocrystallogapherDoc documents: 100%|██████████| 1/1 [00:00<00:00, 26715.31it/s]\n",
      "Retrieving RobocrystallogapherDoc documents: 100%|██████████| 1/1 [00:00<00:00, 22429.43it/s]\n",
      "Retrieving RobocrystallogapherDoc documents: 100%|██████████| 1/1 [00:00<00:00, 23563.51it/s]\n"
     ]
    },
    {
     "name": "stdout",
     "output_type": "stream",
     "text": [
      "mp-636952\n"
     ]
    },
    {
     "name": "stderr",
     "output_type": "stream",
     "text": [
      "Retrieving RobocrystallogapherDoc documents: 100%|██████████| 1/1 [00:00<00:00, 22550.02it/s]\n"
     ]
    },
    {
     "name": "stdout",
     "output_type": "stream",
     "text": [
      "mp-636952\n"
     ]
    },
    {
     "name": "stderr",
     "output_type": "stream",
     "text": [
      "Retrieving RobocrystallogapherDoc documents: 100%|██████████| 1/1 [00:00<00:00, 27413.75it/s]\n",
      "Retrieving RobocrystallogapherDoc documents: 100%|██████████| 1/1 [00:00<00:00, 22795.13it/s]\n",
      "Retrieving RobocrystallogapherDoc documents: 100%|██████████| 1/1 [00:00<00:00, 22795.13it/s]\n",
      "Retrieving RobocrystallogapherDoc documents: 100%|██████████| 1/1 [00:00<00:00, 22671.91it/s]\n",
      "Retrieving RobocrystallogapherDoc documents: 100%|██████████| 1/1 [00:00<00:00, 21399.51it/s]\n",
      "Retrieving RobocrystallogapherDoc documents: 100%|██████████| 1/1 [00:00<00:00, 17331.83it/s]\n"
     ]
    },
    {
     "name": "stdout",
     "output_type": "stream",
     "text": [
      "mp-1203097\n"
     ]
    },
    {
     "name": "stderr",
     "output_type": "stream",
     "text": [
      "Retrieving RobocrystallogapherDoc documents: 100%|██████████| 1/1 [00:00<00:00, 24385.49it/s]\n",
      "Retrieving RobocrystallogapherDoc documents: 100%|██████████| 1/1 [00:00<00:00, 21959.71it/s]\n"
     ]
    },
    {
     "name": "stdout",
     "output_type": "stream",
     "text": [
      "mp-1194832\n"
     ]
    },
    {
     "name": "stderr",
     "output_type": "stream",
     "text": [
      "Retrieving RobocrystallogapherDoc documents: 100%|██████████| 1/1 [00:00<00:00, 23172.95it/s]\n",
      "Retrieving RobocrystallogapherDoc documents: 100%|██████████| 1/1 [00:00<00:00, 23563.51it/s]\n"
     ]
    },
    {
     "name": "stdout",
     "output_type": "stream",
     "text": [
      "mp-1194832\n"
     ]
    },
    {
     "name": "stderr",
     "output_type": "stream",
     "text": [
      "Retrieving RobocrystallogapherDoc documents: 100%|██████████| 1/1 [00:00<00:00, 25115.59it/s]\n",
      "Retrieving RobocrystallogapherDoc documents: 100%|██████████| 1/1 [00:00<00:00, 24244.53it/s]\n"
     ]
    },
    {
     "name": "stdout",
     "output_type": "stream",
     "text": [
      "mp-1194832\n"
     ]
    },
    {
     "name": "stderr",
     "output_type": "stream",
     "text": [
      "Retrieving RobocrystallogapherDoc documents: 100%|██████████| 1/1 [00:00<00:00, 23563.51it/s]\n",
      "Retrieving RobocrystallogapherDoc documents: 100%|██████████| 1/1 [00:00<00:00, 13981.01it/s]\n",
      "Retrieving RobocrystallogapherDoc documents: 100%|██████████| 1/1 [00:00<00:00, 14169.95it/s]\n"
     ]
    },
    {
     "name": "stdout",
     "output_type": "stream",
     "text": [
      "mp-1203097\n"
     ]
    },
    {
     "name": "stderr",
     "output_type": "stream",
     "text": [
      "Retrieving RobocrystallogapherDoc documents: 100%|██████████| 1/1 [00:00<00:00, 16070.13it/s]\n",
      "Retrieving RobocrystallogapherDoc documents: 100%|██████████| 1/1 [00:00<00:00, 16008.79it/s]\n",
      "Retrieving RobocrystallogapherDoc documents: 100%|██████████| 1/1 [00:00<00:00, 14364.05it/s]\n",
      "Retrieving RobocrystallogapherDoc documents: 100%|██████████| 1/1 [00:00<00:00, 14027.77it/s]\n",
      "Retrieving RobocrystallogapherDoc documents: 100%|██████████| 1/1 [00:00<00:00, 16912.52it/s]\n",
      "Retrieving RobocrystallogapherDoc documents: 100%|██████████| 1/1 [00:00<00:00, 13189.64it/s]\n",
      "Retrieving RobocrystallogapherDoc documents: 100%|██████████| 1/1 [00:00<00:00, 15087.42it/s]\n",
      "Retrieving RobocrystallogapherDoc documents: 100%|██████████| 1/1 [00:00<00:00, 16448.25it/s]\n",
      "Retrieving RobocrystallogapherDoc documents: 100%|██████████| 1/1 [00:00<00:00, 16644.06it/s]\n",
      "Retrieving RobocrystallogapherDoc documents: 100%|██████████| 1/1 [00:00<00:00, 10979.85it/s]\n",
      "Retrieving RobocrystallogapherDoc documents: 100%|██████████| 1/1 [00:00<00:00, 16513.01it/s]\n",
      "Retrieving RobocrystallogapherDoc documents: 100%|██████████| 1/1 [00:00<00:00, 9686.61it/s]\n",
      "Retrieving RobocrystallogapherDoc documents: 100%|██████████| 1/1 [00:00<00:00, 16070.13it/s]\n",
      "Retrieving RobocrystallogapherDoc documents: 100%|██████████| 1/1 [00:00<00:00, 13888.42it/s]\n",
      "Retrieving RobocrystallogapherDoc documents: 100%|██████████| 1/1 [00:00<00:00, 16194.22it/s]\n",
      "Retrieving RobocrystallogapherDoc documents: 100%|██████████| 1/1 [00:00<00:00, 14665.40it/s]\n",
      "Retrieving RobocrystallogapherDoc documents: 100%|██████████| 1/1 [00:00<00:00, 14979.66it/s]\n",
      "Retrieving RobocrystallogapherDoc documents: 100%|██████████| 1/1 [00:00<00:00, 10565.00it/s]\n",
      "Retrieving RobocrystallogapherDoc documents: 100%|██████████| 1/1 [00:00<00:00, 16777.22it/s]\n"
     ]
    },
    {
     "name": "stdout",
     "output_type": "stream",
     "text": [
      "mp-1236204\n"
     ]
    },
    {
     "name": "stderr",
     "output_type": "stream",
     "text": [
      "Retrieving RobocrystallogapherDoc documents: 100%|██████████| 1/1 [00:00<00:00, 16384.00it/s]\n",
      "Retrieving RobocrystallogapherDoc documents: 100%|██████████| 1/1 [00:00<00:00, 16070.13it/s]\n",
      "Retrieving RobocrystallogapherDoc documents: 100%|██████████| 1/1 [00:00<00:00, 16131.94it/s]\n",
      "Retrieving RobocrystallogapherDoc documents: 100%|██████████| 1/1 [00:00<00:00, 14074.85it/s]\n"
     ]
    },
    {
     "name": "stdout",
     "output_type": "stream",
     "text": [
      "mp-1236204\n"
     ]
    },
    {
     "name": "stderr",
     "output_type": "stream",
     "text": [
      "Retrieving RobocrystallogapherDoc documents: 100%|██████████| 1/1 [00:00<00:00, 12633.45it/s]\n",
      "Retrieving RobocrystallogapherDoc documents: 100%|██████████| 1/1 [00:00<00:00, 15196.75it/s]\n",
      "Retrieving RobocrystallogapherDoc documents: 100%|██████████| 1/1 [00:00<00:00, 18001.30it/s]\n"
     ]
    },
    {
     "name": "stdout",
     "output_type": "stream",
     "text": [
      "mp-560246\n"
     ]
    },
    {
     "name": "stderr",
     "output_type": "stream",
     "text": [
      "Retrieving RobocrystallogapherDoc documents: 100%|██████████| 1/1 [00:00<00:00, 21290.88it/s]\n",
      "Retrieving RobocrystallogapherDoc documents: 100%|██████████| 1/1 [00:00<00:00, 22310.13it/s]\n",
      "Retrieving RobocrystallogapherDoc documents: 100%|██████████| 1/1 [00:00<00:00, 24385.49it/s]\n",
      "Retrieving RobocrystallogapherDoc documents: 100%|██████████| 1/1 [00:00<00:00, 22192.08it/s]\n",
      "Retrieving RobocrystallogapherDoc documents: 100%|██████████| 1/1 [00:00<00:00, 22550.02it/s]\n",
      "Retrieving RobocrystallogapherDoc documents: 100%|██████████| 1/1 [00:00<00:00, 22671.91it/s]\n"
     ]
    },
    {
     "name": "stdout",
     "output_type": "stream",
     "text": [
      "mp-560246\n"
     ]
    },
    {
     "name": "stderr",
     "output_type": "stream",
     "text": [
      "Retrieving RobocrystallogapherDoc documents: 100%|██████████| 1/1 [00:00<00:00, 11650.84it/s]\n",
      "Retrieving RobocrystallogapherDoc documents: 100%|██████████| 1/1 [00:00<00:00, 14768.68it/s]\n"
     ]
    },
    {
     "name": "stdout",
     "output_type": "stream",
     "text": [
      "mp-560246\n"
     ]
    },
    {
     "name": "stderr",
     "output_type": "stream",
     "text": [
      "Retrieving RobocrystallogapherDoc documents: 100%|██████████| 1/1 [00:00<00:00, 14315.03it/s]\n",
      "Retrieving RobocrystallogapherDoc documents: 100%|██████████| 1/1 [00:00<00:00, 14873.42it/s]\n",
      "Retrieving RobocrystallogapherDoc documents: 100%|██████████| 1/1 [00:00<00:00, 15087.42it/s]\n",
      "Retrieving RobocrystallogapherDoc documents: 100%|██████████| 1/1 [00:00<00:00, 14169.95it/s]\n",
      "Retrieving RobocrystallogapherDoc documents: 100%|██████████| 1/1 [00:00<00:00, 13662.23it/s]\n",
      "Retrieving RobocrystallogapherDoc documents: 100%|██████████| 1/1 [00:00<00:00, 14513.16it/s]\n",
      "Retrieving RobocrystallogapherDoc documents: 100%|██████████| 1/1 [00:00<00:00, 14614.30it/s]\n",
      "Retrieving RobocrystallogapherDoc documents: 100%|██████████| 1/1 [00:00<00:00, 13357.66it/s]\n",
      "Retrieving RobocrystallogapherDoc documents: 100%|██████████| 1/1 [00:00<00:00, 10894.30it/s]\n",
      "Retrieving RobocrystallogapherDoc documents: 100%|██████████| 1/1 [00:00<00:00, 12122.27it/s]\n",
      "Retrieving RobocrystallogapherDoc documents: 100%|██████████| 1/1 [00:00<00:00, 13066.37it/s]\n",
      "Retrieving RobocrystallogapherDoc documents: 100%|██████████| 1/1 [00:00<00:00, 13662.23it/s]\n",
      "Retrieving RobocrystallogapherDoc documents: 100%|██████████| 1/1 [00:00<00:00, 14926.35it/s]\n",
      "Retrieving RobocrystallogapherDoc documents: 100%|██████████| 1/1 [00:00<00:00, 15307.68it/s]\n",
      "Retrieving RobocrystallogapherDoc documents: 100%|██████████| 1/1 [00:00<00:00, 15363.75it/s]\n",
      "Retrieving RobocrystallogapherDoc documents: 100%|██████████| 1/1 [00:00<00:00, 14563.56it/s]\n",
      "Retrieving RobocrystallogapherDoc documents: 100%|██████████| 1/1 [00:00<00:00, 14513.16it/s]\n",
      "Retrieving RobocrystallogapherDoc documents: 100%|██████████| 1/1 [00:00<00:00, 12865.96it/s]\n",
      "Retrieving RobocrystallogapherDoc documents: 100%|██████████| 1/1 [00:00<00:00, 14768.68it/s]\n",
      "Retrieving RobocrystallogapherDoc documents: 100%|██████████| 1/1 [00:00<00:00, 15252.01it/s]\n",
      "Retrieving RobocrystallogapherDoc documents: 100%|██████████| 1/1 [00:00<00:00, 15196.75it/s]\n"
     ]
    },
    {
     "name": "stdout",
     "output_type": "stream",
     "text": [
      "mp-1198761\n"
     ]
    },
    {
     "name": "stderr",
     "output_type": "stream",
     "text": [
      "Retrieving RobocrystallogapherDoc documents: 100%|██████████| 1/1 [00:00<00:00, 14926.35it/s]\n"
     ]
    },
    {
     "name": "stdout",
     "output_type": "stream",
     "text": [
      "mp-1198761\n"
     ]
    },
    {
     "name": "stderr",
     "output_type": "stream",
     "text": [
      "Retrieving RobocrystallogapherDoc documents: 100%|██████████| 1/1 [00:00<00:00, 14266.34it/s]\n",
      "Retrieving RobocrystallogapherDoc documents: 100%|██████████| 1/1 [00:00<00:00, 14074.85it/s]\n",
      "Retrieving RobocrystallogapherDoc documents: 100%|██████████| 1/1 [00:00<00:00, 15534.46it/s]\n",
      "Retrieving RobocrystallogapherDoc documents: 100%|██████████| 1/1 [00:00<00:00, 15420.24it/s]\n",
      "Retrieving RobocrystallogapherDoc documents: 100%|██████████| 1/1 [00:00<00:00, 15534.46it/s]\n",
      "Retrieving RobocrystallogapherDoc documents: 100%|██████████| 1/1 [00:00<00:00, 21290.88it/s]\n",
      "Retrieving RobocrystallogapherDoc documents: 100%|██████████| 1/1 [00:00<00:00, 23301.69it/s]\n",
      "Retrieving RobocrystallogapherDoc documents: 100%|██████████| 1/1 [00:00<00:00, 18001.30it/s]\n",
      "Retrieving RobocrystallogapherDoc documents: 100%|██████████| 1/1 [00:00<00:00, 18558.87it/s]\n",
      "Retrieving RobocrystallogapherDoc documents: 100%|██████████| 1/1 [00:00<00:00, 20164.92it/s]\n",
      "Retrieving RobocrystallogapherDoc documents: 100%|██████████| 1/1 [00:00<00:00, 20560.31it/s]\n"
     ]
    },
    {
     "name": "stdout",
     "output_type": "stream",
     "text": [
      "mp-1198038\n"
     ]
    },
    {
     "name": "stderr",
     "output_type": "stream",
     "text": [
      "Retrieving RobocrystallogapherDoc documents: 100%|██████████| 1/1 [00:00<00:00, 24385.49it/s]\n",
      "Retrieving RobocrystallogapherDoc documents: 100%|██████████| 1/1 [00:00<00:00, 16448.25it/s]\n"
     ]
    },
    {
     "name": "stdout",
     "output_type": "stream",
     "text": [
      "mp-1198038\n"
     ]
    },
    {
     "name": "stderr",
     "output_type": "stream",
     "text": [
      "Retrieving RobocrystallogapherDoc documents: 100%|██████████| 1/1 [00:00<00:00, 25575.02it/s]\n",
      "Retrieving RobocrystallogapherDoc documents: 100%|██████████| 1/1 [00:00<00:00, 22429.43it/s]\n",
      "Retrieving RobocrystallogapherDoc documents: 100%|██████████| 1/1 [00:00<00:00, 27413.75it/s]\n",
      "Retrieving RobocrystallogapherDoc documents: 100%|██████████| 1/1 [00:00<00:00, 20460.02it/s]\n",
      "Retrieving RobocrystallogapherDoc documents: 100%|██████████| 1/1 [00:00<00:00, 22192.08it/s]\n",
      "Retrieving RobocrystallogapherDoc documents: 100%|██████████| 1/1 [00:00<00:00, 23696.63it/s]\n",
      "Retrieving RobocrystallogapherDoc documents: 100%|██████████| 1/1 [00:00<00:00, 22310.13it/s]\n",
      "Retrieving RobocrystallogapherDoc documents: 100%|██████████| 1/1 [00:00<00:00, 15887.52it/s]\n",
      "Retrieving RobocrystallogapherDoc documents: 100%|██████████| 1/1 [00:00<00:00, 23301.69it/s]\n",
      "Retrieving RobocrystallogapherDoc documents: 100%|██████████| 1/1 [00:00<00:00, 23967.45it/s]\n",
      "Retrieving RobocrystallogapherDoc documents: 100%|██████████| 1/1 [00:00<00:00, 20867.18it/s]\n",
      "Retrieving RobocrystallogapherDoc documents: 100%|██████████| 1/1 [00:00<00:00, 24105.20it/s]\n",
      "Retrieving RobocrystallogapherDoc documents: 100%|██████████| 1/1 [00:00<00:00, 27235.74it/s]\n",
      "Retrieving RobocrystallogapherDoc documents: 100%|██████████| 1/1 [00:00<00:00, 22919.69it/s]\n",
      "Retrieving RobocrystallogapherDoc documents: 100%|██████████| 1/1 [00:00<00:00, 23967.45it/s]\n",
      "Retrieving RobocrystallogapherDoc documents: 100%|██████████| 1/1 [00:00<00:00, 22795.13it/s]\n",
      "Retrieving RobocrystallogapherDoc documents: 100%|██████████| 1/1 [00:00<00:00, 14217.98it/s]\n",
      "Retrieving RobocrystallogapherDoc documents: 100%|██████████| 1/1 [00:00<00:00, 12595.51it/s]\n",
      "Retrieving RobocrystallogapherDoc documents: 100%|██████████| 1/1 [00:00<00:00, 11491.24it/s]\n",
      "Retrieving RobocrystallogapherDoc documents: 100%|██████████| 1/1 [00:00<00:00, 13888.42it/s]\n",
      "Retrieving RobocrystallogapherDoc documents: 100%|██████████| 1/1 [00:00<00:00, 13486.51it/s]\n",
      "Retrieving RobocrystallogapherDoc documents: 100%|██████████| 1/1 [00:00<00:00, 13189.64it/s]\n",
      "Retrieving RobocrystallogapherDoc documents: 100%|██████████| 1/1 [00:00<00:00, 7695.97it/s]\n",
      "Retrieving RobocrystallogapherDoc documents: 100%|██████████| 1/1 [00:00<00:00, 23967.45it/s]\n",
      "Retrieving RobocrystallogapherDoc documents: 100%|██████████| 1/1 [00:00<00:00, 24818.37it/s]\n",
      "Retrieving RobocrystallogapherDoc documents: 100%|██████████| 1/1 [00:00<00:00, 22075.28it/s]\n",
      "Retrieving RobocrystallogapherDoc documents: 100%|██████████| 1/1 [00:00<00:00, 17924.38it/s]\n",
      "Retrieving RobocrystallogapherDoc documents: 100%|██████████| 1/1 [00:00<00:00, 24966.10it/s]\n",
      "Retrieving RobocrystallogapherDoc documents: 100%|██████████| 1/1 [00:00<00:00, 26886.56it/s]\n",
      "Retrieving RobocrystallogapherDoc documents: 100%|██████████| 1/1 [00:00<00:00, 16980.99it/s]\n",
      "Retrieving RobocrystallogapherDoc documents: 100%|██████████| 1/1 [00:00<00:00, 16912.52it/s]\n",
      "Retrieving RobocrystallogapherDoc documents: 100%|██████████| 1/1 [00:00<00:00, 23301.69it/s]\n",
      "Retrieving RobocrystallogapherDoc documents: 100%|██████████| 1/1 [00:00<00:00, 27413.75it/s]\n",
      "Retrieving RobocrystallogapherDoc documents: 100%|██████████| 1/1 [00:00<00:00, 23172.95it/s]\n",
      "Retrieving RobocrystallogapherDoc documents: 100%|██████████| 1/1 [00:00<00:00, 27060.03it/s]\n",
      "Retrieving RobocrystallogapherDoc documents: 100%|██████████| 1/1 [00:00<00:00, 19418.07it/s]\n",
      "Retrieving RobocrystallogapherDoc documents: 100%|██████████| 1/1 [00:00<00:00, 24105.20it/s]\n",
      "Retrieving RobocrystallogapherDoc documents: 100%|██████████| 1/1 [00:00<00:00, 23831.27it/s]\n",
      "Retrieving RobocrystallogapherDoc documents: 100%|██████████| 1/1 [00:00<00:00, 27413.75it/s]\n",
      "Retrieving RobocrystallogapherDoc documents: 100%|██████████| 1/1 [00:00<00:00, 27060.03it/s]\n",
      "Retrieving RobocrystallogapherDoc documents: 100%|██████████| 1/1 [00:00<00:00, 22075.28it/s]\n",
      "Retrieving RobocrystallogapherDoc documents: 100%|██████████| 1/1 [00:00<00:00, 20763.88it/s]\n",
      "Retrieving RobocrystallogapherDoc documents: 100%|██████████| 1/1 [00:00<00:00, 27413.75it/s]\n",
      "Retrieving RobocrystallogapherDoc documents: 100%|██████████| 1/1 [00:00<00:00, 20164.92it/s]\n",
      "Retrieving RobocrystallogapherDoc documents: 100%|██████████| 1/1 [00:00<00:00, 28926.23it/s]\n",
      "Retrieving RobocrystallogapherDoc documents: 100%|██████████| 1/1 [00:00<00:00, 17331.83it/s]\n",
      "Retrieving RobocrystallogapherDoc documents: 100%|██████████| 1/1 [00:00<00:00, 26715.31it/s]\n",
      "Retrieving RobocrystallogapherDoc documents: 100%|██████████| 1/1 [00:00<00:00, 25266.89it/s]\n",
      "Retrieving RobocrystallogapherDoc documents: 100%|██████████| 1/1 [00:00<00:00, 23301.69it/s]\n",
      "Retrieving RobocrystallogapherDoc documents: 100%|██████████| 1/1 [00:00<00:00, 23301.69it/s]\n",
      "Retrieving RobocrystallogapherDoc documents: 100%|██████████| 1/1 [00:00<00:00, 19508.39it/s]\n",
      "Retrieving RobocrystallogapherDoc documents: 100%|██████████| 1/1 [00:00<00:00, 23431.87it/s]\n",
      "Retrieving RobocrystallogapherDoc documents: 100%|██████████| 1/1 [00:00<00:00, 22429.43it/s]\n",
      "Retrieving RobocrystallogapherDoc documents: 100%|██████████| 1/1 [00:00<00:00, 18558.87it/s]\n",
      "Retrieving RobocrystallogapherDoc documents: 100%|██████████| 1/1 [00:00<00:00, 10951.19it/s]\n",
      "Retrieving RobocrystallogapherDoc documents: 100%|██████████| 1/1 [00:00<00:00, 20867.18it/s]\n",
      "Retrieving RobocrystallogapherDoc documents: 100%|██████████| 1/1 [00:00<00:00, 21732.15it/s]\n",
      "Retrieving RobocrystallogapherDoc documents: 100%|██████████| 1/1 [00:00<00:00, 21183.35it/s]\n",
      "Retrieving RobocrystallogapherDoc documents: 100%|██████████| 1/1 [00:00<00:00, 14122.24it/s]\n"
     ]
    },
    {
     "name": "stdout",
     "output_type": "stream",
     "text": [
      "mp-1235086\n"
     ]
    },
    {
     "name": "stderr",
     "output_type": "stream",
     "text": [
      "Retrieving RobocrystallogapherDoc documents: 100%|██████████| 1/1 [00:00<00:00, 24966.10it/s]\n"
     ]
    },
    {
     "name": "stdout",
     "output_type": "stream",
     "text": [
      "mp-1236147\n"
     ]
    },
    {
     "name": "stderr",
     "output_type": "stream",
     "text": [
      "Retrieving RobocrystallogapherDoc documents: 100%|██████████| 1/1 [00:00<00:00, 24244.53it/s]\n",
      "Retrieving RobocrystallogapherDoc documents: 100%|██████████| 1/1 [00:00<00:00, 24385.49it/s]\n",
      "Retrieving RobocrystallogapherDoc documents: 100%|██████████| 1/1 [00:00<00:00, 28339.89it/s]\n"
     ]
    },
    {
     "name": "stdout",
     "output_type": "stream",
     "text": [
      "mp-1235086\n"
     ]
    },
    {
     "name": "stderr",
     "output_type": "stream",
     "text": [
      "Retrieving RobocrystallogapherDoc documents: 100%|██████████| 1/1 [00:00<00:00, 25731.93it/s]\n",
      "Retrieving RobocrystallogapherDoc documents: 100%|██████████| 1/1 [00:00<00:00, 23696.63it/s]\n",
      "Retrieving RobocrystallogapherDoc documents: 100%|██████████| 1/1 [00:00<00:00, 21845.33it/s]\n",
      "Retrieving RobocrystallogapherDoc documents: 100%|██████████| 1/1 [00:00<00:00, 24385.49it/s]\n",
      "Retrieving RobocrystallogapherDoc documents: 100%|██████████| 1/1 [00:00<00:00, 17119.61it/s]\n",
      "Retrieving RobocrystallogapherDoc documents: 100%|██████████| 1/1 [00:00<00:00, 27060.03it/s]\n",
      "Retrieving RobocrystallogapherDoc documents: 100%|██████████| 1/1 [00:00<00:00, 16777.22it/s]\n",
      "Retrieving RobocrystallogapherDoc documents: 100%|██████████| 1/1 [00:00<00:00, 23045.63it/s]\n",
      "Retrieving RobocrystallogapherDoc documents: 100%|██████████| 1/1 [00:00<00:00, 21290.88it/s]\n",
      "Retrieving RobocrystallogapherDoc documents: 100%|██████████| 1/1 [00:00<00:00, 24105.20it/s]\n",
      "Retrieving RobocrystallogapherDoc documents: 100%|██████████| 1/1 [00:00<00:00, 23301.69it/s]\n",
      "Retrieving RobocrystallogapherDoc documents: 100%|██████████| 1/1 [00:00<00:00, 27776.85it/s]\n",
      "Retrieving RobocrystallogapherDoc documents: 100%|██████████| 1/1 [00:00<00:00, 21290.88it/s]\n"
     ]
    },
    {
     "name": "stdout",
     "output_type": "stream",
     "text": [
      "mp-1236147\n"
     ]
    },
    {
     "name": "stderr",
     "output_type": "stream",
     "text": [
      "Retrieving RobocrystallogapherDoc documents: 100%|██████████| 1/1 [00:00<00:00, 24966.10it/s]\n",
      "Retrieving RobocrystallogapherDoc documents: 100%|██████████| 1/1 [00:00<00:00, 22429.43it/s]\n",
      "Retrieving RobocrystallogapherDoc documents: 100%|██████████| 1/1 [00:00<00:00, 15827.56it/s]\n",
      "Retrieving RobocrystallogapherDoc documents: 100%|██████████| 1/1 [00:00<00:00, 23045.63it/s]\n",
      "Retrieving RobocrystallogapherDoc documents: 100%|██████████| 1/1 [00:00<00:00, 23431.87it/s]\n",
      "Retrieving RobocrystallogapherDoc documents: 100%|██████████| 1/1 [00:00<00:00, 22550.02it/s]\n",
      "Retrieving RobocrystallogapherDoc documents: 100%|██████████| 1/1 [00:00<00:00, 26379.27it/s]\n",
      "Retrieving RobocrystallogapherDoc documents: 100%|██████████| 1/1 [00:00<00:00, 14122.24it/s]\n",
      "Retrieving RobocrystallogapherDoc documents: 100%|██████████| 1/1 [00:00<00:00, 24105.20it/s]\n",
      "Retrieving RobocrystallogapherDoc documents: 100%|██████████| 1/1 [00:00<00:00, 14563.56it/s]\n",
      "Retrieving RobocrystallogapherDoc documents: 100%|██████████| 1/1 [00:00<00:00, 22192.08it/s]\n",
      "Retrieving RobocrystallogapherDoc documents: 100%|██████████| 1/1 [00:00<00:00, 18808.54it/s]\n"
     ]
    },
    {
     "name": "stdout",
     "output_type": "stream",
     "text": [
      "mp-852069\n"
     ]
    },
    {
     "name": "stderr",
     "output_type": "stream",
     "text": [
      "Retrieving RobocrystallogapherDoc documents: 100%|██████████| 1/1 [00:00<00:00, 18641.35it/s]\n",
      "Retrieving RobocrystallogapherDoc documents: 100%|██████████| 1/1 [00:00<00:00, 20360.70it/s]\n",
      "Retrieving RobocrystallogapherDoc documents: 100%|██████████| 1/1 [00:00<00:00, 21399.51it/s]\n",
      "Retrieving RobocrystallogapherDoc documents: 100%|██████████| 1/1 [00:00<00:00, 28926.23it/s]\n",
      "Retrieving RobocrystallogapherDoc documents: 100%|██████████| 1/1 [00:00<00:00, 22429.43it/s]\n",
      "Retrieving RobocrystallogapherDoc documents: 100%|██████████| 1/1 [00:00<00:00, 26214.40it/s]\n",
      "Retrieving RobocrystallogapherDoc documents: 100%|██████████| 1/1 [00:00<00:00, 23431.87it/s]\n"
     ]
    },
    {
     "name": "stdout",
     "output_type": "stream",
     "text": [
      "mp-852069\n"
     ]
    },
    {
     "name": "stderr",
     "output_type": "stream",
     "text": [
      "Retrieving RobocrystallogapherDoc documents: 100%|██████████| 1/1 [00:00<00:00, 21732.15it/s]\n",
      "Retrieving RobocrystallogapherDoc documents: 100%|██████████| 1/1 [00:00<00:00, 17924.38it/s]\n",
      "Retrieving RobocrystallogapherDoc documents: 100%|██████████| 1/1 [00:00<00:00, 19508.39it/s]\n",
      "Retrieving RobocrystallogapherDoc documents: 100%|██████████| 1/1 [00:00<00:00, 23431.87it/s]\n",
      "Retrieving RobocrystallogapherDoc documents: 100%|██████████| 1/1 [00:00<00:00, 18893.26it/s]\n",
      "Retrieving RobocrystallogapherDoc documents: 100%|██████████| 1/1 [00:00<00:00, 22550.02it/s]\n",
      "Retrieving RobocrystallogapherDoc documents: 100%|██████████| 1/1 [00:00<00:00, 21959.71it/s]\n",
      "Retrieving RobocrystallogapherDoc documents: 100%|██████████| 1/1 [00:00<00:00, 22550.02it/s]\n",
      "Retrieving RobocrystallogapherDoc documents: 100%|██████████| 1/1 [00:00<00:00, 22310.13it/s]\n",
      "Retrieving RobocrystallogapherDoc documents: 100%|██████████| 1/1 [00:00<00:00, 21845.33it/s]\n",
      "Retrieving RobocrystallogapherDoc documents: 100%|██████████| 1/1 [00:00<00:00, 26715.31it/s]\n",
      "Retrieving RobocrystallogapherDoc documents: 100%|██████████| 1/1 [00:00<00:00, 23301.69it/s]\n",
      "Retrieving RobocrystallogapherDoc documents: 100%|██████████| 1/1 [00:00<00:00, 17260.51it/s]\n",
      "Retrieving RobocrystallogapherDoc documents: 100%|██████████| 1/1 [00:00<00:00, 22919.69it/s]\n",
      "Retrieving RobocrystallogapherDoc documents: 100%|██████████| 1/1 [00:00<00:00, 22550.02it/s]\n",
      "Retrieving RobocrystallogapherDoc documents: 100%|██████████| 1/1 [00:00<00:00, 24672.38it/s]\n",
      "Retrieving RobocrystallogapherDoc documents: 100%|██████████| 1/1 [00:00<00:00, 22192.08it/s]\n",
      "Retrieving RobocrystallogapherDoc documents: 100%|██████████| 1/1 [00:00<00:00, 21620.12it/s]\n",
      "Retrieving RobocrystallogapherDoc documents: 100%|██████████| 1/1 [00:00<00:00, 20867.18it/s]\n",
      "Retrieving RobocrystallogapherDoc documents: 100%|██████████| 1/1 [00:00<00:00, 23045.63it/s]\n",
      "Retrieving RobocrystallogapherDoc documents: 100%|██████████| 1/1 [00:00<00:00, 24244.53it/s]\n",
      "Retrieving RobocrystallogapherDoc documents: 100%|██████████| 1/1 [00:00<00:00, 20763.88it/s]\n",
      "Retrieving RobocrystallogapherDoc documents: 100%|██████████| 1/1 [00:00<00:00, 20560.31it/s]\n",
      "Retrieving RobocrystallogapherDoc documents: 100%|██████████| 1/1 [00:00<00:00, 21732.15it/s]\n",
      "Retrieving RobocrystallogapherDoc documents: 100%|██████████| 1/1 [00:00<00:00, 24244.53it/s]\n",
      "Retrieving RobocrystallogapherDoc documents: 100%|██████████| 1/1 [00:00<00:00, 23045.63it/s]\n",
      "Retrieving RobocrystallogapherDoc documents: 100%|██████████| 1/1 [00:00<00:00, 19784.45it/s]\n",
      "Retrieving RobocrystallogapherDoc documents: 100%|██████████| 1/1 [00:00<00:00, 23563.51it/s]\n",
      "Retrieving RobocrystallogapherDoc documents: 100%|██████████| 1/1 [00:00<00:00, 22919.69it/s]\n",
      "Retrieving RobocrystallogapherDoc documents: 100%|██████████| 1/1 [00:00<00:00, 23563.51it/s]\n",
      "Retrieving RobocrystallogapherDoc documents: 100%|██████████| 1/1 [00:00<00:00, 23696.63it/s]\n",
      "Retrieving RobocrystallogapherDoc documents: 100%|██████████| 1/1 [00:00<00:00, 24818.37it/s]\n",
      "Retrieving RobocrystallogapherDoc documents: 100%|██████████| 1/1 [00:00<00:00, 21845.33it/s]\n",
      "Retrieving RobocrystallogapherDoc documents: 100%|██████████| 1/1 [00:00<00:00, 22550.02it/s]\n",
      "Retrieving RobocrystallogapherDoc documents: 100%|██████████| 1/1 [00:00<00:00, 21509.25it/s]\n",
      "Retrieving RobocrystallogapherDoc documents: 100%|██████████| 1/1 [00:00<00:00, 17697.49it/s]\n",
      "Retrieving RobocrystallogapherDoc documents: 100%|██████████| 1/1 [00:00<00:00, 23696.63it/s]\n",
      "Retrieving RobocrystallogapherDoc documents: 100%|██████████| 1/1 [00:00<00:00, 23696.63it/s]\n"
     ]
    },
    {
     "name": "stdout",
     "output_type": "stream",
     "text": [
      "mp-1235395\n"
     ]
    },
    {
     "name": "stderr",
     "output_type": "stream",
     "text": [
      "Retrieving RobocrystallogapherDoc documents: 100%|██████████| 1/1 [00:00<00:00, 25420.02it/s]\n",
      "Retrieving RobocrystallogapherDoc documents: 100%|██████████| 1/1 [00:00<00:00, 26379.27it/s]\n"
     ]
    },
    {
     "name": "stdout",
     "output_type": "stream",
     "text": [
      "mp-1235395\n"
     ]
    },
    {
     "name": "stderr",
     "output_type": "stream",
     "text": [
      "Retrieving RobocrystallogapherDoc documents: 100%|██████████| 1/1 [00:00<00:00, 19691.57it/s]\n",
      "Retrieving RobocrystallogapherDoc documents: 100%|██████████| 1/1 [00:00<00:00, 18978.75it/s]\n",
      "Retrieving RobocrystallogapherDoc documents: 100%|██████████| 1/1 [00:00<00:00, 27235.74it/s]\n",
      "Retrieving RobocrystallogapherDoc documents: 100%|██████████| 1/1 [00:00<00:00, 18724.57it/s]\n",
      "Retrieving RobocrystallogapherDoc documents: 100%|██████████| 1/1 [00:00<00:00, 22671.91it/s]\n",
      "Retrieving RobocrystallogapherDoc documents: 100%|██████████| 1/1 [00:00<00:00, 25575.02it/s]\n",
      "Retrieving RobocrystallogapherDoc documents: 100%|██████████| 1/1 [00:00<00:00, 15768.06it/s]\n",
      "Retrieving RobocrystallogapherDoc documents: 100%|██████████| 1/1 [00:00<00:00, 22429.43it/s]\n",
      "Retrieving RobocrystallogapherDoc documents: 100%|██████████| 1/1 [00:00<00:00, 23301.69it/s]\n",
      "Retrieving RobocrystallogapherDoc documents: 100%|██████████| 1/1 [00:00<00:00, 21399.51it/s]\n",
      "Retrieving RobocrystallogapherDoc documents: 100%|██████████| 1/1 [00:00<00:00, 17476.27it/s]\n",
      "Retrieving RobocrystallogapherDoc documents: 100%|██████████| 1/1 [00:00<00:00, 19328.59it/s]\n",
      "Retrieving RobocrystallogapherDoc documents: 100%|██████████| 1/1 [00:00<00:00, 24672.38it/s]\n",
      "Retrieving RobocrystallogapherDoc documents: 100%|██████████| 1/1 [00:00<00:00, 20460.02it/s]\n"
     ]
    },
    {
     "name": "stdout",
     "output_type": "stream",
     "text": [
      "mp-772968\n"
     ]
    },
    {
     "name": "stderr",
     "output_type": "stream",
     "text": [
      "Retrieving RobocrystallogapherDoc documents: 100%|██████████| 1/1 [00:00<00:00, 19508.39it/s]\n"
     ]
    },
    {
     "name": "stdout",
     "output_type": "stream",
     "text": [
      "mp-772968\n"
     ]
    },
    {
     "name": "stderr",
     "output_type": "stream",
     "text": [
      "Retrieving RobocrystallogapherDoc documents: 100%|██████████| 1/1 [00:00<00:00, 17331.83it/s]\n",
      "Retrieving RobocrystallogapherDoc documents: 100%|██████████| 1/1 [00:00<00:00, 18396.07it/s]\n",
      "Retrieving RobocrystallogapherDoc documents: 100%|██████████| 1/1 [00:00<00:00, 17476.27it/s]\n",
      "Retrieving RobocrystallogapherDoc documents: 100%|██████████| 1/1 [00:00<00:00, 15768.06it/s]\n",
      "Retrieving RobocrystallogapherDoc documents: 100%|██████████| 1/1 [00:00<00:00, 24528.09it/s]\n",
      "Retrieving RobocrystallogapherDoc documents: 100%|██████████| 1/1 [00:00<00:00, 24528.09it/s]\n",
      "Retrieving RobocrystallogapherDoc documents: 100%|██████████| 1/1 [00:00<00:00, 14122.24it/s]\n",
      "Retrieving RobocrystallogapherDoc documents: 100%|██████████| 1/1 [00:00<00:00, 14768.68it/s]\n",
      "Retrieving RobocrystallogapherDoc documents: 100%|██████████| 1/1 [00:00<00:00, 15534.46it/s]\n",
      "Retrieving RobocrystallogapherDoc documents: 100%|██████████| 1/1 [00:00<00:00, 15709.00it/s]\n",
      "Retrieving RobocrystallogapherDoc documents: 100%|██████████| 1/1 [00:00<00:00, 12409.18it/s]\n",
      "Retrieving RobocrystallogapherDoc documents: 100%|██████████| 1/1 [00:00<00:00, 14926.35it/s]\n",
      "Retrieving RobocrystallogapherDoc documents: 100%|██████████| 1/1 [00:00<00:00, 16194.22it/s]\n",
      "Retrieving RobocrystallogapherDoc documents: 100%|██████████| 1/1 [00:00<00:00, 15534.46it/s]\n",
      "Retrieving RobocrystallogapherDoc documents: 100%|██████████| 1/1 [00:00<00:00, 15087.42it/s]\n",
      "Retrieving RobocrystallogapherDoc documents: 100%|██████████| 1/1 [00:00<00:00, 15087.42it/s]\n",
      "Retrieving RobocrystallogapherDoc documents: 100%|██████████| 1/1 [00:00<00:00, 12748.64it/s]\n",
      "Retrieving RobocrystallogapherDoc documents: 100%|██████████| 1/1 [00:00<00:00, 12228.29it/s]\n",
      "Retrieving RobocrystallogapherDoc documents: 100%|██████████| 1/1 [00:00<00:00, 13797.05it/s]\n",
      "Retrieving RobocrystallogapherDoc documents: 100%|██████████| 1/1 [00:00<00:00, 11983.73it/s]\n",
      "Retrieving RobocrystallogapherDoc documents: 100%|██████████| 1/1 [00:00<00:00, 11275.01it/s]\n",
      "Retrieving RobocrystallogapherDoc documents: 100%|██████████| 1/1 [00:00<00:00, 13981.01it/s]\n",
      "Retrieving RobocrystallogapherDoc documents: 100%|██████████| 1/1 [00:00<00:00, 14716.86it/s]\n",
      "Retrieving RobocrystallogapherDoc documents: 100%|██████████| 1/1 [00:00<00:00, 15534.46it/s]\n"
     ]
    },
    {
     "name": "stdout",
     "output_type": "stream",
     "text": [
      "mp-1195467\n"
     ]
    },
    {
     "name": "stderr",
     "output_type": "stream",
     "text": [
      "Retrieving RobocrystallogapherDoc documents: 100%|██████████| 1/1 [00:00<00:00, 11066.77it/s]\n",
      "Retrieving RobocrystallogapherDoc documents: 100%|██████████| 1/1 [00:00<00:00, 14364.05it/s]\n",
      "Retrieving RobocrystallogapherDoc documents: 100%|██████████| 1/1 [00:00<00:00, 20560.31it/s]\n",
      "Retrieving RobocrystallogapherDoc documents: 100%|██████████| 1/1 [00:00<00:00, 21076.90it/s]\n",
      "Retrieving RobocrystallogapherDoc documents: 100%|██████████| 1/1 [00:00<00:00, 20971.52it/s]\n"
     ]
    },
    {
     "name": "stdout",
     "output_type": "stream",
     "text": [
      "mp-1195467\n"
     ]
    },
    {
     "name": "stderr",
     "output_type": "stream",
     "text": [
      "Retrieving RobocrystallogapherDoc documents: 100%|██████████| 1/1 [00:00<00:00, 25266.89it/s]\n",
      "Retrieving RobocrystallogapherDoc documents: 100%|██████████| 1/1 [00:00<00:00, 22919.69it/s]\n",
      "Retrieving RobocrystallogapherDoc documents: 100%|██████████| 1/1 [00:00<00:00, 14665.40it/s]\n",
      "Retrieving RobocrystallogapherDoc documents: 100%|██████████| 1/1 [00:00<00:00, 14926.35it/s]\n",
      "Retrieving RobocrystallogapherDoc documents: 100%|██████████| 1/1 [00:00<00:00, 15196.75it/s]\n",
      "Retrieving RobocrystallogapherDoc documents: 100%|██████████| 1/1 [00:00<00:00, 13706.88it/s]\n",
      "Retrieving RobocrystallogapherDoc documents: 100%|██████████| 1/1 [00:00<00:00, 14716.86it/s]\n",
      "Retrieving RobocrystallogapherDoc documents: 100%|██████████| 1/1 [00:00<00:00, 13981.01it/s]\n",
      "Retrieving RobocrystallogapherDoc documents: 100%|██████████| 1/1 [00:00<00:00, 16578.28it/s]\n",
      "Retrieving RobocrystallogapherDoc documents: 100%|██████████| 1/1 [00:00<00:00, 17189.77it/s]\n",
      "Retrieving RobocrystallogapherDoc documents: 100%|██████████| 1/1 [00:00<00:00, 13273.11it/s]\n",
      "Retrieving RobocrystallogapherDoc documents: 100%|██████████| 1/1 [00:00<00:00, 13706.88it/s]\n",
      "Retrieving RobocrystallogapherDoc documents: 100%|██████████| 1/1 [00:00<00:00, 16070.13it/s]\n",
      "Retrieving RobocrystallogapherDoc documents: 100%|██████████| 1/1 [00:00<00:00, 11983.73it/s]\n",
      "Retrieving RobocrystallogapherDoc documents: 100%|██████████| 1/1 [00:00<00:00, 19152.07it/s]\n",
      "Retrieving RobocrystallogapherDoc documents: 100%|██████████| 1/1 [00:00<00:00, 19972.88it/s]\n",
      "Retrieving RobocrystallogapherDoc documents: 100%|██████████| 1/1 [00:00<00:00, 21076.90it/s]\n",
      "Retrieving RobocrystallogapherDoc documents: 100%|██████████| 1/1 [00:00<00:00, 21183.35it/s]\n",
      "Retrieving RobocrystallogapherDoc documents: 100%|██████████| 1/1 [00:00<00:00, 20164.92it/s]\n",
      "Retrieving RobocrystallogapherDoc documents: 100%|██████████| 1/1 [00:00<00:00, 21076.90it/s]\n",
      "Retrieving RobocrystallogapherDoc documents: 100%|██████████| 1/1 [00:00<00:00, 19508.39it/s]\n",
      "Retrieving RobocrystallogapherDoc documents: 100%|██████████| 1/1 [00:00<00:00, 22310.13it/s]\n",
      "Retrieving RobocrystallogapherDoc documents: 100%|██████████| 1/1 [00:00<00:00, 23172.95it/s]\n",
      "Retrieving RobocrystallogapherDoc documents: 100%|██████████| 1/1 [00:00<00:00, 20661.60it/s]\n",
      "Retrieving RobocrystallogapherDoc documents: 100%|██████████| 1/1 [00:00<00:00, 16513.01it/s]\n",
      "Retrieving RobocrystallogapherDoc documents: 100%|██████████| 1/1 [00:00<00:00, 16131.94it/s]\n",
      "Retrieving RobocrystallogapherDoc documents: 100%|██████████| 1/1 [00:00<00:00, 17772.47it/s]\n",
      "Retrieving RobocrystallogapherDoc documents: 100%|██████████| 1/1 [00:00<00:00, 18315.74it/s]\n",
      "Retrieving RobocrystallogapherDoc documents: 100%|██████████| 1/1 [00:00<00:00, 20460.02it/s]\n",
      "Retrieving RobocrystallogapherDoc documents: 100%|██████████| 1/1 [00:00<00:00, 19065.02it/s]\n",
      "Retrieving RobocrystallogapherDoc documents: 100%|██████████| 1/1 [00:00<00:00, 18808.54it/s]\n",
      "Retrieving RobocrystallogapherDoc documents: 100%|██████████| 1/1 [00:00<00:00, 19065.02it/s]\n",
      "Retrieving RobocrystallogapherDoc documents: 100%|██████████| 1/1 [00:00<00:00, 16448.25it/s]\n",
      "Retrieving RobocrystallogapherDoc documents: 100%|██████████| 1/1 [00:00<00:00, 20867.18it/s]\n",
      "Retrieving RobocrystallogapherDoc documents: 100%|██████████| 1/1 [00:00<00:00, 22075.28it/s]\n",
      "Retrieving RobocrystallogapherDoc documents: 100%|██████████| 1/1 [00:00<00:00, 16070.13it/s]\n",
      "Retrieving RobocrystallogapherDoc documents: 100%|██████████| 1/1 [00:00<00:00, 21959.71it/s]\n",
      "Retrieving RobocrystallogapherDoc documents: 100%|██████████| 1/1 [00:00<00:00, 15141.89it/s]\n",
      "Retrieving RobocrystallogapherDoc documents: 100%|██████████| 1/1 [00:00<00:00, 17119.61it/s]\n",
      "Retrieving RobocrystallogapherDoc documents: 100%|██████████| 1/1 [00:00<00:00, 12372.58it/s]\n",
      "Retrieving RobocrystallogapherDoc documents: 100%|██████████| 1/1 [00:00<00:00, 18558.87it/s]\n"
     ]
    },
    {
     "name": "stdout",
     "output_type": "stream",
     "text": [
      "mp-1198353\n"
     ]
    },
    {
     "name": "stderr",
     "output_type": "stream",
     "text": [
      "Retrieving RobocrystallogapherDoc documents: 100%|██████████| 1/1 [00:00<00:00, 18477.11it/s]\n",
      "Retrieving RobocrystallogapherDoc documents: 100%|██████████| 1/1 [00:00<00:00, 20661.60it/s]\n",
      "Retrieving RobocrystallogapherDoc documents: 100%|██████████| 1/1 [00:00<00:00, 13530.01it/s]\n",
      "Retrieving RobocrystallogapherDoc documents: 100%|██████████| 1/1 [00:00<00:00, 12192.74it/s]\n",
      "Retrieving RobocrystallogapherDoc documents: 100%|██████████| 1/1 [00:00<00:00, 15196.75it/s]\n"
     ]
    },
    {
     "name": "stdout",
     "output_type": "stream",
     "text": [
      "mp-1198353\n"
     ]
    },
    {
     "name": "stderr",
     "output_type": "stream",
     "text": [
      "Retrieving RobocrystallogapherDoc documents: 100%|██████████| 1/1 [00:00<00:00, 15252.01it/s]\n"
     ]
    },
    {
     "name": "stdout",
     "output_type": "stream",
     "text": [
      "mp-1211107\n"
     ]
    },
    {
     "name": "stderr",
     "output_type": "stream",
     "text": [
      "Retrieving RobocrystallogapherDoc documents: 100%|██████████| 1/1 [00:00<00:00, 17331.83it/s]\n"
     ]
    },
    {
     "name": "stdout",
     "output_type": "stream",
     "text": [
      "mp-1211107\n"
     ]
    },
    {
     "name": "stderr",
     "output_type": "stream",
     "text": [
      "Retrieving RobocrystallogapherDoc documents: 100%|██████████| 1/1 [00:00<00:00, 15033.35it/s]\n",
      "Retrieving RobocrystallogapherDoc documents: 100%|██████████| 1/1 [00:00<00:00, 14665.40it/s]\n",
      "Retrieving RobocrystallogapherDoc documents: 100%|██████████| 1/1 [00:00<00:00, 15709.00it/s]\n",
      "Retrieving RobocrystallogapherDoc documents: 100%|██████████| 1/1 [00:00<00:00, 11522.81it/s]\n",
      "Retrieving RobocrystallogapherDoc documents: 100%|██████████| 1/1 [00:00<00:00, 15709.00it/s]\n",
      "Retrieving RobocrystallogapherDoc documents: 100%|██████████| 1/1 [00:00<00:00, 14027.77it/s]\n",
      "Retrieving RobocrystallogapherDoc documents: 100%|██████████| 1/1 [00:00<00:00, 13443.28it/s]\n",
      "Retrieving RobocrystallogapherDoc documents: 100%|██████████| 1/1 [00:00<00:00, 16578.28it/s]\n",
      "Retrieving RobocrystallogapherDoc documents: 100%|██████████| 1/1 [00:00<00:00, 15947.92it/s]\n",
      "Retrieving RobocrystallogapherDoc documents: 100%|██████████| 1/1 [00:00<00:00, 13066.37it/s]\n",
      "Retrieving RobocrystallogapherDoc documents: 100%|██████████| 1/1 [00:00<00:00, 12787.51it/s]\n",
      "Retrieving RobocrystallogapherDoc documents: 100%|██████████| 1/1 [00:00<00:00, 16131.94it/s]\n",
      "Retrieving RobocrystallogapherDoc documents: 100%|██████████| 1/1 [00:00<00:00, 15087.42it/s]\n",
      "Retrieving RobocrystallogapherDoc documents: 100%|██████████| 1/1 [00:00<00:00, 13706.88it/s]\n",
      "Retrieving RobocrystallogapherDoc documents: 100%|██████████| 1/1 [00:00<00:00, 15196.75it/s]\n",
      "Retrieving RobocrystallogapherDoc documents: 100%|██████████| 1/1 [00:00<00:00, 14563.56it/s]\n",
      "Retrieving RobocrystallogapherDoc documents: 100%|██████████| 1/1 [00:00<00:00, 13231.24it/s]\n",
      "Retrieving RobocrystallogapherDoc documents: 100%|██████████| 1/1 [00:00<00:00, 16448.25it/s]\n",
      "Retrieving RobocrystallogapherDoc documents: 100%|██████████| 1/1 [00:00<00:00, 14665.40it/s]\n",
      "Retrieving RobocrystallogapherDoc documents: 100%|██████████| 1/1 [00:00<00:00, 16644.06it/s]\n",
      "Retrieving RobocrystallogapherDoc documents: 100%|██████████| 1/1 [00:00<00:00, 13025.79it/s]\n",
      "Retrieving RobocrystallogapherDoc documents: 100%|██████████| 1/1 [00:00<00:00, 14873.42it/s]\n",
      "Retrieving RobocrystallogapherDoc documents: 100%|██████████| 1/1 [00:00<00:00, 12748.64it/s]\n",
      "Retrieving RobocrystallogapherDoc documents: 100%|██████████| 1/1 [00:00<00:00, 15477.14it/s]\n",
      "Retrieving RobocrystallogapherDoc documents: 100%|██████████| 1/1 [00:00<00:00, 16384.00it/s]\n"
     ]
    },
    {
     "name": "stdout",
     "output_type": "stream",
     "text": [
      "mp-1195382\n"
     ]
    },
    {
     "name": "stderr",
     "output_type": "stream",
     "text": [
      "Retrieving RobocrystallogapherDoc documents: 100%|██████████| 1/1 [00:00<00:00, 14926.35it/s]\n"
     ]
    },
    {
     "name": "stdout",
     "output_type": "stream",
     "text": [
      "mp-1195382\n"
     ]
    },
    {
     "name": "stderr",
     "output_type": "stream",
     "text": [
      "Retrieving RobocrystallogapherDoc documents: 100%|██████████| 1/1 [00:00<00:00, 15592.21it/s]\n"
     ]
    },
    {
     "name": "stdout",
     "output_type": "stream",
     "text": [
      "mp-1195382\n"
     ]
    },
    {
     "name": "stderr",
     "output_type": "stream",
     "text": [
      "Retrieving RobocrystallogapherDoc documents: 100%|██████████| 1/1 [00:00<00:00, 16256.99it/s]\n",
      "Retrieving RobocrystallogapherDoc documents: 100%|██████████| 1/1 [00:00<00:00, 16448.25it/s]\n",
      "Retrieving RobocrystallogapherDoc documents: 100%|██████████| 1/1 [00:00<00:00, 14768.68it/s]\n",
      "Retrieving RobocrystallogapherDoc documents: 100%|██████████| 1/1 [00:00<00:00, 12228.29it/s]\n",
      "Retrieving RobocrystallogapherDoc documents: 100%|██████████| 1/1 [00:00<00:00, 15420.24it/s]\n",
      "Retrieving RobocrystallogapherDoc documents: 100%|██████████| 1/1 [00:00<00:00, 14074.85it/s]\n",
      "Retrieving RobocrystallogapherDoc documents: 100%|██████████| 1/1 [00:00<00:00, 12018.06it/s]\n",
      "Retrieving RobocrystallogapherDoc documents: 100%|██████████| 1/1 [00:00<00:00, 16131.94it/s]\n",
      "Retrieving RobocrystallogapherDoc documents: 100%|██████████| 1/1 [00:00<00:00, 16008.79it/s]\n",
      "Retrieving RobocrystallogapherDoc documents: 100%|██████████| 1/1 [00:00<00:00, 15363.75it/s]\n",
      "Retrieving RobocrystallogapherDoc documents: 100%|██████████| 1/1 [00:00<00:00, 14315.03it/s]\n"
     ]
    },
    {
     "name": "stdout",
     "output_type": "stream",
     "text": [
      "mp-1196446\n"
     ]
    },
    {
     "name": "stderr",
     "output_type": "stream",
     "text": [
      "Retrieving RobocrystallogapherDoc documents: 100%|██████████| 1/1 [00:00<00:00, 15087.42it/s]\n"
     ]
    },
    {
     "name": "stdout",
     "output_type": "stream",
     "text": [
      "mp-1196446\n"
     ]
    },
    {
     "name": "stderr",
     "output_type": "stream",
     "text": [
      "Retrieving RobocrystallogapherDoc documents: 100%|██████████| 1/1 [00:00<00:00, 14315.03it/s]\n",
      "Retrieving RobocrystallogapherDoc documents: 100%|██████████| 1/1 [00:00<00:00, 14413.42it/s]\n",
      "Retrieving RobocrystallogapherDoc documents: 100%|██████████| 1/1 [00:00<00:00, 13797.05it/s]\n",
      "Retrieving RobocrystallogapherDoc documents: 100%|██████████| 1/1 [00:00<00:00, 13066.37it/s]\n",
      "Retrieving RobocrystallogapherDoc documents: 100%|██████████| 1/1 [00:00<00:00, 15363.75it/s]\n",
      "Retrieving RobocrystallogapherDoc documents: 100%|██████████| 1/1 [00:00<00:00, 13662.23it/s]\n",
      "Retrieving RobocrystallogapherDoc documents: 100%|██████████| 1/1 [00:00<00:00, 15141.89it/s]\n",
      "Retrieving RobocrystallogapherDoc documents: 100%|██████████| 1/1 [00:00<00:00, 14768.68it/s]\n",
      "Retrieving RobocrystallogapherDoc documents: 100%|██████████| 1/1 [00:00<00:00, 13981.01it/s]\n",
      "Retrieving RobocrystallogapherDoc documents: 100%|██████████| 1/1 [00:00<00:00, 13231.24it/s]\n",
      "Retrieving RobocrystallogapherDoc documents: 100%|██████████| 1/1 [00:00<00:00, 11848.32it/s]\n",
      "Retrieving RobocrystallogapherDoc documents: 100%|██████████| 1/1 [00:00<00:00, 13025.79it/s]\n",
      "Retrieving RobocrystallogapherDoc documents: 100%|██████████| 1/1 [00:00<00:00, 13273.11it/s]\n",
      "Retrieving RobocrystallogapherDoc documents: 100%|██████████| 1/1 [00:00<00:00, 13617.87it/s]\n",
      "Retrieving RobocrystallogapherDoc documents: 100%|██████████| 1/1 [00:00<00:00, 15141.89it/s]\n",
      "Retrieving RobocrystallogapherDoc documents: 100%|██████████| 1/1 [00:00<00:00, 12710.01it/s]\n",
      "Retrieving RobocrystallogapherDoc documents: 100%|██████████| 1/1 [00:00<00:00, 11275.01it/s]\n",
      "Retrieving RobocrystallogapherDoc documents: 100%|██████████| 1/1 [00:00<00:00, 17403.75it/s]\n",
      "Retrieving RobocrystallogapherDoc documents: 100%|██████████| 1/1 [00:00<00:00, 13066.37it/s]\n",
      "Retrieving RobocrystallogapherDoc documents: 100%|██████████| 1/1 [00:00<00:00, 11522.81it/s]\n",
      "Retrieving RobocrystallogapherDoc documents: 100%|██████████| 1/1 [00:00<00:00, 14768.68it/s]\n",
      "Retrieving RobocrystallogapherDoc documents: 100%|██████████| 1/1 [00:00<00:00, 16710.37it/s]\n",
      "Retrieving RobocrystallogapherDoc documents: 100%|██████████| 1/1 [00:00<00:00, 11335.96it/s]\n",
      "Retrieving RobocrystallogapherDoc documents: 100%|██████████| 1/1 [00:00<00:00, 13107.20it/s]\n",
      "Retrieving RobocrystallogapherDoc documents: 100%|██████████| 1/1 [00:00<00:00, 16644.06it/s]\n",
      "Retrieving RobocrystallogapherDoc documents: 100%|██████████| 1/1 [00:00<00:00, 10672.53it/s]\n",
      "Retrieving RobocrystallogapherDoc documents: 100%|██████████| 1/1 [00:00<00:00, 13706.88it/s]\n",
      "Retrieving RobocrystallogapherDoc documents: 100%|██████████| 1/1 [00:00<00:00, 15534.46it/s]\n",
      "Retrieving RobocrystallogapherDoc documents: 100%|██████████| 1/1 [00:00<00:00, 14169.95it/s]\n",
      "Retrieving RobocrystallogapherDoc documents: 100%|██████████| 1/1 [00:00<00:00, 15887.52it/s]\n",
      "Retrieving RobocrystallogapherDoc documents: 100%|██████████| 1/1 [00:00<00:00, 11184.81it/s]\n",
      "Retrieving RobocrystallogapherDoc documents: 100%|██████████| 1/1 [00:00<00:00, 13486.51it/s]\n",
      "Retrieving RobocrystallogapherDoc documents: 100%|██████████| 1/1 [00:00<00:00, 15141.89it/s]\n",
      "Retrieving RobocrystallogapherDoc documents: 100%|██████████| 1/1 [00:00<00:00, 15534.46it/s]\n",
      "Retrieving RobocrystallogapherDoc documents: 100%|██████████| 1/1 [00:00<00:00, 10459.61it/s]\n",
      "Retrieving RobocrystallogapherDoc documents: 100%|██████████| 1/1 [00:00<00:00, 22671.91it/s]\n",
      "Retrieving RobocrystallogapherDoc documents: 100%|██████████| 1/1 [00:00<00:00, 23301.69it/s]\n",
      "Retrieving RobocrystallogapherDoc documents: 100%|██████████| 1/1 [00:00<00:00, 22919.69it/s]\n",
      "Retrieving RobocrystallogapherDoc documents: 100%|██████████| 1/1 [00:00<00:00, 19418.07it/s]\n",
      "Retrieving RobocrystallogapherDoc documents: 100%|██████████| 1/1 [00:00<00:00, 18808.54it/s]\n",
      "Retrieving RobocrystallogapherDoc documents: 100%|██████████| 1/1 [00:00<00:00, 21620.12it/s]\n",
      "Retrieving RobocrystallogapherDoc documents: 100%|██████████| 1/1 [00:00<00:00, 16448.25it/s]\n",
      "Retrieving RobocrystallogapherDoc documents: 100%|██████████| 1/1 [00:00<00:00, 19599.55it/s]\n",
      "Retrieving RobocrystallogapherDoc documents: 100%|██████████| 1/1 [00:00<00:00, 18893.26it/s]\n",
      "Retrieving RobocrystallogapherDoc documents: 100%|██████████| 1/1 [00:00<00:00, 21399.51it/s]\n",
      "Retrieving RobocrystallogapherDoc documents: 100%|██████████| 1/1 [00:00<00:00, 24966.10it/s]\n",
      "Retrieving RobocrystallogapherDoc documents: 100%|██████████| 1/1 [00:00<00:00, 20971.52it/s]\n",
      "Retrieving RobocrystallogapherDoc documents: 100%|██████████| 1/1 [00:00<00:00, 26379.27it/s]\n",
      "Retrieving RobocrystallogapherDoc documents: 100%|██████████| 1/1 [00:00<00:00, 18978.75it/s]\n",
      "Retrieving RobocrystallogapherDoc documents: 100%|██████████| 1/1 [00:00<00:00, 18724.57it/s]\n",
      "Retrieving RobocrystallogapherDoc documents: 100%|██████████| 1/1 [00:00<00:00, 21399.51it/s]\n",
      "Retrieving RobocrystallogapherDoc documents: 100%|██████████| 1/1 [00:00<00:00, 21959.71it/s]\n",
      "Retrieving RobocrystallogapherDoc documents: 100%|██████████| 1/1 [00:00<00:00, 16912.52it/s]\n",
      "Retrieving RobocrystallogapherDoc documents: 100%|██████████| 1/1 [00:00<00:00, 21399.51it/s]\n",
      "Retrieving RobocrystallogapherDoc documents: 100%|██████████| 1/1 [00:00<00:00, 12520.31it/s]\n",
      "Retrieving RobocrystallogapherDoc documents: 100%|██████████| 1/1 [00:00<00:00, 18808.54it/s]\n",
      "Retrieving RobocrystallogapherDoc documents: 100%|██████████| 1/1 [00:00<00:00, 21183.35it/s]\n",
      "Retrieving RobocrystallogapherDoc documents: 100%|██████████| 1/1 [00:00<00:00, 19239.93it/s]\n",
      "Retrieving RobocrystallogapherDoc documents: 100%|██████████| 1/1 [00:00<00:00, 18978.75it/s]\n",
      "Retrieving RobocrystallogapherDoc documents: 100%|██████████| 1/1 [00:00<00:00, 20763.88it/s]\n"
     ]
    },
    {
     "name": "stdout",
     "output_type": "stream",
     "text": [
      "mp-769129\n"
     ]
    },
    {
     "name": "stderr",
     "output_type": "stream",
     "text": [
      "Retrieving RobocrystallogapherDoc documents: 100%|██████████| 1/1 [00:00<00:00, 20068.44it/s]\n"
     ]
    },
    {
     "name": "stdout",
     "output_type": "stream",
     "text": [
      "mp-769129\n"
     ]
    },
    {
     "name": "stderr",
     "output_type": "stream",
     "text": [
      "Retrieving RobocrystallogapherDoc documents: 100%|██████████| 1/1 [00:00<00:00, 26214.40it/s]\n",
      "Retrieving RobocrystallogapherDoc documents: 100%|██████████| 1/1 [00:00<00:00, 23045.63it/s]\n",
      "Retrieving RobocrystallogapherDoc documents: 100%|██████████| 1/1 [00:00<00:00, 23563.51it/s]\n",
      "Retrieving RobocrystallogapherDoc documents: 100%|██████████| 1/1 [00:00<00:00, 19784.45it/s]\n",
      "Retrieving RobocrystallogapherDoc documents: 100%|██████████| 1/1 [00:00<00:00, 22310.13it/s]\n",
      "Retrieving RobocrystallogapherDoc documents: 100%|██████████| 1/1 [00:00<00:00, 21845.33it/s]\n",
      "Retrieving RobocrystallogapherDoc documents: 100%|██████████| 1/1 [00:00<00:00, 26715.31it/s]\n",
      "Retrieving RobocrystallogapherDoc documents: 100%|██████████| 1/1 [00:00<00:00, 27235.74it/s]\n",
      "Retrieving RobocrystallogapherDoc documents: 100%|██████████| 1/1 [00:00<00:00, 23301.69it/s]\n",
      "Retrieving RobocrystallogapherDoc documents: 100%|██████████| 1/1 [00:00<00:00, 14820.86it/s]\n",
      "Retrieving RobocrystallogapherDoc documents: 100%|██████████| 1/1 [00:00<00:00, 22795.13it/s]\n",
      "Retrieving RobocrystallogapherDoc documents: 100%|██████████| 1/1 [00:00<00:00, 22550.02it/s]\n",
      "Retrieving RobocrystallogapherDoc documents: 100%|██████████| 1/1 [00:00<00:00, 19691.57it/s]\n",
      "Retrieving RobocrystallogapherDoc documents: 100%|██████████| 1/1 [00:00<00:00, 26546.23it/s]\n",
      "Retrieving RobocrystallogapherDoc documents: 100%|██████████| 1/1 [00:00<00:00, 22550.02it/s]\n",
      "Retrieving RobocrystallogapherDoc documents: 100%|██████████| 1/1 [00:00<00:00, 24966.10it/s]\n",
      "Retrieving RobocrystallogapherDoc documents: 100%|██████████| 1/1 [00:00<00:00, 21076.90it/s]\n",
      "Retrieving RobocrystallogapherDoc documents: 100%|██████████| 1/1 [00:00<00:00, 18893.26it/s]\n",
      "Retrieving RobocrystallogapherDoc documents: 100%|██████████| 1/1 [00:00<00:00, 27594.11it/s]\n",
      "Retrieving RobocrystallogapherDoc documents: 100%|██████████| 1/1 [00:00<00:00, 23696.63it/s]\n",
      "Retrieving RobocrystallogapherDoc documents: 100%|██████████| 1/1 [00:00<00:00, 21399.51it/s]\n",
      "Retrieving RobocrystallogapherDoc documents: 100%|██████████| 1/1 [00:00<00:00, 20262.34it/s]\n",
      "Retrieving RobocrystallogapherDoc documents: 100%|██████████| 1/1 [00:00<00:00, 23045.63it/s]\n",
      "Retrieving RobocrystallogapherDoc documents: 100%|██████████| 1/1 [00:00<00:00, 23172.95it/s]\n",
      "Retrieving RobocrystallogapherDoc documents: 100%|██████████| 1/1 [00:00<00:00, 22192.08it/s]\n",
      "Retrieving RobocrystallogapherDoc documents: 100%|██████████| 1/1 [00:00<00:00, 22192.08it/s]\n",
      "Retrieving RobocrystallogapherDoc documents: 100%|██████████| 1/1 [00:00<00:00, 22671.91it/s]\n",
      "Retrieving RobocrystallogapherDoc documents: 100%|██████████| 1/1 [00:00<00:00, 19784.45it/s]\n",
      "Retrieving RobocrystallogapherDoc documents: 100%|██████████| 1/1 [00:00<00:00, 23172.95it/s]\n",
      "Retrieving RobocrystallogapherDoc documents: 100%|██████████| 1/1 [00:00<00:00, 24672.38it/s]\n",
      "Retrieving RobocrystallogapherDoc documents: 100%|██████████| 1/1 [00:00<00:00, 26214.40it/s]\n",
      "Retrieving RobocrystallogapherDoc documents: 100%|██████████| 1/1 [00:00<00:00, 22429.43it/s]\n",
      "Retrieving RobocrystallogapherDoc documents: 100%|██████████| 1/1 [00:00<00:00, 21399.51it/s]\n",
      "Retrieving RobocrystallogapherDoc documents: 100%|██████████| 1/1 [00:00<00:00, 22192.08it/s]\n",
      "Retrieving RobocrystallogapherDoc documents: 100%|██████████| 1/1 [00:00<00:00, 21845.33it/s]\n",
      "Retrieving RobocrystallogapherDoc documents: 100%|██████████| 1/1 [00:00<00:00, 19691.57it/s]\n",
      "Retrieving RobocrystallogapherDoc documents: 100%|██████████| 1/1 [00:00<00:00, 19239.93it/s]\n",
      "Retrieving RobocrystallogapherDoc documents: 100%|██████████| 1/1 [00:00<00:00, 23172.95it/s]\n",
      "Retrieving RobocrystallogapherDoc documents: 100%|██████████| 1/1 [00:00<00:00, 23045.63it/s]\n",
      "Retrieving RobocrystallogapherDoc documents: 100%|██████████| 1/1 [00:00<00:00, 26379.27it/s]\n",
      "Retrieving RobocrystallogapherDoc documents: 100%|██████████| 1/1 [00:00<00:00, 27060.03it/s]\n",
      "Retrieving RobocrystallogapherDoc documents: 100%|██████████| 1/1 [00:00<00:00, 24672.38it/s]\n",
      "Retrieving RobocrystallogapherDoc documents: 100%|██████████| 1/1 [00:00<00:00, 27235.74it/s]\n",
      "Retrieving RobocrystallogapherDoc documents: 100%|██████████| 1/1 [00:00<00:00, 22919.69it/s]\n",
      "Retrieving RobocrystallogapherDoc documents: 100%|██████████| 1/1 [00:00<00:00, 27235.74it/s]\n",
      "Retrieving RobocrystallogapherDoc documents: 100%|██████████| 1/1 [00:00<00:00, 28339.89it/s]\n",
      "Retrieving RobocrystallogapherDoc documents: 100%|██████████| 1/1 [00:00<00:00, 26214.40it/s]\n",
      "Retrieving RobocrystallogapherDoc documents: 100%|██████████| 1/1 [00:00<00:00, 25420.02it/s]\n",
      "Retrieving RobocrystallogapherDoc documents: 100%|██████████| 1/1 [00:00<00:00, 22192.08it/s]\n",
      "Retrieving RobocrystallogapherDoc documents: 100%|██████████| 1/1 [00:00<00:00, 20164.92it/s]\n",
      "Retrieving RobocrystallogapherDoc documents: 100%|██████████| 1/1 [00:00<00:00, 20068.44it/s]\n",
      "Retrieving RobocrystallogapherDoc documents: 100%|██████████| 1/1 [00:00<00:00, 23172.95it/s]\n",
      "Retrieving RobocrystallogapherDoc documents: 100%|██████████| 1/1 [00:00<00:00, 26886.56it/s]\n",
      "Retrieving RobocrystallogapherDoc documents: 100%|██████████| 1/1 [00:00<00:00, 21509.25it/s]\n",
      "Retrieving RobocrystallogapherDoc documents: 100%|██████████| 1/1 [00:00<00:00, 23431.87it/s]\n",
      "Retrieving RobocrystallogapherDoc documents: 100%|██████████| 1/1 [00:00<00:00, 17119.61it/s]\n",
      "Retrieving RobocrystallogapherDoc documents: 100%|██████████| 1/1 [00:00<00:00, 15307.68it/s]\n",
      "Retrieving RobocrystallogapherDoc documents: 100%|██████████| 1/1 [00:00<00:00, 24244.53it/s]\n",
      "Retrieving RobocrystallogapherDoc documents: 100%|██████████| 1/1 [00:00<00:00, 20971.52it/s]\n",
      "Retrieving RobocrystallogapherDoc documents: 100%|██████████| 1/1 [00:00<00:00, 23045.63it/s]\n",
      "Retrieving RobocrystallogapherDoc documents: 100%|██████████| 1/1 [00:00<00:00, 27060.03it/s]\n",
      "Retrieving RobocrystallogapherDoc documents: 100%|██████████| 1/1 [00:00<00:00, 22075.28it/s]\n",
      "Retrieving RobocrystallogapherDoc documents: 100%|██████████| 1/1 [00:00<00:00, 18641.35it/s]\n",
      "Retrieving RobocrystallogapherDoc documents: 100%|██████████| 1/1 [00:00<00:00, 16448.25it/s]\n",
      "Retrieving RobocrystallogapherDoc documents: 100%|██████████| 1/1 [00:00<00:00, 18558.87it/s]\n",
      "Retrieving RobocrystallogapherDoc documents: 100%|██████████| 1/1 [00:00<00:00, 20971.52it/s]\n",
      "Retrieving RobocrystallogapherDoc documents: 100%|██████████| 1/1 [00:00<00:00, 23563.51it/s]\n",
      "Retrieving RobocrystallogapherDoc documents: 100%|██████████| 1/1 [00:00<00:00, 27235.74it/s]\n",
      "Retrieving RobocrystallogapherDoc documents: 100%|██████████| 1/1 [00:00<00:00, 18477.11it/s]\n",
      "Retrieving RobocrystallogapherDoc documents: 100%|██████████| 1/1 [00:00<00:00, 22919.69it/s]\n",
      "Retrieving RobocrystallogapherDoc documents: 100%|██████████| 1/1 [00:00<00:00, 20460.02it/s]\n",
      "Retrieving RobocrystallogapherDoc documents: 100%|██████████| 1/1 [00:00<00:00, 23563.51it/s]\n",
      "Retrieving RobocrystallogapherDoc documents: 100%|██████████| 1/1 [00:00<00:00, 23172.95it/s]\n",
      "Retrieving RobocrystallogapherDoc documents: 100%|██████████| 1/1 [00:00<00:00, 26715.31it/s]\n",
      "Retrieving RobocrystallogapherDoc documents: 100%|██████████| 1/1 [00:00<00:00, 19152.07it/s]\n",
      "Retrieving RobocrystallogapherDoc documents: 100%|██████████| 1/1 [00:00<00:00, 22795.13it/s]\n",
      "Retrieving RobocrystallogapherDoc documents: 100%|██████████| 1/1 [00:00<00:00, 23831.27it/s]\n",
      "Retrieving RobocrystallogapherDoc documents: 100%|██████████| 1/1 [00:00<00:00, 25115.59it/s]\n",
      "Retrieving RobocrystallogapherDoc documents: 100%|██████████| 1/1 [00:00<00:00, 23967.45it/s]\n",
      "Retrieving RobocrystallogapherDoc documents: 100%|██████████| 1/1 [00:00<00:00, 19508.39it/s]\n",
      "Retrieving RobocrystallogapherDoc documents: 100%|██████████| 1/1 [00:00<00:00, 12520.31it/s]\n",
      "Retrieving RobocrystallogapherDoc documents: 100%|██████████| 1/1 [00:00<00:00, 21183.35it/s]\n",
      "Retrieving RobocrystallogapherDoc documents: 100%|██████████| 1/1 [00:00<00:00, 23172.95it/s]\n",
      "Retrieving RobocrystallogapherDoc documents: 100%|██████████| 1/1 [00:00<00:00, 18477.11it/s]\n",
      "Retrieving RobocrystallogapherDoc documents: 100%|██████████| 1/1 [00:00<00:00, 19878.22it/s]\n",
      "Retrieving RobocrystallogapherDoc documents: 100%|██████████| 1/1 [00:00<00:00, 27060.03it/s]\n",
      "Retrieving RobocrystallogapherDoc documents: 100%|██████████| 1/1 [00:00<00:00, 26214.40it/s]\n",
      "Retrieving RobocrystallogapherDoc documents: 100%|██████████| 1/1 [00:00<00:00, 28926.23it/s]\n",
      "Retrieving RobocrystallogapherDoc documents: 100%|██████████| 1/1 [00:00<00:00, 18236.10it/s]\n",
      "Retrieving RobocrystallogapherDoc documents: 100%|██████████| 1/1 [00:00<00:00, 20360.70it/s]\n",
      "Retrieving RobocrystallogapherDoc documents: 100%|██████████| 1/1 [00:00<00:00, 19784.45it/s]\n"
     ]
    },
    {
     "name": "stdout",
     "output_type": "stream",
     "text": [
      "mp-556018\n"
     ]
    },
    {
     "name": "stderr",
     "output_type": "stream",
     "text": [
      "Retrieving RobocrystallogapherDoc documents: 100%|██████████| 1/1 [00:00<00:00, 23431.87it/s]\n"
     ]
    },
    {
     "name": "stdout",
     "output_type": "stream",
     "text": [
      "mp-556018\n"
     ]
    },
    {
     "name": "stderr",
     "output_type": "stream",
     "text": [
      "Retrieving RobocrystallogapherDoc documents: 100%|██████████| 1/1 [00:00<00:00, 23301.69it/s]\n",
      "Retrieving RobocrystallogapherDoc documents: 100%|██████████| 1/1 [00:00<00:00, 22550.02it/s]\n",
      "Retrieving RobocrystallogapherDoc documents: 100%|██████████| 1/1 [00:00<00:00, 23301.69it/s]\n"
     ]
    },
    {
     "name": "stdout",
     "output_type": "stream",
     "text": [
      "mp-1196643\n"
     ]
    },
    {
     "name": "stderr",
     "output_type": "stream",
     "text": [
      "Retrieving RobocrystallogapherDoc documents: 100%|██████████| 1/1 [00:00<00:00, 19878.22it/s]\n"
     ]
    },
    {
     "name": "stdout",
     "output_type": "stream",
     "text": [
      "mp-1196643\n"
     ]
    },
    {
     "name": "stderr",
     "output_type": "stream",
     "text": [
      "Retrieving RobocrystallogapherDoc documents: 100%|██████████| 1/1 [00:00<00:00, 20971.52it/s]\n"
     ]
    },
    {
     "name": "stdout",
     "output_type": "stream",
     "text": [
      "mp-557395\n"
     ]
    },
    {
     "name": "stderr",
     "output_type": "stream",
     "text": [
      "Retrieving RobocrystallogapherDoc documents: 100%|██████████| 1/1 [00:00<00:00, 22671.91it/s]\n"
     ]
    },
    {
     "name": "stdout",
     "output_type": "stream",
     "text": [
      "mp-557395\n"
     ]
    },
    {
     "name": "stderr",
     "output_type": "stream",
     "text": [
      "Retrieving RobocrystallogapherDoc documents: 100%|██████████| 1/1 [00:00<00:00, 26214.40it/s]\n",
      "Retrieving RobocrystallogapherDoc documents: 100%|██████████| 1/1 [00:00<00:00, 23301.69it/s]\n",
      "Retrieving RobocrystallogapherDoc documents: 100%|██████████| 1/1 [00:00<00:00, 27060.03it/s]\n",
      "Retrieving RobocrystallogapherDoc documents: 100%|██████████| 1/1 [00:00<00:00, 24528.09it/s]\n",
      "Retrieving RobocrystallogapherDoc documents: 100%|██████████| 1/1 [00:00<00:00, 20661.60it/s]\n",
      "Retrieving RobocrystallogapherDoc documents: 100%|██████████| 1/1 [00:00<00:00, 21732.15it/s]\n",
      "Retrieving RobocrystallogapherDoc documents: 100%|██████████| 1/1 [00:00<00:00, 28728.11it/s]\n",
      "Retrieving RobocrystallogapherDoc documents: 100%|██████████| 1/1 [00:00<00:00, 23172.95it/s]\n",
      "Retrieving RobocrystallogapherDoc documents: 100%|██████████| 1/1 [00:00<00:00, 22795.13it/s]\n"
     ]
    },
    {
     "name": "stdout",
     "output_type": "stream",
     "text": [
      "mp-1196081\n"
     ]
    },
    {
     "name": "stderr",
     "output_type": "stream",
     "text": [
      "Retrieving RobocrystallogapherDoc documents: 100%|██████████| 1/1 [00:00<00:00, 22429.43it/s]\n"
     ]
    },
    {
     "name": "stdout",
     "output_type": "stream",
     "text": [
      "mp-1196081\n"
     ]
    },
    {
     "name": "stderr",
     "output_type": "stream",
     "text": [
      "Retrieving RobocrystallogapherDoc documents: 100%|██████████| 1/1 [00:00<00:00, 20763.88it/s]\n",
      "Retrieving RobocrystallogapherDoc documents: 100%|██████████| 1/1 [00:00<00:00, 22550.02it/s]\n",
      "Retrieving RobocrystallogapherDoc documents: 100%|██████████| 1/1 [00:00<00:00, 22671.91it/s]\n",
      "Retrieving RobocrystallogapherDoc documents: 100%|██████████| 1/1 [00:00<00:00, 23045.63it/s]\n",
      "Retrieving RobocrystallogapherDoc documents: 100%|██████████| 1/1 [00:00<00:00, 20661.60it/s]\n",
      "Retrieving RobocrystallogapherDoc documents: 100%|██████████| 1/1 [00:00<00:00, 22310.13it/s]\n",
      "Retrieving RobocrystallogapherDoc documents: 100%|██████████| 1/1 [00:00<00:00, 24385.49it/s]\n",
      "Retrieving RobocrystallogapherDoc documents: 100%|██████████| 1/1 [00:00<00:00, 24385.49it/s]\n",
      "Retrieving RobocrystallogapherDoc documents: 100%|██████████| 1/1 [00:00<00:00, 23967.45it/s]\n"
     ]
    },
    {
     "name": "stdout",
     "output_type": "stream",
     "text": [
      "mp-720554\n"
     ]
    },
    {
     "name": "stderr",
     "output_type": "stream",
     "text": [
      "Retrieving RobocrystallogapherDoc documents: 100%|██████████| 1/1 [00:00<00:00, 22310.13it/s]\n"
     ]
    },
    {
     "name": "stdout",
     "output_type": "stream",
     "text": [
      "mp-720554\n"
     ]
    },
    {
     "name": "stderr",
     "output_type": "stream",
     "text": [
      "Retrieving RobocrystallogapherDoc documents: 100%|██████████| 1/1 [00:00<00:00, 23696.63it/s]\n",
      "Retrieving RobocrystallogapherDoc documents: 100%|██████████| 1/1 [00:00<00:00, 17119.61it/s]\n",
      "Retrieving RobocrystallogapherDoc documents: 100%|██████████| 1/1 [00:00<00:00, 24818.37it/s]\n",
      "Retrieving RobocrystallogapherDoc documents: 100%|██████████| 1/1 [00:00<00:00, 26546.23it/s]\n",
      "Retrieving RobocrystallogapherDoc documents: 100%|██████████| 1/1 [00:00<00:00, 23301.69it/s]\n"
     ]
    },
    {
     "name": "stdout",
     "output_type": "stream",
     "text": [
      "mp-605006\n"
     ]
    },
    {
     "name": "stderr",
     "output_type": "stream",
     "text": [
      "Retrieving RobocrystallogapherDoc documents: 100%|██████████| 1/1 [00:00<00:00, 22795.13it/s]\n"
     ]
    },
    {
     "name": "stdout",
     "output_type": "stream",
     "text": [
      "mp-1203010\n"
     ]
    },
    {
     "name": "stderr",
     "output_type": "stream",
     "text": [
      "Retrieving RobocrystallogapherDoc documents: 100%|██████████| 1/1 [00:00<00:00, 26715.31it/s]\n"
     ]
    },
    {
     "name": "stdout",
     "output_type": "stream",
     "text": [
      "mp-1203010\n"
     ]
    },
    {
     "name": "stderr",
     "output_type": "stream",
     "text": [
      "Retrieving RobocrystallogapherDoc documents: 100%|██████████| 1/1 [00:00<00:00, 21845.33it/s]\n"
     ]
    },
    {
     "name": "stdout",
     "output_type": "stream",
     "text": [
      "mp-605006\n"
     ]
    },
    {
     "name": "stderr",
     "output_type": "stream",
     "text": [
      "Retrieving RobocrystallogapherDoc documents: 100%|██████████| 1/1 [00:00<00:00, 26715.31it/s]\n",
      "Retrieving RobocrystallogapherDoc documents: 100%|██████████| 1/1 [00:00<00:00, 24966.10it/s]\n",
      "Retrieving RobocrystallogapherDoc documents: 100%|██████████| 1/1 [00:00<00:00, 23967.45it/s]\n",
      "Retrieving RobocrystallogapherDoc documents: 100%|██████████| 1/1 [00:00<00:00, 18978.75it/s]\n",
      "Retrieving RobocrystallogapherDoc documents: 100%|██████████| 1/1 [00:00<00:00, 21183.35it/s]\n",
      "Retrieving RobocrystallogapherDoc documents: 100%|██████████| 1/1 [00:00<00:00, 22429.43it/s]\n",
      "Retrieving RobocrystallogapherDoc documents: 100%|██████████| 1/1 [00:00<00:00, 18558.87it/s]\n",
      "Retrieving RobocrystallogapherDoc documents: 100%|██████████| 1/1 [00:00<00:00, 19691.57it/s]\n",
      "Retrieving RobocrystallogapherDoc documents: 100%|██████████| 1/1 [00:00<00:00, 22795.13it/s]\n",
      "Retrieving RobocrystallogapherDoc documents: 100%|██████████| 1/1 [00:00<00:00, 22550.02it/s]\n",
      "Retrieving RobocrystallogapherDoc documents: 100%|██████████| 1/1 [00:00<00:00, 22795.13it/s]\n",
      "Retrieving RobocrystallogapherDoc documents: 100%|██████████| 1/1 [00:00<00:00, 18477.11it/s]\n",
      "Retrieving RobocrystallogapherDoc documents: 100%|██████████| 1/1 [00:00<00:00, 23172.95it/s]\n"
     ]
    },
    {
     "name": "stdout",
     "output_type": "stream",
     "text": [
      "mp-722272\n"
     ]
    },
    {
     "name": "stderr",
     "output_type": "stream",
     "text": [
      "Retrieving RobocrystallogapherDoc documents: 100%|██████████| 1/1 [00:00<00:00, 23045.63it/s]\n"
     ]
    },
    {
     "name": "stdout",
     "output_type": "stream",
     "text": [
      "mp-722272\n"
     ]
    },
    {
     "name": "stderr",
     "output_type": "stream",
     "text": [
      "Retrieving RobocrystallogapherDoc documents: 100%|██████████| 1/1 [00:00<00:00, 20560.31it/s]\n",
      "Retrieving RobocrystallogapherDoc documents: 100%|██████████| 1/1 [00:00<00:00, 27413.75it/s]\n",
      "Retrieving RobocrystallogapherDoc documents: 100%|██████████| 1/1 [00:00<00:00, 27060.03it/s]\n",
      "Retrieving RobocrystallogapherDoc documents: 100%|██████████| 1/1 [00:00<00:00, 27060.03it/s]\n",
      "Retrieving RobocrystallogapherDoc documents: 100%|██████████| 1/1 [00:00<00:00, 21509.25it/s]\n",
      "Retrieving RobocrystallogapherDoc documents: 100%|██████████| 1/1 [00:00<00:00, 22192.08it/s]\n",
      "Retrieving RobocrystallogapherDoc documents: 100%|██████████| 1/1 [00:00<00:00, 23431.87it/s]\n",
      "Retrieving RobocrystallogapherDoc documents: 100%|██████████| 1/1 [00:00<00:00, 14122.24it/s]\n",
      "Retrieving RobocrystallogapherDoc documents: 100%|██████████| 1/1 [00:00<00:00, 27594.11it/s]\n"
     ]
    },
    {
     "name": "stdout",
     "output_type": "stream",
     "text": [
      "mp-735910\n"
     ]
    },
    {
     "name": "stderr",
     "output_type": "stream",
     "text": [
      "Retrieving RobocrystallogapherDoc documents: 100%|██████████| 1/1 [00:00<00:00, 23831.27it/s]\n"
     ]
    },
    {
     "name": "stdout",
     "output_type": "stream",
     "text": [
      "mp-735910\n"
     ]
    },
    {
     "name": "stderr",
     "output_type": "stream",
     "text": [
      "Retrieving RobocrystallogapherDoc documents: 100%|██████████| 1/1 [00:00<00:00, 24105.20it/s]\n",
      "Retrieving RobocrystallogapherDoc documents: 100%|██████████| 1/1 [00:00<00:00, 19328.59it/s]\n",
      "Retrieving RobocrystallogapherDoc documents: 100%|██████████| 1/1 [00:00<00:00, 23696.63it/s]\n",
      "Retrieving RobocrystallogapherDoc documents: 100%|██████████| 1/1 [00:00<00:00, 22919.69it/s]\n",
      "Retrieving RobocrystallogapherDoc documents: 100%|██████████| 1/1 [00:00<00:00, 22919.69it/s]\n",
      "Retrieving RobocrystallogapherDoc documents: 100%|██████████| 1/1 [00:00<00:00, 26546.23it/s]\n",
      "Retrieving RobocrystallogapherDoc documents: 100%|██████████| 1/1 [00:00<00:00, 23045.63it/s]\n",
      "Retrieving RobocrystallogapherDoc documents: 100%|██████████| 1/1 [00:00<00:00, 17772.47it/s]\n",
      "Retrieving RobocrystallogapherDoc documents: 100%|██████████| 1/1 [00:00<00:00, 22795.13it/s]\n"
     ]
    },
    {
     "name": "stdout",
     "output_type": "stream",
     "text": [
      "mp-560581\n"
     ]
    },
    {
     "name": "stderr",
     "output_type": "stream",
     "text": [
      "Retrieving RobocrystallogapherDoc documents: 100%|██████████| 1/1 [00:00<00:00, 23301.69it/s]\n"
     ]
    },
    {
     "name": "stdout",
     "output_type": "stream",
     "text": [
      "mp-560581\n"
     ]
    },
    {
     "name": "stderr",
     "output_type": "stream",
     "text": [
      "Retrieving RobocrystallogapherDoc documents: 100%|██████████| 1/1 [00:00<00:00, 23045.63it/s]\n",
      "Retrieving RobocrystallogapherDoc documents: 100%|██████████| 1/1 [00:00<00:00, 23045.63it/s]\n",
      "Retrieving RobocrystallogapherDoc documents: 100%|██████████| 1/1 [00:00<00:00, 26379.27it/s]\n",
      "spglib: No point group was found (line 405, /project/src/pointgroup.c).\n",
      "spglib: Attempt 0 tolerance = 1.000000e-02 failed(line 800, /project/src/spacegroup.c).\n",
      "spglib: No point group was found (line 405, /project/src/pointgroup.c).\n",
      "spglib: Attempt 1 tolerance = 9.500000e-03 failed(line 800, /project/src/spacegroup.c).\n",
      "spglib: No point group was found (line 405, /project/src/pointgroup.c).\n",
      "spglib: Attempt 2 tolerance = 9.025000e-03 failed(line 800, /project/src/spacegroup.c).\n",
      "spglib: No point group was found (line 405, /project/src/pointgroup.c).\n",
      "spglib: Attempt 3 tolerance = 8.573750e-03 failed(line 800, /project/src/spacegroup.c).\n",
      "spglib: No point group was found (line 405, /project/src/pointgroup.c).\n",
      "spglib: Attempt 4 tolerance = 8.145062e-03 failed(line 800, /project/src/spacegroup.c).\n",
      "spglib: No point group was found (line 405, /project/src/pointgroup.c).\n",
      "spglib: Attempt 5 tolerance = 7.737809e-03 failed(line 800, /project/src/spacegroup.c).\n",
      "Retrieving RobocrystallogapherDoc documents: 100%|██████████| 1/1 [00:00<00:00, 24672.38it/s]\n",
      "Retrieving RobocrystallogapherDoc documents: 100%|██████████| 1/1 [00:00<00:00, 25420.02it/s]\n",
      "Retrieving RobocrystallogapherDoc documents: 100%|██████████| 1/1 [00:00<00:00, 22919.69it/s]\n",
      "Retrieving RobocrystallogapherDoc documents: 100%|██████████| 1/1 [00:00<00:00, 14364.05it/s]\n",
      "Retrieving RobocrystallogapherDoc documents: 100%|██████████| 1/1 [00:00<00:00, 23696.63it/s]\n"
     ]
    }
   ],
   "source": [
    "main_dir = '../data'\n",
    "save_dir = os.path.join(main_dir, 'li_electrolyte_w_description')\n",
    "\n",
    "if not os.path.exists(save_dir):\n",
    "    os.mkdir(save_dir)\n",
    "\n",
    "for d in StrLst:\n",
    "\n",
    "    mpid = '-'.join(d['mpid'].split('-')[:-1])\n",
    "    dir_name = mpid\n",
    "    spec_dir = os.path.join(save_dir, dir_name)\n",
    "\n",
    "    struc = Structure.from_dict(d['structure'])\n",
    "    relax_set = MPRelaxSet(structure=struc)\n",
    "    relax_set.write_input(output_dir=spec_dir, potcar_spec=True)\n",
    "    \n",
    "    try:\n",
    "        robocrys = mpr.materials.robocrys.get_data_by_id('-'.join(d['mpid'].split('-')[:-1]))\n",
    "        description_file = os.path.join(spec_dir, 'robocrys.txt')\n",
    "        with open(description_file, 'w') as file:\n",
    "            file.write(robocrys.description)\n",
    "    except TypeError:\n",
    "        print(mpid)"
   ]
  }
 ],
 "metadata": {
  "kernelspec": {
   "display_name": "mace",
   "language": "python",
   "name": "mace"
  },
  "language_info": {
   "codemirror_mode": {
    "name": "ipython",
    "version": 3
   },
   "file_extension": ".py",
   "mimetype": "text/x-python",
   "name": "python",
   "nbconvert_exporter": "python",
   "pygments_lexer": "ipython3",
   "version": "3.9.12"
  }
 },
 "nbformat": 4,
 "nbformat_minor": 5
}
