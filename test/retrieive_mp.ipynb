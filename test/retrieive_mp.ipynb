{
 "cells": [
  {
   "cell_type": "code",
   "execution_count": 2,
   "id": "raised-belfast",
   "metadata": {
    "tags": []
   },
   "outputs": [],
   "source": [
    "from mp_api.client import MPRester\n",
    "from pymatgen.core import Structure, Lattice, Element, Composition\n",
    "from pymatgen.io.vasp.sets import MPRelaxSet\n",
    "from pymatgen.analysis.structure_matcher import StructureMatcher as SM\n",
    "from pymatgen.analysis.structure_matcher import FrameworkComparator\n",
    "\n",
    "import os\n",
    "import re\n",
    "import sys\n",
    "import json\n",
    "import shutil\n",
    "import numpy as np\n",
    "from time import time\n",
    "from glob import glob\n",
    "from pprint import pprint\n",
    "from copy import deepcopy\n",
    "from monty.serialization import dumpfn,loadfn"
   ]
  },
  {
   "cell_type": "code",
   "execution_count": 5,
   "id": "70003d4c-2e23-4fc0-ba6f-bef538b93501",
   "metadata": {
    "tags": []
   },
   "outputs": [],
   "source": [
    "mpr = MPRester(api_key=\"dPcAQJZ6y1NZidGuvTerIPPFXHtsOb3E\")"
   ]
  },
  {
   "cell_type": "code",
   "execution_count": 3,
   "id": "permanent-spiritual",
   "metadata": {
    "tags": []
   },
   "outputs": [],
   "source": [
    "def read_json(fjson):\n",
    "    \n",
    "    with open(fjson) as f:\n",
    "        return json.load(f)\n",
    "\n",
    "\n",
    "def write_json(d, fjson):\n",
    "    \n",
    "    with open(fjson, 'w') as f:\n",
    "        json.dump(d, f)\n",
    "    return\n",
    "\n",
    "\n",
    "def get_inputs():\n",
    "\n",
    "    for mpid in mpid_directory:\n",
    "\n",
    "        struc = Structure.from_file(os.path.join(dope, 'POSCAR'))\n",
    "        relax_set = MPRelaxSet(structure=struc)\n",
    "        relax_set.write_input(output_dir=dope, potcar_spec=False)\n",
    "        job_path = os.path.join(dope, 'job.sh')\n",
    "        shutil.copyfile(sample_job, job_path)\n",
    "\n",
    "    return"
   ]
  },
  {
   "cell_type": "code",
   "execution_count": 8,
   "id": "departmental-bloom",
   "metadata": {
    "tags": []
   },
   "outputs": [],
   "source": [
    "AnionLst=['P','S','Si','B','O'];\n",
    "NotInclude=['H','Li','Be','C','N','F','Cl','Br','I','At','Ts','K','Rb','Cs','Fr','Ra',\\\n",
    "            'Se','Te','Po','Lv','As','Bi','Mc','Pb','Fl','Nh','Tl',\\\n",
    "            'Tc','Ru','Rh','Pd','Ag','Cd','Re','Os','Pt','Au','Hg',\\\n",
    "            'Rf','Db','Sg','Bh','Hs','Mt','Ds','Rg','Cn',\\\n",
    "            'Pr','Nd','Pm','Sm','Eu','Gd','Tb','Dy','Ho','Er','Tm','Yb','Lu',\\\n",
    "            'Ac','Th','Pa','U','Np','Pu','Am','Cm','Bk','Cf','Es','Fm','Md','No','Lr'];\n",
    "NotInclude = list(set(NotInclude) - set(['Ag', 'Au', 'Hg', 'Os', 'Pd', 'Pt', 'Re', 'Rh', 'Ru', 'Tc']))\n",
    "TmInclude = ['Ti', 'V', 'Cr', 'Mn', 'Fe', 'Co', 'Ni', 'Cu',\n",
    "             'Zr', 'Nb', 'Mo', 'Tc', 'Ru', 'Rh', 'Pd', 'Ag',\n",
    "             'Hf', 'Ta', 'W', 'Re', 'Os', 'Ir', 'Pt', 'Au', 'Hg']"
   ]
  },
  {
   "cell_type": "code",
   "execution_count": 10,
   "id": "italic-input",
   "metadata": {},
   "outputs": [
    {
     "data": {
      "application/vnd.jupyter.widget-view+json": {
       "model_id": "6d5d75dfe63343449db2fb894964b170",
       "version_major": 2,
       "version_minor": 0
      },
      "text/plain": [
       "Retrieving ThermoDoc documents:   0%|          | 0/23407 [00:00<?, ?it/s]"
      ]
     },
     "metadata": {},
     "output_type": "display_data"
    },
    {
     "data": {
      "application/vnd.jupyter.widget-view+json": {
       "model_id": "7aac77d4604041edb944fcada9f251b3",
       "version_major": 2,
       "version_minor": 0
      },
      "text/plain": [
       "Retrieving ThermoDoc documents:   0%|          | 0/5705 [00:00<?, ?it/s]"
      ]
     },
     "metadata": {},
     "output_type": "display_data"
    },
    {
     "data": {
      "application/vnd.jupyter.widget-view+json": {
       "model_id": "2963681a7ab94a5ab1a7b2b6ff303589",
       "version_major": 2,
       "version_minor": 0
      },
      "text/plain": [
       "Retrieving ThermoDoc documents:   0%|          | 0/1000 [00:00<?, ?it/s]"
      ]
     },
     "metadata": {},
     "output_type": "display_data"
    },
    {
     "data": {
      "application/vnd.jupyter.widget-view+json": {
       "model_id": "22f59ef4ad8b46e6b335e43a45f86245",
       "version_major": 2,
       "version_minor": 0
      },
      "text/plain": [
       "Retrieving ThermoDoc documents:   0%|          | 0/35 [00:00<?, ?it/s]"
      ]
     },
     "metadata": {},
     "output_type": "display_data"
    }
   ],
   "source": [
    "#TODO: Need to check ICSD tag (or experimentally observed) from materials project data.\n",
    "\n",
    "EntryDict={};\n",
    "for NEle in range(4,8):\n",
    "    with MPRester('dPcAQJZ6y1NZidGuvTerIPPFXHtsOb3E') as mpr: \n",
    "        EntryDict[NEle]=mpr.get_entries(chemsys_formula_mpids=\"Li-O-*\",\n",
    "                                        additional_criteria={\"num_elements\":NEle},\n",
    "                                        inc_structure=None);"
   ]
  },
  {
   "cell_type": "code",
   "execution_count": 43,
   "id": "constitutional-bloom",
   "metadata": {},
   "outputs": [],
   "source": [
    "# write_json(EntryDict, '/Users/yun/Berkeley/Codes/berkeley-ai-hack/data/raw_data.json')"
   ]
  },
  {
   "cell_type": "code",
   "execution_count": 58,
   "id": "polish-evaluation",
   "metadata": {},
   "outputs": [
    {
     "name": "stdout",
     "output_type": "stream",
     "text": [
      "23408 Entries found for NEle=4\n",
      "2330 materials found for NEle=4\n",
      "5705 Entries found for NEle=5\n",
      "665 materials found for NEle=5\n",
      "1000 Entries found for NEle=6\n",
      "94 materials found for NEle=6\n",
      "35 Entries found for NEle=7\n",
      "10 materials found for NEle=7\n",
      "3099 Li Oxide Compounds found\n"
     ]
    }
   ],
   "source": [
    "###1-2. Exclude compounds that contain elements in NotInclude\n",
    "NTotal=0;\n",
    "StrLst=[]\n",
    "for NEle, Entries in EntryDict.items():\n",
    "    print('{} Entries found for NEle={}'.format(len(Entries), NEle));\n",
    "    ValidMaterNum=0\n",
    "    for EntryInd, Entry in enumerate(Entries):\n",
    "        Comp=Entry.composition\n",
    "        EleLst=list(Comp.get_el_amt_dict().keys())\n",
    "        IsValid=True\n",
    "        for Ele in EleLst:\n",
    "            if Ele in TmInclude:\n",
    "                IsValid=False\n",
    "                break\n",
    "        if not IsValid: \n",
    "            continue\n",
    "        new_dict = {}\n",
    "        new_dict['structure'] = Entry.structure.as_dict()\n",
    "        new_dict['mpid'] = Entry.entry_id\n",
    "        StrLst.append(new_dict); # Structure method under computedstructureentry\n",
    "        ValidMaterNum+=1\n",
    "    print('{} materials found for NEle={}'.format(ValidMaterNum,NEle))\n",
    "    NTotal+=ValidMaterNum\n",
    "print('{} Li Oxide Compounds found'.format(NTotal))"
   ]
  },
  {
   "cell_type": "code",
   "execution_count": 66,
   "id": "stone-member",
   "metadata": {},
   "outputs": [],
   "source": [
    "write_json(StrLst, '/Users/yun/Berkeley/Codes/berkeley-ai-hack/data/raw_data_Li-O.json')"
   ]
  },
  {
   "cell_type": "code",
   "execution_count": 9,
   "id": "aced6180-6d59-43bb-b7dd-15b6b62e4d05",
   "metadata": {
    "tags": []
   },
   "outputs": [],
   "source": [
    "StrLst = read_json('../data/raw_data_Li-O.json')"
   ]
  },
  {
   "cell_type": "code",
   "execution_count": null,
   "id": "abroad-chapel",
   "metadata": {
    "scrolled": true,
    "tags": []
   },
   "outputs": [],
   "source": [
    "main_dir = '../data'\n",
    "save_dir = os.path.join(main_dir, 'li_electrolyte_w_description')\n",
    "\n",
    "if not os.path.exists(save_dir):\n",
    "    os.mkdir(save_dir)\n",
    "\n",
    "for d in StrLst:\n",
    "\n",
    "    mpid = '-'.join(d['mpid'].split('-')[:-1])\n",
    "    dir_name = mpid\n",
    "    spec_dir = os.path.join(save_dir, dir_name)\n",
    "\n",
    "    struc = Structure.from_dict(d['structure'])\n",
    "    relax_set = MPRelaxSet(structure=struc)\n",
    "    relax_set.write_input(output_dir=spec_dir, potcar_spec=True)\n",
    "    \n",
    "    try:\n",
    "        robocrys = mpr.materials.robocrys.get_data_by_id('-'.join(d['mpid'].split('-')[:-1]))\n",
    "        description_file = os.path.join(spec_dir, 'robocrys.txt')\n",
    "        with open(description_file, 'w') as file:\n",
    "            file.write(robocrys.description)\n",
    "    except TypeError:\n",
    "        print(mpid)"
   ]
  },
  {
   "cell_type": "code",
   "execution_count": 47,
   "id": "d6278c18-b2a3-4416-b112-778342f68137",
   "metadata": {
    "tags": []
   },
   "outputs": [],
   "source": [
    "inone = {}\n",
    "\n",
    "target_dict = '../data/li_electrolyte_w_description'"
   ]
  },
  {
   "cell_type": "code",
   "execution_count": 53,
   "id": "75782920-4360-4a21-a4e1-86179435e207",
   "metadata": {
    "tags": []
   },
   "outputs": [],
   "source": [
    "all_mpid_list = glob(target_dict + '/*/')\n",
    "\n",
    "for mpid_dir in all_mpid_list:\n",
    "    \n",
    "    mpid = mpid_dir.split('/')[-2]\n",
    "    incar = os.path.join(mpid_dir, 'INCAR')\n",
    "    kpoints = os.path.join(mpid_dir, 'KPOINTS')\n",
    "    poscar = os.path.join(mpid_dir, 'POSCAR')\n",
    "    description = os.path.join(mpid_dir, 'robocrys.txt')\n",
    "    \n",
    "    with open(incar, 'r') as file:\n",
    "        incar_content = file.read()\n",
    "    with open(kpoints, 'r') as file:\n",
    "        kpoints_content = file.read()\n",
    "    with open(poscar, 'r') as file:\n",
    "        poscar_content = file.read()\n",
    "    with open(description, 'r') as file:\n",
    "        description_content = file.read()\n",
    "        \n",
    "    inone[mpid] = {}\n",
    "    inone[mpid]['incar'] = incar_content\n",
    "    inone[mpid]['kpoints'] = kpoints_content\n",
    "    inone[mpid]['poscar'] = poscar_content\n",
    "    inone[mpid]['robocrys'] = description_content\n",
    "    inone[mpid]['structure'] = Structure.from_file(poscar).as_dict()"
   ]
  },
  {
   "cell_type": "code",
   "execution_count": 56,
   "id": "e53b1eab-c579-4e0d-bf4a-72cd5969b3e9",
   "metadata": {
    "tags": []
   },
   "outputs": [],
   "source": [
    "write_json(inone, '../data/finetune_data.json')"
   ]
  },
  {
   "cell_type": "code",
   "execution_count": 49,
   "id": "9f8d9b99-09d2-4a48-981d-49f83bf0e0b2",
   "metadata": {
    "tags": []
   },
   "outputs": [
    {
     "data": {
      "text/plain": [
       "1"
      ]
     },
     "execution_count": 49,
     "metadata": {},
     "output_type": "execute_result"
    }
   ],
   "source": [
    "len(inone.keys())"
   ]
  },
  {
   "cell_type": "code",
   "execution_count": 29,
   "id": "a75fb776-7806-4621-b852-c08ed717a972",
   "metadata": {
    "tags": []
   },
   "outputs": [
    {
     "data": {
      "text/plain": [
       "'mp-644256'"
      ]
     },
     "execution_count": 29,
     "metadata": {},
     "output_type": "execute_result"
    }
   ],
   "source": [
    "all_mpid_list[0].split('/')[-2]"
   ]
  },
  {
   "cell_type": "code",
   "execution_count": 33,
   "id": "306c5bd9-931b-4308-9fef-30f1d37df532",
   "metadata": {
    "tags": []
   },
   "outputs": [
    {
     "data": {
      "text/plain": [
       "'../data/li_electrolyte_w_description/mp-644256/'"
      ]
     },
     "execution_count": 33,
     "metadata": {},
     "output_type": "execute_result"
    }
   ],
   "source": [
    "mpid_dir"
   ]
  },
  {
   "cell_type": "code",
   "execution_count": 46,
   "id": "6115c1a5-51f6-4dab-9f27-8290bf0efd31",
   "metadata": {
    "tags": []
   },
   "outputs": [
    {
     "data": {
      "text/plain": [
       "dict_keys(['mp-644256', 'incar', 'kpoints', 'poscar', 'robocrys', 'structure'])"
      ]
     },
     "execution_count": 46,
     "metadata": {},
     "output_type": "execute_result"
    }
   ],
   "source": [
    "inone.keys()"
   ]
  },
  {
   "cell_type": "code",
   "execution_count": null,
   "id": "b769353e-2047-468f-8c85-64063f740164",
   "metadata": {},
   "outputs": [],
   "source": []
  }
 ],
 "metadata": {
  "kernelspec": {
   "display_name": "mace",
   "language": "python",
   "name": "mace"
  },
  "language_info": {
   "codemirror_mode": {
    "name": "ipython",
    "version": 3
   },
   "file_extension": ".py",
   "mimetype": "text/x-python",
   "name": "python",
   "nbconvert_exporter": "python",
   "pygments_lexer": "ipython3",
   "version": "3.9.12"
  }
 },
 "nbformat": 4,
 "nbformat_minor": 5
}
