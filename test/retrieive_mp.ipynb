{
 "cells": [
  {
   "cell_type": "code",
   "execution_count": 20,
   "id": "south-drunk",
   "metadata": {},
   "outputs": [],
   "source": [
    "from mp_api.client import MPRester\n",
    "from pymatgen.core import Structure, Lattice, Element, Composition\n",
    "from pymatgen.io.vasp.sets import MPRelaxSet\n",
    "from pymatgen.analysis.structure_matcher import StructureMatcher as SM\n",
    "from pymatgen.analysis.structure_matcher import FrameworkComparator\n",
    "\n",
    "import os\n",
    "import re\n",
    "import sys\n",
    "import json\n",
    "import shutil\n",
    "import numpy as np\n",
    "from time import time\n",
    "from glob import glob\n",
    "from pprint import pprint\n",
    "from copy import deepcopy\n",
    "from monty.serialization import dumpfn,loadfn"
   ]
  },
  {
   "cell_type": "code",
   "execution_count": 27,
   "id": "welsh-light",
   "metadata": {},
   "outputs": [],
   "source": [
    "def read_json(fjson):\n",
    "    with open(fjson) as f:\n",
    "        return json.load(f)\n",
    "\n",
    "\n",
    "def write_json(d, fjson):\n",
    "    with open(fjson, 'w') as f:\n",
    "        json.dump(d, f)\n",
    "    return\n",
    "\n",
    "\n",
    "def get_inputs():\n",
    "\n",
    "    for mpid in mpid_directory:\n",
    "\n",
    "        struc = Structure.from_file(os.path.join(dope, 'POSCAR'))\n",
    "        relax_set = MPRelaxSet(structure=struc)\n",
    "        relax_set.write_input(output_dir=dope, potcar_spec=False)\n",
    "        job_path = os.path.join(dope, 'job.sh')\n",
    "        shutil.copyfile(sample_job, job_path)\n",
    "\n",
    "    return"
   ]
  },
  {
   "cell_type": "code",
   "execution_count": 8,
   "id": "general-chester",
   "metadata": {},
   "outputs": [],
   "source": [
    "AnionLst=['P','S','Si','B','O'];\n",
    "NotInclude=['H','Li','Be','C','N','F','Cl','Br','I','At','Ts','K','Rb','Cs','Fr','Ra',\\\n",
    "            'Se','Te','Po','Lv','As','Bi','Mc','Pb','Fl','Nh','Tl',\\\n",
    "            'Tc','Ru','Rh','Pd','Ag','Cd','Re','Os','Pt','Au','Hg',\\\n",
    "            'Rf','Db','Sg','Bh','Hs','Mt','Ds','Rg','Cn',\\\n",
    "            'Pr','Nd','Pm','Sm','Eu','Gd','Tb','Dy','Ho','Er','Tm','Yb','Lu',\\\n",
    "            'Ac','Th','Pa','U','Np','Pu','Am','Cm','Bk','Cf','Es','Fm','Md','No','Lr'];\n",
    "NotInclude = list(set(NotInclude) - set(['Ag', 'Au', 'Hg', 'Os', 'Pd', 'Pt', 'Re', 'Rh', 'Ru', 'Tc']))\n",
    "TmInclude = ['Ti', 'V', 'Cr', 'Mn', 'Fe', 'Co', 'Ni', 'Cu',\n",
    "             'Zr', 'Nb', 'Mo', 'Tc', 'Ru', 'Rh', 'Pd', 'Ag',\n",
    "             'Hf', 'Ta', 'W', 'Re', 'Os', 'Ir', 'Pt', 'Au', 'Hg']"
   ]
  },
  {
   "cell_type": "code",
   "execution_count": 10,
   "id": "anticipated-digit",
   "metadata": {},
   "outputs": [
    {
     "data": {
      "application/vnd.jupyter.widget-view+json": {
       "model_id": "6d5d75dfe63343449db2fb894964b170",
       "version_major": 2,
       "version_minor": 0
      },
      "text/plain": [
       "Retrieving ThermoDoc documents:   0%|          | 0/23407 [00:00<?, ?it/s]"
      ]
     },
     "metadata": {},
     "output_type": "display_data"
    },
    {
     "data": {
      "application/vnd.jupyter.widget-view+json": {
       "model_id": "7aac77d4604041edb944fcada9f251b3",
       "version_major": 2,
       "version_minor": 0
      },
      "text/plain": [
       "Retrieving ThermoDoc documents:   0%|          | 0/5705 [00:00<?, ?it/s]"
      ]
     },
     "metadata": {},
     "output_type": "display_data"
    },
    {
     "data": {
      "application/vnd.jupyter.widget-view+json": {
       "model_id": "2963681a7ab94a5ab1a7b2b6ff303589",
       "version_major": 2,
       "version_minor": 0
      },
      "text/plain": [
       "Retrieving ThermoDoc documents:   0%|          | 0/1000 [00:00<?, ?it/s]"
      ]
     },
     "metadata": {},
     "output_type": "display_data"
    },
    {
     "data": {
      "application/vnd.jupyter.widget-view+json": {
       "model_id": "22f59ef4ad8b46e6b335e43a45f86245",
       "version_major": 2,
       "version_minor": 0
      },
      "text/plain": [
       "Retrieving ThermoDoc documents:   0%|          | 0/35 [00:00<?, ?it/s]"
      ]
     },
     "metadata": {},
     "output_type": "display_data"
    }
   ],
   "source": [
    "#TODO: Need to check ICSD tag (or experimentally observed) from materials project data.\n",
    "\n",
    "EntryDict={};\n",
    "for NEle in range(4,8):\n",
    "    with MPRester('dPcAQJZ6y1NZidGuvTerIPPFXHtsOb3E') as mpr: \n",
    "        EntryDict[NEle]=mpr.get_entries(chemsys_formula_mpids=\"Li-O-*\",\n",
    "                                        additional_criteria={\"num_elements\":NEle},\n",
    "                                        inc_structure=None);"
   ]
  },
  {
   "cell_type": "code",
   "execution_count": 43,
   "id": "reported-observer",
   "metadata": {},
   "outputs": [],
   "source": [
    "# write_json(EntryDict, '/Users/yun/Berkeley/Codes/berkeley-ai-hack/data/raw_data.json')"
   ]
  },
  {
   "cell_type": "code",
   "execution_count": 15,
   "id": "dental-orleans",
   "metadata": {},
   "outputs": [
    {
     "name": "stdout",
     "output_type": "stream",
     "text": [
      "23408 Entries found for NEle=4\n",
      "2330 materials found for NEle=4\n",
      "5705 Entries found for NEle=5\n",
      "665 materials found for NEle=5\n",
      "1000 Entries found for NEle=6\n",
      "94 materials found for NEle=6\n",
      "35 Entries found for NEle=7\n",
      "10 materials found for NEle=7\n",
      "3099 Li Oxide Compounds found\n"
     ]
    }
   ],
   "source": [
    "###1-2. Exclude compounds that contain elements in NotInclude\n",
    "NTotal=0;\n",
    "StrLst=[]\n",
    "for NEle, Entries in EntryDict.items():\n",
    "    print('{} Entries found for NEle={}'.format(len(Entries), NEle));\n",
    "    ValidMaterNum=0\n",
    "    for EntryInd, Entry in enumerate(Entries):\n",
    "        Comp=Entry.composition\n",
    "        EleLst=list(Comp.get_el_amt_dict().keys())\n",
    "        IsValid=True\n",
    "        for Ele in EleLst:\n",
    "            if Ele in TmInclude:\n",
    "                IsValid=False\n",
    "                break\n",
    "        if not IsValid: \n",
    "            continue\n",
    "        StrLst.append(Entry.structure); # Structure method under computedstructureentry\n",
    "        ValidMaterNum+=1\n",
    "    print('{} materials found for NEle={}'.format(ValidMaterNum,NEle))\n",
    "    NTotal+=ValidMaterNum\n",
    "print('{} Li Oxide Compounds found'.format(NTotal))"
   ]
  },
  {
   "cell_type": "code",
   "execution_count": 26,
   "id": "quiet-block",
   "metadata": {},
   "outputs": [],
   "source": [
    "tojson = []\n",
    "\n",
    "for structure in StrLst:\n",
    "    tojson.append(structure.as_dict())"
   ]
  },
  {
   "cell_type": "code",
   "execution_count": 46,
   "id": "breathing-sacrifice",
   "metadata": {},
   "outputs": [],
   "source": [
    "write_json(tojson, '/Users/yun/Berkeley/Codes/berkeley-ai-hack/data/raw_data_Li.json')"
   ]
  },
  {
   "cell_type": "code",
   "execution_count": 49,
   "id": "surgical-smart",
   "metadata": {},
   "outputs": [
    {
     "data": {
      "text/plain": [
       "'Li1Al1As1O4'"
      ]
     },
     "execution_count": 49,
     "metadata": {},
     "output_type": "execute_result"
    }
   ],
   "source": [
    "StrLst[0].composition.to_pretty_string()"
   ]
  },
  {
   "cell_type": "code",
   "execution_count": null,
   "id": "american-gazette",
   "metadata": {},
   "outputs": [],
   "source": [
    "main_dir = '/Users/yun/Berkeley/Codes/berkeley-ai-hack/data'\n",
    "save_dir = os.path.join(main_dir, 'li_electrolyte')\n",
    "\n",
    "if not os.path.exists(save_dir):\n",
    "    os.mkdir(save_dir)\n",
    "\n",
    "for structure in StrLst:\n",
    "    dir_name = structure.composition.to_pretty_string()\n",
    "    spec_dir = os.path.join(save_dir, dir_name)\n",
    "    \n",
    "    struc = structure\n",
    "    relax_set = MPRelaxSet(structure=struc)\n",
    "    relax_set.write_input(output_dir=spec_dir, potcar_spec=True)"
   ]
  },
  {
   "cell_type": "code",
   "execution_count": null,
   "id": "subtle-factory",
   "metadata": {},
   "outputs": [],
   "source": [
    "import re\n",
    "import sys\n",
    "import json\n",
    "import shutil\n",
    "\n",
    "from glob import glob\n",
    "from pymatgen.core import Structure, Lattice, Element, Composition\n",
    "from pymatgen.io.vasp.sets import MPRelaxSet\n",
    "\n",
    "\n",
    "def get_inputs():\n",
    "\n",
    "    sample_job = '/home/yychoi/mv_conductor/doping/ca/sample.sh'\n",
    "    mpid_directory = glob(\"./*/\")\n",
    "    for mpid in mpid_directory:\n",
    "        dope_directory = glob(mpid + '*/')\n",
    "        # print(dope_directory)\n",
    "        for dope in dope_directory:\n",
    "            struc = Structure.from_file(os.path.join(dope, 'POSCAR'))\n",
    "            relax_set = MPRelaxSet(structure=struc)\n",
    "            relax_set.write_input(output_dir=dope, potcar_spec=False)\n",
    "            job_path = os.path.join(dope, 'job.sh')\n",
    "            shutil.copyfile(sample_job, job_path)\n",
    "\n",
    "    return\n",
    "\n",
    "\n",
    "def specific():\n",
    "\n",
    "    directory = \"/home/yychoi/mv_conductor/doping/ca/mp-1218392/original\"\n",
    "    poscar = os.path.join(directory, \"POSCAR\")\n",
    "    struc = Structure.from_file(poscar)\n",
    "    relax_set = MPRelaxSet(structure=struc)\n",
    "    relax_set.write_input(output_dir=directory, potcar_spec=False)\n",
    "\n",
    "    return\n",
    "\n",
    "\n",
    "def get_sub():\n",
    "\n",
    "    sample_job = '/home/yychoi/mv_conductor/doping/ca'\n",
    "    job_path = os.path.join(path_name, 'job.sh')\n",
    "    shutil.copyfile(sample_job, job_path)\n",
    "\n",
    "    return"
   ]
  }
 ],
 "metadata": {
  "kernelspec": {
   "display_name": "mace",
   "language": "python",
   "name": "mace"
  },
  "language_info": {
   "codemirror_mode": {
    "name": "ipython",
    "version": 3
   },
   "file_extension": ".py",
   "mimetype": "text/x-python",
   "name": "python",
   "nbconvert_exporter": "python",
   "pygments_lexer": "ipython3",
   "version": "3.9.12"
  }
 },
 "nbformat": 4,
 "nbformat_minor": 5
}
